{
 "cells": [
  {
   "cell_type": "markdown",
   "metadata": {},
   "source": [
    "# *k*-Fold Cross Validation"
   ]
  },
  {
   "cell_type": "code",
   "execution_count": null,
   "metadata": {},
   "outputs": [],
   "source": [
    "# x, y: array\n",
    "\n",
    "dt_clf = DecisionTreeClassifier(random_state=12345)\n",
    "\n",
    "# 5-fold CV\n",
    "kfold = KFold(n_splits=5, shuffle=False)\n",
    "cv_index = kfold.split(X)\n",
    "\n",
    "cv_accuracy = []\n",
    "ind = 1\n",
    "\n",
    "for train_index, test_index in cv_index:\n",
    "    X_train, X_test = X[train_index], X[test_index]\n",
    "    y_train, y_test = y[train_index], y[test_index]\n",
    "\n",
    "    dt_clf.fit(X_train , y_train)\n",
    "    accuracy = dt_clf.score(X_test, y_test)\n",
    "\n",
    "    print(f'{ind}번째 Cross Validation 정확도: {accuracy:.2%}')\n",
    "    cv_accuracy.append(accuracy)\n",
    "\n",
    "    ind += 1\n",
    "\n",
    "print(f'''-------------------------------------------\n",
    "Cross Validation 정확도 평균: {np.mean(cv_accuracy):.2%}''')"
   ]
  },
  {
   "cell_type": "markdown",
   "metadata": {},
   "source": [
    "# Stratified *k*-Fold Cross Validation"
   ]
  },
  {
   "cell_type": "code",
   "execution_count": null,
   "metadata": {},
   "outputs": [],
   "source": [
    "dt_clf = DecisionTreeClassifier(random_state=12345)\n",
    "skfold = StratifiedKFold(n_splits=3)\n",
    "ind=1\n",
    "cv_accuracy=[]\n",
    "\n",
    "# Stratified 5-fold CV\n",
    "skfold = StratifiedKFold(n_splits=5, shuffle=False)\n",
    "cv_index = skfold.split(X, y)\n",
    "\n",
    "cv_accuracy = []\n",
    "ind = 1\n",
    "\n",
    "for train_index, test_index in cv_index:\n",
    "    X_train, X_test = X[train_index], X[test_index]\n",
    "    y_train, y_test = y[train_index], y[test_index]\n",
    "\n",
    "    dt_clf.fit(X_train , y_train)\n",
    "    accuracy = dt_clf.score(X_test, y_test)\n",
    "\n",
    "    print(f'{ind}번째 Cross Validation 정확도: {accuracy:.2%}')\n",
    "    cv_accuracy.append(accuracy)\n",
    "\n",
    "    ind += 1\n",
    "\n",
    "print(f'''-------------------------------------------\n",
    "Cross Validation 정확도 평균: {np.mean(cv_accuracy):.2%}''')"
   ]
  }
 ],
 "metadata": {
  "language_info": {
   "name": "python"
  }
 },
 "nbformat": 4,
 "nbformat_minor": 2
}
