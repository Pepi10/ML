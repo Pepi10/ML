{
 "cells": [
  {
   "cell_type": "code",
   "execution_count": null,
   "metadata": {},
   "outputs": [],
   "source": [
    "from imblearn.over_sampling import SMOTE\n",
    "from collections import Counter\n",
    "\n",
    "smote_sample = SMOTE(random_state=12345, sampling_strategy=0.5)\n",
    "X_smote, y_smote = smote_sample.fit_resample(X, y)\n",
    "print(Counter(y_smote))"
   ]
  }
 ],
 "metadata": {
  "language_info": {
   "name": "python"
  }
 },
 "nbformat": 4,
 "nbformat_minor": 2
}
