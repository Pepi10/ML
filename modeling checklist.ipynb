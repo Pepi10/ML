{
 "cells": [
  {
   "cell_type": "markdown",
   "metadata": {},
   "source": [
    "모델링 과정\n",
    "\n",
    "0. EDA\n",
    "1. 모델링\n",
    "2. test\n",
    "* matrix\n",
    "* poc \n",
    "* 과적합\n",
    "> precision > recall / ros, f1 score check"
   ]
  }
 ],
 "metadata": {
  "language_info": {
   "name": "python"
  }
 },
 "nbformat": 4,
 "nbformat_minor": 2
}
