{
 "cells": [
  {
   "cell_type": "code",
   "execution_count": 1,
   "metadata": {},
   "outputs": [],
   "source": [
    "# 기본\n",
    "import pandas as pd\n",
    "import numpy as np \n",
    "import os\n",
    "import warnings\n",
    "warnings.filterwarnings(\"ignore\")\n",
    "import re\n",
    "\n",
    "# 시각화 \n",
    "import plotly.express as px\n",
    "import plotly.graph_objects as go\n",
    "import matplotlib as mpl\n",
    "import matplotlib.pyplot as plt \n",
    "import seaborn as sns\n",
    "\n",
    "# 모델\n",
    "from sklearn.model_selection import (train_test_split, \n",
    "                                     KFold, \n",
    "                                     StratifiedKFold,\n",
    "                                     GridSearchCV,\n",
    "                                     RandomizedSearchCV)\n",
    "\n",
    "from sklearn.tree import (DecisionTreeClassifier, \n",
    "                          DecisionTreeRegressor)\n",
    "\n",
    "from sklearn.ensemble import (RandomForestClassifier, \n",
    "                              RandomForestRegressor)\n",
    "\n",
    "from sklearn.svm import SVC\n",
    "\n",
    "from xgboost import XGBClassifier\n",
    "\n",
    "# sampling\n",
    "from imblearn.over_sampling import SMOTE\n",
    "from collections import Counter\n",
    "\n",
    "# report\n",
    "from sklearn import metrics\n",
    "# matrix = metrics.confusion_matrix(y_test, y_pred)\n",
    "from sklearn.metrics import classification_report, roc_curve, auc\n",
    "\n",
    "#encoder, scaler\n",
    "from sklearn.preprocessing import (LabelEncoder, \n",
    "                                   OneHotEncoder, \n",
    "                                   StandardScaler,\n",
    "                                   MinMaxScaler)\n",
    "\n",
    "# imputer\n",
    "from sklearn.experimental import enable_iterative_imputer\n",
    "from sklearn.impute import IterativeImputer\n",
    "\n",
    "# test\n",
    "import statsmodels.api as sm \n",
    "from sklearn.manifold import TSNE\n",
    "from sklearn.decomposition import PCA"
   ]
  },
  {
   "cell_type": "code",
   "execution_count": 1,
   "metadata": {},
   "outputs": [
    {
     "ename": "NameError",
     "evalue": "name 'plt' is not defined",
     "output_type": "error",
     "traceback": [
      "\u001b[1;31m---------------------------------------------------------------------------\u001b[0m",
      "\u001b[1;31mNameError\u001b[0m                                 Traceback (most recent call last)",
      "\u001b[1;32mc:\\Users\\user\\Documents\\ML\\Libraries.ipynb Cell 2\u001b[0m line \u001b[0;36m1\n\u001b[1;32m----> <a href='vscode-notebook-cell:/c%3A/Users/user/Documents/ML/Libraries.ipynb#W1sZmlsZQ%3D%3D?line=0'>1</a>\u001b[0m plt\u001b[39m.\u001b[39mrcParams[\u001b[39m'\u001b[39m\u001b[39maxes.unicode_minus\u001b[39m\u001b[39m'\u001b[39m] \u001b[39m=\u001b[39m \u001b[39mFalse\u001b[39;00m\n\u001b[0;32m      <a href='vscode-notebook-cell:/c%3A/Users/user/Documents/ML/Libraries.ipynb#W1sZmlsZQ%3D%3D?line=1'>2</a>\u001b[0m custom_params \u001b[39m=\u001b[39m {\u001b[39m\"\u001b[39m\u001b[39maxes.spines.right\u001b[39m\u001b[39m\"\u001b[39m: \u001b[39mFalse\u001b[39;00m, \u001b[39m\"\u001b[39m\u001b[39maxes.spines.top\u001b[39m\u001b[39m\"\u001b[39m: \u001b[39mFalse\u001b[39;00m}\n\u001b[0;32m      <a href='vscode-notebook-cell:/c%3A/Users/user/Documents/ML/Libraries.ipynb#W1sZmlsZQ%3D%3D?line=3'>4</a>\u001b[0m sns\u001b[39m.\u001b[39mset_theme(context \u001b[39m=\u001b[39m \u001b[39m'\u001b[39m\u001b[39mtalk\u001b[39m\u001b[39m'\u001b[39m,  \n\u001b[0;32m      <a href='vscode-notebook-cell:/c%3A/Users/user/Documents/ML/Libraries.ipynb#W1sZmlsZQ%3D%3D?line=4'>5</a>\u001b[0m               style \u001b[39m=\u001b[39m \u001b[39m'\u001b[39m\u001b[39mdarkgrid\u001b[39m\u001b[39m'\u001b[39m,  \n\u001b[0;32m      <a href='vscode-notebook-cell:/c%3A/Users/user/Documents/ML/Libraries.ipynb#W1sZmlsZQ%3D%3D?line=5'>6</a>\u001b[0m               font \u001b[39m=\u001b[39m \u001b[39m'\u001b[39m\u001b[39mMalgun Gothic\u001b[39m\u001b[39m'\u001b[39m, \n\u001b[0;32m      <a href='vscode-notebook-cell:/c%3A/Users/user/Documents/ML/Libraries.ipynb#W1sZmlsZQ%3D%3D?line=6'>7</a>\u001b[0m               font_scale \u001b[39m=\u001b[39m \u001b[39m1.2\u001b[39m,         \n\u001b[0;32m      <a href='vscode-notebook-cell:/c%3A/Users/user/Documents/ML/Libraries.ipynb#W1sZmlsZQ%3D%3D?line=7'>8</a>\u001b[0m               rc \u001b[39m=\u001b[39m custom_params)\n",
      "\u001b[1;31mNameError\u001b[0m: name 'plt' is not defined"
     ]
    }
   ],
   "source": [
    "plt.rcParams['axes.unicode_minus'] = False\n",
    "custom_params = {\"axes.spines.right\": False, \"axes.spines.top\": False}\n",
    "\n",
    "sns.set_theme(context = 'talk',  \n",
    "              style = 'darkgrid',  \n",
    "              font = 'Malgun Gothic', \n",
    "              font_scale = 1.2,         \n",
    "              rc = custom_params) "
   ]
  }
 ],
 "metadata": {
  "kernelspec": {
   "display_name": "base",
   "language": "python",
   "name": "python3"
  },
  "language_info": {
   "codemirror_mode": {
    "name": "ipython",
    "version": 3
   },
   "file_extension": ".py",
   "mimetype": "text/x-python",
   "name": "python",
   "nbconvert_exporter": "python",
   "pygments_lexer": "ipython3",
   "version": "3.11.5"
  }
 },
 "nbformat": 4,
 "nbformat_minor": 2
}
