{
 "cells": [
  {
   "cell_type": "code",
   "execution_count": 1,
   "metadata": {},
   "outputs": [],
   "source": [
    "# 기본\n",
    "import pandas as pd\n",
    "import numpy as np \n",
    "import os\n",
    "import warnings\n",
    "warnings.filterwarnings(\"ignore\")\n",
    "import re\n",
    "\n",
    "# 시각화 \n",
    "import plotly.express as px\n",
    "import plotly.graph_objects as go\n",
    "import matplotlib as mpl\n",
    "import matplotlib.pyplot as plt \n",
    "import seaborn as sns\n",
    "\n",
    "# 모델\n",
    "from sklearn.model_selection import (train_test_split, \n",
    "                                     KFold, \n",
    "                                     StratifiedKFold,\n",
    "                                     GridSearchCV,\n",
    "                                     RandomizedSearchCV)\n",
    "\n",
    "from sklearn.tree import (DecisionTreeClassifier, \n",
    "                          DecisionTreeRegressor)\n",
    "\n",
    "from sklearn.ensemble import (RandomForestClassifier, \n",
    "                              RandomForestRegressor)\n",
    "\n",
    "from sklearn.svm import SVC\n",
    "\n",
    "from xgboost import XGBClassifier\n",
    "\n",
    "# sampling\n",
    "from imblearn.over_sampling import SMOTE\n",
    "from collections import Counter\n",
    "\n",
    "# report\n",
    "from sklearn import metrics\n",
    "# matrix = metrics.confusion_matrix(y_test, y_pred)\n",
    "from sklearn.metrics import classification_report\n",
    "\n",
    "#encoder, scaler\n",
    "from sklearn.preprocessing import (LabelEncoder, \n",
    "                                   OneHotEncoder, \n",
    "                                   StandardScaler,\n",
    "                                   MinMaxScaler)\n",
    "\n",
    "# imputer\n",
    "from sklearn.experimental import enable_iterative_imputer\n",
    "from sklearn.impute import IterativeImputer\n",
    "\n",
    "# test\n",
    "import statsmodels.api as sm \n",
    "from sklearn.manifold import TSNE"
   ]
  },
  {
   "cell_type": "code",
   "execution_count": null,
   "metadata": {},
   "outputs": [],
   "source": [
    "custom_params = {\"axes.spines.right\": False, \"axes.spines.top\": False}\n",
    "\n",
    "sns.set_theme(context = 'talk',  \n",
    "              style = 'darkgrid',  \n",
    "              font = 'Malgun Gothic', \n",
    "              font_scale = 1.2,         \n",
    "              rc = custom_params) "
   ]
  }
 ],
 "metadata": {
  "kernelspec": {
   "display_name": "base",
   "language": "python",
   "name": "python3"
  },
  "language_info": {
   "codemirror_mode": {
    "name": "ipython",
    "version": 3
   },
   "file_extension": ".py",
   "mimetype": "text/x-python",
   "name": "python",
   "nbconvert_exporter": "python",
   "pygments_lexer": "ipython3",
   "version": "3.11.5"
  }
 },
 "nbformat": 4,
 "nbformat_minor": 2
}
