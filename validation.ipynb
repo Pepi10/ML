{
 "cells": [
  {
   "cell_type": "markdown",
   "metadata": {},
   "source": [
    "# *k*-Fold Cross Validation"
   ]
  },
  {
   "cell_type": "code",
   "execution_count": null,
   "metadata": {},
   "outputs": [],
   "source": [
    "from sklearn.model_selection import KFold\n",
    "\n",
    "# x, y: array\n",
    "\n",
    "dt_clf = DecisionTreeClassifier(random_state=12345)\n",
    "\n",
    "# 5-fold CV\n",
    "kfold = KFold(n_splits=5, shuffle=False)\n",
    "cv_index = kfold.split(X)\n",
    "\n",
    "cv_accuracy = []\n",
    "ind = 1\n",
    "\n",
    "for train_index, test_index in cv_index:\n",
    "    X_train, X_test = X[train_index], X[test_index]\n",
    "    y_train, y_test = y[train_index], y[test_index]\n",
    "\n",
    "    dt_clf.fit(X_train , y_train)\n",
    "    accuracy = dt_clf.score(X_test, y_test)\n",
    "\n",
    "    print(f'{ind}번째 Cross Validation 정확도: {accuracy:.2%}')\n",
    "    cv_accuracy.append(accuracy)\n",
    "\n",
    "    ind += 1\n",
    "\n",
    "print(f'''-------------------------------------------\n",
    "Cross Validation 정확도 평균: {np.mean(cv_accuracy):.2%}''')"
   ]
  },
  {
   "cell_type": "markdown",
   "metadata": {},
   "source": [
    "# Stratified *k*-Fold Cross Validation"
   ]
  },
  {
   "cell_type": "code",
   "execution_count": null,
   "metadata": {},
   "outputs": [],
   "source": [
    "from sklearn.model_selection import StratifiedKFold\n",
    "\n",
    "dt_clf = DecisionTreeClassifier(random_state=12345)\n",
    "skfold = StratifiedKFold(n_splits=3)\n",
    "ind=1\n",
    "cv_accuracy=[]\n",
    "\n",
    "# Stratified 5-fold CV\n",
    "skfold = StratifiedKFold(n_splits=5, shuffle=False)\n",
    "cv_index = skfold.split(X, y)\n",
    "\n",
    "cv_accuracy = []\n",
    "ind = 1\n",
    "\n",
    "for train_index, test_index in cv_index:\n",
    "    X_train, X_test = X[train_index], X[test_index]\n",
    "    y_train, y_test = y[train_index], y[test_index]\n",
    "\n",
    "    dt_clf.fit(X_train , y_train)\n",
    "    accuracy = dt_clf.score(X_test, y_test)\n",
    "\n",
    "    print(f'{ind}번째 Cross Validation 정확도: {accuracy:.2%}')\n",
    "    cv_accuracy.append(accuracy)\n",
    "\n",
    "    ind += 1\n",
    "\n",
    "print(f'''-------------------------------------------\n",
    "Cross Validation 정확도 평균: {np.mean(cv_accuracy):.2%}''')"
   ]
  },
  {
   "cell_type": "markdown",
   "metadata": {},
   "source": [
    "# GridSearch Cross Validation"
   ]
  },
  {
   "cell_type": "code",
   "execution_count": null,
   "metadata": {},
   "outputs": [],
   "source": [
    "from sklearn.model_selection import GridSearchCV\n",
    "\n",
    "# hyperparameter\n",
    "parameters = {'max_depth': range(1,5), 'min_samples_split': range(2,5)}\n",
    "\n",
    "# GridSearch Cross Validation\n",
    "grid_dt = GridSearchCV(dt_clf, param_grid=parameters, cv=3, refit=True, return_train_score=True)\n",
    "grid_dt.fit(X_train, y_train)\n",
    "\n",
    "# GridSearchCV result\n",
    "scores_df = pd.DataFrame(grid_dt.cv_results_)\n",
    "scores_df[['params', 'mean_test_score', 'rank_test_score',\n",
    "           'split0_test_score', 'split1_test_score', 'split2_test_score']]"
   ]
  },
  {
   "cell_type": "code",
   "execution_count": null,
   "metadata": {},
   "outputs": [],
   "source": [
    "# best params\n",
    "print(f'best params:', grid_dt.best_params_)\n",
    "print(f'best score {grid_dt.best_score_:.2%}')"
   ]
  },
  {
   "cell_type": "markdown",
   "metadata": {},
   "source": [
    "# RandomSearch Cross Validation"
   ]
  },
  {
   "cell_type": "code",
   "execution_count": null,
   "metadata": {},
   "outputs": [],
   "source": [
    "from sklearn.model_selection import RandomizedSearchCV\n",
    "\n",
    "random_dt = RandomizedSearchCV(estimator=dt_clf, param_distributions=parameters, n_iter=10,\n",
    "                               cv=3, random_state=12345, n_jobs=-1)\n",
    "random_dt.fit(X_train,y_train)\n",
    "\n",
    "# RandomizedSearchCV result\n",
    "scores_df = pd.DataFrame(random_dt.cv_results_)\n",
    "scores_df[['params', 'mean_test_score', 'rank_test_score',\n",
    "           'split0_test_score', 'split1_test_score', 'split2_test_score']]"
   ]
  },
  {
   "cell_type": "code",
   "execution_count": null,
   "metadata": {},
   "outputs": [],
   "source": [
    "# best params\n",
    "print(f'best params:', random_dt.best_params_)\n",
    "print(f'best score {random_dt.best_score_:.2%}')"
   ]
  }
 ],
 "metadata": {
  "language_info": {
   "name": "python"
  }
 },
 "nbformat": 4,
 "nbformat_minor": 2
}
