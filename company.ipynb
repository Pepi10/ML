{
 "cells": [
  {
   "cell_type": "markdown",
   "metadata": {},
   "source": [
    "# Libraries"
   ]
  },
  {
   "cell_type": "code",
   "execution_count": 3,
   "metadata": {},
   "outputs": [],
   "source": [
    "import pandas as pd\n",
    "import numpy as np \n",
    "import plotly.express as px\n",
    "import plotly.graph_objects as go\n",
    "import matplotlib as mpl\n",
    "import matplotlib.pyplot as plt \n",
    "import seaborn as sns\n",
    "import statsmodels.api as sm \n",
    "import os\n",
    "import warnings\n",
    "warnings.filterwarnings(\"ignore\")\n",
    "import re\n",
    "\n",
    "from sklearn.model_selection import train_test_split\n",
    "from sklearn.tree import DecisionTreeClassifier\n",
    "from sklearn.ensemble import RandomForestClassifier, RandomForestRegressor\n",
    "from sklearn.svm import SVC\n",
    "from xgboost import XGBClassifier\n",
    "from sklearn.metrics import classification_report\n",
    "from sklearn.preprocessing import LabelEncoder, OneHotEncoder\n",
    "from sklearn.experimental import enable_iterative_imputer\n",
    "from sklearn.impute import IterativeImputer\n",
    "\n",
    "from sklearn.manifold import TSNE"
   ]
  },
  {
   "cell_type": "code",
   "execution_count": 4,
   "metadata": {},
   "outputs": [],
   "source": [
    "custom_params = {\"axes.spines.right\": False, \"axes.spines.top\": False}\n",
    "\n",
    "sns.set_theme(context = 'talk',  \n",
    "              style = 'darkgrid',  \n",
    "              font = 'Malgun Gothic', \n",
    "              font_scale = 1.2,         \n",
    "              rc = custom_params) "
   ]
  },
  {
   "cell_type": "markdown",
   "metadata": {},
   "source": [
    "# Read the Data"
   ]
  },
  {
   "cell_type": "code",
   "execution_count": 5,
   "metadata": {},
   "outputs": [
    {
     "name": "stdout",
     "output_type": "stream",
     "text": [
      "c:\\Users\\user\\Documents\\ML ['.gitignore', 'company.ipynb', 'graph.txt', 'Missing_values.ipynb', 'ml_Heart_Mine.ipynb', 'pre.txt', '분석기법별 특징.png']\n",
      "c:\\Users\\user\\Documents\\ML\\.vscode ['settings.json']\n",
      "c:\\Users\\user\\Documents\\ML\\data ['bestsellers with categories.csv', 'Book_description.npy', 'Companies_Dataset.csv', 'Companies_Dataset.xlsx', 'heart_disease_uci.csv']\n"
     ]
    }
   ],
   "source": [
    "cur_dir = os.getcwd()\n",
    "\n",
    "for roots, dirs, files in os.walk(cur_dir):\n",
    "    if \".git\" not in roots:\n",
    "        print(roots, files)"
   ]
  },
  {
   "cell_type": "code",
   "execution_count": 6,
   "metadata": {},
   "outputs": [],
   "source": [
    "data_list = os.listdir(cur_dir + \"\\data\")\n",
    "Dataset = {}\n",
    "\n",
    "for data in data_list:\n",
    "    if '.csv' in data:\n",
    "        Dataset[data[:-4]] = pd.read_csv(cur_dir + f\"\\data\\{data}\")"
   ]
  },
  {
   "cell_type": "code",
   "execution_count": 7,
   "metadata": {},
   "outputs": [],
   "source": [
    "cd = Dataset['Companies_Dataset']"
   ]
  },
  {
   "cell_type": "code",
   "execution_count": 8,
   "metadata": {},
   "outputs": [],
   "source": [
    "df = cd.copy()"
   ]
  },
  {
   "cell_type": "markdown",
   "metadata": {},
   "source": [
    "# Data info"
   ]
  },
  {
   "cell_type": "code",
   "execution_count": 9,
   "metadata": {},
   "outputs": [
    {
     "name": "stdout",
     "output_type": "stream",
     "text": [
      "전체\n",
      "\n",
      "Index: 197개\n",
      "Columns: 10개\n"
     ]
    },
    {
     "data": {
      "text/html": [
       "<div>\n",
       "<style scoped>\n",
       "    .dataframe tbody tr th:only-of-type {\n",
       "        vertical-align: middle;\n",
       "    }\n",
       "\n",
       "    .dataframe tbody tr th {\n",
       "        vertical-align: top;\n",
       "    }\n",
       "\n",
       "    .dataframe thead th {\n",
       "        text-align: right;\n",
       "    }\n",
       "</style>\n",
       "<table border=\"1\" class=\"dataframe\">\n",
       "  <thead>\n",
       "    <tr style=\"text-align: right;\">\n",
       "      <th></th>\n",
       "      <th>col</th>\n",
       "      <th>null_count</th>\n",
       "      <th>null_ratio</th>\n",
       "      <th>unique_count</th>\n",
       "      <th>dtypes</th>\n",
       "    </tr>\n",
       "  </thead>\n",
       "  <tbody>\n",
       "    <tr>\n",
       "      <th>0</th>\n",
       "      <td>Company Name</td>\n",
       "      <td>0</td>\n",
       "      <td>0.00</td>\n",
       "      <td>197</td>\n",
       "      <td>object</td>\n",
       "    </tr>\n",
       "    <tr>\n",
       "      <th>1</th>\n",
       "      <td>Company Rating</td>\n",
       "      <td>0</td>\n",
       "      <td>0.00</td>\n",
       "      <td>17</td>\n",
       "      <td>float64</td>\n",
       "    </tr>\n",
       "    <tr>\n",
       "      <th>2</th>\n",
       "      <td>Review Count</td>\n",
       "      <td>0</td>\n",
       "      <td>0.00</td>\n",
       "      <td>78</td>\n",
       "      <td>object</td>\n",
       "    </tr>\n",
       "    <tr>\n",
       "      <th>3</th>\n",
       "      <td>Company Sector</td>\n",
       "      <td>0</td>\n",
       "      <td>0.00</td>\n",
       "      <td>41</td>\n",
       "      <td>object</td>\n",
       "    </tr>\n",
       "    <tr>\n",
       "      <th>4</th>\n",
       "      <td>Company Type</td>\n",
       "      <td>43</td>\n",
       "      <td>21.83</td>\n",
       "      <td>6</td>\n",
       "      <td>object</td>\n",
       "    </tr>\n",
       "    <tr>\n",
       "      <th>5</th>\n",
       "      <td>No. of Employees</td>\n",
       "      <td>0</td>\n",
       "      <td>0.00</td>\n",
       "      <td>6</td>\n",
       "      <td>object</td>\n",
       "    </tr>\n",
       "    <tr>\n",
       "      <th>6</th>\n",
       "      <td>Company Age</td>\n",
       "      <td>2</td>\n",
       "      <td>1.02</td>\n",
       "      <td>85</td>\n",
       "      <td>object</td>\n",
       "    </tr>\n",
       "    <tr>\n",
       "      <th>7</th>\n",
       "      <td>Company Headquarters</td>\n",
       "      <td>0</td>\n",
       "      <td>0.00</td>\n",
       "      <td>192</td>\n",
       "      <td>object</td>\n",
       "    </tr>\n",
       "    <tr>\n",
       "      <th>8</th>\n",
       "      <td>Highly rated For</td>\n",
       "      <td>0</td>\n",
       "      <td>0.00</td>\n",
       "      <td>64</td>\n",
       "      <td>object</td>\n",
       "    </tr>\n",
       "    <tr>\n",
       "      <th>9</th>\n",
       "      <td>Poorly rated For</td>\n",
       "      <td>133</td>\n",
       "      <td>67.51</td>\n",
       "      <td>11</td>\n",
       "      <td>object</td>\n",
       "    </tr>\n",
       "  </tbody>\n",
       "</table>\n",
       "</div>"
      ],
      "text/plain": [
       "                    col  null_count  null_ratio  unique_count   dtypes\n",
       "0          Company Name           0        0.00           197   object\n",
       "1        Company Rating           0        0.00            17  float64\n",
       "2          Review Count           0        0.00            78   object\n",
       "3        Company Sector           0        0.00            41   object\n",
       "4          Company Type          43       21.83             6   object\n",
       "5      No. of Employees           0        0.00             6   object\n",
       "6           Company Age           2        1.02            85   object\n",
       "7  Company Headquarters           0        0.00           192   object\n",
       "8      Highly rated For           0        0.00            64   object\n",
       "9      Poorly rated For         133       67.51            11   object"
      ]
     },
     "execution_count": 9,
     "metadata": {},
     "output_type": "execute_result"
    }
   ],
   "source": [
    "na_count = df.isna().sum().reset_index()\n",
    "dtypes_df = df.dtypes.reset_index()\n",
    "unique_count = df.nunique().reset_index()\n",
    "\n",
    "df_info = pd.merge(na_count, unique_count, on = \"index\", how = \"left\")\n",
    "df_info = pd.merge(df_info, dtypes_df, on = \"index\", how = \"left\")\n",
    "\n",
    "df_info = df_info.rename(columns = {\"index\":\"col\", \"0_x\":\"null_count\", \"0_y\":\"unique_count\", 0:\"dtypes\"})\n",
    "df_info['null_ratio'] = round(df_info['null_count'] / len(df) * 100, 2)\n",
    "df_info = df_info[['col', 'null_count', 'null_ratio', 'unique_count', 'dtypes']]\n",
    "\n",
    "print(f\"전체\\n\\nIndex: {df.shape[0]}개\\nColumns: {df.shape[1]}개\")\n",
    "df_info"
   ]
  },
  {
   "cell_type": "code",
   "execution_count": 10,
   "metadata": {},
   "outputs": [
    {
     "data": {
      "text/html": [
       "<div>\n",
       "<style scoped>\n",
       "    .dataframe tbody tr th:only-of-type {\n",
       "        vertical-align: middle;\n",
       "    }\n",
       "\n",
       "    .dataframe tbody tr th {\n",
       "        vertical-align: top;\n",
       "    }\n",
       "\n",
       "    .dataframe thead th {\n",
       "        text-align: right;\n",
       "    }\n",
       "</style>\n",
       "<table border=\"1\" class=\"dataframe\">\n",
       "  <thead>\n",
       "    <tr style=\"text-align: right;\">\n",
       "      <th></th>\n",
       "      <th>count</th>\n",
       "      <th>mean</th>\n",
       "      <th>std</th>\n",
       "      <th>min</th>\n",
       "      <th>25%</th>\n",
       "      <th>50%</th>\n",
       "      <th>75%</th>\n",
       "      <th>max</th>\n",
       "    </tr>\n",
       "  </thead>\n",
       "  <tbody>\n",
       "    <tr>\n",
       "      <th>Company Rating</th>\n",
       "      <td>197.0</td>\n",
       "      <td>3.974619</td>\n",
       "      <td>0.257669</td>\n",
       "      <td>3.1</td>\n",
       "      <td>3.8</td>\n",
       "      <td>4.0</td>\n",
       "      <td>4.1</td>\n",
       "      <td>4.8</td>\n",
       "    </tr>\n",
       "  </tbody>\n",
       "</table>\n",
       "</div>"
      ],
      "text/plain": [
       "                count      mean       std  min  25%  50%  75%  max\n",
       "Company Rating  197.0  3.974619  0.257669  3.1  3.8  4.0  4.1  4.8"
      ]
     },
     "execution_count": 10,
     "metadata": {},
     "output_type": "execute_result"
    }
   ],
   "source": [
    "df.describe().T"
   ]
  },
  {
   "cell_type": "code",
   "execution_count": 11,
   "metadata": {},
   "outputs": [
    {
     "data": {
      "text/html": [
       "<div>\n",
       "<style scoped>\n",
       "    .dataframe tbody tr th:only-of-type {\n",
       "        vertical-align: middle;\n",
       "    }\n",
       "\n",
       "    .dataframe tbody tr th {\n",
       "        vertical-align: top;\n",
       "    }\n",
       "\n",
       "    .dataframe thead th {\n",
       "        text-align: right;\n",
       "    }\n",
       "</style>\n",
       "<table border=\"1\" class=\"dataframe\">\n",
       "  <thead>\n",
       "    <tr style=\"text-align: right;\">\n",
       "      <th></th>\n",
       "      <th>Company Name</th>\n",
       "      <th>Company Rating</th>\n",
       "      <th>Review Count</th>\n",
       "      <th>Company Sector</th>\n",
       "      <th>Company Type</th>\n",
       "      <th>No. of Employees</th>\n",
       "      <th>Company Age</th>\n",
       "      <th>Company Headquarters</th>\n",
       "      <th>Highly rated For</th>\n",
       "      <th>Poorly rated For</th>\n",
       "    </tr>\n",
       "  </thead>\n",
       "  <tbody>\n",
       "    <tr>\n",
       "      <th>0</th>\n",
       "      <td>TCS</td>\n",
       "      <td>3.8</td>\n",
       "      <td>71.9k</td>\n",
       "      <td>IT Services &amp; Consulting</td>\n",
       "      <td>Public</td>\n",
       "      <td>1 Lakh+</td>\n",
       "      <td>56 years old</td>\n",
       "      <td>Varanasi +335 more</td>\n",
       "      <td>Job Security, Work Life Balance</td>\n",
       "      <td>Promotions / Appraisal, Salary &amp; Benefits</td>\n",
       "    </tr>\n",
       "    <tr>\n",
       "      <th>1</th>\n",
       "      <td>Accenture</td>\n",
       "      <td>4.0</td>\n",
       "      <td>45.5k</td>\n",
       "      <td>IT Services &amp; Consulting</td>\n",
       "      <td>Public</td>\n",
       "      <td>1 Lakh+</td>\n",
       "      <td>35 years old</td>\n",
       "      <td>Varanasi +166 more</td>\n",
       "      <td>Company Culture, Job Security, Skill Developme...</td>\n",
       "      <td>NaN</td>\n",
       "    </tr>\n",
       "    <tr>\n",
       "      <th>2</th>\n",
       "      <td>Cognizant</td>\n",
       "      <td>3.9</td>\n",
       "      <td>41k</td>\n",
       "      <td>IT Services &amp; Consulting</td>\n",
       "      <td>Forbes Global 2000</td>\n",
       "      <td>1 Lakh+</td>\n",
       "      <td>30 years old</td>\n",
       "      <td>Varanasi +153 more</td>\n",
       "      <td>Skill Development / Learning</td>\n",
       "      <td>Promotions / Appraisal</td>\n",
       "    </tr>\n",
       "    <tr>\n",
       "      <th>3</th>\n",
       "      <td>Wipro</td>\n",
       "      <td>3.8</td>\n",
       "      <td>36.3k</td>\n",
       "      <td>IT Services &amp; Consulting</td>\n",
       "      <td>Public</td>\n",
       "      <td>1 Lakh+</td>\n",
       "      <td>79 years old</td>\n",
       "      <td>Varanasi +268 more</td>\n",
       "      <td>Job Security</td>\n",
       "      <td>Promotions / Appraisal, Salary &amp; Benefits</td>\n",
       "    </tr>\n",
       "    <tr>\n",
       "      <th>4</th>\n",
       "      <td>HDFC Bank</td>\n",
       "      <td>3.9</td>\n",
       "      <td>33.3k</td>\n",
       "      <td>Banking</td>\n",
       "      <td>Public</td>\n",
       "      <td>1 Lakh+</td>\n",
       "      <td>30 years old</td>\n",
       "      <td>Varanasi +1513 more</td>\n",
       "      <td>Job Security, Skill Development / Learning</td>\n",
       "      <td>Promotions / Appraisal</td>\n",
       "    </tr>\n",
       "  </tbody>\n",
       "</table>\n",
       "</div>"
      ],
      "text/plain": [
       "  Company Name  Company Rating Review Count             Company Sector  \\\n",
       "0          TCS             3.8        71.9k  IT Services & Consulting    \n",
       "1    Accenture             4.0        45.5k  IT Services & Consulting    \n",
       "2    Cognizant             3.9          41k  IT Services & Consulting    \n",
       "3        Wipro             3.8        36.3k  IT Services & Consulting    \n",
       "4    HDFC Bank             3.9        33.3k                   Banking    \n",
       "\n",
       "           Company Type No. of Employees     Company Age  \\\n",
       "0               Public           1 Lakh+   56 years old    \n",
       "1               Public           1 Lakh+   35 years old    \n",
       "2   Forbes Global 2000           1 Lakh+   30 years old    \n",
       "3               Public           1 Lakh+   79 years old    \n",
       "4               Public           1 Lakh+   30 years old    \n",
       "\n",
       "   Company Headquarters                                   Highly rated For  \\\n",
       "0    Varanasi +335 more                    Job Security, Work Life Balance   \n",
       "1    Varanasi +166 more  Company Culture, Job Security, Skill Developme...   \n",
       "2    Varanasi +153 more                       Skill Development / Learning   \n",
       "3    Varanasi +268 more                                       Job Security   \n",
       "4   Varanasi +1513 more         Job Security, Skill Development / Learning   \n",
       "\n",
       "                            Poorly rated For  \n",
       "0  Promotions / Appraisal, Salary & Benefits  \n",
       "1                                        NaN  \n",
       "2                     Promotions / Appraisal  \n",
       "3  Promotions / Appraisal, Salary & Benefits  \n",
       "4                     Promotions / Appraisal  "
      ]
     },
     "execution_count": 11,
     "metadata": {},
     "output_type": "execute_result"
    }
   ],
   "source": [
    "df.head()"
   ]
  },
  {
   "cell_type": "markdown",
   "metadata": {},
   "source": [
    "# EDA"
   ]
  },
  {
   "cell_type": "markdown",
   "metadata": {},
   "source": [
    "## columns 수정"
   ]
  },
  {
   "cell_type": "markdown",
   "metadata": {},
   "source": [
    "### column name"
   ]
  },
  {
   "cell_type": "code",
   "execution_count": 12,
   "metadata": {},
   "outputs": [
    {
     "data": {
      "text/plain": [
       "Index(['Company Name', 'Company Rating', 'Review Count', 'Company Sector',\n",
       "       'Company Type', 'No. of Employees', 'Company Age',\n",
       "       'Company Headquarters', 'Highly rated For', 'Poorly rated For'],\n",
       "      dtype='object')"
      ]
     },
     "execution_count": 12,
     "metadata": {},
     "output_type": "execute_result"
    }
   ],
   "source": [
    "df.columns"
   ]
  },
  {
   "cell_type": "code",
   "execution_count": 13,
   "metadata": {},
   "outputs": [
    {
     "data": {
      "text/html": [
       "<div>\n",
       "<style scoped>\n",
       "    .dataframe tbody tr th:only-of-type {\n",
       "        vertical-align: middle;\n",
       "    }\n",
       "\n",
       "    .dataframe tbody tr th {\n",
       "        vertical-align: top;\n",
       "    }\n",
       "\n",
       "    .dataframe thead th {\n",
       "        text-align: right;\n",
       "    }\n",
       "</style>\n",
       "<table border=\"1\" class=\"dataframe\">\n",
       "  <thead>\n",
       "    <tr style=\"text-align: right;\">\n",
       "      <th></th>\n",
       "      <th>company_name</th>\n",
       "      <th>company_rating</th>\n",
       "      <th>review_count</th>\n",
       "      <th>company_sector</th>\n",
       "      <th>company_type</th>\n",
       "      <th>no._of_employees</th>\n",
       "      <th>company_age</th>\n",
       "      <th>company_headquarters</th>\n",
       "      <th>highly_rated_for</th>\n",
       "      <th>poorly_rated_for</th>\n",
       "    </tr>\n",
       "  </thead>\n",
       "  <tbody>\n",
       "    <tr>\n",
       "      <th>0</th>\n",
       "      <td>TCS</td>\n",
       "      <td>3.8</td>\n",
       "      <td>71.9k</td>\n",
       "      <td>IT Services &amp; Consulting</td>\n",
       "      <td>Public</td>\n",
       "      <td>1 Lakh+</td>\n",
       "      <td>56 years old</td>\n",
       "      <td>Varanasi +335 more</td>\n",
       "      <td>Job Security, Work Life Balance</td>\n",
       "      <td>Promotions / Appraisal, Salary &amp; Benefits</td>\n",
       "    </tr>\n",
       "  </tbody>\n",
       "</table>\n",
       "</div>"
      ],
      "text/plain": [
       "  company_name  company_rating review_count             company_sector  \\\n",
       "0          TCS             3.8        71.9k  IT Services & Consulting    \n",
       "\n",
       "  company_type no._of_employees     company_age company_headquarters  \\\n",
       "0      Public           1 Lakh+   56 years old    Varanasi +335 more   \n",
       "\n",
       "                  highly_rated_for                           poorly_rated_for  \n",
       "0  Job Security, Work Life Balance  Promotions / Appraisal, Salary & Benefits  "
      ]
     },
     "execution_count": 13,
     "metadata": {},
     "output_type": "execute_result"
    }
   ],
   "source": [
    "def df_column(values):\n",
    "    q = re.sub('\\s', '_', values.lower())\n",
    "    return q\n",
    "\n",
    "new_col = []\n",
    "for col in df.columns:\n",
    "    new_col.append(df_column(col))\n",
    "\n",
    "df.columns = new_col\n",
    "df.head(1)"
   ]
  },
  {
   "cell_type": "markdown",
   "metadata": {},
   "source": [
    "### column type"
   ]
  },
  {
   "cell_type": "code",
   "execution_count": 14,
   "metadata": {},
   "outputs": [
    {
     "data": {
      "text/plain": [
       "0      71.9k\n",
       "1      45.5k\n",
       "2        41k\n",
       "3      36.3k\n",
       "4      33.3k\n",
       "       ...  \n",
       "192     2.6k\n",
       "193     2.6k\n",
       "194     2.5k\n",
       "195     2.5k\n",
       "196     2.5k\n",
       "Name: review_count, Length: 197, dtype: object"
      ]
     },
     "execution_count": 14,
     "metadata": {},
     "output_type": "execute_result"
    }
   ],
   "source": [
    "df.review_count"
   ]
  },
  {
   "cell_type": "code",
   "execution_count": 15,
   "metadata": {},
   "outputs": [],
   "source": [
    "def review_count(values):\n",
    "    if 'k' in values:\n",
    "        return int(float(values.replace('k','')) * 1000)\n",
    "    return values"
   ]
  },
  {
   "cell_type": "code",
   "execution_count": 16,
   "metadata": {},
   "outputs": [],
   "source": [
    "df.review_count = df.review_count.apply(review_count)"
   ]
  },
  {
   "cell_type": "markdown",
   "metadata": {},
   "source": [
    "> review_count"
   ]
  },
  {
   "cell_type": "code",
   "execution_count": 17,
   "metadata": {},
   "outputs": [
    {
     "data": {
      "text/plain": [
       "no._of_employees\n",
       "10k-50k       111\n",
       "5k-10k         34\n",
       "1 Lakh+        24\n",
       "1k-5k          14\n",
       "50k-1 Lakh     13\n",
       "201-500         1\n",
       "Name: count, dtype: int64"
      ]
     },
     "execution_count": 17,
     "metadata": {},
     "output_type": "execute_result"
    }
   ],
   "source": [
    "df['no._of_employees'].value_counts()"
   ]
  },
  {
   "cell_type": "code",
   "execution_count": 18,
   "metadata": {},
   "outputs": [],
   "source": [
    "def noof(values):\n",
    "    if values == '201-500':\n",
    "        return 0\n",
    "    elif values == '1k-5k':\n",
    "        return 1\n",
    "    elif values == '5k-10k':\n",
    "        return 2\n",
    "    elif values == '10k-50k':\n",
    "        return 3\n",
    "    elif values == '50k-1 Lakh':\n",
    "        return 4\n",
    "    return 5"
   ]
  },
  {
   "cell_type": "code",
   "execution_count": 19,
   "metadata": {},
   "outputs": [],
   "source": [
    "df['no._of_employees'] = df['no._of_employees'].apply(noof)"
   ]
  },
  {
   "cell_type": "markdown",
   "metadata": {},
   "source": [
    "> no._of_employees"
   ]
  },
  {
   "cell_type": "code",
   "execution_count": 20,
   "metadata": {},
   "outputs": [
    {
     "data": {
      "text/plain": [
       "0       56 years old \n",
       "1       35 years old \n",
       "2       30 years old \n",
       "3       79 years old \n",
       "4       30 years old \n",
       "            ...      \n",
       "192     27 years old \n",
       "193     24 years old \n",
       "194     94 years old \n",
       "195     92 years old \n",
       "196     36 years old \n",
       "Name: company_age, Length: 197, dtype: object"
      ]
     },
     "execution_count": 20,
     "metadata": {},
     "output_type": "execute_result"
    }
   ],
   "source": [
    "df.company_age"
   ]
  },
  {
   "cell_type": "code",
   "execution_count": 21,
   "metadata": {},
   "outputs": [],
   "source": [
    "def comage(values):\n",
    "    try:\n",
    "        return float(re.sub('\\D', '', values))  \n",
    "    except:\n",
    "        return values    "
   ]
  },
  {
   "cell_type": "code",
   "execution_count": 22,
   "metadata": {},
   "outputs": [],
   "source": [
    "df.company_age = df.company_age.apply(comage)"
   ]
  },
  {
   "cell_type": "markdown",
   "metadata": {},
   "source": [
    "> company_age"
   ]
  },
  {
   "cell_type": "code",
   "execution_count": 23,
   "metadata": {},
   "outputs": [],
   "source": [
    "def headquaters(values):\n",
    "    try:\n",
    "        return int(re.sub('\\D', '', values))  \n",
    "    except:\n",
    "        return values"
   ]
  },
  {
   "cell_type": "code",
   "execution_count": 24,
   "metadata": {},
   "outputs": [],
   "source": [
    "df.company_headquarters = df.company_headquarters.apply(headquaters)"
   ]
  },
  {
   "cell_type": "markdown",
   "metadata": {},
   "source": [
    "> head_quarters"
   ]
  },
  {
   "cell_type": "code",
   "execution_count": 25,
   "metadata": {},
   "outputs": [
    {
     "data": {
      "text/plain": [
       "company_type\n",
       " Public                 100\n",
       " Forbes Global 2000      21\n",
       " Fortune India 500       19\n",
       " Conglomerate             7\n",
       " Indian Unicorn           6\n",
       " Startup                  1\n",
       "Name: count, dtype: int64"
      ]
     },
     "execution_count": 25,
     "metadata": {},
     "output_type": "execute_result"
    }
   ],
   "source": [
    "df.company_type.value_counts()"
   ]
  },
  {
   "cell_type": "code",
   "execution_count": 26,
   "metadata": {},
   "outputs": [],
   "source": [
    "def comtype(values):\n",
    "    try:\n",
    "        if 'Public' in values:\n",
    "            return 'pub'\n",
    "        return 'pri'\n",
    "    \n",
    "    except:\n",
    "        return values"
   ]
  },
  {
   "cell_type": "code",
   "execution_count": 27,
   "metadata": {},
   "outputs": [],
   "source": [
    "df.company_type = df.company_type.apply(comtype)"
   ]
  },
  {
   "cell_type": "markdown",
   "metadata": {},
   "source": [
    "> company_type"
   ]
  },
  {
   "cell_type": "code",
   "execution_count": 28,
   "metadata": {},
   "outputs": [
    {
     "data": {
      "text/plain": [
       "highly_rated_for\n",
       "Job Security                                                     21\n",
       "Job Security, Skill Development / Learning, Company Culture      14\n",
       "Job Security, Work Life Balance, Company Culture                 10\n",
       "Job Security, Company Culture, Work Life Balance                  9\n",
       "Promotions / Appraisal, Salary & Benefits, Work Satisfaction      8\n",
       "                                                                 ..\n",
       "Skill Development / Learning, Job Security                        1\n",
       "Work Life Balance, Job Security, Skill Development / Learning     1\n",
       "Company Culture, Salary & Benefits, Work Life Balance             1\n",
       "Job Security, Work Life Balance, Skill Development / Learning     1\n",
       "Work Life Balance, Promotions / Appraisal, Work Satisfaction      1\n",
       "Name: count, Length: 64, dtype: int64"
      ]
     },
     "execution_count": 28,
     "metadata": {},
     "output_type": "execute_result"
    }
   ],
   "source": [
    "df.highly_rated_for.value_counts()"
   ]
  },
  {
   "cell_type": "markdown",
   "metadata": {},
   "source": [
    "> highly_rated_for << 원핫인코딩"
   ]
  },
  {
   "cell_type": "code",
   "execution_count": 29,
   "metadata": {},
   "outputs": [
    {
     "data": {
      "text/html": [
       "<div>\n",
       "<style scoped>\n",
       "    .dataframe tbody tr th:only-of-type {\n",
       "        vertical-align: middle;\n",
       "    }\n",
       "\n",
       "    .dataframe tbody tr th {\n",
       "        vertical-align: top;\n",
       "    }\n",
       "\n",
       "    .dataframe thead th {\n",
       "        text-align: right;\n",
       "    }\n",
       "</style>\n",
       "<table border=\"1\" class=\"dataframe\">\n",
       "  <thead>\n",
       "    <tr style=\"text-align: right;\">\n",
       "      <th></th>\n",
       "      <th>company_name</th>\n",
       "      <th>company_rating</th>\n",
       "      <th>review_count</th>\n",
       "      <th>company_sector</th>\n",
       "      <th>company_type</th>\n",
       "      <th>no._of_employees</th>\n",
       "      <th>company_age</th>\n",
       "      <th>company_headquarters</th>\n",
       "      <th>highly_rated_for</th>\n",
       "      <th>poorly_rated_for</th>\n",
       "    </tr>\n",
       "  </thead>\n",
       "  <tbody>\n",
       "    <tr>\n",
       "      <th>0</th>\n",
       "      <td>TCS</td>\n",
       "      <td>3.8</td>\n",
       "      <td>71900</td>\n",
       "      <td>IT Services &amp; Consulting</td>\n",
       "      <td>pub</td>\n",
       "      <td>5</td>\n",
       "      <td>56.0</td>\n",
       "      <td>335</td>\n",
       "      <td>Job Security, Work Life Balance</td>\n",
       "      <td>Promotions / Appraisal, Salary &amp; Benefits</td>\n",
       "    </tr>\n",
       "    <tr>\n",
       "      <th>1</th>\n",
       "      <td>Accenture</td>\n",
       "      <td>4.0</td>\n",
       "      <td>45500</td>\n",
       "      <td>IT Services &amp; Consulting</td>\n",
       "      <td>pub</td>\n",
       "      <td>5</td>\n",
       "      <td>35.0</td>\n",
       "      <td>166</td>\n",
       "      <td>Company Culture, Job Security, Skill Developme...</td>\n",
       "      <td>NaN</td>\n",
       "    </tr>\n",
       "    <tr>\n",
       "      <th>2</th>\n",
       "      <td>Cognizant</td>\n",
       "      <td>3.9</td>\n",
       "      <td>41000</td>\n",
       "      <td>IT Services &amp; Consulting</td>\n",
       "      <td>pri</td>\n",
       "      <td>5</td>\n",
       "      <td>30.0</td>\n",
       "      <td>153</td>\n",
       "      <td>Skill Development / Learning</td>\n",
       "      <td>Promotions / Appraisal</td>\n",
       "    </tr>\n",
       "  </tbody>\n",
       "</table>\n",
       "</div>"
      ],
      "text/plain": [
       "  company_name  company_rating  review_count             company_sector  \\\n",
       "0          TCS             3.8         71900  IT Services & Consulting    \n",
       "1    Accenture             4.0         45500  IT Services & Consulting    \n",
       "2    Cognizant             3.9         41000  IT Services & Consulting    \n",
       "\n",
       "  company_type  no._of_employees  company_age  company_headquarters  \\\n",
       "0          pub                 5         56.0                   335   \n",
       "1          pub                 5         35.0                   166   \n",
       "2          pri                 5         30.0                   153   \n",
       "\n",
       "                                    highly_rated_for  \\\n",
       "0                    Job Security, Work Life Balance   \n",
       "1  Company Culture, Job Security, Skill Developme...   \n",
       "2                       Skill Development / Learning   \n",
       "\n",
       "                            poorly_rated_for  \n",
       "0  Promotions / Appraisal, Salary & Benefits  \n",
       "1                                        NaN  \n",
       "2                     Promotions / Appraisal  "
      ]
     },
     "execution_count": 29,
     "metadata": {},
     "output_type": "execute_result"
    }
   ],
   "source": [
    "df.head(3)"
   ]
  },
  {
   "cell_type": "markdown",
   "metadata": {},
   "source": [
    "# EDA 시각화"
   ]
  },
  {
   "cell_type": "markdown",
   "metadata": {},
   "source": [
    "## num"
   ]
  },
  {
   "cell_type": "code",
   "execution_count": 30,
   "metadata": {},
   "outputs": [
    {
     "data": {
      "text/html": [
       "<div>\n",
       "<style scoped>\n",
       "    .dataframe tbody tr th:only-of-type {\n",
       "        vertical-align: middle;\n",
       "    }\n",
       "\n",
       "    .dataframe tbody tr th {\n",
       "        vertical-align: top;\n",
       "    }\n",
       "\n",
       "    .dataframe thead th {\n",
       "        text-align: right;\n",
       "    }\n",
       "</style>\n",
       "<table border=\"1\" class=\"dataframe\">\n",
       "  <thead>\n",
       "    <tr style=\"text-align: right;\">\n",
       "      <th></th>\n",
       "      <th>company_rating</th>\n",
       "      <th>review_count</th>\n",
       "      <th>no._of_employees</th>\n",
       "      <th>company_age</th>\n",
       "      <th>company_headquarters</th>\n",
       "    </tr>\n",
       "  </thead>\n",
       "  <tbody>\n",
       "    <tr>\n",
       "      <th>0</th>\n",
       "      <td>3.8</td>\n",
       "      <td>71900</td>\n",
       "      <td>5</td>\n",
       "      <td>56.0</td>\n",
       "      <td>335</td>\n",
       "    </tr>\n",
       "    <tr>\n",
       "      <th>1</th>\n",
       "      <td>4.0</td>\n",
       "      <td>45500</td>\n",
       "      <td>5</td>\n",
       "      <td>35.0</td>\n",
       "      <td>166</td>\n",
       "    </tr>\n",
       "  </tbody>\n",
       "</table>\n",
       "</div>"
      ],
      "text/plain": [
       "   company_rating  review_count  no._of_employees  company_age  \\\n",
       "0             3.8         71900                 5         56.0   \n",
       "1             4.0         45500                 5         35.0   \n",
       "\n",
       "   company_headquarters  \n",
       "0                   335  \n",
       "1                   166  "
      ]
     },
     "execution_count": 30,
     "metadata": {},
     "output_type": "execute_result"
    }
   ],
   "source": [
    "df_num = df.select_dtypes(include = 'number')\n",
    "df_num.head(2)"
   ]
  },
  {
   "cell_type": "code",
   "execution_count": 31,
   "metadata": {},
   "outputs": [
    {
     "data": {
      "application/vnd.plotly.v1+json": {
       "config": {
        "plotlyServerURL": "https://plot.ly"
       },
       "data": [
        {
         "alignmentgroup": "True",
         "bingroup": "x",
         "hovertemplate": "variable=company_rating<br>value=%{x}<br>count=%{y}<extra></extra>",
         "legendgroup": "company_rating",
         "marker": {
          "color": "#3F72AF",
          "pattern": {
           "shape": ""
          }
         },
         "name": "company_rating",
         "nbinsx": 17,
         "offsetgroup": "company_rating",
         "orientation": "v",
         "showlegend": true,
         "type": "histogram",
         "x": [
          3.8,
          4,
          3.9,
          3.8,
          3.9,
          4,
          3.8,
          3.8,
          3.6,
          3.7,
          3.9,
          3.8,
          3.9,
          3.5,
          4.1,
          4,
          4.1,
          4,
          3.9,
          4,
          4.1,
          3.1,
          3.9,
          3.8,
          4,
          4,
          4.6,
          4.2,
          4.1,
          3.5,
          3.7,
          3.6,
          4.5,
          4.2,
          3.9,
          3.8,
          4,
          3.7,
          4.1,
          3.7,
          4,
          3.5,
          3.6,
          4.1,
          4.1,
          3.9,
          3.2,
          4.3,
          4.2,
          4,
          3.9,
          4.1,
          4.1,
          3.7,
          4.2,
          3.8,
          3.8,
          3.4,
          4.1,
          4.1,
          3.8,
          4,
          4.1,
          4.7,
          3.7,
          4,
          3.8,
          3.9,
          4.1,
          3.9,
          4.1,
          4,
          4.2,
          4.2,
          3.9,
          4.2,
          3.9,
          3.9,
          3.7,
          4.1,
          4.1,
          4.2,
          3.5,
          4,
          4.1,
          4.2,
          3.6,
          4.2,
          3.9,
          3.9,
          3.4,
          4,
          4,
          4.1,
          4.1,
          4.1,
          4.2,
          4.2,
          4.1,
          3.8,
          4,
          3.8,
          3.6,
          4.3,
          4.3,
          4.2,
          4.1,
          3.8,
          3.9,
          3.8,
          4,
          3.6,
          3.8,
          4.3,
          4.4,
          4,
          3.9,
          3.7,
          3.8,
          4.2,
          3.5,
          3.9,
          4.1,
          4.4,
          4.1,
          4.3,
          4.1,
          4.1,
          4.1,
          4.1,
          4.1,
          3.4,
          4,
          4.1,
          3.4,
          4.2,
          3.7,
          4,
          3.9,
          4.1,
          4.2,
          4.3,
          3.8,
          3.8,
          4,
          4.1,
          4.1,
          4.2,
          4,
          4.2,
          4.2,
          4.2,
          4.8,
          3.8,
          4,
          4.1,
          4,
          4.1,
          4.3,
          3.9,
          4,
          3.9,
          4.2,
          3.8,
          3.8,
          4.1,
          4.1,
          3.7,
          3.5,
          3.6,
          4.1,
          4.1,
          3.9,
          4.4,
          3.9,
          4,
          4.4,
          4.1,
          4.3,
          4.1,
          4.2,
          4.1,
          3.9,
          4.1,
          3.9,
          4,
          3.9,
          4.3,
          3.9,
          4.2,
          3.6,
          4.1,
          3.8,
          3.6,
          3.9,
          4.7,
          3.6
         ],
         "xaxis": "x",
         "yaxis": "y"
        },
        {
         "alignmentgroup": "True",
         "boxpoints": "all",
         "fillcolor": "rgba(255,255,255,0)",
         "hoveron": "points",
         "hovertemplate": "variable=company_rating<br>value=%{x}<extra></extra>",
         "jitter": 0,
         "legendgroup": "company_rating",
         "line": {
          "color": "rgba(255,255,255,0)"
         },
         "marker": {
          "color": "#3F72AF",
          "symbol": "line-ns-open"
         },
         "name": "company_rating",
         "offsetgroup": "company_rating",
         "showlegend": false,
         "type": "box",
         "x": [
          3.8,
          4,
          3.9,
          3.8,
          3.9,
          4,
          3.8,
          3.8,
          3.6,
          3.7,
          3.9,
          3.8,
          3.9,
          3.5,
          4.1,
          4,
          4.1,
          4,
          3.9,
          4,
          4.1,
          3.1,
          3.9,
          3.8,
          4,
          4,
          4.6,
          4.2,
          4.1,
          3.5,
          3.7,
          3.6,
          4.5,
          4.2,
          3.9,
          3.8,
          4,
          3.7,
          4.1,
          3.7,
          4,
          3.5,
          3.6,
          4.1,
          4.1,
          3.9,
          3.2,
          4.3,
          4.2,
          4,
          3.9,
          4.1,
          4.1,
          3.7,
          4.2,
          3.8,
          3.8,
          3.4,
          4.1,
          4.1,
          3.8,
          4,
          4.1,
          4.7,
          3.7,
          4,
          3.8,
          3.9,
          4.1,
          3.9,
          4.1,
          4,
          4.2,
          4.2,
          3.9,
          4.2,
          3.9,
          3.9,
          3.7,
          4.1,
          4.1,
          4.2,
          3.5,
          4,
          4.1,
          4.2,
          3.6,
          4.2,
          3.9,
          3.9,
          3.4,
          4,
          4,
          4.1,
          4.1,
          4.1,
          4.2,
          4.2,
          4.1,
          3.8,
          4,
          3.8,
          3.6,
          4.3,
          4.3,
          4.2,
          4.1,
          3.8,
          3.9,
          3.8,
          4,
          3.6,
          3.8,
          4.3,
          4.4,
          4,
          3.9,
          3.7,
          3.8,
          4.2,
          3.5,
          3.9,
          4.1,
          4.4,
          4.1,
          4.3,
          4.1,
          4.1,
          4.1,
          4.1,
          4.1,
          3.4,
          4,
          4.1,
          3.4,
          4.2,
          3.7,
          4,
          3.9,
          4.1,
          4.2,
          4.3,
          3.8,
          3.8,
          4,
          4.1,
          4.1,
          4.2,
          4,
          4.2,
          4.2,
          4.2,
          4.8,
          3.8,
          4,
          4.1,
          4,
          4.1,
          4.3,
          3.9,
          4,
          3.9,
          4.2,
          3.8,
          3.8,
          4.1,
          4.1,
          3.7,
          3.5,
          3.6,
          4.1,
          4.1,
          3.9,
          4.4,
          3.9,
          4,
          4.4,
          4.1,
          4.3,
          4.1,
          4.2,
          4.1,
          3.9,
          4.1,
          3.9,
          4,
          3.9,
          4.3,
          3.9,
          4.2,
          3.6,
          4.1,
          3.8,
          3.6,
          3.9,
          4.7,
          3.6
         ],
         "xaxis": "x2",
         "yaxis": "y2"
        }
       ],
       "layout": {
        "bargap": 0.1,
        "barmode": "relative",
        "legend": {
         "title": {
          "text": "variable"
         },
         "tracegroupgap": 0
        },
        "margin": {
         "t": 60
        },
        "template": {
         "data": {
          "bar": [
           {
            "error_x": {
             "color": "#2a3f5f"
            },
            "error_y": {
             "color": "#2a3f5f"
            },
            "marker": {
             "line": {
              "color": "#E5ECF6",
              "width": 0.5
             },
             "pattern": {
              "fillmode": "overlay",
              "size": 10,
              "solidity": 0.2
             }
            },
            "type": "bar"
           }
          ],
          "barpolar": [
           {
            "marker": {
             "line": {
              "color": "#E5ECF6",
              "width": 0.5
             },
             "pattern": {
              "fillmode": "overlay",
              "size": 10,
              "solidity": 0.2
             }
            },
            "type": "barpolar"
           }
          ],
          "carpet": [
           {
            "aaxis": {
             "endlinecolor": "#2a3f5f",
             "gridcolor": "white",
             "linecolor": "white",
             "minorgridcolor": "white",
             "startlinecolor": "#2a3f5f"
            },
            "baxis": {
             "endlinecolor": "#2a3f5f",
             "gridcolor": "white",
             "linecolor": "white",
             "minorgridcolor": "white",
             "startlinecolor": "#2a3f5f"
            },
            "type": "carpet"
           }
          ],
          "choropleth": [
           {
            "colorbar": {
             "outlinewidth": 0,
             "ticks": ""
            },
            "type": "choropleth"
           }
          ],
          "contour": [
           {
            "colorbar": {
             "outlinewidth": 0,
             "ticks": ""
            },
            "colorscale": [
             [
              0,
              "#0d0887"
             ],
             [
              0.1111111111111111,
              "#46039f"
             ],
             [
              0.2222222222222222,
              "#7201a8"
             ],
             [
              0.3333333333333333,
              "#9c179e"
             ],
             [
              0.4444444444444444,
              "#bd3786"
             ],
             [
              0.5555555555555556,
              "#d8576b"
             ],
             [
              0.6666666666666666,
              "#ed7953"
             ],
             [
              0.7777777777777778,
              "#fb9f3a"
             ],
             [
              0.8888888888888888,
              "#fdca26"
             ],
             [
              1,
              "#f0f921"
             ]
            ],
            "type": "contour"
           }
          ],
          "contourcarpet": [
           {
            "colorbar": {
             "outlinewidth": 0,
             "ticks": ""
            },
            "type": "contourcarpet"
           }
          ],
          "heatmap": [
           {
            "colorbar": {
             "outlinewidth": 0,
             "ticks": ""
            },
            "colorscale": [
             [
              0,
              "#0d0887"
             ],
             [
              0.1111111111111111,
              "#46039f"
             ],
             [
              0.2222222222222222,
              "#7201a8"
             ],
             [
              0.3333333333333333,
              "#9c179e"
             ],
             [
              0.4444444444444444,
              "#bd3786"
             ],
             [
              0.5555555555555556,
              "#d8576b"
             ],
             [
              0.6666666666666666,
              "#ed7953"
             ],
             [
              0.7777777777777778,
              "#fb9f3a"
             ],
             [
              0.8888888888888888,
              "#fdca26"
             ],
             [
              1,
              "#f0f921"
             ]
            ],
            "type": "heatmap"
           }
          ],
          "heatmapgl": [
           {
            "colorbar": {
             "outlinewidth": 0,
             "ticks": ""
            },
            "colorscale": [
             [
              0,
              "#0d0887"
             ],
             [
              0.1111111111111111,
              "#46039f"
             ],
             [
              0.2222222222222222,
              "#7201a8"
             ],
             [
              0.3333333333333333,
              "#9c179e"
             ],
             [
              0.4444444444444444,
              "#bd3786"
             ],
             [
              0.5555555555555556,
              "#d8576b"
             ],
             [
              0.6666666666666666,
              "#ed7953"
             ],
             [
              0.7777777777777778,
              "#fb9f3a"
             ],
             [
              0.8888888888888888,
              "#fdca26"
             ],
             [
              1,
              "#f0f921"
             ]
            ],
            "type": "heatmapgl"
           }
          ],
          "histogram": [
           {
            "marker": {
             "pattern": {
              "fillmode": "overlay",
              "size": 10,
              "solidity": 0.2
             }
            },
            "type": "histogram"
           }
          ],
          "histogram2d": [
           {
            "colorbar": {
             "outlinewidth": 0,
             "ticks": ""
            },
            "colorscale": [
             [
              0,
              "#0d0887"
             ],
             [
              0.1111111111111111,
              "#46039f"
             ],
             [
              0.2222222222222222,
              "#7201a8"
             ],
             [
              0.3333333333333333,
              "#9c179e"
             ],
             [
              0.4444444444444444,
              "#bd3786"
             ],
             [
              0.5555555555555556,
              "#d8576b"
             ],
             [
              0.6666666666666666,
              "#ed7953"
             ],
             [
              0.7777777777777778,
              "#fb9f3a"
             ],
             [
              0.8888888888888888,
              "#fdca26"
             ],
             [
              1,
              "#f0f921"
             ]
            ],
            "type": "histogram2d"
           }
          ],
          "histogram2dcontour": [
           {
            "colorbar": {
             "outlinewidth": 0,
             "ticks": ""
            },
            "colorscale": [
             [
              0,
              "#0d0887"
             ],
             [
              0.1111111111111111,
              "#46039f"
             ],
             [
              0.2222222222222222,
              "#7201a8"
             ],
             [
              0.3333333333333333,
              "#9c179e"
             ],
             [
              0.4444444444444444,
              "#bd3786"
             ],
             [
              0.5555555555555556,
              "#d8576b"
             ],
             [
              0.6666666666666666,
              "#ed7953"
             ],
             [
              0.7777777777777778,
              "#fb9f3a"
             ],
             [
              0.8888888888888888,
              "#fdca26"
             ],
             [
              1,
              "#f0f921"
             ]
            ],
            "type": "histogram2dcontour"
           }
          ],
          "mesh3d": [
           {
            "colorbar": {
             "outlinewidth": 0,
             "ticks": ""
            },
            "type": "mesh3d"
           }
          ],
          "parcoords": [
           {
            "line": {
             "colorbar": {
              "outlinewidth": 0,
              "ticks": ""
             }
            },
            "type": "parcoords"
           }
          ],
          "pie": [
           {
            "automargin": true,
            "type": "pie"
           }
          ],
          "scatter": [
           {
            "fillpattern": {
             "fillmode": "overlay",
             "size": 10,
             "solidity": 0.2
            },
            "type": "scatter"
           }
          ],
          "scatter3d": [
           {
            "line": {
             "colorbar": {
              "outlinewidth": 0,
              "ticks": ""
             }
            },
            "marker": {
             "colorbar": {
              "outlinewidth": 0,
              "ticks": ""
             }
            },
            "type": "scatter3d"
           }
          ],
          "scattercarpet": [
           {
            "marker": {
             "colorbar": {
              "outlinewidth": 0,
              "ticks": ""
             }
            },
            "type": "scattercarpet"
           }
          ],
          "scattergeo": [
           {
            "marker": {
             "colorbar": {
              "outlinewidth": 0,
              "ticks": ""
             }
            },
            "type": "scattergeo"
           }
          ],
          "scattergl": [
           {
            "marker": {
             "colorbar": {
              "outlinewidth": 0,
              "ticks": ""
             }
            },
            "type": "scattergl"
           }
          ],
          "scattermapbox": [
           {
            "marker": {
             "colorbar": {
              "outlinewidth": 0,
              "ticks": ""
             }
            },
            "type": "scattermapbox"
           }
          ],
          "scatterpolar": [
           {
            "marker": {
             "colorbar": {
              "outlinewidth": 0,
              "ticks": ""
             }
            },
            "type": "scatterpolar"
           }
          ],
          "scatterpolargl": [
           {
            "marker": {
             "colorbar": {
              "outlinewidth": 0,
              "ticks": ""
             }
            },
            "type": "scatterpolargl"
           }
          ],
          "scatterternary": [
           {
            "marker": {
             "colorbar": {
              "outlinewidth": 0,
              "ticks": ""
             }
            },
            "type": "scatterternary"
           }
          ],
          "surface": [
           {
            "colorbar": {
             "outlinewidth": 0,
             "ticks": ""
            },
            "colorscale": [
             [
              0,
              "#0d0887"
             ],
             [
              0.1111111111111111,
              "#46039f"
             ],
             [
              0.2222222222222222,
              "#7201a8"
             ],
             [
              0.3333333333333333,
              "#9c179e"
             ],
             [
              0.4444444444444444,
              "#bd3786"
             ],
             [
              0.5555555555555556,
              "#d8576b"
             ],
             [
              0.6666666666666666,
              "#ed7953"
             ],
             [
              0.7777777777777778,
              "#fb9f3a"
             ],
             [
              0.8888888888888888,
              "#fdca26"
             ],
             [
              1,
              "#f0f921"
             ]
            ],
            "type": "surface"
           }
          ],
          "table": [
           {
            "cells": {
             "fill": {
              "color": "#EBF0F8"
             },
             "line": {
              "color": "white"
             }
            },
            "header": {
             "fill": {
              "color": "#C8D4E3"
             },
             "line": {
              "color": "white"
             }
            },
            "type": "table"
           }
          ]
         },
         "layout": {
          "annotationdefaults": {
           "arrowcolor": "#2a3f5f",
           "arrowhead": 0,
           "arrowwidth": 1
          },
          "autotypenumbers": "strict",
          "coloraxis": {
           "colorbar": {
            "outlinewidth": 0,
            "ticks": ""
           }
          },
          "colorscale": {
           "diverging": [
            [
             0,
             "#8e0152"
            ],
            [
             0.1,
             "#c51b7d"
            ],
            [
             0.2,
             "#de77ae"
            ],
            [
             0.3,
             "#f1b6da"
            ],
            [
             0.4,
             "#fde0ef"
            ],
            [
             0.5,
             "#f7f7f7"
            ],
            [
             0.6,
             "#e6f5d0"
            ],
            [
             0.7,
             "#b8e186"
            ],
            [
             0.8,
             "#7fbc41"
            ],
            [
             0.9,
             "#4d9221"
            ],
            [
             1,
             "#276419"
            ]
           ],
           "sequential": [
            [
             0,
             "#0d0887"
            ],
            [
             0.1111111111111111,
             "#46039f"
            ],
            [
             0.2222222222222222,
             "#7201a8"
            ],
            [
             0.3333333333333333,
             "#9c179e"
            ],
            [
             0.4444444444444444,
             "#bd3786"
            ],
            [
             0.5555555555555556,
             "#d8576b"
            ],
            [
             0.6666666666666666,
             "#ed7953"
            ],
            [
             0.7777777777777778,
             "#fb9f3a"
            ],
            [
             0.8888888888888888,
             "#fdca26"
            ],
            [
             1,
             "#f0f921"
            ]
           ],
           "sequentialminus": [
            [
             0,
             "#0d0887"
            ],
            [
             0.1111111111111111,
             "#46039f"
            ],
            [
             0.2222222222222222,
             "#7201a8"
            ],
            [
             0.3333333333333333,
             "#9c179e"
            ],
            [
             0.4444444444444444,
             "#bd3786"
            ],
            [
             0.5555555555555556,
             "#d8576b"
            ],
            [
             0.6666666666666666,
             "#ed7953"
            ],
            [
             0.7777777777777778,
             "#fb9f3a"
            ],
            [
             0.8888888888888888,
             "#fdca26"
            ],
            [
             1,
             "#f0f921"
            ]
           ]
          },
          "colorway": [
           "#636efa",
           "#EF553B",
           "#00cc96",
           "#ab63fa",
           "#FFA15A",
           "#19d3f3",
           "#FF6692",
           "#B6E880",
           "#FF97FF",
           "#FECB52"
          ],
          "font": {
           "color": "#2a3f5f"
          },
          "geo": {
           "bgcolor": "white",
           "lakecolor": "white",
           "landcolor": "#E5ECF6",
           "showlakes": true,
           "showland": true,
           "subunitcolor": "white"
          },
          "hoverlabel": {
           "align": "left"
          },
          "hovermode": "closest",
          "mapbox": {
           "style": "light"
          },
          "paper_bgcolor": "white",
          "plot_bgcolor": "#E5ECF6",
          "polar": {
           "angularaxis": {
            "gridcolor": "white",
            "linecolor": "white",
            "ticks": ""
           },
           "bgcolor": "#E5ECF6",
           "radialaxis": {
            "gridcolor": "white",
            "linecolor": "white",
            "ticks": ""
           }
          },
          "scene": {
           "xaxis": {
            "backgroundcolor": "#E5ECF6",
            "gridcolor": "white",
            "gridwidth": 2,
            "linecolor": "white",
            "showbackground": true,
            "ticks": "",
            "zerolinecolor": "white"
           },
           "yaxis": {
            "backgroundcolor": "#E5ECF6",
            "gridcolor": "white",
            "gridwidth": 2,
            "linecolor": "white",
            "showbackground": true,
            "ticks": "",
            "zerolinecolor": "white"
           },
           "zaxis": {
            "backgroundcolor": "#E5ECF6",
            "gridcolor": "white",
            "gridwidth": 2,
            "linecolor": "white",
            "showbackground": true,
            "ticks": "",
            "zerolinecolor": "white"
           }
          },
          "shapedefaults": {
           "line": {
            "color": "#2a3f5f"
           }
          },
          "ternary": {
           "aaxis": {
            "gridcolor": "white",
            "linecolor": "white",
            "ticks": ""
           },
           "baxis": {
            "gridcolor": "white",
            "linecolor": "white",
            "ticks": ""
           },
           "bgcolor": "#E5ECF6",
           "caxis": {
            "gridcolor": "white",
            "linecolor": "white",
            "ticks": ""
           }
          },
          "title": {
           "x": 0.05
          },
          "xaxis": {
           "automargin": true,
           "gridcolor": "white",
           "linecolor": "white",
           "ticks": "",
           "title": {
            "standoff": 15
           },
           "zerolinecolor": "white",
           "zerolinewidth": 2
          },
          "yaxis": {
           "automargin": true,
           "gridcolor": "white",
           "linecolor": "white",
           "ticks": "",
           "title": {
            "standoff": 15
           },
           "zerolinecolor": "white",
           "zerolinewidth": 2
          }
         }
        },
        "title": {
         "text": "company_rating"
        },
        "xaxis": {
         "anchor": "y",
         "domain": [
          0,
          1
         ],
         "title": {
          "text": "value"
         }
        },
        "xaxis2": {
         "anchor": "y2",
         "domain": [
          0,
          1
         ],
         "matches": "x",
         "showgrid": true,
         "showticklabels": false
        },
        "yaxis": {
         "anchor": "x",
         "domain": [
          0,
          0.7326
         ],
         "title": {
          "text": "count"
         }
        },
        "yaxis2": {
         "anchor": "x2",
         "domain": [
          0.7426,
          1
         ],
         "matches": "y2",
         "showgrid": false,
         "showline": false,
         "showticklabels": false,
         "ticks": ""
        }
       }
      }
     },
     "metadata": {},
     "output_type": "display_data"
    },
    {
     "data": {
      "application/vnd.plotly.v1+json": {
       "config": {
        "plotlyServerURL": "https://plot.ly"
       },
       "data": [
        {
         "alignmentgroup": "True",
         "bingroup": "x",
         "hovertemplate": "variable=review_count<br>value=%{x}<br>count=%{y}<extra></extra>",
         "legendgroup": "review_count",
         "marker": {
          "color": "#3F72AF",
          "pattern": {
           "shape": ""
          }
         },
         "name": "review_count",
         "nbinsx": 78,
         "offsetgroup": "review_count",
         "orientation": "v",
         "showlegend": true,
         "type": "histogram",
         "x": [
          71900,
          45500,
          41000,
          36300,
          33300,
          33000,
          31200,
          29100,
          27900,
          27100,
          25700,
          21700,
          21400,
          20500,
          20400,
          20300,
          19400,
          18400,
          18400,
          17800,
          15200,
          14400,
          14200,
          14000,
          13400,
          12000,
          11400,
          11000,
          9600,
          9500,
          9000,
          8700,
          8700,
          8600,
          8200,
          8100,
          7900,
          7600,
          7500,
          7500,
          7300,
          6800,
          6800,
          6700,
          6700,
          6700,
          6700,
          6500,
          6500,
          6200,
          6200,
          6100,
          5900,
          5900,
          5800,
          5800,
          5800,
          5700,
          5700,
          5600,
          5500,
          5400,
          5400,
          5300,
          5300,
          5200,
          5200,
          5100,
          5100,
          5100,
          5000,
          5000,
          4900,
          4900,
          4800,
          4800,
          4700,
          4600,
          4600,
          4600,
          4500,
          4400,
          4400,
          4300,
          4300,
          4300,
          4300,
          4300,
          4300,
          4200,
          4200,
          4200,
          4200,
          4200,
          4200,
          4200,
          4100,
          4100,
          4100,
          4100,
          4000,
          4000,
          4000,
          4000,
          3900,
          3900,
          3900,
          3800,
          3800,
          3800,
          3700,
          3700,
          3700,
          3700,
          3600,
          3600,
          3600,
          3500,
          3500,
          3500,
          3500,
          3500,
          3500,
          3500,
          3500,
          3500,
          3400,
          3400,
          3400,
          3400,
          3400,
          3400,
          3300,
          3300,
          3300,
          3300,
          3300,
          3300,
          3200,
          3200,
          3200,
          3200,
          3200,
          3200,
          3200,
          3100,
          3100,
          3100,
          3100,
          3000,
          3000,
          3000,
          3000,
          3000,
          3000,
          2900,
          2900,
          2900,
          2900,
          2900,
          2900,
          2800,
          2800,
          2800,
          2800,
          2800,
          2800,
          2800,
          2800,
          2800,
          2700,
          2700,
          2700,
          2700,
          2700,
          2700,
          2700,
          2700,
          2700,
          2700,
          2700,
          2600,
          2600,
          2600,
          2600,
          2600,
          2600,
          2600,
          2600,
          2600,
          2600,
          2600,
          2600,
          2600,
          2500,
          2500,
          2500
         ],
         "xaxis": "x",
         "yaxis": "y"
        },
        {
         "alignmentgroup": "True",
         "boxpoints": "all",
         "fillcolor": "rgba(255,255,255,0)",
         "hoveron": "points",
         "hovertemplate": "variable=review_count<br>value=%{x}<extra></extra>",
         "jitter": 0,
         "legendgroup": "review_count",
         "line": {
          "color": "rgba(255,255,255,0)"
         },
         "marker": {
          "color": "#3F72AF",
          "symbol": "line-ns-open"
         },
         "name": "review_count",
         "offsetgroup": "review_count",
         "showlegend": false,
         "type": "box",
         "x": [
          71900,
          45500,
          41000,
          36300,
          33300,
          33000,
          31200,
          29100,
          27900,
          27100,
          25700,
          21700,
          21400,
          20500,
          20400,
          20300,
          19400,
          18400,
          18400,
          17800,
          15200,
          14400,
          14200,
          14000,
          13400,
          12000,
          11400,
          11000,
          9600,
          9500,
          9000,
          8700,
          8700,
          8600,
          8200,
          8100,
          7900,
          7600,
          7500,
          7500,
          7300,
          6800,
          6800,
          6700,
          6700,
          6700,
          6700,
          6500,
          6500,
          6200,
          6200,
          6100,
          5900,
          5900,
          5800,
          5800,
          5800,
          5700,
          5700,
          5600,
          5500,
          5400,
          5400,
          5300,
          5300,
          5200,
          5200,
          5100,
          5100,
          5100,
          5000,
          5000,
          4900,
          4900,
          4800,
          4800,
          4700,
          4600,
          4600,
          4600,
          4500,
          4400,
          4400,
          4300,
          4300,
          4300,
          4300,
          4300,
          4300,
          4200,
          4200,
          4200,
          4200,
          4200,
          4200,
          4200,
          4100,
          4100,
          4100,
          4100,
          4000,
          4000,
          4000,
          4000,
          3900,
          3900,
          3900,
          3800,
          3800,
          3800,
          3700,
          3700,
          3700,
          3700,
          3600,
          3600,
          3600,
          3500,
          3500,
          3500,
          3500,
          3500,
          3500,
          3500,
          3500,
          3500,
          3400,
          3400,
          3400,
          3400,
          3400,
          3400,
          3300,
          3300,
          3300,
          3300,
          3300,
          3300,
          3200,
          3200,
          3200,
          3200,
          3200,
          3200,
          3200,
          3100,
          3100,
          3100,
          3100,
          3000,
          3000,
          3000,
          3000,
          3000,
          3000,
          2900,
          2900,
          2900,
          2900,
          2900,
          2900,
          2800,
          2800,
          2800,
          2800,
          2800,
          2800,
          2800,
          2800,
          2800,
          2700,
          2700,
          2700,
          2700,
          2700,
          2700,
          2700,
          2700,
          2700,
          2700,
          2700,
          2600,
          2600,
          2600,
          2600,
          2600,
          2600,
          2600,
          2600,
          2600,
          2600,
          2600,
          2600,
          2600,
          2500,
          2500,
          2500
         ],
         "xaxis": "x2",
         "yaxis": "y2"
        }
       ],
       "layout": {
        "bargap": 0.1,
        "barmode": "relative",
        "legend": {
         "title": {
          "text": "variable"
         },
         "tracegroupgap": 0
        },
        "margin": {
         "t": 60
        },
        "template": {
         "data": {
          "bar": [
           {
            "error_x": {
             "color": "#2a3f5f"
            },
            "error_y": {
             "color": "#2a3f5f"
            },
            "marker": {
             "line": {
              "color": "#E5ECF6",
              "width": 0.5
             },
             "pattern": {
              "fillmode": "overlay",
              "size": 10,
              "solidity": 0.2
             }
            },
            "type": "bar"
           }
          ],
          "barpolar": [
           {
            "marker": {
             "line": {
              "color": "#E5ECF6",
              "width": 0.5
             },
             "pattern": {
              "fillmode": "overlay",
              "size": 10,
              "solidity": 0.2
             }
            },
            "type": "barpolar"
           }
          ],
          "carpet": [
           {
            "aaxis": {
             "endlinecolor": "#2a3f5f",
             "gridcolor": "white",
             "linecolor": "white",
             "minorgridcolor": "white",
             "startlinecolor": "#2a3f5f"
            },
            "baxis": {
             "endlinecolor": "#2a3f5f",
             "gridcolor": "white",
             "linecolor": "white",
             "minorgridcolor": "white",
             "startlinecolor": "#2a3f5f"
            },
            "type": "carpet"
           }
          ],
          "choropleth": [
           {
            "colorbar": {
             "outlinewidth": 0,
             "ticks": ""
            },
            "type": "choropleth"
           }
          ],
          "contour": [
           {
            "colorbar": {
             "outlinewidth": 0,
             "ticks": ""
            },
            "colorscale": [
             [
              0,
              "#0d0887"
             ],
             [
              0.1111111111111111,
              "#46039f"
             ],
             [
              0.2222222222222222,
              "#7201a8"
             ],
             [
              0.3333333333333333,
              "#9c179e"
             ],
             [
              0.4444444444444444,
              "#bd3786"
             ],
             [
              0.5555555555555556,
              "#d8576b"
             ],
             [
              0.6666666666666666,
              "#ed7953"
             ],
             [
              0.7777777777777778,
              "#fb9f3a"
             ],
             [
              0.8888888888888888,
              "#fdca26"
             ],
             [
              1,
              "#f0f921"
             ]
            ],
            "type": "contour"
           }
          ],
          "contourcarpet": [
           {
            "colorbar": {
             "outlinewidth": 0,
             "ticks": ""
            },
            "type": "contourcarpet"
           }
          ],
          "heatmap": [
           {
            "colorbar": {
             "outlinewidth": 0,
             "ticks": ""
            },
            "colorscale": [
             [
              0,
              "#0d0887"
             ],
             [
              0.1111111111111111,
              "#46039f"
             ],
             [
              0.2222222222222222,
              "#7201a8"
             ],
             [
              0.3333333333333333,
              "#9c179e"
             ],
             [
              0.4444444444444444,
              "#bd3786"
             ],
             [
              0.5555555555555556,
              "#d8576b"
             ],
             [
              0.6666666666666666,
              "#ed7953"
             ],
             [
              0.7777777777777778,
              "#fb9f3a"
             ],
             [
              0.8888888888888888,
              "#fdca26"
             ],
             [
              1,
              "#f0f921"
             ]
            ],
            "type": "heatmap"
           }
          ],
          "heatmapgl": [
           {
            "colorbar": {
             "outlinewidth": 0,
             "ticks": ""
            },
            "colorscale": [
             [
              0,
              "#0d0887"
             ],
             [
              0.1111111111111111,
              "#46039f"
             ],
             [
              0.2222222222222222,
              "#7201a8"
             ],
             [
              0.3333333333333333,
              "#9c179e"
             ],
             [
              0.4444444444444444,
              "#bd3786"
             ],
             [
              0.5555555555555556,
              "#d8576b"
             ],
             [
              0.6666666666666666,
              "#ed7953"
             ],
             [
              0.7777777777777778,
              "#fb9f3a"
             ],
             [
              0.8888888888888888,
              "#fdca26"
             ],
             [
              1,
              "#f0f921"
             ]
            ],
            "type": "heatmapgl"
           }
          ],
          "histogram": [
           {
            "marker": {
             "pattern": {
              "fillmode": "overlay",
              "size": 10,
              "solidity": 0.2
             }
            },
            "type": "histogram"
           }
          ],
          "histogram2d": [
           {
            "colorbar": {
             "outlinewidth": 0,
             "ticks": ""
            },
            "colorscale": [
             [
              0,
              "#0d0887"
             ],
             [
              0.1111111111111111,
              "#46039f"
             ],
             [
              0.2222222222222222,
              "#7201a8"
             ],
             [
              0.3333333333333333,
              "#9c179e"
             ],
             [
              0.4444444444444444,
              "#bd3786"
             ],
             [
              0.5555555555555556,
              "#d8576b"
             ],
             [
              0.6666666666666666,
              "#ed7953"
             ],
             [
              0.7777777777777778,
              "#fb9f3a"
             ],
             [
              0.8888888888888888,
              "#fdca26"
             ],
             [
              1,
              "#f0f921"
             ]
            ],
            "type": "histogram2d"
           }
          ],
          "histogram2dcontour": [
           {
            "colorbar": {
             "outlinewidth": 0,
             "ticks": ""
            },
            "colorscale": [
             [
              0,
              "#0d0887"
             ],
             [
              0.1111111111111111,
              "#46039f"
             ],
             [
              0.2222222222222222,
              "#7201a8"
             ],
             [
              0.3333333333333333,
              "#9c179e"
             ],
             [
              0.4444444444444444,
              "#bd3786"
             ],
             [
              0.5555555555555556,
              "#d8576b"
             ],
             [
              0.6666666666666666,
              "#ed7953"
             ],
             [
              0.7777777777777778,
              "#fb9f3a"
             ],
             [
              0.8888888888888888,
              "#fdca26"
             ],
             [
              1,
              "#f0f921"
             ]
            ],
            "type": "histogram2dcontour"
           }
          ],
          "mesh3d": [
           {
            "colorbar": {
             "outlinewidth": 0,
             "ticks": ""
            },
            "type": "mesh3d"
           }
          ],
          "parcoords": [
           {
            "line": {
             "colorbar": {
              "outlinewidth": 0,
              "ticks": ""
             }
            },
            "type": "parcoords"
           }
          ],
          "pie": [
           {
            "automargin": true,
            "type": "pie"
           }
          ],
          "scatter": [
           {
            "fillpattern": {
             "fillmode": "overlay",
             "size": 10,
             "solidity": 0.2
            },
            "type": "scatter"
           }
          ],
          "scatter3d": [
           {
            "line": {
             "colorbar": {
              "outlinewidth": 0,
              "ticks": ""
             }
            },
            "marker": {
             "colorbar": {
              "outlinewidth": 0,
              "ticks": ""
             }
            },
            "type": "scatter3d"
           }
          ],
          "scattercarpet": [
           {
            "marker": {
             "colorbar": {
              "outlinewidth": 0,
              "ticks": ""
             }
            },
            "type": "scattercarpet"
           }
          ],
          "scattergeo": [
           {
            "marker": {
             "colorbar": {
              "outlinewidth": 0,
              "ticks": ""
             }
            },
            "type": "scattergeo"
           }
          ],
          "scattergl": [
           {
            "marker": {
             "colorbar": {
              "outlinewidth": 0,
              "ticks": ""
             }
            },
            "type": "scattergl"
           }
          ],
          "scattermapbox": [
           {
            "marker": {
             "colorbar": {
              "outlinewidth": 0,
              "ticks": ""
             }
            },
            "type": "scattermapbox"
           }
          ],
          "scatterpolar": [
           {
            "marker": {
             "colorbar": {
              "outlinewidth": 0,
              "ticks": ""
             }
            },
            "type": "scatterpolar"
           }
          ],
          "scatterpolargl": [
           {
            "marker": {
             "colorbar": {
              "outlinewidth": 0,
              "ticks": ""
             }
            },
            "type": "scatterpolargl"
           }
          ],
          "scatterternary": [
           {
            "marker": {
             "colorbar": {
              "outlinewidth": 0,
              "ticks": ""
             }
            },
            "type": "scatterternary"
           }
          ],
          "surface": [
           {
            "colorbar": {
             "outlinewidth": 0,
             "ticks": ""
            },
            "colorscale": [
             [
              0,
              "#0d0887"
             ],
             [
              0.1111111111111111,
              "#46039f"
             ],
             [
              0.2222222222222222,
              "#7201a8"
             ],
             [
              0.3333333333333333,
              "#9c179e"
             ],
             [
              0.4444444444444444,
              "#bd3786"
             ],
             [
              0.5555555555555556,
              "#d8576b"
             ],
             [
              0.6666666666666666,
              "#ed7953"
             ],
             [
              0.7777777777777778,
              "#fb9f3a"
             ],
             [
              0.8888888888888888,
              "#fdca26"
             ],
             [
              1,
              "#f0f921"
             ]
            ],
            "type": "surface"
           }
          ],
          "table": [
           {
            "cells": {
             "fill": {
              "color": "#EBF0F8"
             },
             "line": {
              "color": "white"
             }
            },
            "header": {
             "fill": {
              "color": "#C8D4E3"
             },
             "line": {
              "color": "white"
             }
            },
            "type": "table"
           }
          ]
         },
         "layout": {
          "annotationdefaults": {
           "arrowcolor": "#2a3f5f",
           "arrowhead": 0,
           "arrowwidth": 1
          },
          "autotypenumbers": "strict",
          "coloraxis": {
           "colorbar": {
            "outlinewidth": 0,
            "ticks": ""
           }
          },
          "colorscale": {
           "diverging": [
            [
             0,
             "#8e0152"
            ],
            [
             0.1,
             "#c51b7d"
            ],
            [
             0.2,
             "#de77ae"
            ],
            [
             0.3,
             "#f1b6da"
            ],
            [
             0.4,
             "#fde0ef"
            ],
            [
             0.5,
             "#f7f7f7"
            ],
            [
             0.6,
             "#e6f5d0"
            ],
            [
             0.7,
             "#b8e186"
            ],
            [
             0.8,
             "#7fbc41"
            ],
            [
             0.9,
             "#4d9221"
            ],
            [
             1,
             "#276419"
            ]
           ],
           "sequential": [
            [
             0,
             "#0d0887"
            ],
            [
             0.1111111111111111,
             "#46039f"
            ],
            [
             0.2222222222222222,
             "#7201a8"
            ],
            [
             0.3333333333333333,
             "#9c179e"
            ],
            [
             0.4444444444444444,
             "#bd3786"
            ],
            [
             0.5555555555555556,
             "#d8576b"
            ],
            [
             0.6666666666666666,
             "#ed7953"
            ],
            [
             0.7777777777777778,
             "#fb9f3a"
            ],
            [
             0.8888888888888888,
             "#fdca26"
            ],
            [
             1,
             "#f0f921"
            ]
           ],
           "sequentialminus": [
            [
             0,
             "#0d0887"
            ],
            [
             0.1111111111111111,
             "#46039f"
            ],
            [
             0.2222222222222222,
             "#7201a8"
            ],
            [
             0.3333333333333333,
             "#9c179e"
            ],
            [
             0.4444444444444444,
             "#bd3786"
            ],
            [
             0.5555555555555556,
             "#d8576b"
            ],
            [
             0.6666666666666666,
             "#ed7953"
            ],
            [
             0.7777777777777778,
             "#fb9f3a"
            ],
            [
             0.8888888888888888,
             "#fdca26"
            ],
            [
             1,
             "#f0f921"
            ]
           ]
          },
          "colorway": [
           "#636efa",
           "#EF553B",
           "#00cc96",
           "#ab63fa",
           "#FFA15A",
           "#19d3f3",
           "#FF6692",
           "#B6E880",
           "#FF97FF",
           "#FECB52"
          ],
          "font": {
           "color": "#2a3f5f"
          },
          "geo": {
           "bgcolor": "white",
           "lakecolor": "white",
           "landcolor": "#E5ECF6",
           "showlakes": true,
           "showland": true,
           "subunitcolor": "white"
          },
          "hoverlabel": {
           "align": "left"
          },
          "hovermode": "closest",
          "mapbox": {
           "style": "light"
          },
          "paper_bgcolor": "white",
          "plot_bgcolor": "#E5ECF6",
          "polar": {
           "angularaxis": {
            "gridcolor": "white",
            "linecolor": "white",
            "ticks": ""
           },
           "bgcolor": "#E5ECF6",
           "radialaxis": {
            "gridcolor": "white",
            "linecolor": "white",
            "ticks": ""
           }
          },
          "scene": {
           "xaxis": {
            "backgroundcolor": "#E5ECF6",
            "gridcolor": "white",
            "gridwidth": 2,
            "linecolor": "white",
            "showbackground": true,
            "ticks": "",
            "zerolinecolor": "white"
           },
           "yaxis": {
            "backgroundcolor": "#E5ECF6",
            "gridcolor": "white",
            "gridwidth": 2,
            "linecolor": "white",
            "showbackground": true,
            "ticks": "",
            "zerolinecolor": "white"
           },
           "zaxis": {
            "backgroundcolor": "#E5ECF6",
            "gridcolor": "white",
            "gridwidth": 2,
            "linecolor": "white",
            "showbackground": true,
            "ticks": "",
            "zerolinecolor": "white"
           }
          },
          "shapedefaults": {
           "line": {
            "color": "#2a3f5f"
           }
          },
          "ternary": {
           "aaxis": {
            "gridcolor": "white",
            "linecolor": "white",
            "ticks": ""
           },
           "baxis": {
            "gridcolor": "white",
            "linecolor": "white",
            "ticks": ""
           },
           "bgcolor": "#E5ECF6",
           "caxis": {
            "gridcolor": "white",
            "linecolor": "white",
            "ticks": ""
           }
          },
          "title": {
           "x": 0.05
          },
          "xaxis": {
           "automargin": true,
           "gridcolor": "white",
           "linecolor": "white",
           "ticks": "",
           "title": {
            "standoff": 15
           },
           "zerolinecolor": "white",
           "zerolinewidth": 2
          },
          "yaxis": {
           "automargin": true,
           "gridcolor": "white",
           "linecolor": "white",
           "ticks": "",
           "title": {
            "standoff": 15
           },
           "zerolinecolor": "white",
           "zerolinewidth": 2
          }
         }
        },
        "title": {
         "text": "review_count"
        },
        "xaxis": {
         "anchor": "y",
         "domain": [
          0,
          1
         ],
         "title": {
          "text": "value"
         }
        },
        "xaxis2": {
         "anchor": "y2",
         "domain": [
          0,
          1
         ],
         "matches": "x",
         "showgrid": true,
         "showticklabels": false
        },
        "yaxis": {
         "anchor": "x",
         "domain": [
          0,
          0.7326
         ],
         "title": {
          "text": "count"
         }
        },
        "yaxis2": {
         "anchor": "x2",
         "domain": [
          0.7426,
          1
         ],
         "matches": "y2",
         "showgrid": false,
         "showline": false,
         "showticklabels": false,
         "ticks": ""
        }
       }
      }
     },
     "metadata": {},
     "output_type": "display_data"
    },
    {
     "data": {
      "application/vnd.plotly.v1+json": {
       "config": {
        "plotlyServerURL": "https://plot.ly"
       },
       "data": [
        {
         "alignmentgroup": "True",
         "bingroup": "x",
         "hovertemplate": "variable=no._of_employees<br>value=%{x}<br>count=%{y}<extra></extra>",
         "legendgroup": "no._of_employees",
         "marker": {
          "color": "#3F72AF",
          "pattern": {
           "shape": ""
          }
         },
         "name": "no._of_employees",
         "nbinsx": 6,
         "offsetgroup": "no._of_employees",
         "orientation": "v",
         "showlegend": true,
         "type": "histogram",
         "x": [
          5,
          5,
          5,
          5,
          5,
          5,
          5,
          5,
          5,
          5,
          5,
          4,
          4,
          4,
          5,
          4,
          5,
          3,
          5,
          5,
          2,
          3,
          5,
          4,
          5,
          3,
          3,
          3,
          3,
          3,
          3,
          4,
          3,
          5,
          3,
          3,
          3,
          3,
          3,
          4,
          4,
          3,
          3,
          3,
          4,
          3,
          3,
          3,
          3,
          2,
          3,
          3,
          3,
          3,
          3,
          3,
          4,
          3,
          5,
          3,
          3,
          3,
          3,
          5,
          5,
          1,
          3,
          3,
          3,
          1,
          3,
          3,
          4,
          3,
          3,
          3,
          3,
          3,
          3,
          3,
          3,
          3,
          3,
          3,
          3,
          2,
          3,
          2,
          4,
          3,
          3,
          2,
          5,
          3,
          2,
          3,
          2,
          3,
          2,
          3,
          2,
          3,
          3,
          3,
          3,
          2,
          3,
          3,
          3,
          3,
          3,
          2,
          3,
          3,
          3,
          2,
          3,
          3,
          3,
          3,
          2,
          0,
          3,
          1,
          3,
          2,
          3,
          1,
          3,
          3,
          3,
          1,
          3,
          3,
          3,
          3,
          5,
          1,
          2,
          4,
          3,
          3,
          3,
          2,
          3,
          2,
          2,
          1,
          3,
          3,
          3,
          2,
          1,
          1,
          3,
          2,
          3,
          3,
          2,
          3,
          2,
          2,
          1,
          3,
          1,
          2,
          3,
          3,
          2,
          2,
          3,
          3,
          1,
          2,
          1,
          3,
          3,
          1,
          3,
          3,
          2,
          2,
          3,
          3,
          2,
          3,
          2,
          2,
          3,
          3,
          3,
          3,
          3,
          3,
          2,
          5,
          2
         ],
         "xaxis": "x",
         "yaxis": "y"
        },
        {
         "alignmentgroup": "True",
         "boxpoints": "all",
         "fillcolor": "rgba(255,255,255,0)",
         "hoveron": "points",
         "hovertemplate": "variable=no._of_employees<br>value=%{x}<extra></extra>",
         "jitter": 0,
         "legendgroup": "no._of_employees",
         "line": {
          "color": "rgba(255,255,255,0)"
         },
         "marker": {
          "color": "#3F72AF",
          "symbol": "line-ns-open"
         },
         "name": "no._of_employees",
         "offsetgroup": "no._of_employees",
         "showlegend": false,
         "type": "box",
         "x": [
          5,
          5,
          5,
          5,
          5,
          5,
          5,
          5,
          5,
          5,
          5,
          4,
          4,
          4,
          5,
          4,
          5,
          3,
          5,
          5,
          2,
          3,
          5,
          4,
          5,
          3,
          3,
          3,
          3,
          3,
          3,
          4,
          3,
          5,
          3,
          3,
          3,
          3,
          3,
          4,
          4,
          3,
          3,
          3,
          4,
          3,
          3,
          3,
          3,
          2,
          3,
          3,
          3,
          3,
          3,
          3,
          4,
          3,
          5,
          3,
          3,
          3,
          3,
          5,
          5,
          1,
          3,
          3,
          3,
          1,
          3,
          3,
          4,
          3,
          3,
          3,
          3,
          3,
          3,
          3,
          3,
          3,
          3,
          3,
          3,
          2,
          3,
          2,
          4,
          3,
          3,
          2,
          5,
          3,
          2,
          3,
          2,
          3,
          2,
          3,
          2,
          3,
          3,
          3,
          3,
          2,
          3,
          3,
          3,
          3,
          3,
          2,
          3,
          3,
          3,
          2,
          3,
          3,
          3,
          3,
          2,
          0,
          3,
          1,
          3,
          2,
          3,
          1,
          3,
          3,
          3,
          1,
          3,
          3,
          3,
          3,
          5,
          1,
          2,
          4,
          3,
          3,
          3,
          2,
          3,
          2,
          2,
          1,
          3,
          3,
          3,
          2,
          1,
          1,
          3,
          2,
          3,
          3,
          2,
          3,
          2,
          2,
          1,
          3,
          1,
          2,
          3,
          3,
          2,
          2,
          3,
          3,
          1,
          2,
          1,
          3,
          3,
          1,
          3,
          3,
          2,
          2,
          3,
          3,
          2,
          3,
          2,
          2,
          3,
          3,
          3,
          3,
          3,
          3,
          2,
          5,
          2
         ],
         "xaxis": "x2",
         "yaxis": "y2"
        }
       ],
       "layout": {
        "bargap": 0.1,
        "barmode": "relative",
        "legend": {
         "title": {
          "text": "variable"
         },
         "tracegroupgap": 0
        },
        "margin": {
         "t": 60
        },
        "template": {
         "data": {
          "bar": [
           {
            "error_x": {
             "color": "#2a3f5f"
            },
            "error_y": {
             "color": "#2a3f5f"
            },
            "marker": {
             "line": {
              "color": "#E5ECF6",
              "width": 0.5
             },
             "pattern": {
              "fillmode": "overlay",
              "size": 10,
              "solidity": 0.2
             }
            },
            "type": "bar"
           }
          ],
          "barpolar": [
           {
            "marker": {
             "line": {
              "color": "#E5ECF6",
              "width": 0.5
             },
             "pattern": {
              "fillmode": "overlay",
              "size": 10,
              "solidity": 0.2
             }
            },
            "type": "barpolar"
           }
          ],
          "carpet": [
           {
            "aaxis": {
             "endlinecolor": "#2a3f5f",
             "gridcolor": "white",
             "linecolor": "white",
             "minorgridcolor": "white",
             "startlinecolor": "#2a3f5f"
            },
            "baxis": {
             "endlinecolor": "#2a3f5f",
             "gridcolor": "white",
             "linecolor": "white",
             "minorgridcolor": "white",
             "startlinecolor": "#2a3f5f"
            },
            "type": "carpet"
           }
          ],
          "choropleth": [
           {
            "colorbar": {
             "outlinewidth": 0,
             "ticks": ""
            },
            "type": "choropleth"
           }
          ],
          "contour": [
           {
            "colorbar": {
             "outlinewidth": 0,
             "ticks": ""
            },
            "colorscale": [
             [
              0,
              "#0d0887"
             ],
             [
              0.1111111111111111,
              "#46039f"
             ],
             [
              0.2222222222222222,
              "#7201a8"
             ],
             [
              0.3333333333333333,
              "#9c179e"
             ],
             [
              0.4444444444444444,
              "#bd3786"
             ],
             [
              0.5555555555555556,
              "#d8576b"
             ],
             [
              0.6666666666666666,
              "#ed7953"
             ],
             [
              0.7777777777777778,
              "#fb9f3a"
             ],
             [
              0.8888888888888888,
              "#fdca26"
             ],
             [
              1,
              "#f0f921"
             ]
            ],
            "type": "contour"
           }
          ],
          "contourcarpet": [
           {
            "colorbar": {
             "outlinewidth": 0,
             "ticks": ""
            },
            "type": "contourcarpet"
           }
          ],
          "heatmap": [
           {
            "colorbar": {
             "outlinewidth": 0,
             "ticks": ""
            },
            "colorscale": [
             [
              0,
              "#0d0887"
             ],
             [
              0.1111111111111111,
              "#46039f"
             ],
             [
              0.2222222222222222,
              "#7201a8"
             ],
             [
              0.3333333333333333,
              "#9c179e"
             ],
             [
              0.4444444444444444,
              "#bd3786"
             ],
             [
              0.5555555555555556,
              "#d8576b"
             ],
             [
              0.6666666666666666,
              "#ed7953"
             ],
             [
              0.7777777777777778,
              "#fb9f3a"
             ],
             [
              0.8888888888888888,
              "#fdca26"
             ],
             [
              1,
              "#f0f921"
             ]
            ],
            "type": "heatmap"
           }
          ],
          "heatmapgl": [
           {
            "colorbar": {
             "outlinewidth": 0,
             "ticks": ""
            },
            "colorscale": [
             [
              0,
              "#0d0887"
             ],
             [
              0.1111111111111111,
              "#46039f"
             ],
             [
              0.2222222222222222,
              "#7201a8"
             ],
             [
              0.3333333333333333,
              "#9c179e"
             ],
             [
              0.4444444444444444,
              "#bd3786"
             ],
             [
              0.5555555555555556,
              "#d8576b"
             ],
             [
              0.6666666666666666,
              "#ed7953"
             ],
             [
              0.7777777777777778,
              "#fb9f3a"
             ],
             [
              0.8888888888888888,
              "#fdca26"
             ],
             [
              1,
              "#f0f921"
             ]
            ],
            "type": "heatmapgl"
           }
          ],
          "histogram": [
           {
            "marker": {
             "pattern": {
              "fillmode": "overlay",
              "size": 10,
              "solidity": 0.2
             }
            },
            "type": "histogram"
           }
          ],
          "histogram2d": [
           {
            "colorbar": {
             "outlinewidth": 0,
             "ticks": ""
            },
            "colorscale": [
             [
              0,
              "#0d0887"
             ],
             [
              0.1111111111111111,
              "#46039f"
             ],
             [
              0.2222222222222222,
              "#7201a8"
             ],
             [
              0.3333333333333333,
              "#9c179e"
             ],
             [
              0.4444444444444444,
              "#bd3786"
             ],
             [
              0.5555555555555556,
              "#d8576b"
             ],
             [
              0.6666666666666666,
              "#ed7953"
             ],
             [
              0.7777777777777778,
              "#fb9f3a"
             ],
             [
              0.8888888888888888,
              "#fdca26"
             ],
             [
              1,
              "#f0f921"
             ]
            ],
            "type": "histogram2d"
           }
          ],
          "histogram2dcontour": [
           {
            "colorbar": {
             "outlinewidth": 0,
             "ticks": ""
            },
            "colorscale": [
             [
              0,
              "#0d0887"
             ],
             [
              0.1111111111111111,
              "#46039f"
             ],
             [
              0.2222222222222222,
              "#7201a8"
             ],
             [
              0.3333333333333333,
              "#9c179e"
             ],
             [
              0.4444444444444444,
              "#bd3786"
             ],
             [
              0.5555555555555556,
              "#d8576b"
             ],
             [
              0.6666666666666666,
              "#ed7953"
             ],
             [
              0.7777777777777778,
              "#fb9f3a"
             ],
             [
              0.8888888888888888,
              "#fdca26"
             ],
             [
              1,
              "#f0f921"
             ]
            ],
            "type": "histogram2dcontour"
           }
          ],
          "mesh3d": [
           {
            "colorbar": {
             "outlinewidth": 0,
             "ticks": ""
            },
            "type": "mesh3d"
           }
          ],
          "parcoords": [
           {
            "line": {
             "colorbar": {
              "outlinewidth": 0,
              "ticks": ""
             }
            },
            "type": "parcoords"
           }
          ],
          "pie": [
           {
            "automargin": true,
            "type": "pie"
           }
          ],
          "scatter": [
           {
            "fillpattern": {
             "fillmode": "overlay",
             "size": 10,
             "solidity": 0.2
            },
            "type": "scatter"
           }
          ],
          "scatter3d": [
           {
            "line": {
             "colorbar": {
              "outlinewidth": 0,
              "ticks": ""
             }
            },
            "marker": {
             "colorbar": {
              "outlinewidth": 0,
              "ticks": ""
             }
            },
            "type": "scatter3d"
           }
          ],
          "scattercarpet": [
           {
            "marker": {
             "colorbar": {
              "outlinewidth": 0,
              "ticks": ""
             }
            },
            "type": "scattercarpet"
           }
          ],
          "scattergeo": [
           {
            "marker": {
             "colorbar": {
              "outlinewidth": 0,
              "ticks": ""
             }
            },
            "type": "scattergeo"
           }
          ],
          "scattergl": [
           {
            "marker": {
             "colorbar": {
              "outlinewidth": 0,
              "ticks": ""
             }
            },
            "type": "scattergl"
           }
          ],
          "scattermapbox": [
           {
            "marker": {
             "colorbar": {
              "outlinewidth": 0,
              "ticks": ""
             }
            },
            "type": "scattermapbox"
           }
          ],
          "scatterpolar": [
           {
            "marker": {
             "colorbar": {
              "outlinewidth": 0,
              "ticks": ""
             }
            },
            "type": "scatterpolar"
           }
          ],
          "scatterpolargl": [
           {
            "marker": {
             "colorbar": {
              "outlinewidth": 0,
              "ticks": ""
             }
            },
            "type": "scatterpolargl"
           }
          ],
          "scatterternary": [
           {
            "marker": {
             "colorbar": {
              "outlinewidth": 0,
              "ticks": ""
             }
            },
            "type": "scatterternary"
           }
          ],
          "surface": [
           {
            "colorbar": {
             "outlinewidth": 0,
             "ticks": ""
            },
            "colorscale": [
             [
              0,
              "#0d0887"
             ],
             [
              0.1111111111111111,
              "#46039f"
             ],
             [
              0.2222222222222222,
              "#7201a8"
             ],
             [
              0.3333333333333333,
              "#9c179e"
             ],
             [
              0.4444444444444444,
              "#bd3786"
             ],
             [
              0.5555555555555556,
              "#d8576b"
             ],
             [
              0.6666666666666666,
              "#ed7953"
             ],
             [
              0.7777777777777778,
              "#fb9f3a"
             ],
             [
              0.8888888888888888,
              "#fdca26"
             ],
             [
              1,
              "#f0f921"
             ]
            ],
            "type": "surface"
           }
          ],
          "table": [
           {
            "cells": {
             "fill": {
              "color": "#EBF0F8"
             },
             "line": {
              "color": "white"
             }
            },
            "header": {
             "fill": {
              "color": "#C8D4E3"
             },
             "line": {
              "color": "white"
             }
            },
            "type": "table"
           }
          ]
         },
         "layout": {
          "annotationdefaults": {
           "arrowcolor": "#2a3f5f",
           "arrowhead": 0,
           "arrowwidth": 1
          },
          "autotypenumbers": "strict",
          "coloraxis": {
           "colorbar": {
            "outlinewidth": 0,
            "ticks": ""
           }
          },
          "colorscale": {
           "diverging": [
            [
             0,
             "#8e0152"
            ],
            [
             0.1,
             "#c51b7d"
            ],
            [
             0.2,
             "#de77ae"
            ],
            [
             0.3,
             "#f1b6da"
            ],
            [
             0.4,
             "#fde0ef"
            ],
            [
             0.5,
             "#f7f7f7"
            ],
            [
             0.6,
             "#e6f5d0"
            ],
            [
             0.7,
             "#b8e186"
            ],
            [
             0.8,
             "#7fbc41"
            ],
            [
             0.9,
             "#4d9221"
            ],
            [
             1,
             "#276419"
            ]
           ],
           "sequential": [
            [
             0,
             "#0d0887"
            ],
            [
             0.1111111111111111,
             "#46039f"
            ],
            [
             0.2222222222222222,
             "#7201a8"
            ],
            [
             0.3333333333333333,
             "#9c179e"
            ],
            [
             0.4444444444444444,
             "#bd3786"
            ],
            [
             0.5555555555555556,
             "#d8576b"
            ],
            [
             0.6666666666666666,
             "#ed7953"
            ],
            [
             0.7777777777777778,
             "#fb9f3a"
            ],
            [
             0.8888888888888888,
             "#fdca26"
            ],
            [
             1,
             "#f0f921"
            ]
           ],
           "sequentialminus": [
            [
             0,
             "#0d0887"
            ],
            [
             0.1111111111111111,
             "#46039f"
            ],
            [
             0.2222222222222222,
             "#7201a8"
            ],
            [
             0.3333333333333333,
             "#9c179e"
            ],
            [
             0.4444444444444444,
             "#bd3786"
            ],
            [
             0.5555555555555556,
             "#d8576b"
            ],
            [
             0.6666666666666666,
             "#ed7953"
            ],
            [
             0.7777777777777778,
             "#fb9f3a"
            ],
            [
             0.8888888888888888,
             "#fdca26"
            ],
            [
             1,
             "#f0f921"
            ]
           ]
          },
          "colorway": [
           "#636efa",
           "#EF553B",
           "#00cc96",
           "#ab63fa",
           "#FFA15A",
           "#19d3f3",
           "#FF6692",
           "#B6E880",
           "#FF97FF",
           "#FECB52"
          ],
          "font": {
           "color": "#2a3f5f"
          },
          "geo": {
           "bgcolor": "white",
           "lakecolor": "white",
           "landcolor": "#E5ECF6",
           "showlakes": true,
           "showland": true,
           "subunitcolor": "white"
          },
          "hoverlabel": {
           "align": "left"
          },
          "hovermode": "closest",
          "mapbox": {
           "style": "light"
          },
          "paper_bgcolor": "white",
          "plot_bgcolor": "#E5ECF6",
          "polar": {
           "angularaxis": {
            "gridcolor": "white",
            "linecolor": "white",
            "ticks": ""
           },
           "bgcolor": "#E5ECF6",
           "radialaxis": {
            "gridcolor": "white",
            "linecolor": "white",
            "ticks": ""
           }
          },
          "scene": {
           "xaxis": {
            "backgroundcolor": "#E5ECF6",
            "gridcolor": "white",
            "gridwidth": 2,
            "linecolor": "white",
            "showbackground": true,
            "ticks": "",
            "zerolinecolor": "white"
           },
           "yaxis": {
            "backgroundcolor": "#E5ECF6",
            "gridcolor": "white",
            "gridwidth": 2,
            "linecolor": "white",
            "showbackground": true,
            "ticks": "",
            "zerolinecolor": "white"
           },
           "zaxis": {
            "backgroundcolor": "#E5ECF6",
            "gridcolor": "white",
            "gridwidth": 2,
            "linecolor": "white",
            "showbackground": true,
            "ticks": "",
            "zerolinecolor": "white"
           }
          },
          "shapedefaults": {
           "line": {
            "color": "#2a3f5f"
           }
          },
          "ternary": {
           "aaxis": {
            "gridcolor": "white",
            "linecolor": "white",
            "ticks": ""
           },
           "baxis": {
            "gridcolor": "white",
            "linecolor": "white",
            "ticks": ""
           },
           "bgcolor": "#E5ECF6",
           "caxis": {
            "gridcolor": "white",
            "linecolor": "white",
            "ticks": ""
           }
          },
          "title": {
           "x": 0.05
          },
          "xaxis": {
           "automargin": true,
           "gridcolor": "white",
           "linecolor": "white",
           "ticks": "",
           "title": {
            "standoff": 15
           },
           "zerolinecolor": "white",
           "zerolinewidth": 2
          },
          "yaxis": {
           "automargin": true,
           "gridcolor": "white",
           "linecolor": "white",
           "ticks": "",
           "title": {
            "standoff": 15
           },
           "zerolinecolor": "white",
           "zerolinewidth": 2
          }
         }
        },
        "title": {
         "text": "no._of_employees"
        },
        "xaxis": {
         "anchor": "y",
         "domain": [
          0,
          1
         ],
         "title": {
          "text": "value"
         }
        },
        "xaxis2": {
         "anchor": "y2",
         "domain": [
          0,
          1
         ],
         "matches": "x",
         "showgrid": true,
         "showticklabels": false
        },
        "yaxis": {
         "anchor": "x",
         "domain": [
          0,
          0.7326
         ],
         "title": {
          "text": "count"
         }
        },
        "yaxis2": {
         "anchor": "x2",
         "domain": [
          0.7426,
          1
         ],
         "matches": "y2",
         "showgrid": false,
         "showline": false,
         "showticklabels": false,
         "ticks": ""
        }
       }
      }
     },
     "metadata": {},
     "output_type": "display_data"
    },
    {
     "data": {
      "application/vnd.plotly.v1+json": {
       "config": {
        "plotlyServerURL": "https://plot.ly"
       },
       "data": [
        {
         "alignmentgroup": "True",
         "bingroup": "x",
         "hovertemplate": "variable=company_age<br>value=%{x}<br>count=%{y}<extra></extra>",
         "legendgroup": "company_age",
         "marker": {
          "color": "#3F72AF",
          "pattern": {
           "shape": ""
          }
         },
         "name": "company_age",
         "nbinsx": 85,
         "offsetgroup": "company_age",
         "orientation": "v",
         "showlegend": true,
         "type": "histogram",
         "x": [
          56,
          35,
          30,
          79,
          30,
          30,
          43,
          57,
          33,
          38,
          27,
          31,
          41,
          46,
          30,
          17,
          113,
          86,
          18,
          17,
          6,
          13,
          179,
          21,
          47,
          29,
          24,
          79,
          17,
          28,
          30,
          22,
          28,
          79,
          22,
          7,
          6,
          22,
          24,
          25,
          17,
          26,
          144,
          22,
          86,
          24,
          7,
          148,
          43,
          82,
          20,
          89,
          40,
          38,
          41,
          25,
          23,
          14,
          117,
          24,
          18,
          37,
          56,
          129,
          48,
          8,
          28,
          49,
          72,
          17,
          172,
          13,
          24,
          152,
          56,
          null,
          29,
          42,
          34,
          41,
          7,
          24,
          85,
          38,
          12,
          159,
          37,
          45,
          47,
          20,
          24,
          80,
          null,
          45,
          76,
          41,
          177,
          27,
          15,
          21,
          35,
          23,
          28,
          33,
          9,
          40,
          23,
          33,
          24,
          23,
          13,
          28,
          28,
          57,
          17,
          45,
          75,
          24,
          23,
          28,
          44,
          22,
          42,
          62,
          34,
          138,
          17,
          15,
          46,
          20,
          25,
          11,
          42,
          178,
          12,
          118,
          218,
          41,
          10,
          12,
          40,
          11,
          23,
          79,
          47,
          26,
          79,
          4,
          137,
          9,
          63,
          123,
          28,
          38,
          30,
          38,
          66,
          24,
          23,
          127,
          29,
          32,
          58,
          34,
          31,
          41,
          154,
          38,
          6,
          9,
          33,
          16,
          39,
          121,
          8,
          16,
          65,
          75,
          174,
          48,
          17,
          70,
          55,
          47,
          17,
          117,
          13,
          65,
          51,
          66,
          34,
          23,
          27,
          24,
          94,
          92,
          36
         ],
         "xaxis": "x",
         "yaxis": "y"
        },
        {
         "alignmentgroup": "True",
         "boxpoints": "all",
         "fillcolor": "rgba(255,255,255,0)",
         "hoveron": "points",
         "hovertemplate": "variable=company_age<br>value=%{x}<extra></extra>",
         "jitter": 0,
         "legendgroup": "company_age",
         "line": {
          "color": "rgba(255,255,255,0)"
         },
         "marker": {
          "color": "#3F72AF",
          "symbol": "line-ns-open"
         },
         "name": "company_age",
         "offsetgroup": "company_age",
         "showlegend": false,
         "type": "box",
         "x": [
          56,
          35,
          30,
          79,
          30,
          30,
          43,
          57,
          33,
          38,
          27,
          31,
          41,
          46,
          30,
          17,
          113,
          86,
          18,
          17,
          6,
          13,
          179,
          21,
          47,
          29,
          24,
          79,
          17,
          28,
          30,
          22,
          28,
          79,
          22,
          7,
          6,
          22,
          24,
          25,
          17,
          26,
          144,
          22,
          86,
          24,
          7,
          148,
          43,
          82,
          20,
          89,
          40,
          38,
          41,
          25,
          23,
          14,
          117,
          24,
          18,
          37,
          56,
          129,
          48,
          8,
          28,
          49,
          72,
          17,
          172,
          13,
          24,
          152,
          56,
          null,
          29,
          42,
          34,
          41,
          7,
          24,
          85,
          38,
          12,
          159,
          37,
          45,
          47,
          20,
          24,
          80,
          null,
          45,
          76,
          41,
          177,
          27,
          15,
          21,
          35,
          23,
          28,
          33,
          9,
          40,
          23,
          33,
          24,
          23,
          13,
          28,
          28,
          57,
          17,
          45,
          75,
          24,
          23,
          28,
          44,
          22,
          42,
          62,
          34,
          138,
          17,
          15,
          46,
          20,
          25,
          11,
          42,
          178,
          12,
          118,
          218,
          41,
          10,
          12,
          40,
          11,
          23,
          79,
          47,
          26,
          79,
          4,
          137,
          9,
          63,
          123,
          28,
          38,
          30,
          38,
          66,
          24,
          23,
          127,
          29,
          32,
          58,
          34,
          31,
          41,
          154,
          38,
          6,
          9,
          33,
          16,
          39,
          121,
          8,
          16,
          65,
          75,
          174,
          48,
          17,
          70,
          55,
          47,
          17,
          117,
          13,
          65,
          51,
          66,
          34,
          23,
          27,
          24,
          94,
          92,
          36
         ],
         "xaxis": "x2",
         "yaxis": "y2"
        }
       ],
       "layout": {
        "bargap": 0.1,
        "barmode": "relative",
        "legend": {
         "title": {
          "text": "variable"
         },
         "tracegroupgap": 0
        },
        "margin": {
         "t": 60
        },
        "template": {
         "data": {
          "bar": [
           {
            "error_x": {
             "color": "#2a3f5f"
            },
            "error_y": {
             "color": "#2a3f5f"
            },
            "marker": {
             "line": {
              "color": "#E5ECF6",
              "width": 0.5
             },
             "pattern": {
              "fillmode": "overlay",
              "size": 10,
              "solidity": 0.2
             }
            },
            "type": "bar"
           }
          ],
          "barpolar": [
           {
            "marker": {
             "line": {
              "color": "#E5ECF6",
              "width": 0.5
             },
             "pattern": {
              "fillmode": "overlay",
              "size": 10,
              "solidity": 0.2
             }
            },
            "type": "barpolar"
           }
          ],
          "carpet": [
           {
            "aaxis": {
             "endlinecolor": "#2a3f5f",
             "gridcolor": "white",
             "linecolor": "white",
             "minorgridcolor": "white",
             "startlinecolor": "#2a3f5f"
            },
            "baxis": {
             "endlinecolor": "#2a3f5f",
             "gridcolor": "white",
             "linecolor": "white",
             "minorgridcolor": "white",
             "startlinecolor": "#2a3f5f"
            },
            "type": "carpet"
           }
          ],
          "choropleth": [
           {
            "colorbar": {
             "outlinewidth": 0,
             "ticks": ""
            },
            "type": "choropleth"
           }
          ],
          "contour": [
           {
            "colorbar": {
             "outlinewidth": 0,
             "ticks": ""
            },
            "colorscale": [
             [
              0,
              "#0d0887"
             ],
             [
              0.1111111111111111,
              "#46039f"
             ],
             [
              0.2222222222222222,
              "#7201a8"
             ],
             [
              0.3333333333333333,
              "#9c179e"
             ],
             [
              0.4444444444444444,
              "#bd3786"
             ],
             [
              0.5555555555555556,
              "#d8576b"
             ],
             [
              0.6666666666666666,
              "#ed7953"
             ],
             [
              0.7777777777777778,
              "#fb9f3a"
             ],
             [
              0.8888888888888888,
              "#fdca26"
             ],
             [
              1,
              "#f0f921"
             ]
            ],
            "type": "contour"
           }
          ],
          "contourcarpet": [
           {
            "colorbar": {
             "outlinewidth": 0,
             "ticks": ""
            },
            "type": "contourcarpet"
           }
          ],
          "heatmap": [
           {
            "colorbar": {
             "outlinewidth": 0,
             "ticks": ""
            },
            "colorscale": [
             [
              0,
              "#0d0887"
             ],
             [
              0.1111111111111111,
              "#46039f"
             ],
             [
              0.2222222222222222,
              "#7201a8"
             ],
             [
              0.3333333333333333,
              "#9c179e"
             ],
             [
              0.4444444444444444,
              "#bd3786"
             ],
             [
              0.5555555555555556,
              "#d8576b"
             ],
             [
              0.6666666666666666,
              "#ed7953"
             ],
             [
              0.7777777777777778,
              "#fb9f3a"
             ],
             [
              0.8888888888888888,
              "#fdca26"
             ],
             [
              1,
              "#f0f921"
             ]
            ],
            "type": "heatmap"
           }
          ],
          "heatmapgl": [
           {
            "colorbar": {
             "outlinewidth": 0,
             "ticks": ""
            },
            "colorscale": [
             [
              0,
              "#0d0887"
             ],
             [
              0.1111111111111111,
              "#46039f"
             ],
             [
              0.2222222222222222,
              "#7201a8"
             ],
             [
              0.3333333333333333,
              "#9c179e"
             ],
             [
              0.4444444444444444,
              "#bd3786"
             ],
             [
              0.5555555555555556,
              "#d8576b"
             ],
             [
              0.6666666666666666,
              "#ed7953"
             ],
             [
              0.7777777777777778,
              "#fb9f3a"
             ],
             [
              0.8888888888888888,
              "#fdca26"
             ],
             [
              1,
              "#f0f921"
             ]
            ],
            "type": "heatmapgl"
           }
          ],
          "histogram": [
           {
            "marker": {
             "pattern": {
              "fillmode": "overlay",
              "size": 10,
              "solidity": 0.2
             }
            },
            "type": "histogram"
           }
          ],
          "histogram2d": [
           {
            "colorbar": {
             "outlinewidth": 0,
             "ticks": ""
            },
            "colorscale": [
             [
              0,
              "#0d0887"
             ],
             [
              0.1111111111111111,
              "#46039f"
             ],
             [
              0.2222222222222222,
              "#7201a8"
             ],
             [
              0.3333333333333333,
              "#9c179e"
             ],
             [
              0.4444444444444444,
              "#bd3786"
             ],
             [
              0.5555555555555556,
              "#d8576b"
             ],
             [
              0.6666666666666666,
              "#ed7953"
             ],
             [
              0.7777777777777778,
              "#fb9f3a"
             ],
             [
              0.8888888888888888,
              "#fdca26"
             ],
             [
              1,
              "#f0f921"
             ]
            ],
            "type": "histogram2d"
           }
          ],
          "histogram2dcontour": [
           {
            "colorbar": {
             "outlinewidth": 0,
             "ticks": ""
            },
            "colorscale": [
             [
              0,
              "#0d0887"
             ],
             [
              0.1111111111111111,
              "#46039f"
             ],
             [
              0.2222222222222222,
              "#7201a8"
             ],
             [
              0.3333333333333333,
              "#9c179e"
             ],
             [
              0.4444444444444444,
              "#bd3786"
             ],
             [
              0.5555555555555556,
              "#d8576b"
             ],
             [
              0.6666666666666666,
              "#ed7953"
             ],
             [
              0.7777777777777778,
              "#fb9f3a"
             ],
             [
              0.8888888888888888,
              "#fdca26"
             ],
             [
              1,
              "#f0f921"
             ]
            ],
            "type": "histogram2dcontour"
           }
          ],
          "mesh3d": [
           {
            "colorbar": {
             "outlinewidth": 0,
             "ticks": ""
            },
            "type": "mesh3d"
           }
          ],
          "parcoords": [
           {
            "line": {
             "colorbar": {
              "outlinewidth": 0,
              "ticks": ""
             }
            },
            "type": "parcoords"
           }
          ],
          "pie": [
           {
            "automargin": true,
            "type": "pie"
           }
          ],
          "scatter": [
           {
            "fillpattern": {
             "fillmode": "overlay",
             "size": 10,
             "solidity": 0.2
            },
            "type": "scatter"
           }
          ],
          "scatter3d": [
           {
            "line": {
             "colorbar": {
              "outlinewidth": 0,
              "ticks": ""
             }
            },
            "marker": {
             "colorbar": {
              "outlinewidth": 0,
              "ticks": ""
             }
            },
            "type": "scatter3d"
           }
          ],
          "scattercarpet": [
           {
            "marker": {
             "colorbar": {
              "outlinewidth": 0,
              "ticks": ""
             }
            },
            "type": "scattercarpet"
           }
          ],
          "scattergeo": [
           {
            "marker": {
             "colorbar": {
              "outlinewidth": 0,
              "ticks": ""
             }
            },
            "type": "scattergeo"
           }
          ],
          "scattergl": [
           {
            "marker": {
             "colorbar": {
              "outlinewidth": 0,
              "ticks": ""
             }
            },
            "type": "scattergl"
           }
          ],
          "scattermapbox": [
           {
            "marker": {
             "colorbar": {
              "outlinewidth": 0,
              "ticks": ""
             }
            },
            "type": "scattermapbox"
           }
          ],
          "scatterpolar": [
           {
            "marker": {
             "colorbar": {
              "outlinewidth": 0,
              "ticks": ""
             }
            },
            "type": "scatterpolar"
           }
          ],
          "scatterpolargl": [
           {
            "marker": {
             "colorbar": {
              "outlinewidth": 0,
              "ticks": ""
             }
            },
            "type": "scatterpolargl"
           }
          ],
          "scatterternary": [
           {
            "marker": {
             "colorbar": {
              "outlinewidth": 0,
              "ticks": ""
             }
            },
            "type": "scatterternary"
           }
          ],
          "surface": [
           {
            "colorbar": {
             "outlinewidth": 0,
             "ticks": ""
            },
            "colorscale": [
             [
              0,
              "#0d0887"
             ],
             [
              0.1111111111111111,
              "#46039f"
             ],
             [
              0.2222222222222222,
              "#7201a8"
             ],
             [
              0.3333333333333333,
              "#9c179e"
             ],
             [
              0.4444444444444444,
              "#bd3786"
             ],
             [
              0.5555555555555556,
              "#d8576b"
             ],
             [
              0.6666666666666666,
              "#ed7953"
             ],
             [
              0.7777777777777778,
              "#fb9f3a"
             ],
             [
              0.8888888888888888,
              "#fdca26"
             ],
             [
              1,
              "#f0f921"
             ]
            ],
            "type": "surface"
           }
          ],
          "table": [
           {
            "cells": {
             "fill": {
              "color": "#EBF0F8"
             },
             "line": {
              "color": "white"
             }
            },
            "header": {
             "fill": {
              "color": "#C8D4E3"
             },
             "line": {
              "color": "white"
             }
            },
            "type": "table"
           }
          ]
         },
         "layout": {
          "annotationdefaults": {
           "arrowcolor": "#2a3f5f",
           "arrowhead": 0,
           "arrowwidth": 1
          },
          "autotypenumbers": "strict",
          "coloraxis": {
           "colorbar": {
            "outlinewidth": 0,
            "ticks": ""
           }
          },
          "colorscale": {
           "diverging": [
            [
             0,
             "#8e0152"
            ],
            [
             0.1,
             "#c51b7d"
            ],
            [
             0.2,
             "#de77ae"
            ],
            [
             0.3,
             "#f1b6da"
            ],
            [
             0.4,
             "#fde0ef"
            ],
            [
             0.5,
             "#f7f7f7"
            ],
            [
             0.6,
             "#e6f5d0"
            ],
            [
             0.7,
             "#b8e186"
            ],
            [
             0.8,
             "#7fbc41"
            ],
            [
             0.9,
             "#4d9221"
            ],
            [
             1,
             "#276419"
            ]
           ],
           "sequential": [
            [
             0,
             "#0d0887"
            ],
            [
             0.1111111111111111,
             "#46039f"
            ],
            [
             0.2222222222222222,
             "#7201a8"
            ],
            [
             0.3333333333333333,
             "#9c179e"
            ],
            [
             0.4444444444444444,
             "#bd3786"
            ],
            [
             0.5555555555555556,
             "#d8576b"
            ],
            [
             0.6666666666666666,
             "#ed7953"
            ],
            [
             0.7777777777777778,
             "#fb9f3a"
            ],
            [
             0.8888888888888888,
             "#fdca26"
            ],
            [
             1,
             "#f0f921"
            ]
           ],
           "sequentialminus": [
            [
             0,
             "#0d0887"
            ],
            [
             0.1111111111111111,
             "#46039f"
            ],
            [
             0.2222222222222222,
             "#7201a8"
            ],
            [
             0.3333333333333333,
             "#9c179e"
            ],
            [
             0.4444444444444444,
             "#bd3786"
            ],
            [
             0.5555555555555556,
             "#d8576b"
            ],
            [
             0.6666666666666666,
             "#ed7953"
            ],
            [
             0.7777777777777778,
             "#fb9f3a"
            ],
            [
             0.8888888888888888,
             "#fdca26"
            ],
            [
             1,
             "#f0f921"
            ]
           ]
          },
          "colorway": [
           "#636efa",
           "#EF553B",
           "#00cc96",
           "#ab63fa",
           "#FFA15A",
           "#19d3f3",
           "#FF6692",
           "#B6E880",
           "#FF97FF",
           "#FECB52"
          ],
          "font": {
           "color": "#2a3f5f"
          },
          "geo": {
           "bgcolor": "white",
           "lakecolor": "white",
           "landcolor": "#E5ECF6",
           "showlakes": true,
           "showland": true,
           "subunitcolor": "white"
          },
          "hoverlabel": {
           "align": "left"
          },
          "hovermode": "closest",
          "mapbox": {
           "style": "light"
          },
          "paper_bgcolor": "white",
          "plot_bgcolor": "#E5ECF6",
          "polar": {
           "angularaxis": {
            "gridcolor": "white",
            "linecolor": "white",
            "ticks": ""
           },
           "bgcolor": "#E5ECF6",
           "radialaxis": {
            "gridcolor": "white",
            "linecolor": "white",
            "ticks": ""
           }
          },
          "scene": {
           "xaxis": {
            "backgroundcolor": "#E5ECF6",
            "gridcolor": "white",
            "gridwidth": 2,
            "linecolor": "white",
            "showbackground": true,
            "ticks": "",
            "zerolinecolor": "white"
           },
           "yaxis": {
            "backgroundcolor": "#E5ECF6",
            "gridcolor": "white",
            "gridwidth": 2,
            "linecolor": "white",
            "showbackground": true,
            "ticks": "",
            "zerolinecolor": "white"
           },
           "zaxis": {
            "backgroundcolor": "#E5ECF6",
            "gridcolor": "white",
            "gridwidth": 2,
            "linecolor": "white",
            "showbackground": true,
            "ticks": "",
            "zerolinecolor": "white"
           }
          },
          "shapedefaults": {
           "line": {
            "color": "#2a3f5f"
           }
          },
          "ternary": {
           "aaxis": {
            "gridcolor": "white",
            "linecolor": "white",
            "ticks": ""
           },
           "baxis": {
            "gridcolor": "white",
            "linecolor": "white",
            "ticks": ""
           },
           "bgcolor": "#E5ECF6",
           "caxis": {
            "gridcolor": "white",
            "linecolor": "white",
            "ticks": ""
           }
          },
          "title": {
           "x": 0.05
          },
          "xaxis": {
           "automargin": true,
           "gridcolor": "white",
           "linecolor": "white",
           "ticks": "",
           "title": {
            "standoff": 15
           },
           "zerolinecolor": "white",
           "zerolinewidth": 2
          },
          "yaxis": {
           "automargin": true,
           "gridcolor": "white",
           "linecolor": "white",
           "ticks": "",
           "title": {
            "standoff": 15
           },
           "zerolinecolor": "white",
           "zerolinewidth": 2
          }
         }
        },
        "title": {
         "text": "company_age"
        },
        "xaxis": {
         "anchor": "y",
         "domain": [
          0,
          1
         ],
         "title": {
          "text": "value"
         }
        },
        "xaxis2": {
         "anchor": "y2",
         "domain": [
          0,
          1
         ],
         "matches": "x",
         "showgrid": true,
         "showticklabels": false
        },
        "yaxis": {
         "anchor": "x",
         "domain": [
          0,
          0.7326
         ],
         "title": {
          "text": "count"
         }
        },
        "yaxis2": {
         "anchor": "x2",
         "domain": [
          0.7426,
          1
         ],
         "matches": "y2",
         "showgrid": false,
         "showline": false,
         "showticklabels": false,
         "ticks": ""
        }
       }
      }
     },
     "metadata": {},
     "output_type": "display_data"
    },
    {
     "data": {
      "application/vnd.plotly.v1+json": {
       "config": {
        "plotlyServerURL": "https://plot.ly"
       },
       "data": [
        {
         "alignmentgroup": "True",
         "bingroup": "x",
         "hovertemplate": "variable=company_headquarters<br>value=%{x}<br>count=%{y}<extra></extra>",
         "legendgroup": "company_headquarters",
         "marker": {
          "color": "#3F72AF",
          "pattern": {
           "shape": ""
          }
         },
         "name": "company_headquarters",
         "nbinsx": 167,
         "offsetgroup": "company_headquarters",
         "orientation": "v",
         "showlegend": true,
         "type": "histogram",
         "x": [
          335,
          166,
          153,
          268,
          1513,
          1264,
          169,
          122,
          178,
          258,
          105,
          1284,
          108,
          172,
          431,
          1164,
          143,
          628,
          977,
          936,
          632,
          302,
          153,
          560,
          656,
          642,
          25,
          453,
          526,
          33,
          673,
          96,
          399,
          476,
          65,
          80,
          567,
          216,
          543,
          49,
          854,
          47,
          90,
          57,
          500,
          98,
          68,
          146,
          373,
          419,
          432,
          227,
          155,
          53,
          424,
          44,
          737,
          305,
          166,
          445,
          345,
          754,
          162,
          320,
          72,
          342,
          81,
          302,
          146,
          506,
          20,
          609,
          32,
          416,
          45,
          71,
          650,
          137,
          41,
          194,
          435,
          385,
          619,
          89,
          114,
          157,
          76,
          233,
          45,
          367,
          17,
          336,
          41,
          770,
          205,
          180,
          126,
          68,
          372,
          43,
          289,
          52,
          176,
          633,
          97,
          309,
          494,
          34,
          207,
          257,
          112,
          135,
          36,
          271,
          363,
          271,
          487,
          32,
          36,
          39,
          22,
          423,
          41,
          103,
          28,
          97,
          479,
          556,
          626,
          14,
          108,
          117,
          15,
          18,
          46,
          69,
          473,
          88,
          177,
          610,
          98,
          201,
          516,
          244,
          28,
          218,
          264,
          322,
          529,
          222,
          70,
          300,
          206,
          75,
          468,
          89,
          245,
          112,
          117,
          129,
          275,
          257,
          175,
          31,
          44,
          175,
          37,
          96,
          50,
          148,
          170,
          129,
          56,
          110,
          301,
          125,
          251,
          23,
          44,
          23,
          224,
          45,
          57,
          15,
          31,
          146,
          30,
          228,
          156,
          84,
          24,
          311,
          38,
          51,
          303,
          109,
          202
         ],
         "xaxis": "x",
         "yaxis": "y"
        },
        {
         "alignmentgroup": "True",
         "boxpoints": "all",
         "fillcolor": "rgba(255,255,255,0)",
         "hoveron": "points",
         "hovertemplate": "variable=company_headquarters<br>value=%{x}<extra></extra>",
         "jitter": 0,
         "legendgroup": "company_headquarters",
         "line": {
          "color": "rgba(255,255,255,0)"
         },
         "marker": {
          "color": "#3F72AF",
          "symbol": "line-ns-open"
         },
         "name": "company_headquarters",
         "offsetgroup": "company_headquarters",
         "showlegend": false,
         "type": "box",
         "x": [
          335,
          166,
          153,
          268,
          1513,
          1264,
          169,
          122,
          178,
          258,
          105,
          1284,
          108,
          172,
          431,
          1164,
          143,
          628,
          977,
          936,
          632,
          302,
          153,
          560,
          656,
          642,
          25,
          453,
          526,
          33,
          673,
          96,
          399,
          476,
          65,
          80,
          567,
          216,
          543,
          49,
          854,
          47,
          90,
          57,
          500,
          98,
          68,
          146,
          373,
          419,
          432,
          227,
          155,
          53,
          424,
          44,
          737,
          305,
          166,
          445,
          345,
          754,
          162,
          320,
          72,
          342,
          81,
          302,
          146,
          506,
          20,
          609,
          32,
          416,
          45,
          71,
          650,
          137,
          41,
          194,
          435,
          385,
          619,
          89,
          114,
          157,
          76,
          233,
          45,
          367,
          17,
          336,
          41,
          770,
          205,
          180,
          126,
          68,
          372,
          43,
          289,
          52,
          176,
          633,
          97,
          309,
          494,
          34,
          207,
          257,
          112,
          135,
          36,
          271,
          363,
          271,
          487,
          32,
          36,
          39,
          22,
          423,
          41,
          103,
          28,
          97,
          479,
          556,
          626,
          14,
          108,
          117,
          15,
          18,
          46,
          69,
          473,
          88,
          177,
          610,
          98,
          201,
          516,
          244,
          28,
          218,
          264,
          322,
          529,
          222,
          70,
          300,
          206,
          75,
          468,
          89,
          245,
          112,
          117,
          129,
          275,
          257,
          175,
          31,
          44,
          175,
          37,
          96,
          50,
          148,
          170,
          129,
          56,
          110,
          301,
          125,
          251,
          23,
          44,
          23,
          224,
          45,
          57,
          15,
          31,
          146,
          30,
          228,
          156,
          84,
          24,
          311,
          38,
          51,
          303,
          109,
          202
         ],
         "xaxis": "x2",
         "yaxis": "y2"
        }
       ],
       "layout": {
        "bargap": 0.1,
        "barmode": "relative",
        "legend": {
         "title": {
          "text": "variable"
         },
         "tracegroupgap": 0
        },
        "margin": {
         "t": 60
        },
        "template": {
         "data": {
          "bar": [
           {
            "error_x": {
             "color": "#2a3f5f"
            },
            "error_y": {
             "color": "#2a3f5f"
            },
            "marker": {
             "line": {
              "color": "#E5ECF6",
              "width": 0.5
             },
             "pattern": {
              "fillmode": "overlay",
              "size": 10,
              "solidity": 0.2
             }
            },
            "type": "bar"
           }
          ],
          "barpolar": [
           {
            "marker": {
             "line": {
              "color": "#E5ECF6",
              "width": 0.5
             },
             "pattern": {
              "fillmode": "overlay",
              "size": 10,
              "solidity": 0.2
             }
            },
            "type": "barpolar"
           }
          ],
          "carpet": [
           {
            "aaxis": {
             "endlinecolor": "#2a3f5f",
             "gridcolor": "white",
             "linecolor": "white",
             "minorgridcolor": "white",
             "startlinecolor": "#2a3f5f"
            },
            "baxis": {
             "endlinecolor": "#2a3f5f",
             "gridcolor": "white",
             "linecolor": "white",
             "minorgridcolor": "white",
             "startlinecolor": "#2a3f5f"
            },
            "type": "carpet"
           }
          ],
          "choropleth": [
           {
            "colorbar": {
             "outlinewidth": 0,
             "ticks": ""
            },
            "type": "choropleth"
           }
          ],
          "contour": [
           {
            "colorbar": {
             "outlinewidth": 0,
             "ticks": ""
            },
            "colorscale": [
             [
              0,
              "#0d0887"
             ],
             [
              0.1111111111111111,
              "#46039f"
             ],
             [
              0.2222222222222222,
              "#7201a8"
             ],
             [
              0.3333333333333333,
              "#9c179e"
             ],
             [
              0.4444444444444444,
              "#bd3786"
             ],
             [
              0.5555555555555556,
              "#d8576b"
             ],
             [
              0.6666666666666666,
              "#ed7953"
             ],
             [
              0.7777777777777778,
              "#fb9f3a"
             ],
             [
              0.8888888888888888,
              "#fdca26"
             ],
             [
              1,
              "#f0f921"
             ]
            ],
            "type": "contour"
           }
          ],
          "contourcarpet": [
           {
            "colorbar": {
             "outlinewidth": 0,
             "ticks": ""
            },
            "type": "contourcarpet"
           }
          ],
          "heatmap": [
           {
            "colorbar": {
             "outlinewidth": 0,
             "ticks": ""
            },
            "colorscale": [
             [
              0,
              "#0d0887"
             ],
             [
              0.1111111111111111,
              "#46039f"
             ],
             [
              0.2222222222222222,
              "#7201a8"
             ],
             [
              0.3333333333333333,
              "#9c179e"
             ],
             [
              0.4444444444444444,
              "#bd3786"
             ],
             [
              0.5555555555555556,
              "#d8576b"
             ],
             [
              0.6666666666666666,
              "#ed7953"
             ],
             [
              0.7777777777777778,
              "#fb9f3a"
             ],
             [
              0.8888888888888888,
              "#fdca26"
             ],
             [
              1,
              "#f0f921"
             ]
            ],
            "type": "heatmap"
           }
          ],
          "heatmapgl": [
           {
            "colorbar": {
             "outlinewidth": 0,
             "ticks": ""
            },
            "colorscale": [
             [
              0,
              "#0d0887"
             ],
             [
              0.1111111111111111,
              "#46039f"
             ],
             [
              0.2222222222222222,
              "#7201a8"
             ],
             [
              0.3333333333333333,
              "#9c179e"
             ],
             [
              0.4444444444444444,
              "#bd3786"
             ],
             [
              0.5555555555555556,
              "#d8576b"
             ],
             [
              0.6666666666666666,
              "#ed7953"
             ],
             [
              0.7777777777777778,
              "#fb9f3a"
             ],
             [
              0.8888888888888888,
              "#fdca26"
             ],
             [
              1,
              "#f0f921"
             ]
            ],
            "type": "heatmapgl"
           }
          ],
          "histogram": [
           {
            "marker": {
             "pattern": {
              "fillmode": "overlay",
              "size": 10,
              "solidity": 0.2
             }
            },
            "type": "histogram"
           }
          ],
          "histogram2d": [
           {
            "colorbar": {
             "outlinewidth": 0,
             "ticks": ""
            },
            "colorscale": [
             [
              0,
              "#0d0887"
             ],
             [
              0.1111111111111111,
              "#46039f"
             ],
             [
              0.2222222222222222,
              "#7201a8"
             ],
             [
              0.3333333333333333,
              "#9c179e"
             ],
             [
              0.4444444444444444,
              "#bd3786"
             ],
             [
              0.5555555555555556,
              "#d8576b"
             ],
             [
              0.6666666666666666,
              "#ed7953"
             ],
             [
              0.7777777777777778,
              "#fb9f3a"
             ],
             [
              0.8888888888888888,
              "#fdca26"
             ],
             [
              1,
              "#f0f921"
             ]
            ],
            "type": "histogram2d"
           }
          ],
          "histogram2dcontour": [
           {
            "colorbar": {
             "outlinewidth": 0,
             "ticks": ""
            },
            "colorscale": [
             [
              0,
              "#0d0887"
             ],
             [
              0.1111111111111111,
              "#46039f"
             ],
             [
              0.2222222222222222,
              "#7201a8"
             ],
             [
              0.3333333333333333,
              "#9c179e"
             ],
             [
              0.4444444444444444,
              "#bd3786"
             ],
             [
              0.5555555555555556,
              "#d8576b"
             ],
             [
              0.6666666666666666,
              "#ed7953"
             ],
             [
              0.7777777777777778,
              "#fb9f3a"
             ],
             [
              0.8888888888888888,
              "#fdca26"
             ],
             [
              1,
              "#f0f921"
             ]
            ],
            "type": "histogram2dcontour"
           }
          ],
          "mesh3d": [
           {
            "colorbar": {
             "outlinewidth": 0,
             "ticks": ""
            },
            "type": "mesh3d"
           }
          ],
          "parcoords": [
           {
            "line": {
             "colorbar": {
              "outlinewidth": 0,
              "ticks": ""
             }
            },
            "type": "parcoords"
           }
          ],
          "pie": [
           {
            "automargin": true,
            "type": "pie"
           }
          ],
          "scatter": [
           {
            "fillpattern": {
             "fillmode": "overlay",
             "size": 10,
             "solidity": 0.2
            },
            "type": "scatter"
           }
          ],
          "scatter3d": [
           {
            "line": {
             "colorbar": {
              "outlinewidth": 0,
              "ticks": ""
             }
            },
            "marker": {
             "colorbar": {
              "outlinewidth": 0,
              "ticks": ""
             }
            },
            "type": "scatter3d"
           }
          ],
          "scattercarpet": [
           {
            "marker": {
             "colorbar": {
              "outlinewidth": 0,
              "ticks": ""
             }
            },
            "type": "scattercarpet"
           }
          ],
          "scattergeo": [
           {
            "marker": {
             "colorbar": {
              "outlinewidth": 0,
              "ticks": ""
             }
            },
            "type": "scattergeo"
           }
          ],
          "scattergl": [
           {
            "marker": {
             "colorbar": {
              "outlinewidth": 0,
              "ticks": ""
             }
            },
            "type": "scattergl"
           }
          ],
          "scattermapbox": [
           {
            "marker": {
             "colorbar": {
              "outlinewidth": 0,
              "ticks": ""
             }
            },
            "type": "scattermapbox"
           }
          ],
          "scatterpolar": [
           {
            "marker": {
             "colorbar": {
              "outlinewidth": 0,
              "ticks": ""
             }
            },
            "type": "scatterpolar"
           }
          ],
          "scatterpolargl": [
           {
            "marker": {
             "colorbar": {
              "outlinewidth": 0,
              "ticks": ""
             }
            },
            "type": "scatterpolargl"
           }
          ],
          "scatterternary": [
           {
            "marker": {
             "colorbar": {
              "outlinewidth": 0,
              "ticks": ""
             }
            },
            "type": "scatterternary"
           }
          ],
          "surface": [
           {
            "colorbar": {
             "outlinewidth": 0,
             "ticks": ""
            },
            "colorscale": [
             [
              0,
              "#0d0887"
             ],
             [
              0.1111111111111111,
              "#46039f"
             ],
             [
              0.2222222222222222,
              "#7201a8"
             ],
             [
              0.3333333333333333,
              "#9c179e"
             ],
             [
              0.4444444444444444,
              "#bd3786"
             ],
             [
              0.5555555555555556,
              "#d8576b"
             ],
             [
              0.6666666666666666,
              "#ed7953"
             ],
             [
              0.7777777777777778,
              "#fb9f3a"
             ],
             [
              0.8888888888888888,
              "#fdca26"
             ],
             [
              1,
              "#f0f921"
             ]
            ],
            "type": "surface"
           }
          ],
          "table": [
           {
            "cells": {
             "fill": {
              "color": "#EBF0F8"
             },
             "line": {
              "color": "white"
             }
            },
            "header": {
             "fill": {
              "color": "#C8D4E3"
             },
             "line": {
              "color": "white"
             }
            },
            "type": "table"
           }
          ]
         },
         "layout": {
          "annotationdefaults": {
           "arrowcolor": "#2a3f5f",
           "arrowhead": 0,
           "arrowwidth": 1
          },
          "autotypenumbers": "strict",
          "coloraxis": {
           "colorbar": {
            "outlinewidth": 0,
            "ticks": ""
           }
          },
          "colorscale": {
           "diverging": [
            [
             0,
             "#8e0152"
            ],
            [
             0.1,
             "#c51b7d"
            ],
            [
             0.2,
             "#de77ae"
            ],
            [
             0.3,
             "#f1b6da"
            ],
            [
             0.4,
             "#fde0ef"
            ],
            [
             0.5,
             "#f7f7f7"
            ],
            [
             0.6,
             "#e6f5d0"
            ],
            [
             0.7,
             "#b8e186"
            ],
            [
             0.8,
             "#7fbc41"
            ],
            [
             0.9,
             "#4d9221"
            ],
            [
             1,
             "#276419"
            ]
           ],
           "sequential": [
            [
             0,
             "#0d0887"
            ],
            [
             0.1111111111111111,
             "#46039f"
            ],
            [
             0.2222222222222222,
             "#7201a8"
            ],
            [
             0.3333333333333333,
             "#9c179e"
            ],
            [
             0.4444444444444444,
             "#bd3786"
            ],
            [
             0.5555555555555556,
             "#d8576b"
            ],
            [
             0.6666666666666666,
             "#ed7953"
            ],
            [
             0.7777777777777778,
             "#fb9f3a"
            ],
            [
             0.8888888888888888,
             "#fdca26"
            ],
            [
             1,
             "#f0f921"
            ]
           ],
           "sequentialminus": [
            [
             0,
             "#0d0887"
            ],
            [
             0.1111111111111111,
             "#46039f"
            ],
            [
             0.2222222222222222,
             "#7201a8"
            ],
            [
             0.3333333333333333,
             "#9c179e"
            ],
            [
             0.4444444444444444,
             "#bd3786"
            ],
            [
             0.5555555555555556,
             "#d8576b"
            ],
            [
             0.6666666666666666,
             "#ed7953"
            ],
            [
             0.7777777777777778,
             "#fb9f3a"
            ],
            [
             0.8888888888888888,
             "#fdca26"
            ],
            [
             1,
             "#f0f921"
            ]
           ]
          },
          "colorway": [
           "#636efa",
           "#EF553B",
           "#00cc96",
           "#ab63fa",
           "#FFA15A",
           "#19d3f3",
           "#FF6692",
           "#B6E880",
           "#FF97FF",
           "#FECB52"
          ],
          "font": {
           "color": "#2a3f5f"
          },
          "geo": {
           "bgcolor": "white",
           "lakecolor": "white",
           "landcolor": "#E5ECF6",
           "showlakes": true,
           "showland": true,
           "subunitcolor": "white"
          },
          "hoverlabel": {
           "align": "left"
          },
          "hovermode": "closest",
          "mapbox": {
           "style": "light"
          },
          "paper_bgcolor": "white",
          "plot_bgcolor": "#E5ECF6",
          "polar": {
           "angularaxis": {
            "gridcolor": "white",
            "linecolor": "white",
            "ticks": ""
           },
           "bgcolor": "#E5ECF6",
           "radialaxis": {
            "gridcolor": "white",
            "linecolor": "white",
            "ticks": ""
           }
          },
          "scene": {
           "xaxis": {
            "backgroundcolor": "#E5ECF6",
            "gridcolor": "white",
            "gridwidth": 2,
            "linecolor": "white",
            "showbackground": true,
            "ticks": "",
            "zerolinecolor": "white"
           },
           "yaxis": {
            "backgroundcolor": "#E5ECF6",
            "gridcolor": "white",
            "gridwidth": 2,
            "linecolor": "white",
            "showbackground": true,
            "ticks": "",
            "zerolinecolor": "white"
           },
           "zaxis": {
            "backgroundcolor": "#E5ECF6",
            "gridcolor": "white",
            "gridwidth": 2,
            "linecolor": "white",
            "showbackground": true,
            "ticks": "",
            "zerolinecolor": "white"
           }
          },
          "shapedefaults": {
           "line": {
            "color": "#2a3f5f"
           }
          },
          "ternary": {
           "aaxis": {
            "gridcolor": "white",
            "linecolor": "white",
            "ticks": ""
           },
           "baxis": {
            "gridcolor": "white",
            "linecolor": "white",
            "ticks": ""
           },
           "bgcolor": "#E5ECF6",
           "caxis": {
            "gridcolor": "white",
            "linecolor": "white",
            "ticks": ""
           }
          },
          "title": {
           "x": 0.05
          },
          "xaxis": {
           "automargin": true,
           "gridcolor": "white",
           "linecolor": "white",
           "ticks": "",
           "title": {
            "standoff": 15
           },
           "zerolinecolor": "white",
           "zerolinewidth": 2
          },
          "yaxis": {
           "automargin": true,
           "gridcolor": "white",
           "linecolor": "white",
           "ticks": "",
           "title": {
            "standoff": 15
           },
           "zerolinecolor": "white",
           "zerolinewidth": 2
          }
         }
        },
        "title": {
         "text": "company_headquarters"
        },
        "xaxis": {
         "anchor": "y",
         "domain": [
          0,
          1
         ],
         "title": {
          "text": "value"
         }
        },
        "xaxis2": {
         "anchor": "y2",
         "domain": [
          0,
          1
         ],
         "matches": "x",
         "showgrid": true,
         "showticklabels": false
        },
        "yaxis": {
         "anchor": "x",
         "domain": [
          0,
          0.7326
         ],
         "title": {
          "text": "count"
         }
        },
        "yaxis2": {
         "anchor": "x2",
         "domain": [
          0.7426,
          1
         ],
         "matches": "y2",
         "showgrid": false,
         "showline": false,
         "showticklabels": false,
         "ticks": ""
        }
       }
      }
     },
     "metadata": {},
     "output_type": "display_data"
    }
   ],
   "source": [
    "for col in df_num.columns:    \n",
    "    fig = px.histogram(df[col],\n",
    "                       marginal = 'rug',\n",
    "                       nbins = df[col].nunique(),\n",
    "                       color_discrete_sequence = [\"#3F72AF\"])\n",
    "    fig.update_layout(title = col, bargap = 0.1)\n",
    "    fig.show()"
   ]
  },
  {
   "cell_type": "code",
   "execution_count": 56,
   "metadata": {},
   "outputs": [
    {
     "data": {
      "text/html": [
       "<div>\n",
       "<style scoped>\n",
       "    .dataframe tbody tr th:only-of-type {\n",
       "        vertical-align: middle;\n",
       "    }\n",
       "\n",
       "    .dataframe tbody tr th {\n",
       "        vertical-align: top;\n",
       "    }\n",
       "\n",
       "    .dataframe thead th {\n",
       "        text-align: right;\n",
       "    }\n",
       "</style>\n",
       "<table border=\"1\" class=\"dataframe\">\n",
       "  <thead>\n",
       "    <tr style=\"text-align: right;\">\n",
       "      <th></th>\n",
       "      <th>company_rating</th>\n",
       "      <th>review_count</th>\n",
       "      <th>no._of_employees</th>\n",
       "      <th>company_age</th>\n",
       "      <th>company_headquarters</th>\n",
       "      <th>company_type</th>\n",
       "    </tr>\n",
       "  </thead>\n",
       "  <tbody>\n",
       "    <tr>\n",
       "      <th>0</th>\n",
       "      <td>3.8</td>\n",
       "      <td>71900</td>\n",
       "      <td>5</td>\n",
       "      <td>56.0</td>\n",
       "      <td>335</td>\n",
       "      <td>pub</td>\n",
       "    </tr>\n",
       "    <tr>\n",
       "      <th>1</th>\n",
       "      <td>4.0</td>\n",
       "      <td>45500</td>\n",
       "      <td>5</td>\n",
       "      <td>35.0</td>\n",
       "      <td>166</td>\n",
       "      <td>pub</td>\n",
       "    </tr>\n",
       "  </tbody>\n",
       "</table>\n",
       "</div>"
      ],
      "text/plain": [
       "   company_rating  review_count  no._of_employees  company_age  \\\n",
       "0             3.8         71900                 5         56.0   \n",
       "1             4.0         45500                 5         35.0   \n",
       "\n",
       "   company_headquarters company_type  \n",
       "0                   335          pub  \n",
       "1                   166          pub  "
      ]
     },
     "execution_count": 56,
     "metadata": {},
     "output_type": "execute_result"
    }
   ],
   "source": [
    "df_mer = df_num.join(pd.DataFrame(df.company_type))\n",
    "df_mer.head(2)"
   ]
  },
  {
   "cell_type": "code",
   "execution_count": 64,
   "metadata": {},
   "outputs": [
    {
     "data": {
      "application/vnd.plotly.v1+json": {
       "config": {
        "plotlyServerURL": "https://plot.ly"
       },
       "data": [
        {
         "alignmentgroup": "True",
         "bingroup": "x",
         "hovertemplate": "color=pub<br>value=%{x}<br>count=%{y}<extra></extra>",
         "legendgroup": "pub",
         "marker": {
          "color": "#636efa",
          "pattern": {
           "shape": ""
          }
         },
         "name": "pub",
         "nbinsx": 17,
         "offsetgroup": "pub",
         "orientation": "v",
         "showlegend": true,
         "type": "histogram",
         "x": [
          3.8,
          4,
          3.8,
          3.9,
          4,
          3.8,
          3.8,
          3.6,
          3.7,
          3.9,
          3.8,
          3.9,
          4.1,
          4,
          4.1,
          4,
          4.1,
          3.8,
          4,
          4,
          4.2,
          4.1,
          3.7,
          4.2,
          3.8,
          4,
          4.1,
          3.7,
          4,
          3.5,
          4.1,
          3.9,
          3.2,
          4.2,
          4,
          3.9,
          4.1,
          4.1,
          4.2,
          3.8,
          3.4,
          4.1,
          4.1,
          3.8,
          4.1,
          4.7,
          3.8,
          3.9,
          4.1,
          3.9,
          4.1,
          4.2,
          3.9,
          3.9,
          4.1,
          4.1,
          3.5,
          4,
          4.2,
          3.9,
          3.9,
          3.4,
          4,
          4.1,
          4.1,
          4.1,
          4.2,
          3.8,
          3.6,
          4.3,
          4.2,
          3.8,
          3.8,
          4,
          3.9,
          3.9,
          4.3,
          3.4,
          4,
          3.8,
          4.1,
          4.1,
          4.8,
          3.8,
          4,
          4.1,
          4,
          4,
          4.2,
          3.8,
          4.1,
          3.7,
          4.1,
          3.9,
          4.4,
          3.9,
          4,
          4.3,
          3.9,
          4.2
         ],
         "xaxis": "x",
         "yaxis": "y"
        },
        {
         "alignmentgroup": "True",
         "hovertemplate": "color=pub<br>value=%{x}<extra></extra>",
         "legendgroup": "pub",
         "marker": {
          "color": "#636efa"
         },
         "name": "pub",
         "notched": true,
         "offsetgroup": "pub",
         "showlegend": false,
         "type": "box",
         "x": [
          3.8,
          4,
          3.8,
          3.9,
          4,
          3.8,
          3.8,
          3.6,
          3.7,
          3.9,
          3.8,
          3.9,
          4.1,
          4,
          4.1,
          4,
          4.1,
          3.8,
          4,
          4,
          4.2,
          4.1,
          3.7,
          4.2,
          3.8,
          4,
          4.1,
          3.7,
          4,
          3.5,
          4.1,
          3.9,
          3.2,
          4.2,
          4,
          3.9,
          4.1,
          4.1,
          4.2,
          3.8,
          3.4,
          4.1,
          4.1,
          3.8,
          4.1,
          4.7,
          3.8,
          3.9,
          4.1,
          3.9,
          4.1,
          4.2,
          3.9,
          3.9,
          4.1,
          4.1,
          3.5,
          4,
          4.2,
          3.9,
          3.9,
          3.4,
          4,
          4.1,
          4.1,
          4.1,
          4.2,
          3.8,
          3.6,
          4.3,
          4.2,
          3.8,
          3.8,
          4,
          3.9,
          3.9,
          4.3,
          3.4,
          4,
          3.8,
          4.1,
          4.1,
          4.8,
          3.8,
          4,
          4.1,
          4,
          4,
          4.2,
          3.8,
          4.1,
          3.7,
          4.1,
          3.9,
          4.4,
          3.9,
          4,
          4.3,
          3.9,
          4.2
         ],
         "xaxis": "x2",
         "yaxis": "y2"
        },
        {
         "alignmentgroup": "True",
         "bingroup": "x",
         "hovertemplate": "color=pri<br>value=%{x}<br>count=%{y}<extra></extra>",
         "legendgroup": "pri",
         "marker": {
          "color": "#EF553B",
          "pattern": {
           "shape": ""
          }
         },
         "name": "pri",
         "nbinsx": 17,
         "offsetgroup": "pri",
         "orientation": "v",
         "showlegend": true,
         "type": "histogram",
         "x": [
          3.9,
          3.5,
          3.1,
          4.5,
          3.6,
          4.1,
          4.3,
          4,
          4,
          4.2,
          3.7,
          4.2,
          4.2,
          4.1,
          4,
          4.3,
          3.9,
          4,
          4.3,
          4.4,
          4.1,
          4.4,
          4.1,
          4.1,
          4.1,
          3.4,
          4,
          4.1,
          4.2,
          3.7,
          3.9,
          4.2,
          4.3,
          4,
          4.2,
          4.2,
          4.1,
          4.3,
          3.9,
          3.9,
          4.1,
          3.5,
          3.6,
          4.1,
          4.4,
          4.1,
          4.3,
          4.1,
          4.2,
          4.1,
          3.9,
          4.1,
          3.8,
          3.9
         ],
         "xaxis": "x",
         "yaxis": "y"
        },
        {
         "alignmentgroup": "True",
         "hovertemplate": "color=pri<br>value=%{x}<extra></extra>",
         "legendgroup": "pri",
         "marker": {
          "color": "#EF553B"
         },
         "name": "pri",
         "notched": true,
         "offsetgroup": "pri",
         "showlegend": false,
         "type": "box",
         "x": [
          3.9,
          3.5,
          3.1,
          4.5,
          3.6,
          4.1,
          4.3,
          4,
          4,
          4.2,
          3.7,
          4.2,
          4.2,
          4.1,
          4,
          4.3,
          3.9,
          4,
          4.3,
          4.4,
          4.1,
          4.4,
          4.1,
          4.1,
          4.1,
          3.4,
          4,
          4.1,
          4.2,
          3.7,
          3.9,
          4.2,
          4.3,
          4,
          4.2,
          4.2,
          4.1,
          4.3,
          3.9,
          3.9,
          4.1,
          3.5,
          3.6,
          4.1,
          4.4,
          4.1,
          4.3,
          4.1,
          4.2,
          4.1,
          3.9,
          4.1,
          3.8,
          3.9
         ],
         "xaxis": "x2",
         "yaxis": "y2"
        }
       ],
       "layout": {
        "bargap": 0.1,
        "barmode": "relative",
        "legend": {
         "title": {
          "text": "color"
         },
         "tracegroupgap": 0
        },
        "margin": {
         "t": 60
        },
        "template": {
         "data": {
          "bar": [
           {
            "error_x": {
             "color": "#2a3f5f"
            },
            "error_y": {
             "color": "#2a3f5f"
            },
            "marker": {
             "line": {
              "color": "#E5ECF6",
              "width": 0.5
             },
             "pattern": {
              "fillmode": "overlay",
              "size": 10,
              "solidity": 0.2
             }
            },
            "type": "bar"
           }
          ],
          "barpolar": [
           {
            "marker": {
             "line": {
              "color": "#E5ECF6",
              "width": 0.5
             },
             "pattern": {
              "fillmode": "overlay",
              "size": 10,
              "solidity": 0.2
             }
            },
            "type": "barpolar"
           }
          ],
          "carpet": [
           {
            "aaxis": {
             "endlinecolor": "#2a3f5f",
             "gridcolor": "white",
             "linecolor": "white",
             "minorgridcolor": "white",
             "startlinecolor": "#2a3f5f"
            },
            "baxis": {
             "endlinecolor": "#2a3f5f",
             "gridcolor": "white",
             "linecolor": "white",
             "minorgridcolor": "white",
             "startlinecolor": "#2a3f5f"
            },
            "type": "carpet"
           }
          ],
          "choropleth": [
           {
            "colorbar": {
             "outlinewidth": 0,
             "ticks": ""
            },
            "type": "choropleth"
           }
          ],
          "contour": [
           {
            "colorbar": {
             "outlinewidth": 0,
             "ticks": ""
            },
            "colorscale": [
             [
              0,
              "#0d0887"
             ],
             [
              0.1111111111111111,
              "#46039f"
             ],
             [
              0.2222222222222222,
              "#7201a8"
             ],
             [
              0.3333333333333333,
              "#9c179e"
             ],
             [
              0.4444444444444444,
              "#bd3786"
             ],
             [
              0.5555555555555556,
              "#d8576b"
             ],
             [
              0.6666666666666666,
              "#ed7953"
             ],
             [
              0.7777777777777778,
              "#fb9f3a"
             ],
             [
              0.8888888888888888,
              "#fdca26"
             ],
             [
              1,
              "#f0f921"
             ]
            ],
            "type": "contour"
           }
          ],
          "contourcarpet": [
           {
            "colorbar": {
             "outlinewidth": 0,
             "ticks": ""
            },
            "type": "contourcarpet"
           }
          ],
          "heatmap": [
           {
            "colorbar": {
             "outlinewidth": 0,
             "ticks": ""
            },
            "colorscale": [
             [
              0,
              "#0d0887"
             ],
             [
              0.1111111111111111,
              "#46039f"
             ],
             [
              0.2222222222222222,
              "#7201a8"
             ],
             [
              0.3333333333333333,
              "#9c179e"
             ],
             [
              0.4444444444444444,
              "#bd3786"
             ],
             [
              0.5555555555555556,
              "#d8576b"
             ],
             [
              0.6666666666666666,
              "#ed7953"
             ],
             [
              0.7777777777777778,
              "#fb9f3a"
             ],
             [
              0.8888888888888888,
              "#fdca26"
             ],
             [
              1,
              "#f0f921"
             ]
            ],
            "type": "heatmap"
           }
          ],
          "heatmapgl": [
           {
            "colorbar": {
             "outlinewidth": 0,
             "ticks": ""
            },
            "colorscale": [
             [
              0,
              "#0d0887"
             ],
             [
              0.1111111111111111,
              "#46039f"
             ],
             [
              0.2222222222222222,
              "#7201a8"
             ],
             [
              0.3333333333333333,
              "#9c179e"
             ],
             [
              0.4444444444444444,
              "#bd3786"
             ],
             [
              0.5555555555555556,
              "#d8576b"
             ],
             [
              0.6666666666666666,
              "#ed7953"
             ],
             [
              0.7777777777777778,
              "#fb9f3a"
             ],
             [
              0.8888888888888888,
              "#fdca26"
             ],
             [
              1,
              "#f0f921"
             ]
            ],
            "type": "heatmapgl"
           }
          ],
          "histogram": [
           {
            "marker": {
             "pattern": {
              "fillmode": "overlay",
              "size": 10,
              "solidity": 0.2
             }
            },
            "type": "histogram"
           }
          ],
          "histogram2d": [
           {
            "colorbar": {
             "outlinewidth": 0,
             "ticks": ""
            },
            "colorscale": [
             [
              0,
              "#0d0887"
             ],
             [
              0.1111111111111111,
              "#46039f"
             ],
             [
              0.2222222222222222,
              "#7201a8"
             ],
             [
              0.3333333333333333,
              "#9c179e"
             ],
             [
              0.4444444444444444,
              "#bd3786"
             ],
             [
              0.5555555555555556,
              "#d8576b"
             ],
             [
              0.6666666666666666,
              "#ed7953"
             ],
             [
              0.7777777777777778,
              "#fb9f3a"
             ],
             [
              0.8888888888888888,
              "#fdca26"
             ],
             [
              1,
              "#f0f921"
             ]
            ],
            "type": "histogram2d"
           }
          ],
          "histogram2dcontour": [
           {
            "colorbar": {
             "outlinewidth": 0,
             "ticks": ""
            },
            "colorscale": [
             [
              0,
              "#0d0887"
             ],
             [
              0.1111111111111111,
              "#46039f"
             ],
             [
              0.2222222222222222,
              "#7201a8"
             ],
             [
              0.3333333333333333,
              "#9c179e"
             ],
             [
              0.4444444444444444,
              "#bd3786"
             ],
             [
              0.5555555555555556,
              "#d8576b"
             ],
             [
              0.6666666666666666,
              "#ed7953"
             ],
             [
              0.7777777777777778,
              "#fb9f3a"
             ],
             [
              0.8888888888888888,
              "#fdca26"
             ],
             [
              1,
              "#f0f921"
             ]
            ],
            "type": "histogram2dcontour"
           }
          ],
          "mesh3d": [
           {
            "colorbar": {
             "outlinewidth": 0,
             "ticks": ""
            },
            "type": "mesh3d"
           }
          ],
          "parcoords": [
           {
            "line": {
             "colorbar": {
              "outlinewidth": 0,
              "ticks": ""
             }
            },
            "type": "parcoords"
           }
          ],
          "pie": [
           {
            "automargin": true,
            "type": "pie"
           }
          ],
          "scatter": [
           {
            "fillpattern": {
             "fillmode": "overlay",
             "size": 10,
             "solidity": 0.2
            },
            "type": "scatter"
           }
          ],
          "scatter3d": [
           {
            "line": {
             "colorbar": {
              "outlinewidth": 0,
              "ticks": ""
             }
            },
            "marker": {
             "colorbar": {
              "outlinewidth": 0,
              "ticks": ""
             }
            },
            "type": "scatter3d"
           }
          ],
          "scattercarpet": [
           {
            "marker": {
             "colorbar": {
              "outlinewidth": 0,
              "ticks": ""
             }
            },
            "type": "scattercarpet"
           }
          ],
          "scattergeo": [
           {
            "marker": {
             "colorbar": {
              "outlinewidth": 0,
              "ticks": ""
             }
            },
            "type": "scattergeo"
           }
          ],
          "scattergl": [
           {
            "marker": {
             "colorbar": {
              "outlinewidth": 0,
              "ticks": ""
             }
            },
            "type": "scattergl"
           }
          ],
          "scattermapbox": [
           {
            "marker": {
             "colorbar": {
              "outlinewidth": 0,
              "ticks": ""
             }
            },
            "type": "scattermapbox"
           }
          ],
          "scatterpolar": [
           {
            "marker": {
             "colorbar": {
              "outlinewidth": 0,
              "ticks": ""
             }
            },
            "type": "scatterpolar"
           }
          ],
          "scatterpolargl": [
           {
            "marker": {
             "colorbar": {
              "outlinewidth": 0,
              "ticks": ""
             }
            },
            "type": "scatterpolargl"
           }
          ],
          "scatterternary": [
           {
            "marker": {
             "colorbar": {
              "outlinewidth": 0,
              "ticks": ""
             }
            },
            "type": "scatterternary"
           }
          ],
          "surface": [
           {
            "colorbar": {
             "outlinewidth": 0,
             "ticks": ""
            },
            "colorscale": [
             [
              0,
              "#0d0887"
             ],
             [
              0.1111111111111111,
              "#46039f"
             ],
             [
              0.2222222222222222,
              "#7201a8"
             ],
             [
              0.3333333333333333,
              "#9c179e"
             ],
             [
              0.4444444444444444,
              "#bd3786"
             ],
             [
              0.5555555555555556,
              "#d8576b"
             ],
             [
              0.6666666666666666,
              "#ed7953"
             ],
             [
              0.7777777777777778,
              "#fb9f3a"
             ],
             [
              0.8888888888888888,
              "#fdca26"
             ],
             [
              1,
              "#f0f921"
             ]
            ],
            "type": "surface"
           }
          ],
          "table": [
           {
            "cells": {
             "fill": {
              "color": "#EBF0F8"
             },
             "line": {
              "color": "white"
             }
            },
            "header": {
             "fill": {
              "color": "#C8D4E3"
             },
             "line": {
              "color": "white"
             }
            },
            "type": "table"
           }
          ]
         },
         "layout": {
          "annotationdefaults": {
           "arrowcolor": "#2a3f5f",
           "arrowhead": 0,
           "arrowwidth": 1
          },
          "autotypenumbers": "strict",
          "coloraxis": {
           "colorbar": {
            "outlinewidth": 0,
            "ticks": ""
           }
          },
          "colorscale": {
           "diverging": [
            [
             0,
             "#8e0152"
            ],
            [
             0.1,
             "#c51b7d"
            ],
            [
             0.2,
             "#de77ae"
            ],
            [
             0.3,
             "#f1b6da"
            ],
            [
             0.4,
             "#fde0ef"
            ],
            [
             0.5,
             "#f7f7f7"
            ],
            [
             0.6,
             "#e6f5d0"
            ],
            [
             0.7,
             "#b8e186"
            ],
            [
             0.8,
             "#7fbc41"
            ],
            [
             0.9,
             "#4d9221"
            ],
            [
             1,
             "#276419"
            ]
           ],
           "sequential": [
            [
             0,
             "#0d0887"
            ],
            [
             0.1111111111111111,
             "#46039f"
            ],
            [
             0.2222222222222222,
             "#7201a8"
            ],
            [
             0.3333333333333333,
             "#9c179e"
            ],
            [
             0.4444444444444444,
             "#bd3786"
            ],
            [
             0.5555555555555556,
             "#d8576b"
            ],
            [
             0.6666666666666666,
             "#ed7953"
            ],
            [
             0.7777777777777778,
             "#fb9f3a"
            ],
            [
             0.8888888888888888,
             "#fdca26"
            ],
            [
             1,
             "#f0f921"
            ]
           ],
           "sequentialminus": [
            [
             0,
             "#0d0887"
            ],
            [
             0.1111111111111111,
             "#46039f"
            ],
            [
             0.2222222222222222,
             "#7201a8"
            ],
            [
             0.3333333333333333,
             "#9c179e"
            ],
            [
             0.4444444444444444,
             "#bd3786"
            ],
            [
             0.5555555555555556,
             "#d8576b"
            ],
            [
             0.6666666666666666,
             "#ed7953"
            ],
            [
             0.7777777777777778,
             "#fb9f3a"
            ],
            [
             0.8888888888888888,
             "#fdca26"
            ],
            [
             1,
             "#f0f921"
            ]
           ]
          },
          "colorway": [
           "#636efa",
           "#EF553B",
           "#00cc96",
           "#ab63fa",
           "#FFA15A",
           "#19d3f3",
           "#FF6692",
           "#B6E880",
           "#FF97FF",
           "#FECB52"
          ],
          "font": {
           "color": "#2a3f5f"
          },
          "geo": {
           "bgcolor": "white",
           "lakecolor": "white",
           "landcolor": "#E5ECF6",
           "showlakes": true,
           "showland": true,
           "subunitcolor": "white"
          },
          "hoverlabel": {
           "align": "left"
          },
          "hovermode": "closest",
          "mapbox": {
           "style": "light"
          },
          "paper_bgcolor": "white",
          "plot_bgcolor": "#E5ECF6",
          "polar": {
           "angularaxis": {
            "gridcolor": "white",
            "linecolor": "white",
            "ticks": ""
           },
           "bgcolor": "#E5ECF6",
           "radialaxis": {
            "gridcolor": "white",
            "linecolor": "white",
            "ticks": ""
           }
          },
          "scene": {
           "xaxis": {
            "backgroundcolor": "#E5ECF6",
            "gridcolor": "white",
            "gridwidth": 2,
            "linecolor": "white",
            "showbackground": true,
            "ticks": "",
            "zerolinecolor": "white"
           },
           "yaxis": {
            "backgroundcolor": "#E5ECF6",
            "gridcolor": "white",
            "gridwidth": 2,
            "linecolor": "white",
            "showbackground": true,
            "ticks": "",
            "zerolinecolor": "white"
           },
           "zaxis": {
            "backgroundcolor": "#E5ECF6",
            "gridcolor": "white",
            "gridwidth": 2,
            "linecolor": "white",
            "showbackground": true,
            "ticks": "",
            "zerolinecolor": "white"
           }
          },
          "shapedefaults": {
           "line": {
            "color": "#2a3f5f"
           }
          },
          "ternary": {
           "aaxis": {
            "gridcolor": "white",
            "linecolor": "white",
            "ticks": ""
           },
           "baxis": {
            "gridcolor": "white",
            "linecolor": "white",
            "ticks": ""
           },
           "bgcolor": "#E5ECF6",
           "caxis": {
            "gridcolor": "white",
            "linecolor": "white",
            "ticks": ""
           }
          },
          "title": {
           "x": 0.05
          },
          "xaxis": {
           "automargin": true,
           "gridcolor": "white",
           "linecolor": "white",
           "ticks": "",
           "title": {
            "standoff": 15
           },
           "zerolinecolor": "white",
           "zerolinewidth": 2
          },
          "yaxis": {
           "automargin": true,
           "gridcolor": "white",
           "linecolor": "white",
           "ticks": "",
           "title": {
            "standoff": 15
           },
           "zerolinecolor": "white",
           "zerolinewidth": 2
          }
         }
        },
        "title": {
         "text": "company_rating"
        },
        "xaxis": {
         "anchor": "y",
         "domain": [
          0,
          1
         ],
         "title": {
          "text": "value"
         }
        },
        "xaxis2": {
         "anchor": "y2",
         "domain": [
          0,
          1
         ],
         "matches": "x",
         "showgrid": true,
         "showticklabels": false
        },
        "yaxis": {
         "anchor": "x",
         "domain": [
          0,
          0.7326
         ],
         "title": {
          "text": "count"
         }
        },
        "yaxis2": {
         "anchor": "x2",
         "domain": [
          0.7426,
          1
         ],
         "matches": "y2",
         "showgrid": false,
         "showline": false,
         "showticklabels": false,
         "ticks": ""
        }
       }
      }
     },
     "metadata": {},
     "output_type": "display_data"
    }
   ],
   "source": [
    "fig = px.histogram(data_frame = df_mer['company_rating'],\n",
    "                   nbins = df_mer['company_rating'].nunique(),\n",
    "                   marginal = 'box',\n",
    "                   color = df_mer['company_type'],)\n",
    "fig.update_layout(title = \"company_rating\", bargap = 0.1)\n",
    "fig.show()"
   ]
  },
  {
   "cell_type": "markdown",
   "metadata": {},
   "source": [
    "## cat"
   ]
  },
  {
   "cell_type": "code",
   "execution_count": 33,
   "metadata": {},
   "outputs": [
    {
     "data": {
      "text/html": [
       "<div>\n",
       "<style scoped>\n",
       "    .dataframe tbody tr th:only-of-type {\n",
       "        vertical-align: middle;\n",
       "    }\n",
       "\n",
       "    .dataframe tbody tr th {\n",
       "        vertical-align: top;\n",
       "    }\n",
       "\n",
       "    .dataframe thead th {\n",
       "        text-align: right;\n",
       "    }\n",
       "</style>\n",
       "<table border=\"1\" class=\"dataframe\">\n",
       "  <thead>\n",
       "    <tr style=\"text-align: right;\">\n",
       "      <th></th>\n",
       "      <th>company_sector</th>\n",
       "      <th>company_type</th>\n",
       "      <th>highly_rated_for</th>\n",
       "      <th>poorly_rated_for</th>\n",
       "    </tr>\n",
       "  </thead>\n",
       "  <tbody>\n",
       "    <tr>\n",
       "      <th>0</th>\n",
       "      <td>IT Services &amp; Consulting</td>\n",
       "      <td>pub</td>\n",
       "      <td>Job Security, Work Life Balance</td>\n",
       "      <td>Promotions / Appraisal, Salary &amp; Benefits</td>\n",
       "    </tr>\n",
       "    <tr>\n",
       "      <th>1</th>\n",
       "      <td>IT Services &amp; Consulting</td>\n",
       "      <td>pub</td>\n",
       "      <td>Company Culture, Job Security, Skill Developme...</td>\n",
       "      <td>NaN</td>\n",
       "    </tr>\n",
       "  </tbody>\n",
       "</table>\n",
       "</div>"
      ],
      "text/plain": [
       "              company_sector company_type  \\\n",
       "0  IT Services & Consulting           pub   \n",
       "1  IT Services & Consulting           pub   \n",
       "\n",
       "                                    highly_rated_for  \\\n",
       "0                    Job Security, Work Life Balance   \n",
       "1  Company Culture, Job Security, Skill Developme...   \n",
       "\n",
       "                            poorly_rated_for  \n",
       "0  Promotions / Appraisal, Salary & Benefits  \n",
       "1                                        NaN  "
      ]
     },
     "execution_count": 33,
     "metadata": {},
     "output_type": "execute_result"
    }
   ],
   "source": [
    "df_cat = df.select_dtypes(include = 'object').drop(columns = 'company_name')\n",
    "df_cat.head(2)"
   ]
  },
  {
   "cell_type": "code",
   "execution_count": 34,
   "metadata": {},
   "outputs": [
    {
     "data": {
      "application/vnd.plotly.v1+json": {
       "config": {
        "plotlyServerURL": "https://plot.ly"
       },
       "data": [
        {
         "alignmentgroup": "True",
         "bingroup": "x",
         "hovertemplate": "variable=company_sector<br>value=%{x}<br>count=%{y}<extra></extra>",
         "legendgroup": "company_sector",
         "marker": {
          "color": "#3F72AF",
          "pattern": {
           "shape": ""
          }
         },
         "name": "company_sector",
         "nbinsx": 41,
         "offsetgroup": "company_sector",
         "orientation": "v",
         "showlegend": true,
         "type": "histogram",
         "x": [
          "IT Services & Consulting ",
          "IT Services & Consulting ",
          "IT Services & Consulting ",
          "IT Services & Consulting ",
          "Banking ",
          "Banking ",
          "IT Services & Consulting ",
          "IT Services & Consulting ",
          "IT Services & Consulting ",
          "IT Services & Consulting ",
          "IT Services & Consulting ",
          "Banking ",
          "BPO ",
          "BPO ",
          "Internet ",
          "Telecom ",
          "Software Product ",
          "Engineering & Construction ",
          "Retail ",
          "NBFC ",
          "Telecom ",
          "EdTech ",
          "Management Consulting ",
          "Banking ",
          "Oil & Gas ",
          "Telecom ",
          "BPO ",
          "Automobile ",
          "Internet ",
          "BPO ",
          "Banking ",
          "Management Consulting ",
          "Banking ",
          "Automobile ",
          "BPO ",
          "IT Services & Consulting ",
          "Banking ",
          "BPO ",
          "Insurance ",
          "IT Services & Consulting ",
          "Financial Services ",
          "IT Services & Consulting ",
          "Management Consulting ",
          "Banking ",
          "Consumer Electronics & Appliances ",
          "IT Services & Consulting ",
          "BPO ",
          "Telecom ",
          "Automobile ",
          "Chemicals ",
          "Banking ",
          "Pharma ",
          "Pharma ",
          "IT Services & Consulting ",
          "Building Material ",
          "Analytics & KPO ",
          "Banking ",
          "FinTech ",
          "Iron & Steel ",
          "Insurance ",
          "Banking ",
          "NBFC ",
          "Pharma ",
          "Defence & Aerospace ",
          "IT Services & Consulting ",
          "Internet ",
          "IT Services & Consulting ",
          "FMCG ",
          "Pharma ",
          "BPO ",
          "Banking ",
          "Logistics ",
          "Financial Services ",
          "FMCG ",
          "FinTech ",
          "Internet ",
          "NBFC ",
          "Iron & Steel ",
          "IT Services & Consulting ",
          "Pharma ",
          "Banking ",
          "Insurance ",
          "NBFC ",
          "Pharma ",
          "Financial Services ",
          "Engineering & Construction ",
          "Management Consulting ",
          "Engineering & Construction ",
          "Software Product ",
          "Consumer Electronics & Appliances ",
          "IT Services & Consulting ",
          "Engineering & Construction ",
          "IT Services & Consulting ",
          "NBFC ",
          "Automobile ",
          "Healthcare ",
          "Power ",
          "Real Estate ",
          "Consumer Electronics & Appliances ",
          "Healthcare ",
          "Engineering & Construction ",
          "BPO ",
          "Internet ",
          "NBFC ",
          "Software Product ",
          "Automobile ",
          "Insurance ",
          "IT Services & Consulting ",
          "Retail ",
          "Insurance ",
          "Internet ",
          "Internet ",
          "IT Services & Consulting ",
          "Automobile ",
          "Banking ",
          "Automobile ",
          "NBFC ",
          "IT Services & Consulting ",
          "IT Services & Consulting ",
          "IT Services & Consulting ",
          "IT Services & Consulting ",
          "Telecom ",
          "Clinical Research ",
          "Industrial Machinery ",
          "Software Product ",
          "Auto Components ",
          "NBFC ",
          "Logistics ",
          "NBFC ",
          "Investment Banking / Venture Capital / Private Equity ",
          "Industrial Automation ",
          "Hospitality ",
          "Software Product ",
          "Telecom ",
          "IT Services & Consulting ",
          "Real Estate ",
          "Banking ",
          "Auto Components ",
          "Internet ",
          "Logistics ",
          "Consumer Electronics & Appliances ",
          "Retail ",
          "Insurance ",
          "Automobile ",
          "Healthcare ",
          "Engineering & Construction ",
          "Engineering & Construction ",
          "NBFC ",
          "NBFC ",
          "Fashion & Textile ",
          "Pharma ",
          "Automobile ",
          "NBFC ",
          "Auto Components ",
          "NBFC ",
          "Telecom ",
          "Consumer Electronics & Appliances ",
          "Pharma ",
          "Industrial Machinery ",
          "Engineering & Construction ",
          "Beverage ",
          "Recruitment ",
          "Industrial Machinery ",
          "IT Services & Consulting ",
          "Pharma ",
          "Electrical Equipment ",
          "Banking ",
          "Pharma ",
          "EdTech ",
          "Internet ",
          "Pharma ",
          "Facility Management Services ",
          "Auto Components ",
          "Automobile ",
          "Recruitment ",
          "Automobile ",
          "Oil & Gas ",
          "Software Product ",
          "Financial Services ",
          "IT Services & Consulting ",
          "NBFC ",
          "Electronics Manufacturing ",
          "Banking ",
          "Healthcare ",
          "Healthcare ",
          "Pharma ",
          "IT Services & Consulting ",
          "Chemicals ",
          "Pharma ",
          "Metals & Mining ",
          "IT Services & Consulting ",
          "Insurance ",
          "IT Services & Consulting ",
          "IT Services & Consulting ",
          "Banking ",
          "Defence & Aerospace ",
          "EdTech "
         ],
         "xaxis": "x",
         "yaxis": "y"
        },
        {
         "alignmentgroup": "True",
         "hovertemplate": "variable=company_sector<br>value=%{x}<extra></extra>",
         "legendgroup": "company_sector",
         "marker": {
          "color": "#3F72AF"
         },
         "name": "company_sector",
         "notched": true,
         "offsetgroup": "company_sector",
         "showlegend": false,
         "type": "box",
         "x": [
          "IT Services & Consulting ",
          "IT Services & Consulting ",
          "IT Services & Consulting ",
          "IT Services & Consulting ",
          "Banking ",
          "Banking ",
          "IT Services & Consulting ",
          "IT Services & Consulting ",
          "IT Services & Consulting ",
          "IT Services & Consulting ",
          "IT Services & Consulting ",
          "Banking ",
          "BPO ",
          "BPO ",
          "Internet ",
          "Telecom ",
          "Software Product ",
          "Engineering & Construction ",
          "Retail ",
          "NBFC ",
          "Telecom ",
          "EdTech ",
          "Management Consulting ",
          "Banking ",
          "Oil & Gas ",
          "Telecom ",
          "BPO ",
          "Automobile ",
          "Internet ",
          "BPO ",
          "Banking ",
          "Management Consulting ",
          "Banking ",
          "Automobile ",
          "BPO ",
          "IT Services & Consulting ",
          "Banking ",
          "BPO ",
          "Insurance ",
          "IT Services & Consulting ",
          "Financial Services ",
          "IT Services & Consulting ",
          "Management Consulting ",
          "Banking ",
          "Consumer Electronics & Appliances ",
          "IT Services & Consulting ",
          "BPO ",
          "Telecom ",
          "Automobile ",
          "Chemicals ",
          "Banking ",
          "Pharma ",
          "Pharma ",
          "IT Services & Consulting ",
          "Building Material ",
          "Analytics & KPO ",
          "Banking ",
          "FinTech ",
          "Iron & Steel ",
          "Insurance ",
          "Banking ",
          "NBFC ",
          "Pharma ",
          "Defence & Aerospace ",
          "IT Services & Consulting ",
          "Internet ",
          "IT Services & Consulting ",
          "FMCG ",
          "Pharma ",
          "BPO ",
          "Banking ",
          "Logistics ",
          "Financial Services ",
          "FMCG ",
          "FinTech ",
          "Internet ",
          "NBFC ",
          "Iron & Steel ",
          "IT Services & Consulting ",
          "Pharma ",
          "Banking ",
          "Insurance ",
          "NBFC ",
          "Pharma ",
          "Financial Services ",
          "Engineering & Construction ",
          "Management Consulting ",
          "Engineering & Construction ",
          "Software Product ",
          "Consumer Electronics & Appliances ",
          "IT Services & Consulting ",
          "Engineering & Construction ",
          "IT Services & Consulting ",
          "NBFC ",
          "Automobile ",
          "Healthcare ",
          "Power ",
          "Real Estate ",
          "Consumer Electronics & Appliances ",
          "Healthcare ",
          "Engineering & Construction ",
          "BPO ",
          "Internet ",
          "NBFC ",
          "Software Product ",
          "Automobile ",
          "Insurance ",
          "IT Services & Consulting ",
          "Retail ",
          "Insurance ",
          "Internet ",
          "Internet ",
          "IT Services & Consulting ",
          "Automobile ",
          "Banking ",
          "Automobile ",
          "NBFC ",
          "IT Services & Consulting ",
          "IT Services & Consulting ",
          "IT Services & Consulting ",
          "IT Services & Consulting ",
          "Telecom ",
          "Clinical Research ",
          "Industrial Machinery ",
          "Software Product ",
          "Auto Components ",
          "NBFC ",
          "Logistics ",
          "NBFC ",
          "Investment Banking / Venture Capital / Private Equity ",
          "Industrial Automation ",
          "Hospitality ",
          "Software Product ",
          "Telecom ",
          "IT Services & Consulting ",
          "Real Estate ",
          "Banking ",
          "Auto Components ",
          "Internet ",
          "Logistics ",
          "Consumer Electronics & Appliances ",
          "Retail ",
          "Insurance ",
          "Automobile ",
          "Healthcare ",
          "Engineering & Construction ",
          "Engineering & Construction ",
          "NBFC ",
          "NBFC ",
          "Fashion & Textile ",
          "Pharma ",
          "Automobile ",
          "NBFC ",
          "Auto Components ",
          "NBFC ",
          "Telecom ",
          "Consumer Electronics & Appliances ",
          "Pharma ",
          "Industrial Machinery ",
          "Engineering & Construction ",
          "Beverage ",
          "Recruitment ",
          "Industrial Machinery ",
          "IT Services & Consulting ",
          "Pharma ",
          "Electrical Equipment ",
          "Banking ",
          "Pharma ",
          "EdTech ",
          "Internet ",
          "Pharma ",
          "Facility Management Services ",
          "Auto Components ",
          "Automobile ",
          "Recruitment ",
          "Automobile ",
          "Oil & Gas ",
          "Software Product ",
          "Financial Services ",
          "IT Services & Consulting ",
          "NBFC ",
          "Electronics Manufacturing ",
          "Banking ",
          "Healthcare ",
          "Healthcare ",
          "Pharma ",
          "IT Services & Consulting ",
          "Chemicals ",
          "Pharma ",
          "Metals & Mining ",
          "IT Services & Consulting ",
          "Insurance ",
          "IT Services & Consulting ",
          "IT Services & Consulting ",
          "Banking ",
          "Defence & Aerospace ",
          "EdTech "
         ],
         "xaxis": "x2",
         "yaxis": "y2"
        }
       ],
       "layout": {
        "bargap": 0.1,
        "barmode": "relative",
        "legend": {
         "title": {
          "text": "variable"
         },
         "tracegroupgap": 0
        },
        "margin": {
         "t": 60
        },
        "template": {
         "data": {
          "bar": [
           {
            "error_x": {
             "color": "#2a3f5f"
            },
            "error_y": {
             "color": "#2a3f5f"
            },
            "marker": {
             "line": {
              "color": "#E5ECF6",
              "width": 0.5
             },
             "pattern": {
              "fillmode": "overlay",
              "size": 10,
              "solidity": 0.2
             }
            },
            "type": "bar"
           }
          ],
          "barpolar": [
           {
            "marker": {
             "line": {
              "color": "#E5ECF6",
              "width": 0.5
             },
             "pattern": {
              "fillmode": "overlay",
              "size": 10,
              "solidity": 0.2
             }
            },
            "type": "barpolar"
           }
          ],
          "carpet": [
           {
            "aaxis": {
             "endlinecolor": "#2a3f5f",
             "gridcolor": "white",
             "linecolor": "white",
             "minorgridcolor": "white",
             "startlinecolor": "#2a3f5f"
            },
            "baxis": {
             "endlinecolor": "#2a3f5f",
             "gridcolor": "white",
             "linecolor": "white",
             "minorgridcolor": "white",
             "startlinecolor": "#2a3f5f"
            },
            "type": "carpet"
           }
          ],
          "choropleth": [
           {
            "colorbar": {
             "outlinewidth": 0,
             "ticks": ""
            },
            "type": "choropleth"
           }
          ],
          "contour": [
           {
            "colorbar": {
             "outlinewidth": 0,
             "ticks": ""
            },
            "colorscale": [
             [
              0,
              "#0d0887"
             ],
             [
              0.1111111111111111,
              "#46039f"
             ],
             [
              0.2222222222222222,
              "#7201a8"
             ],
             [
              0.3333333333333333,
              "#9c179e"
             ],
             [
              0.4444444444444444,
              "#bd3786"
             ],
             [
              0.5555555555555556,
              "#d8576b"
             ],
             [
              0.6666666666666666,
              "#ed7953"
             ],
             [
              0.7777777777777778,
              "#fb9f3a"
             ],
             [
              0.8888888888888888,
              "#fdca26"
             ],
             [
              1,
              "#f0f921"
             ]
            ],
            "type": "contour"
           }
          ],
          "contourcarpet": [
           {
            "colorbar": {
             "outlinewidth": 0,
             "ticks": ""
            },
            "type": "contourcarpet"
           }
          ],
          "heatmap": [
           {
            "colorbar": {
             "outlinewidth": 0,
             "ticks": ""
            },
            "colorscale": [
             [
              0,
              "#0d0887"
             ],
             [
              0.1111111111111111,
              "#46039f"
             ],
             [
              0.2222222222222222,
              "#7201a8"
             ],
             [
              0.3333333333333333,
              "#9c179e"
             ],
             [
              0.4444444444444444,
              "#bd3786"
             ],
             [
              0.5555555555555556,
              "#d8576b"
             ],
             [
              0.6666666666666666,
              "#ed7953"
             ],
             [
              0.7777777777777778,
              "#fb9f3a"
             ],
             [
              0.8888888888888888,
              "#fdca26"
             ],
             [
              1,
              "#f0f921"
             ]
            ],
            "type": "heatmap"
           }
          ],
          "heatmapgl": [
           {
            "colorbar": {
             "outlinewidth": 0,
             "ticks": ""
            },
            "colorscale": [
             [
              0,
              "#0d0887"
             ],
             [
              0.1111111111111111,
              "#46039f"
             ],
             [
              0.2222222222222222,
              "#7201a8"
             ],
             [
              0.3333333333333333,
              "#9c179e"
             ],
             [
              0.4444444444444444,
              "#bd3786"
             ],
             [
              0.5555555555555556,
              "#d8576b"
             ],
             [
              0.6666666666666666,
              "#ed7953"
             ],
             [
              0.7777777777777778,
              "#fb9f3a"
             ],
             [
              0.8888888888888888,
              "#fdca26"
             ],
             [
              1,
              "#f0f921"
             ]
            ],
            "type": "heatmapgl"
           }
          ],
          "histogram": [
           {
            "marker": {
             "pattern": {
              "fillmode": "overlay",
              "size": 10,
              "solidity": 0.2
             }
            },
            "type": "histogram"
           }
          ],
          "histogram2d": [
           {
            "colorbar": {
             "outlinewidth": 0,
             "ticks": ""
            },
            "colorscale": [
             [
              0,
              "#0d0887"
             ],
             [
              0.1111111111111111,
              "#46039f"
             ],
             [
              0.2222222222222222,
              "#7201a8"
             ],
             [
              0.3333333333333333,
              "#9c179e"
             ],
             [
              0.4444444444444444,
              "#bd3786"
             ],
             [
              0.5555555555555556,
              "#d8576b"
             ],
             [
              0.6666666666666666,
              "#ed7953"
             ],
             [
              0.7777777777777778,
              "#fb9f3a"
             ],
             [
              0.8888888888888888,
              "#fdca26"
             ],
             [
              1,
              "#f0f921"
             ]
            ],
            "type": "histogram2d"
           }
          ],
          "histogram2dcontour": [
           {
            "colorbar": {
             "outlinewidth": 0,
             "ticks": ""
            },
            "colorscale": [
             [
              0,
              "#0d0887"
             ],
             [
              0.1111111111111111,
              "#46039f"
             ],
             [
              0.2222222222222222,
              "#7201a8"
             ],
             [
              0.3333333333333333,
              "#9c179e"
             ],
             [
              0.4444444444444444,
              "#bd3786"
             ],
             [
              0.5555555555555556,
              "#d8576b"
             ],
             [
              0.6666666666666666,
              "#ed7953"
             ],
             [
              0.7777777777777778,
              "#fb9f3a"
             ],
             [
              0.8888888888888888,
              "#fdca26"
             ],
             [
              1,
              "#f0f921"
             ]
            ],
            "type": "histogram2dcontour"
           }
          ],
          "mesh3d": [
           {
            "colorbar": {
             "outlinewidth": 0,
             "ticks": ""
            },
            "type": "mesh3d"
           }
          ],
          "parcoords": [
           {
            "line": {
             "colorbar": {
              "outlinewidth": 0,
              "ticks": ""
             }
            },
            "type": "parcoords"
           }
          ],
          "pie": [
           {
            "automargin": true,
            "type": "pie"
           }
          ],
          "scatter": [
           {
            "fillpattern": {
             "fillmode": "overlay",
             "size": 10,
             "solidity": 0.2
            },
            "type": "scatter"
           }
          ],
          "scatter3d": [
           {
            "line": {
             "colorbar": {
              "outlinewidth": 0,
              "ticks": ""
             }
            },
            "marker": {
             "colorbar": {
              "outlinewidth": 0,
              "ticks": ""
             }
            },
            "type": "scatter3d"
           }
          ],
          "scattercarpet": [
           {
            "marker": {
             "colorbar": {
              "outlinewidth": 0,
              "ticks": ""
             }
            },
            "type": "scattercarpet"
           }
          ],
          "scattergeo": [
           {
            "marker": {
             "colorbar": {
              "outlinewidth": 0,
              "ticks": ""
             }
            },
            "type": "scattergeo"
           }
          ],
          "scattergl": [
           {
            "marker": {
             "colorbar": {
              "outlinewidth": 0,
              "ticks": ""
             }
            },
            "type": "scattergl"
           }
          ],
          "scattermapbox": [
           {
            "marker": {
             "colorbar": {
              "outlinewidth": 0,
              "ticks": ""
             }
            },
            "type": "scattermapbox"
           }
          ],
          "scatterpolar": [
           {
            "marker": {
             "colorbar": {
              "outlinewidth": 0,
              "ticks": ""
             }
            },
            "type": "scatterpolar"
           }
          ],
          "scatterpolargl": [
           {
            "marker": {
             "colorbar": {
              "outlinewidth": 0,
              "ticks": ""
             }
            },
            "type": "scatterpolargl"
           }
          ],
          "scatterternary": [
           {
            "marker": {
             "colorbar": {
              "outlinewidth": 0,
              "ticks": ""
             }
            },
            "type": "scatterternary"
           }
          ],
          "surface": [
           {
            "colorbar": {
             "outlinewidth": 0,
             "ticks": ""
            },
            "colorscale": [
             [
              0,
              "#0d0887"
             ],
             [
              0.1111111111111111,
              "#46039f"
             ],
             [
              0.2222222222222222,
              "#7201a8"
             ],
             [
              0.3333333333333333,
              "#9c179e"
             ],
             [
              0.4444444444444444,
              "#bd3786"
             ],
             [
              0.5555555555555556,
              "#d8576b"
             ],
             [
              0.6666666666666666,
              "#ed7953"
             ],
             [
              0.7777777777777778,
              "#fb9f3a"
             ],
             [
              0.8888888888888888,
              "#fdca26"
             ],
             [
              1,
              "#f0f921"
             ]
            ],
            "type": "surface"
           }
          ],
          "table": [
           {
            "cells": {
             "fill": {
              "color": "#EBF0F8"
             },
             "line": {
              "color": "white"
             }
            },
            "header": {
             "fill": {
              "color": "#C8D4E3"
             },
             "line": {
              "color": "white"
             }
            },
            "type": "table"
           }
          ]
         },
         "layout": {
          "annotationdefaults": {
           "arrowcolor": "#2a3f5f",
           "arrowhead": 0,
           "arrowwidth": 1
          },
          "autotypenumbers": "strict",
          "coloraxis": {
           "colorbar": {
            "outlinewidth": 0,
            "ticks": ""
           }
          },
          "colorscale": {
           "diverging": [
            [
             0,
             "#8e0152"
            ],
            [
             0.1,
             "#c51b7d"
            ],
            [
             0.2,
             "#de77ae"
            ],
            [
             0.3,
             "#f1b6da"
            ],
            [
             0.4,
             "#fde0ef"
            ],
            [
             0.5,
             "#f7f7f7"
            ],
            [
             0.6,
             "#e6f5d0"
            ],
            [
             0.7,
             "#b8e186"
            ],
            [
             0.8,
             "#7fbc41"
            ],
            [
             0.9,
             "#4d9221"
            ],
            [
             1,
             "#276419"
            ]
           ],
           "sequential": [
            [
             0,
             "#0d0887"
            ],
            [
             0.1111111111111111,
             "#46039f"
            ],
            [
             0.2222222222222222,
             "#7201a8"
            ],
            [
             0.3333333333333333,
             "#9c179e"
            ],
            [
             0.4444444444444444,
             "#bd3786"
            ],
            [
             0.5555555555555556,
             "#d8576b"
            ],
            [
             0.6666666666666666,
             "#ed7953"
            ],
            [
             0.7777777777777778,
             "#fb9f3a"
            ],
            [
             0.8888888888888888,
             "#fdca26"
            ],
            [
             1,
             "#f0f921"
            ]
           ],
           "sequentialminus": [
            [
             0,
             "#0d0887"
            ],
            [
             0.1111111111111111,
             "#46039f"
            ],
            [
             0.2222222222222222,
             "#7201a8"
            ],
            [
             0.3333333333333333,
             "#9c179e"
            ],
            [
             0.4444444444444444,
             "#bd3786"
            ],
            [
             0.5555555555555556,
             "#d8576b"
            ],
            [
             0.6666666666666666,
             "#ed7953"
            ],
            [
             0.7777777777777778,
             "#fb9f3a"
            ],
            [
             0.8888888888888888,
             "#fdca26"
            ],
            [
             1,
             "#f0f921"
            ]
           ]
          },
          "colorway": [
           "#636efa",
           "#EF553B",
           "#00cc96",
           "#ab63fa",
           "#FFA15A",
           "#19d3f3",
           "#FF6692",
           "#B6E880",
           "#FF97FF",
           "#FECB52"
          ],
          "font": {
           "color": "#2a3f5f"
          },
          "geo": {
           "bgcolor": "white",
           "lakecolor": "white",
           "landcolor": "#E5ECF6",
           "showlakes": true,
           "showland": true,
           "subunitcolor": "white"
          },
          "hoverlabel": {
           "align": "left"
          },
          "hovermode": "closest",
          "mapbox": {
           "style": "light"
          },
          "paper_bgcolor": "white",
          "plot_bgcolor": "#E5ECF6",
          "polar": {
           "angularaxis": {
            "gridcolor": "white",
            "linecolor": "white",
            "ticks": ""
           },
           "bgcolor": "#E5ECF6",
           "radialaxis": {
            "gridcolor": "white",
            "linecolor": "white",
            "ticks": ""
           }
          },
          "scene": {
           "xaxis": {
            "backgroundcolor": "#E5ECF6",
            "gridcolor": "white",
            "gridwidth": 2,
            "linecolor": "white",
            "showbackground": true,
            "ticks": "",
            "zerolinecolor": "white"
           },
           "yaxis": {
            "backgroundcolor": "#E5ECF6",
            "gridcolor": "white",
            "gridwidth": 2,
            "linecolor": "white",
            "showbackground": true,
            "ticks": "",
            "zerolinecolor": "white"
           },
           "zaxis": {
            "backgroundcolor": "#E5ECF6",
            "gridcolor": "white",
            "gridwidth": 2,
            "linecolor": "white",
            "showbackground": true,
            "ticks": "",
            "zerolinecolor": "white"
           }
          },
          "shapedefaults": {
           "line": {
            "color": "#2a3f5f"
           }
          },
          "ternary": {
           "aaxis": {
            "gridcolor": "white",
            "linecolor": "white",
            "ticks": ""
           },
           "baxis": {
            "gridcolor": "white",
            "linecolor": "white",
            "ticks": ""
           },
           "bgcolor": "#E5ECF6",
           "caxis": {
            "gridcolor": "white",
            "linecolor": "white",
            "ticks": ""
           }
          },
          "title": {
           "x": 0.05
          },
          "xaxis": {
           "automargin": true,
           "gridcolor": "white",
           "linecolor": "white",
           "ticks": "",
           "title": {
            "standoff": 15
           },
           "zerolinecolor": "white",
           "zerolinewidth": 2
          },
          "yaxis": {
           "automargin": true,
           "gridcolor": "white",
           "linecolor": "white",
           "ticks": "",
           "title": {
            "standoff": 15
           },
           "zerolinecolor": "white",
           "zerolinewidth": 2
          }
         }
        },
        "title": {
         "text": "company_sector"
        },
        "xaxis": {
         "anchor": "y",
         "domain": [
          0,
          1
         ],
         "title": {
          "text": "value"
         }
        },
        "xaxis2": {
         "anchor": "y2",
         "domain": [
          0,
          1
         ],
         "matches": "x",
         "showgrid": true,
         "showticklabels": false
        },
        "yaxis": {
         "anchor": "x",
         "domain": [
          0,
          0.7326
         ],
         "title": {
          "text": "count"
         }
        },
        "yaxis2": {
         "anchor": "x2",
         "domain": [
          0.7426,
          1
         ],
         "matches": "y2",
         "showgrid": false,
         "showline": false,
         "showticklabels": false,
         "ticks": ""
        }
       }
      }
     },
     "metadata": {},
     "output_type": "display_data"
    },
    {
     "data": {
      "application/vnd.plotly.v1+json": {
       "config": {
        "plotlyServerURL": "https://plot.ly"
       },
       "data": [
        {
         "alignmentgroup": "True",
         "bingroup": "x",
         "hovertemplate": "variable=company_type<br>value=%{x}<br>count=%{y}<extra></extra>",
         "legendgroup": "company_type",
         "marker": {
          "color": "#3F72AF",
          "pattern": {
           "shape": ""
          }
         },
         "name": "company_type",
         "nbinsx": 2,
         "offsetgroup": "company_type",
         "orientation": "v",
         "showlegend": true,
         "type": "histogram",
         "x": [
          "pub",
          "pub",
          "pri",
          "pub",
          "pub",
          "pub",
          "pub",
          "pub",
          "pub",
          "pub",
          "pub",
          "pub",
          "pub",
          "pri",
          "pub",
          "pub",
          "pub",
          "pub",
          null,
          null,
          "pub",
          "pri",
          null,
          "pub",
          "pub",
          "pub",
          null,
          "pub",
          "pub",
          null,
          "pub",
          null,
          "pri",
          "pub",
          null,
          "pub",
          "pub",
          null,
          "pub",
          "pub",
          "pub",
          "pub",
          "pri",
          "pri",
          "pub",
          "pub",
          "pub",
          "pri",
          "pub",
          "pub",
          "pub",
          "pub",
          "pub",
          null,
          "pub",
          null,
          "pub",
          "pub",
          "pub",
          "pub",
          "pub",
          null,
          "pub",
          "pub",
          null,
          "pri",
          "pub",
          "pub",
          "pub",
          "pub",
          "pub",
          "pri",
          "pri",
          "pub",
          null,
          null,
          "pub",
          "pub",
          "pri",
          "pub",
          "pub",
          null,
          "pub",
          "pub",
          null,
          "pri",
          null,
          "pub",
          "pub",
          "pub",
          "pub",
          "pub",
          null,
          "pub",
          "pub",
          "pub",
          "pub",
          "pri",
          "pri",
          null,
          "pri",
          "pub",
          "pub",
          "pub",
          "pri",
          "pub",
          null,
          "pub",
          "pri",
          "pub",
          "pri",
          null,
          null,
          "pri",
          "pri",
          "pub",
          "pub",
          null,
          null,
          null,
          null,
          "pub",
          "pri",
          "pri",
          null,
          "pub",
          null,
          null,
          "pri",
          "pri",
          "pri",
          "pri",
          "pri",
          "pri",
          "pub",
          "pri",
          "pri",
          "pub",
          "pri",
          null,
          "pri",
          "pri",
          null,
          "pub",
          null,
          "pub",
          "pub",
          null,
          "pri",
          "pri",
          "pri",
          null,
          "pub",
          "pub",
          "pub",
          "pub",
          "pub",
          "pri",
          "pri",
          "pri",
          "pub",
          "pri",
          "pub",
          "pub",
          null,
          "pub",
          "pri",
          "pub",
          "pri",
          "pri",
          "pub",
          "pri",
          "pub",
          "pub",
          "pub",
          null,
          "pri",
          "pri",
          "pri",
          "pri",
          "pri",
          "pri",
          "pri",
          "pri",
          null,
          "pub",
          null,
          "pub",
          "pub",
          "pub",
          null,
          null,
          "pri",
          null,
          "pri",
          null,
          null
         ],
         "xaxis": "x",
         "yaxis": "y"
        },
        {
         "alignmentgroup": "True",
         "hovertemplate": "variable=company_type<br>value=%{x}<extra></extra>",
         "legendgroup": "company_type",
         "marker": {
          "color": "#3F72AF"
         },
         "name": "company_type",
         "notched": true,
         "offsetgroup": "company_type",
         "showlegend": false,
         "type": "box",
         "x": [
          "pub",
          "pub",
          "pri",
          "pub",
          "pub",
          "pub",
          "pub",
          "pub",
          "pub",
          "pub",
          "pub",
          "pub",
          "pub",
          "pri",
          "pub",
          "pub",
          "pub",
          "pub",
          null,
          null,
          "pub",
          "pri",
          null,
          "pub",
          "pub",
          "pub",
          null,
          "pub",
          "pub",
          null,
          "pub",
          null,
          "pri",
          "pub",
          null,
          "pub",
          "pub",
          null,
          "pub",
          "pub",
          "pub",
          "pub",
          "pri",
          "pri",
          "pub",
          "pub",
          "pub",
          "pri",
          "pub",
          "pub",
          "pub",
          "pub",
          "pub",
          null,
          "pub",
          null,
          "pub",
          "pub",
          "pub",
          "pub",
          "pub",
          null,
          "pub",
          "pub",
          null,
          "pri",
          "pub",
          "pub",
          "pub",
          "pub",
          "pub",
          "pri",
          "pri",
          "pub",
          null,
          null,
          "pub",
          "pub",
          "pri",
          "pub",
          "pub",
          null,
          "pub",
          "pub",
          null,
          "pri",
          null,
          "pub",
          "pub",
          "pub",
          "pub",
          "pub",
          null,
          "pub",
          "pub",
          "pub",
          "pub",
          "pri",
          "pri",
          null,
          "pri",
          "pub",
          "pub",
          "pub",
          "pri",
          "pub",
          null,
          "pub",
          "pri",
          "pub",
          "pri",
          null,
          null,
          "pri",
          "pri",
          "pub",
          "pub",
          null,
          null,
          null,
          null,
          "pub",
          "pri",
          "pri",
          null,
          "pub",
          null,
          null,
          "pri",
          "pri",
          "pri",
          "pri",
          "pri",
          "pri",
          "pub",
          "pri",
          "pri",
          "pub",
          "pri",
          null,
          "pri",
          "pri",
          null,
          "pub",
          null,
          "pub",
          "pub",
          null,
          "pri",
          "pri",
          "pri",
          null,
          "pub",
          "pub",
          "pub",
          "pub",
          "pub",
          "pri",
          "pri",
          "pri",
          "pub",
          "pri",
          "pub",
          "pub",
          null,
          "pub",
          "pri",
          "pub",
          "pri",
          "pri",
          "pub",
          "pri",
          "pub",
          "pub",
          "pub",
          null,
          "pri",
          "pri",
          "pri",
          "pri",
          "pri",
          "pri",
          "pri",
          "pri",
          null,
          "pub",
          null,
          "pub",
          "pub",
          "pub",
          null,
          null,
          "pri",
          null,
          "pri",
          null,
          null
         ],
         "xaxis": "x2",
         "yaxis": "y2"
        }
       ],
       "layout": {
        "bargap": 0.1,
        "barmode": "relative",
        "legend": {
         "title": {
          "text": "variable"
         },
         "tracegroupgap": 0
        },
        "margin": {
         "t": 60
        },
        "template": {
         "data": {
          "bar": [
           {
            "error_x": {
             "color": "#2a3f5f"
            },
            "error_y": {
             "color": "#2a3f5f"
            },
            "marker": {
             "line": {
              "color": "#E5ECF6",
              "width": 0.5
             },
             "pattern": {
              "fillmode": "overlay",
              "size": 10,
              "solidity": 0.2
             }
            },
            "type": "bar"
           }
          ],
          "barpolar": [
           {
            "marker": {
             "line": {
              "color": "#E5ECF6",
              "width": 0.5
             },
             "pattern": {
              "fillmode": "overlay",
              "size": 10,
              "solidity": 0.2
             }
            },
            "type": "barpolar"
           }
          ],
          "carpet": [
           {
            "aaxis": {
             "endlinecolor": "#2a3f5f",
             "gridcolor": "white",
             "linecolor": "white",
             "minorgridcolor": "white",
             "startlinecolor": "#2a3f5f"
            },
            "baxis": {
             "endlinecolor": "#2a3f5f",
             "gridcolor": "white",
             "linecolor": "white",
             "minorgridcolor": "white",
             "startlinecolor": "#2a3f5f"
            },
            "type": "carpet"
           }
          ],
          "choropleth": [
           {
            "colorbar": {
             "outlinewidth": 0,
             "ticks": ""
            },
            "type": "choropleth"
           }
          ],
          "contour": [
           {
            "colorbar": {
             "outlinewidth": 0,
             "ticks": ""
            },
            "colorscale": [
             [
              0,
              "#0d0887"
             ],
             [
              0.1111111111111111,
              "#46039f"
             ],
             [
              0.2222222222222222,
              "#7201a8"
             ],
             [
              0.3333333333333333,
              "#9c179e"
             ],
             [
              0.4444444444444444,
              "#bd3786"
             ],
             [
              0.5555555555555556,
              "#d8576b"
             ],
             [
              0.6666666666666666,
              "#ed7953"
             ],
             [
              0.7777777777777778,
              "#fb9f3a"
             ],
             [
              0.8888888888888888,
              "#fdca26"
             ],
             [
              1,
              "#f0f921"
             ]
            ],
            "type": "contour"
           }
          ],
          "contourcarpet": [
           {
            "colorbar": {
             "outlinewidth": 0,
             "ticks": ""
            },
            "type": "contourcarpet"
           }
          ],
          "heatmap": [
           {
            "colorbar": {
             "outlinewidth": 0,
             "ticks": ""
            },
            "colorscale": [
             [
              0,
              "#0d0887"
             ],
             [
              0.1111111111111111,
              "#46039f"
             ],
             [
              0.2222222222222222,
              "#7201a8"
             ],
             [
              0.3333333333333333,
              "#9c179e"
             ],
             [
              0.4444444444444444,
              "#bd3786"
             ],
             [
              0.5555555555555556,
              "#d8576b"
             ],
             [
              0.6666666666666666,
              "#ed7953"
             ],
             [
              0.7777777777777778,
              "#fb9f3a"
             ],
             [
              0.8888888888888888,
              "#fdca26"
             ],
             [
              1,
              "#f0f921"
             ]
            ],
            "type": "heatmap"
           }
          ],
          "heatmapgl": [
           {
            "colorbar": {
             "outlinewidth": 0,
             "ticks": ""
            },
            "colorscale": [
             [
              0,
              "#0d0887"
             ],
             [
              0.1111111111111111,
              "#46039f"
             ],
             [
              0.2222222222222222,
              "#7201a8"
             ],
             [
              0.3333333333333333,
              "#9c179e"
             ],
             [
              0.4444444444444444,
              "#bd3786"
             ],
             [
              0.5555555555555556,
              "#d8576b"
             ],
             [
              0.6666666666666666,
              "#ed7953"
             ],
             [
              0.7777777777777778,
              "#fb9f3a"
             ],
             [
              0.8888888888888888,
              "#fdca26"
             ],
             [
              1,
              "#f0f921"
             ]
            ],
            "type": "heatmapgl"
           }
          ],
          "histogram": [
           {
            "marker": {
             "pattern": {
              "fillmode": "overlay",
              "size": 10,
              "solidity": 0.2
             }
            },
            "type": "histogram"
           }
          ],
          "histogram2d": [
           {
            "colorbar": {
             "outlinewidth": 0,
             "ticks": ""
            },
            "colorscale": [
             [
              0,
              "#0d0887"
             ],
             [
              0.1111111111111111,
              "#46039f"
             ],
             [
              0.2222222222222222,
              "#7201a8"
             ],
             [
              0.3333333333333333,
              "#9c179e"
             ],
             [
              0.4444444444444444,
              "#bd3786"
             ],
             [
              0.5555555555555556,
              "#d8576b"
             ],
             [
              0.6666666666666666,
              "#ed7953"
             ],
             [
              0.7777777777777778,
              "#fb9f3a"
             ],
             [
              0.8888888888888888,
              "#fdca26"
             ],
             [
              1,
              "#f0f921"
             ]
            ],
            "type": "histogram2d"
           }
          ],
          "histogram2dcontour": [
           {
            "colorbar": {
             "outlinewidth": 0,
             "ticks": ""
            },
            "colorscale": [
             [
              0,
              "#0d0887"
             ],
             [
              0.1111111111111111,
              "#46039f"
             ],
             [
              0.2222222222222222,
              "#7201a8"
             ],
             [
              0.3333333333333333,
              "#9c179e"
             ],
             [
              0.4444444444444444,
              "#bd3786"
             ],
             [
              0.5555555555555556,
              "#d8576b"
             ],
             [
              0.6666666666666666,
              "#ed7953"
             ],
             [
              0.7777777777777778,
              "#fb9f3a"
             ],
             [
              0.8888888888888888,
              "#fdca26"
             ],
             [
              1,
              "#f0f921"
             ]
            ],
            "type": "histogram2dcontour"
           }
          ],
          "mesh3d": [
           {
            "colorbar": {
             "outlinewidth": 0,
             "ticks": ""
            },
            "type": "mesh3d"
           }
          ],
          "parcoords": [
           {
            "line": {
             "colorbar": {
              "outlinewidth": 0,
              "ticks": ""
             }
            },
            "type": "parcoords"
           }
          ],
          "pie": [
           {
            "automargin": true,
            "type": "pie"
           }
          ],
          "scatter": [
           {
            "fillpattern": {
             "fillmode": "overlay",
             "size": 10,
             "solidity": 0.2
            },
            "type": "scatter"
           }
          ],
          "scatter3d": [
           {
            "line": {
             "colorbar": {
              "outlinewidth": 0,
              "ticks": ""
             }
            },
            "marker": {
             "colorbar": {
              "outlinewidth": 0,
              "ticks": ""
             }
            },
            "type": "scatter3d"
           }
          ],
          "scattercarpet": [
           {
            "marker": {
             "colorbar": {
              "outlinewidth": 0,
              "ticks": ""
             }
            },
            "type": "scattercarpet"
           }
          ],
          "scattergeo": [
           {
            "marker": {
             "colorbar": {
              "outlinewidth": 0,
              "ticks": ""
             }
            },
            "type": "scattergeo"
           }
          ],
          "scattergl": [
           {
            "marker": {
             "colorbar": {
              "outlinewidth": 0,
              "ticks": ""
             }
            },
            "type": "scattergl"
           }
          ],
          "scattermapbox": [
           {
            "marker": {
             "colorbar": {
              "outlinewidth": 0,
              "ticks": ""
             }
            },
            "type": "scattermapbox"
           }
          ],
          "scatterpolar": [
           {
            "marker": {
             "colorbar": {
              "outlinewidth": 0,
              "ticks": ""
             }
            },
            "type": "scatterpolar"
           }
          ],
          "scatterpolargl": [
           {
            "marker": {
             "colorbar": {
              "outlinewidth": 0,
              "ticks": ""
             }
            },
            "type": "scatterpolargl"
           }
          ],
          "scatterternary": [
           {
            "marker": {
             "colorbar": {
              "outlinewidth": 0,
              "ticks": ""
             }
            },
            "type": "scatterternary"
           }
          ],
          "surface": [
           {
            "colorbar": {
             "outlinewidth": 0,
             "ticks": ""
            },
            "colorscale": [
             [
              0,
              "#0d0887"
             ],
             [
              0.1111111111111111,
              "#46039f"
             ],
             [
              0.2222222222222222,
              "#7201a8"
             ],
             [
              0.3333333333333333,
              "#9c179e"
             ],
             [
              0.4444444444444444,
              "#bd3786"
             ],
             [
              0.5555555555555556,
              "#d8576b"
             ],
             [
              0.6666666666666666,
              "#ed7953"
             ],
             [
              0.7777777777777778,
              "#fb9f3a"
             ],
             [
              0.8888888888888888,
              "#fdca26"
             ],
             [
              1,
              "#f0f921"
             ]
            ],
            "type": "surface"
           }
          ],
          "table": [
           {
            "cells": {
             "fill": {
              "color": "#EBF0F8"
             },
             "line": {
              "color": "white"
             }
            },
            "header": {
             "fill": {
              "color": "#C8D4E3"
             },
             "line": {
              "color": "white"
             }
            },
            "type": "table"
           }
          ]
         },
         "layout": {
          "annotationdefaults": {
           "arrowcolor": "#2a3f5f",
           "arrowhead": 0,
           "arrowwidth": 1
          },
          "autotypenumbers": "strict",
          "coloraxis": {
           "colorbar": {
            "outlinewidth": 0,
            "ticks": ""
           }
          },
          "colorscale": {
           "diverging": [
            [
             0,
             "#8e0152"
            ],
            [
             0.1,
             "#c51b7d"
            ],
            [
             0.2,
             "#de77ae"
            ],
            [
             0.3,
             "#f1b6da"
            ],
            [
             0.4,
             "#fde0ef"
            ],
            [
             0.5,
             "#f7f7f7"
            ],
            [
             0.6,
             "#e6f5d0"
            ],
            [
             0.7,
             "#b8e186"
            ],
            [
             0.8,
             "#7fbc41"
            ],
            [
             0.9,
             "#4d9221"
            ],
            [
             1,
             "#276419"
            ]
           ],
           "sequential": [
            [
             0,
             "#0d0887"
            ],
            [
             0.1111111111111111,
             "#46039f"
            ],
            [
             0.2222222222222222,
             "#7201a8"
            ],
            [
             0.3333333333333333,
             "#9c179e"
            ],
            [
             0.4444444444444444,
             "#bd3786"
            ],
            [
             0.5555555555555556,
             "#d8576b"
            ],
            [
             0.6666666666666666,
             "#ed7953"
            ],
            [
             0.7777777777777778,
             "#fb9f3a"
            ],
            [
             0.8888888888888888,
             "#fdca26"
            ],
            [
             1,
             "#f0f921"
            ]
           ],
           "sequentialminus": [
            [
             0,
             "#0d0887"
            ],
            [
             0.1111111111111111,
             "#46039f"
            ],
            [
             0.2222222222222222,
             "#7201a8"
            ],
            [
             0.3333333333333333,
             "#9c179e"
            ],
            [
             0.4444444444444444,
             "#bd3786"
            ],
            [
             0.5555555555555556,
             "#d8576b"
            ],
            [
             0.6666666666666666,
             "#ed7953"
            ],
            [
             0.7777777777777778,
             "#fb9f3a"
            ],
            [
             0.8888888888888888,
             "#fdca26"
            ],
            [
             1,
             "#f0f921"
            ]
           ]
          },
          "colorway": [
           "#636efa",
           "#EF553B",
           "#00cc96",
           "#ab63fa",
           "#FFA15A",
           "#19d3f3",
           "#FF6692",
           "#B6E880",
           "#FF97FF",
           "#FECB52"
          ],
          "font": {
           "color": "#2a3f5f"
          },
          "geo": {
           "bgcolor": "white",
           "lakecolor": "white",
           "landcolor": "#E5ECF6",
           "showlakes": true,
           "showland": true,
           "subunitcolor": "white"
          },
          "hoverlabel": {
           "align": "left"
          },
          "hovermode": "closest",
          "mapbox": {
           "style": "light"
          },
          "paper_bgcolor": "white",
          "plot_bgcolor": "#E5ECF6",
          "polar": {
           "angularaxis": {
            "gridcolor": "white",
            "linecolor": "white",
            "ticks": ""
           },
           "bgcolor": "#E5ECF6",
           "radialaxis": {
            "gridcolor": "white",
            "linecolor": "white",
            "ticks": ""
           }
          },
          "scene": {
           "xaxis": {
            "backgroundcolor": "#E5ECF6",
            "gridcolor": "white",
            "gridwidth": 2,
            "linecolor": "white",
            "showbackground": true,
            "ticks": "",
            "zerolinecolor": "white"
           },
           "yaxis": {
            "backgroundcolor": "#E5ECF6",
            "gridcolor": "white",
            "gridwidth": 2,
            "linecolor": "white",
            "showbackground": true,
            "ticks": "",
            "zerolinecolor": "white"
           },
           "zaxis": {
            "backgroundcolor": "#E5ECF6",
            "gridcolor": "white",
            "gridwidth": 2,
            "linecolor": "white",
            "showbackground": true,
            "ticks": "",
            "zerolinecolor": "white"
           }
          },
          "shapedefaults": {
           "line": {
            "color": "#2a3f5f"
           }
          },
          "ternary": {
           "aaxis": {
            "gridcolor": "white",
            "linecolor": "white",
            "ticks": ""
           },
           "baxis": {
            "gridcolor": "white",
            "linecolor": "white",
            "ticks": ""
           },
           "bgcolor": "#E5ECF6",
           "caxis": {
            "gridcolor": "white",
            "linecolor": "white",
            "ticks": ""
           }
          },
          "title": {
           "x": 0.05
          },
          "xaxis": {
           "automargin": true,
           "gridcolor": "white",
           "linecolor": "white",
           "ticks": "",
           "title": {
            "standoff": 15
           },
           "zerolinecolor": "white",
           "zerolinewidth": 2
          },
          "yaxis": {
           "automargin": true,
           "gridcolor": "white",
           "linecolor": "white",
           "ticks": "",
           "title": {
            "standoff": 15
           },
           "zerolinecolor": "white",
           "zerolinewidth": 2
          }
         }
        },
        "title": {
         "text": "company_type"
        },
        "xaxis": {
         "anchor": "y",
         "domain": [
          0,
          1
         ],
         "title": {
          "text": "value"
         }
        },
        "xaxis2": {
         "anchor": "y2",
         "domain": [
          0,
          1
         ],
         "matches": "x",
         "showgrid": true,
         "showticklabels": false
        },
        "yaxis": {
         "anchor": "x",
         "domain": [
          0,
          0.7326
         ],
         "title": {
          "text": "count"
         }
        },
        "yaxis2": {
         "anchor": "x2",
         "domain": [
          0.7426,
          1
         ],
         "matches": "y2",
         "showgrid": false,
         "showline": false,
         "showticklabels": false,
         "ticks": ""
        }
       }
      }
     },
     "metadata": {},
     "output_type": "display_data"
    },
    {
     "data": {
      "application/vnd.plotly.v1+json": {
       "config": {
        "plotlyServerURL": "https://plot.ly"
       },
       "data": [
        {
         "alignmentgroup": "True",
         "bingroup": "x",
         "hovertemplate": "variable=highly_rated_for<br>value=%{x}<br>count=%{y}<extra></extra>",
         "legendgroup": "highly_rated_for",
         "marker": {
          "color": "#3F72AF",
          "pattern": {
           "shape": ""
          }
         },
         "name": "highly_rated_for",
         "nbinsx": 64,
         "offsetgroup": "highly_rated_for",
         "orientation": "v",
         "showlegend": true,
         "type": "histogram",
         "x": [
          "Job Security, Work Life Balance",
          "Company Culture, Job Security, Skill Development / Learning",
          "Skill Development / Learning",
          "Job Security",
          "Job Security, Skill Development / Learning",
          "Job Security, Skill Development / Learning, Company Culture",
          "Job Security, Company Culture, Skill Development / Learning",
          "Job Security, Work Life Balance, Skill Development / Learning",
          "Job Security",
          "Promotions / Appraisal, Salary & Benefits",
          "Job Security, Skill Development / Learning, Work Life Balance",
          "Job Security",
          "Job Security, Company Culture",
          "Promotions / Appraisal, Salary & Benefits, Work Satisfaction",
          "Company Culture, Salary & Benefits, Work Life Balance",
          "Job Security, Skill Development / Learning",
          "Work Life Balance, Job Security, Skill Development / Learning",
          "Job Security, Skill Development / Learning",
          "Skill Development / Learning, Job Security",
          "Skill Development / Learning, Job Security, Company Culture",
          "Company Culture, Work Life Balance, Salary & Benefits",
          "Job Security, Work Life Balance, Company Culture",
          "Job Security, Salary & Benefits, Skill Development / Learning",
          "Job Security",
          "Job Security, Skill Development / Learning, Work Life Balance",
          "Skill Development / Learning, Job Security, Company Culture",
          "Company Culture, Skill Development / Learning, Job Security",
          "Job Security, Skill Development / Learning, Company Culture",
          "Skill Development / Learning, Company Culture, Job Security",
          "Job Security",
          "Promotions / Appraisal, Salary & Benefits, Work Satisfaction",
          "Job Security",
          "Skill Development / Learning, Job Security, Company Culture",
          "Job Security, Skill Development / Learning, Company Culture",
          "Job Security, Company Culture, Skill Development / Learning",
          "Work Life Balance",
          "Salary & Benefits, Job Security, Skill Development / Learning",
          "Promotions / Appraisal, Salary & Benefits",
          "Skill Development / Learning, Job Security, Company Culture",
          "Promotions / Appraisal, Salary & Benefits, Work Satisfaction",
          "Salary & Benefits, Skill Development / Learning, Job Security",
          "Promotions / Appraisal, Salary & Benefits, Work Satisfaction",
          "Job Security",
          "Job Security, Work Life Balance, Company Culture",
          "Salary & Benefits, Job Security, Skill Development / Learning",
          "Job Security, Company Culture, Work Life Balance",
          "Promotions / Appraisal, Salary & Benefits, Work Satisfaction",
          "Company Culture, Work Life Balance, Job Security",
          "Job Security, Salary & Benefits, Skill Development / Learning",
          "Salary & Benefits, Skill Development / Learning, Job Security",
          "Salary & Benefits, Work Life Balance",
          "Skill Development / Learning, Salary & Benefits, Work Life Balance",
          "Skill Development / Learning, Company Culture, Work Life Balance",
          "Promotions / Appraisal, Salary & Benefits",
          "Job Security, Skill Development / Learning, Company Culture",
          "Job Security, Work Life Balance",
          "Job Security",
          "Job Security, Promotions / Appraisal, Company Culture",
          "Job Security, Skill Development / Learning, Company Culture",
          "Job Security, Skill Development / Learning, Salary & Benefits",
          "Promotions / Appraisal",
          "Salary & Benefits, Skill Development / Learning, Job Security",
          "Skill Development / Learning, Company Culture, Work Life Balance",
          "Job Security, Company Culture, Work Satisfaction",
          "Job Security",
          "Salary & Benefits, Skill Development / Learning",
          "Job Security",
          "Job Security, Skill Development / Learning",
          "Job Security, Skill Development / Learning, Salary & Benefits",
          "Work Life Balance",
          "Job Security, Work Life Balance, Company Culture",
          "Skill Development / Learning",
          "Job Security, Company Culture, Skill Development / Learning",
          "Skill Development / Learning, Job Security, Company Culture",
          "Work Life Balance, Company Culture, Job Security",
          "Company Culture, Work Life Balance, Salary & Benefits",
          "Skill Development / Learning, Salary & Benefits",
          "Job Security, Skill Development / Learning",
          "Promotions / Appraisal, Salary & Benefits",
          "Job Security, Salary & Benefits, Skill Development / Learning",
          "Company Culture, Job Security, Skill Development / Learning",
          "Skill Development / Learning, Company Culture, Job Security",
          "Promotions / Appraisal, Work Satisfaction, Salary & Benefits",
          "Job Security, Salary & Benefits",
          "Company Culture, Skill Development / Learning, Work Life Balance",
          "Job Security, Skill Development / Learning, Company Culture",
          "Job Security",
          "Job Security, Company Culture, Skill Development / Learning",
          "Work Life Balance, Job Security, Company Culture",
          "Skill Development / Learning",
          "Promotions / Appraisal, Salary & Benefits, Work Satisfaction",
          "Job Security, Skill Development / Learning, Salary & Benefits",
          "Job Security, Work Life Balance, Company Culture",
          "Job Security, Skill Development / Learning, Work Life Balance",
          "Skill Development / Learning, Work Satisfaction, Company Culture",
          "Job Security, Skill Development / Learning, Company Culture",
          "Job Security, Company Culture, Work Life Balance",
          "Skill Development / Learning, Job Security, Company Culture",
          "Skill Development / Learning, Company Culture, Work Life Balance",
          "Promotions / Appraisal, Salary & Benefits",
          "Job Security, Skill Development / Learning, Work Life Balance",
          "Promotions / Appraisal, Salary & Benefits",
          "Promotions / Appraisal, Work Satisfaction, Job Security",
          "Job Security, Company Culture, Work Life Balance",
          "Company Culture, Work Life Balance, Job Security",
          "Work Life Balance, Job Security, Company Culture",
          "Salary & Benefits, Work Life Balance, Job Security",
          "Job Security",
          "Job Security, Company Culture",
          "Job Security",
          "Job Security, Skill Development / Learning",
          "Promotions / Appraisal, Work Satisfaction, Work Life Balance",
          "Promotions / Appraisal",
          "Job Security, Salary & Benefits, Skill Development / Learning",
          "Job Security, Company Culture, Work Life Balance",
          "Skill Development / Learning, Salary & Benefits, Company Culture",
          "Skill Development / Learning, Promotions / Appraisal",
          "Work Life Balance, Job Security, Company Culture",
          "Work Life Balance, Company Culture",
          "Company Culture, Work Life Balance, Salary & Benefits",
          "Promotions / Appraisal, Salary & Benefits, Work Satisfaction",
          "Skill Development / Learning",
          "Job Security, Company Culture, Work Life Balance",
          "Company Culture, Work Life Balance, Skill Development / Learning",
          "Job Security, Work Life Balance, Company Culture",
          "Company Culture, Work Life Balance, Skill Development / Learning",
          "Salary & Benefits, Job Security, Skill Development / Learning",
          "Skill Development / Learning, Salary & Benefits, Company Culture",
          "Salary & Benefits, Job Security, Skill Development / Learning",
          "Company Culture, Work Life Balance, Job Security",
          "Company Culture, Skill Development / Learning, Job Security",
          "Job Security, Promotions / Appraisal, Work Satisfaction",
          "Company Culture, Job Security, Salary & Benefits",
          "Job Security, Work Life Balance, Company Culture",
          "Promotions / Appraisal, Salary & Benefits, Work Satisfaction",
          "Skill Development / Learning, Company Culture, Job Security",
          "Job Security",
          "Job Security, Skill Development / Learning",
          "Salary & Benefits",
          "Skill Development / Learning, Work Life Balance, Company Culture",
          "Company Culture, Work Life Balance, Job Security",
          "Skill Development / Learning, Company Culture, Work Satisfaction",
          "Job Security",
          "Promotions / Appraisal",
          "Job Security, Work Life Balance, Company Culture",
          "Job Security, Skill Development / Learning, Company Culture",
          "Job Security, Skill Development / Learning, Company Culture",
          "Company Culture, Skill Development / Learning, Salary & Benefits",
          "Job Security, Skill Development / Learning, Work Life Balance",
          "Job Security, Skill Development / Learning, Company Culture",
          "Salary & Benefits, Job Security, Work Life Balance",
          "Skill Development / Learning, Company Culture, Work Satisfaction",
          "Company Culture, Work Life Balance, Work Satisfaction",
          "Job Security",
          "Salary & Benefits, Skill Development / Learning",
          "Job Security, Company Culture, Skill Development / Learning",
          "Job Security, Skill Development / Learning, Salary & Benefits",
          "Job Security, Work Life Balance, Salary & Benefits",
          "Company Culture, Skill Development / Learning, Work Life Balance",
          "Job Security",
          "Job Security, Salary & Benefits",
          "Promotions / Appraisal, Job Security",
          "Job Security, Company Culture, Skill Development / Learning",
          "Company Culture, Skill Development / Learning, Work Life Balance",
          "Job Security",
          "Salary & Benefits, Work Life Balance, Company Culture",
          "Job Security, Work Life Balance, Company Culture",
          "Job Security",
          "Job Security, Promotions / Appraisal, Work Satisfaction",
          "Job Security, Promotions / Appraisal, Work Satisfaction",
          "Company Culture, Work Life Balance, Skill Development / Learning",
          "Company Culture, Skill Development / Learning, Work Life Balance",
          "Job Security, Skill Development / Learning, Company Culture",
          "Company Culture, Work Life Balance, Salary & Benefits",
          "Promotions / Appraisal",
          "Job Security, Skill Development / Learning, Company Culture",
          "Company Culture, Work Life Balance, Job Security",
          "Job Security, Company Culture, Work Life Balance",
          "Company Culture, Work Life Balance, Job Security",
          "Job Security, Company Culture, Work Life Balance",
          "Job Security, Skill Development / Learning, Company Culture",
          "Work Life Balance, Company Culture, Skill Development / Learning",
          "Job Security",
          "Job Security, Work Life Balance, Company Culture",
          "Job Security, Company Culture, Work Life Balance",
          "Salary & Benefits, Work Life Balance",
          "Job Security, Company Culture",
          "Job Security, Company Culture, Work Life Balance",
          "Job Security",
          "Job Security, Skill Development / Learning, Company Culture",
          "Promotions / Appraisal, Job Security, Work Satisfaction",
          "Job Security, Salary & Benefits, Skill Development / Learning",
          "Work Life Balance, Job Security",
          "Promotions / Appraisal, Salary & Benefits, Skill Development / Learning",
          "Job Security, Work Life Balance, Company Culture",
          "Job Security, Skill Development / Learning, Salary & Benefits",
          "Work Life Balance, Promotions / Appraisal, Work Satisfaction"
         ],
         "xaxis": "x",
         "yaxis": "y"
        },
        {
         "alignmentgroup": "True",
         "hovertemplate": "variable=highly_rated_for<br>value=%{x}<extra></extra>",
         "legendgroup": "highly_rated_for",
         "marker": {
          "color": "#3F72AF"
         },
         "name": "highly_rated_for",
         "notched": true,
         "offsetgroup": "highly_rated_for",
         "showlegend": false,
         "type": "box",
         "x": [
          "Job Security, Work Life Balance",
          "Company Culture, Job Security, Skill Development / Learning",
          "Skill Development / Learning",
          "Job Security",
          "Job Security, Skill Development / Learning",
          "Job Security, Skill Development / Learning, Company Culture",
          "Job Security, Company Culture, Skill Development / Learning",
          "Job Security, Work Life Balance, Skill Development / Learning",
          "Job Security",
          "Promotions / Appraisal, Salary & Benefits",
          "Job Security, Skill Development / Learning, Work Life Balance",
          "Job Security",
          "Job Security, Company Culture",
          "Promotions / Appraisal, Salary & Benefits, Work Satisfaction",
          "Company Culture, Salary & Benefits, Work Life Balance",
          "Job Security, Skill Development / Learning",
          "Work Life Balance, Job Security, Skill Development / Learning",
          "Job Security, Skill Development / Learning",
          "Skill Development / Learning, Job Security",
          "Skill Development / Learning, Job Security, Company Culture",
          "Company Culture, Work Life Balance, Salary & Benefits",
          "Job Security, Work Life Balance, Company Culture",
          "Job Security, Salary & Benefits, Skill Development / Learning",
          "Job Security",
          "Job Security, Skill Development / Learning, Work Life Balance",
          "Skill Development / Learning, Job Security, Company Culture",
          "Company Culture, Skill Development / Learning, Job Security",
          "Job Security, Skill Development / Learning, Company Culture",
          "Skill Development / Learning, Company Culture, Job Security",
          "Job Security",
          "Promotions / Appraisal, Salary & Benefits, Work Satisfaction",
          "Job Security",
          "Skill Development / Learning, Job Security, Company Culture",
          "Job Security, Skill Development / Learning, Company Culture",
          "Job Security, Company Culture, Skill Development / Learning",
          "Work Life Balance",
          "Salary & Benefits, Job Security, Skill Development / Learning",
          "Promotions / Appraisal, Salary & Benefits",
          "Skill Development / Learning, Job Security, Company Culture",
          "Promotions / Appraisal, Salary & Benefits, Work Satisfaction",
          "Salary & Benefits, Skill Development / Learning, Job Security",
          "Promotions / Appraisal, Salary & Benefits, Work Satisfaction",
          "Job Security",
          "Job Security, Work Life Balance, Company Culture",
          "Salary & Benefits, Job Security, Skill Development / Learning",
          "Job Security, Company Culture, Work Life Balance",
          "Promotions / Appraisal, Salary & Benefits, Work Satisfaction",
          "Company Culture, Work Life Balance, Job Security",
          "Job Security, Salary & Benefits, Skill Development / Learning",
          "Salary & Benefits, Skill Development / Learning, Job Security",
          "Salary & Benefits, Work Life Balance",
          "Skill Development / Learning, Salary & Benefits, Work Life Balance",
          "Skill Development / Learning, Company Culture, Work Life Balance",
          "Promotions / Appraisal, Salary & Benefits",
          "Job Security, Skill Development / Learning, Company Culture",
          "Job Security, Work Life Balance",
          "Job Security",
          "Job Security, Promotions / Appraisal, Company Culture",
          "Job Security, Skill Development / Learning, Company Culture",
          "Job Security, Skill Development / Learning, Salary & Benefits",
          "Promotions / Appraisal",
          "Salary & Benefits, Skill Development / Learning, Job Security",
          "Skill Development / Learning, Company Culture, Work Life Balance",
          "Job Security, Company Culture, Work Satisfaction",
          "Job Security",
          "Salary & Benefits, Skill Development / Learning",
          "Job Security",
          "Job Security, Skill Development / Learning",
          "Job Security, Skill Development / Learning, Salary & Benefits",
          "Work Life Balance",
          "Job Security, Work Life Balance, Company Culture",
          "Skill Development / Learning",
          "Job Security, Company Culture, Skill Development / Learning",
          "Skill Development / Learning, Job Security, Company Culture",
          "Work Life Balance, Company Culture, Job Security",
          "Company Culture, Work Life Balance, Salary & Benefits",
          "Skill Development / Learning, Salary & Benefits",
          "Job Security, Skill Development / Learning",
          "Promotions / Appraisal, Salary & Benefits",
          "Job Security, Salary & Benefits, Skill Development / Learning",
          "Company Culture, Job Security, Skill Development / Learning",
          "Skill Development / Learning, Company Culture, Job Security",
          "Promotions / Appraisal, Work Satisfaction, Salary & Benefits",
          "Job Security, Salary & Benefits",
          "Company Culture, Skill Development / Learning, Work Life Balance",
          "Job Security, Skill Development / Learning, Company Culture",
          "Job Security",
          "Job Security, Company Culture, Skill Development / Learning",
          "Work Life Balance, Job Security, Company Culture",
          "Skill Development / Learning",
          "Promotions / Appraisal, Salary & Benefits, Work Satisfaction",
          "Job Security, Skill Development / Learning, Salary & Benefits",
          "Job Security, Work Life Balance, Company Culture",
          "Job Security, Skill Development / Learning, Work Life Balance",
          "Skill Development / Learning, Work Satisfaction, Company Culture",
          "Job Security, Skill Development / Learning, Company Culture",
          "Job Security, Company Culture, Work Life Balance",
          "Skill Development / Learning, Job Security, Company Culture",
          "Skill Development / Learning, Company Culture, Work Life Balance",
          "Promotions / Appraisal, Salary & Benefits",
          "Job Security, Skill Development / Learning, Work Life Balance",
          "Promotions / Appraisal, Salary & Benefits",
          "Promotions / Appraisal, Work Satisfaction, Job Security",
          "Job Security, Company Culture, Work Life Balance",
          "Company Culture, Work Life Balance, Job Security",
          "Work Life Balance, Job Security, Company Culture",
          "Salary & Benefits, Work Life Balance, Job Security",
          "Job Security",
          "Job Security, Company Culture",
          "Job Security",
          "Job Security, Skill Development / Learning",
          "Promotions / Appraisal, Work Satisfaction, Work Life Balance",
          "Promotions / Appraisal",
          "Job Security, Salary & Benefits, Skill Development / Learning",
          "Job Security, Company Culture, Work Life Balance",
          "Skill Development / Learning, Salary & Benefits, Company Culture",
          "Skill Development / Learning, Promotions / Appraisal",
          "Work Life Balance, Job Security, Company Culture",
          "Work Life Balance, Company Culture",
          "Company Culture, Work Life Balance, Salary & Benefits",
          "Promotions / Appraisal, Salary & Benefits, Work Satisfaction",
          "Skill Development / Learning",
          "Job Security, Company Culture, Work Life Balance",
          "Company Culture, Work Life Balance, Skill Development / Learning",
          "Job Security, Work Life Balance, Company Culture",
          "Company Culture, Work Life Balance, Skill Development / Learning",
          "Salary & Benefits, Job Security, Skill Development / Learning",
          "Skill Development / Learning, Salary & Benefits, Company Culture",
          "Salary & Benefits, Job Security, Skill Development / Learning",
          "Company Culture, Work Life Balance, Job Security",
          "Company Culture, Skill Development / Learning, Job Security",
          "Job Security, Promotions / Appraisal, Work Satisfaction",
          "Company Culture, Job Security, Salary & Benefits",
          "Job Security, Work Life Balance, Company Culture",
          "Promotions / Appraisal, Salary & Benefits, Work Satisfaction",
          "Skill Development / Learning, Company Culture, Job Security",
          "Job Security",
          "Job Security, Skill Development / Learning",
          "Salary & Benefits",
          "Skill Development / Learning, Work Life Balance, Company Culture",
          "Company Culture, Work Life Balance, Job Security",
          "Skill Development / Learning, Company Culture, Work Satisfaction",
          "Job Security",
          "Promotions / Appraisal",
          "Job Security, Work Life Balance, Company Culture",
          "Job Security, Skill Development / Learning, Company Culture",
          "Job Security, Skill Development / Learning, Company Culture",
          "Company Culture, Skill Development / Learning, Salary & Benefits",
          "Job Security, Skill Development / Learning, Work Life Balance",
          "Job Security, Skill Development / Learning, Company Culture",
          "Salary & Benefits, Job Security, Work Life Balance",
          "Skill Development / Learning, Company Culture, Work Satisfaction",
          "Company Culture, Work Life Balance, Work Satisfaction",
          "Job Security",
          "Salary & Benefits, Skill Development / Learning",
          "Job Security, Company Culture, Skill Development / Learning",
          "Job Security, Skill Development / Learning, Salary & Benefits",
          "Job Security, Work Life Balance, Salary & Benefits",
          "Company Culture, Skill Development / Learning, Work Life Balance",
          "Job Security",
          "Job Security, Salary & Benefits",
          "Promotions / Appraisal, Job Security",
          "Job Security, Company Culture, Skill Development / Learning",
          "Company Culture, Skill Development / Learning, Work Life Balance",
          "Job Security",
          "Salary & Benefits, Work Life Balance, Company Culture",
          "Job Security, Work Life Balance, Company Culture",
          "Job Security",
          "Job Security, Promotions / Appraisal, Work Satisfaction",
          "Job Security, Promotions / Appraisal, Work Satisfaction",
          "Company Culture, Work Life Balance, Skill Development / Learning",
          "Company Culture, Skill Development / Learning, Work Life Balance",
          "Job Security, Skill Development / Learning, Company Culture",
          "Company Culture, Work Life Balance, Salary & Benefits",
          "Promotions / Appraisal",
          "Job Security, Skill Development / Learning, Company Culture",
          "Company Culture, Work Life Balance, Job Security",
          "Job Security, Company Culture, Work Life Balance",
          "Company Culture, Work Life Balance, Job Security",
          "Job Security, Company Culture, Work Life Balance",
          "Job Security, Skill Development / Learning, Company Culture",
          "Work Life Balance, Company Culture, Skill Development / Learning",
          "Job Security",
          "Job Security, Work Life Balance, Company Culture",
          "Job Security, Company Culture, Work Life Balance",
          "Salary & Benefits, Work Life Balance",
          "Job Security, Company Culture",
          "Job Security, Company Culture, Work Life Balance",
          "Job Security",
          "Job Security, Skill Development / Learning, Company Culture",
          "Promotions / Appraisal, Job Security, Work Satisfaction",
          "Job Security, Salary & Benefits, Skill Development / Learning",
          "Work Life Balance, Job Security",
          "Promotions / Appraisal, Salary & Benefits, Skill Development / Learning",
          "Job Security, Work Life Balance, Company Culture",
          "Job Security, Skill Development / Learning, Salary & Benefits",
          "Work Life Balance, Promotions / Appraisal, Work Satisfaction"
         ],
         "xaxis": "x2",
         "yaxis": "y2"
        }
       ],
       "layout": {
        "bargap": 0.1,
        "barmode": "relative",
        "legend": {
         "title": {
          "text": "variable"
         },
         "tracegroupgap": 0
        },
        "margin": {
         "t": 60
        },
        "template": {
         "data": {
          "bar": [
           {
            "error_x": {
             "color": "#2a3f5f"
            },
            "error_y": {
             "color": "#2a3f5f"
            },
            "marker": {
             "line": {
              "color": "#E5ECF6",
              "width": 0.5
             },
             "pattern": {
              "fillmode": "overlay",
              "size": 10,
              "solidity": 0.2
             }
            },
            "type": "bar"
           }
          ],
          "barpolar": [
           {
            "marker": {
             "line": {
              "color": "#E5ECF6",
              "width": 0.5
             },
             "pattern": {
              "fillmode": "overlay",
              "size": 10,
              "solidity": 0.2
             }
            },
            "type": "barpolar"
           }
          ],
          "carpet": [
           {
            "aaxis": {
             "endlinecolor": "#2a3f5f",
             "gridcolor": "white",
             "linecolor": "white",
             "minorgridcolor": "white",
             "startlinecolor": "#2a3f5f"
            },
            "baxis": {
             "endlinecolor": "#2a3f5f",
             "gridcolor": "white",
             "linecolor": "white",
             "minorgridcolor": "white",
             "startlinecolor": "#2a3f5f"
            },
            "type": "carpet"
           }
          ],
          "choropleth": [
           {
            "colorbar": {
             "outlinewidth": 0,
             "ticks": ""
            },
            "type": "choropleth"
           }
          ],
          "contour": [
           {
            "colorbar": {
             "outlinewidth": 0,
             "ticks": ""
            },
            "colorscale": [
             [
              0,
              "#0d0887"
             ],
             [
              0.1111111111111111,
              "#46039f"
             ],
             [
              0.2222222222222222,
              "#7201a8"
             ],
             [
              0.3333333333333333,
              "#9c179e"
             ],
             [
              0.4444444444444444,
              "#bd3786"
             ],
             [
              0.5555555555555556,
              "#d8576b"
             ],
             [
              0.6666666666666666,
              "#ed7953"
             ],
             [
              0.7777777777777778,
              "#fb9f3a"
             ],
             [
              0.8888888888888888,
              "#fdca26"
             ],
             [
              1,
              "#f0f921"
             ]
            ],
            "type": "contour"
           }
          ],
          "contourcarpet": [
           {
            "colorbar": {
             "outlinewidth": 0,
             "ticks": ""
            },
            "type": "contourcarpet"
           }
          ],
          "heatmap": [
           {
            "colorbar": {
             "outlinewidth": 0,
             "ticks": ""
            },
            "colorscale": [
             [
              0,
              "#0d0887"
             ],
             [
              0.1111111111111111,
              "#46039f"
             ],
             [
              0.2222222222222222,
              "#7201a8"
             ],
             [
              0.3333333333333333,
              "#9c179e"
             ],
             [
              0.4444444444444444,
              "#bd3786"
             ],
             [
              0.5555555555555556,
              "#d8576b"
             ],
             [
              0.6666666666666666,
              "#ed7953"
             ],
             [
              0.7777777777777778,
              "#fb9f3a"
             ],
             [
              0.8888888888888888,
              "#fdca26"
             ],
             [
              1,
              "#f0f921"
             ]
            ],
            "type": "heatmap"
           }
          ],
          "heatmapgl": [
           {
            "colorbar": {
             "outlinewidth": 0,
             "ticks": ""
            },
            "colorscale": [
             [
              0,
              "#0d0887"
             ],
             [
              0.1111111111111111,
              "#46039f"
             ],
             [
              0.2222222222222222,
              "#7201a8"
             ],
             [
              0.3333333333333333,
              "#9c179e"
             ],
             [
              0.4444444444444444,
              "#bd3786"
             ],
             [
              0.5555555555555556,
              "#d8576b"
             ],
             [
              0.6666666666666666,
              "#ed7953"
             ],
             [
              0.7777777777777778,
              "#fb9f3a"
             ],
             [
              0.8888888888888888,
              "#fdca26"
             ],
             [
              1,
              "#f0f921"
             ]
            ],
            "type": "heatmapgl"
           }
          ],
          "histogram": [
           {
            "marker": {
             "pattern": {
              "fillmode": "overlay",
              "size": 10,
              "solidity": 0.2
             }
            },
            "type": "histogram"
           }
          ],
          "histogram2d": [
           {
            "colorbar": {
             "outlinewidth": 0,
             "ticks": ""
            },
            "colorscale": [
             [
              0,
              "#0d0887"
             ],
             [
              0.1111111111111111,
              "#46039f"
             ],
             [
              0.2222222222222222,
              "#7201a8"
             ],
             [
              0.3333333333333333,
              "#9c179e"
             ],
             [
              0.4444444444444444,
              "#bd3786"
             ],
             [
              0.5555555555555556,
              "#d8576b"
             ],
             [
              0.6666666666666666,
              "#ed7953"
             ],
             [
              0.7777777777777778,
              "#fb9f3a"
             ],
             [
              0.8888888888888888,
              "#fdca26"
             ],
             [
              1,
              "#f0f921"
             ]
            ],
            "type": "histogram2d"
           }
          ],
          "histogram2dcontour": [
           {
            "colorbar": {
             "outlinewidth": 0,
             "ticks": ""
            },
            "colorscale": [
             [
              0,
              "#0d0887"
             ],
             [
              0.1111111111111111,
              "#46039f"
             ],
             [
              0.2222222222222222,
              "#7201a8"
             ],
             [
              0.3333333333333333,
              "#9c179e"
             ],
             [
              0.4444444444444444,
              "#bd3786"
             ],
             [
              0.5555555555555556,
              "#d8576b"
             ],
             [
              0.6666666666666666,
              "#ed7953"
             ],
             [
              0.7777777777777778,
              "#fb9f3a"
             ],
             [
              0.8888888888888888,
              "#fdca26"
             ],
             [
              1,
              "#f0f921"
             ]
            ],
            "type": "histogram2dcontour"
           }
          ],
          "mesh3d": [
           {
            "colorbar": {
             "outlinewidth": 0,
             "ticks": ""
            },
            "type": "mesh3d"
           }
          ],
          "parcoords": [
           {
            "line": {
             "colorbar": {
              "outlinewidth": 0,
              "ticks": ""
             }
            },
            "type": "parcoords"
           }
          ],
          "pie": [
           {
            "automargin": true,
            "type": "pie"
           }
          ],
          "scatter": [
           {
            "fillpattern": {
             "fillmode": "overlay",
             "size": 10,
             "solidity": 0.2
            },
            "type": "scatter"
           }
          ],
          "scatter3d": [
           {
            "line": {
             "colorbar": {
              "outlinewidth": 0,
              "ticks": ""
             }
            },
            "marker": {
             "colorbar": {
              "outlinewidth": 0,
              "ticks": ""
             }
            },
            "type": "scatter3d"
           }
          ],
          "scattercarpet": [
           {
            "marker": {
             "colorbar": {
              "outlinewidth": 0,
              "ticks": ""
             }
            },
            "type": "scattercarpet"
           }
          ],
          "scattergeo": [
           {
            "marker": {
             "colorbar": {
              "outlinewidth": 0,
              "ticks": ""
             }
            },
            "type": "scattergeo"
           }
          ],
          "scattergl": [
           {
            "marker": {
             "colorbar": {
              "outlinewidth": 0,
              "ticks": ""
             }
            },
            "type": "scattergl"
           }
          ],
          "scattermapbox": [
           {
            "marker": {
             "colorbar": {
              "outlinewidth": 0,
              "ticks": ""
             }
            },
            "type": "scattermapbox"
           }
          ],
          "scatterpolar": [
           {
            "marker": {
             "colorbar": {
              "outlinewidth": 0,
              "ticks": ""
             }
            },
            "type": "scatterpolar"
           }
          ],
          "scatterpolargl": [
           {
            "marker": {
             "colorbar": {
              "outlinewidth": 0,
              "ticks": ""
             }
            },
            "type": "scatterpolargl"
           }
          ],
          "scatterternary": [
           {
            "marker": {
             "colorbar": {
              "outlinewidth": 0,
              "ticks": ""
             }
            },
            "type": "scatterternary"
           }
          ],
          "surface": [
           {
            "colorbar": {
             "outlinewidth": 0,
             "ticks": ""
            },
            "colorscale": [
             [
              0,
              "#0d0887"
             ],
             [
              0.1111111111111111,
              "#46039f"
             ],
             [
              0.2222222222222222,
              "#7201a8"
             ],
             [
              0.3333333333333333,
              "#9c179e"
             ],
             [
              0.4444444444444444,
              "#bd3786"
             ],
             [
              0.5555555555555556,
              "#d8576b"
             ],
             [
              0.6666666666666666,
              "#ed7953"
             ],
             [
              0.7777777777777778,
              "#fb9f3a"
             ],
             [
              0.8888888888888888,
              "#fdca26"
             ],
             [
              1,
              "#f0f921"
             ]
            ],
            "type": "surface"
           }
          ],
          "table": [
           {
            "cells": {
             "fill": {
              "color": "#EBF0F8"
             },
             "line": {
              "color": "white"
             }
            },
            "header": {
             "fill": {
              "color": "#C8D4E3"
             },
             "line": {
              "color": "white"
             }
            },
            "type": "table"
           }
          ]
         },
         "layout": {
          "annotationdefaults": {
           "arrowcolor": "#2a3f5f",
           "arrowhead": 0,
           "arrowwidth": 1
          },
          "autotypenumbers": "strict",
          "coloraxis": {
           "colorbar": {
            "outlinewidth": 0,
            "ticks": ""
           }
          },
          "colorscale": {
           "diverging": [
            [
             0,
             "#8e0152"
            ],
            [
             0.1,
             "#c51b7d"
            ],
            [
             0.2,
             "#de77ae"
            ],
            [
             0.3,
             "#f1b6da"
            ],
            [
             0.4,
             "#fde0ef"
            ],
            [
             0.5,
             "#f7f7f7"
            ],
            [
             0.6,
             "#e6f5d0"
            ],
            [
             0.7,
             "#b8e186"
            ],
            [
             0.8,
             "#7fbc41"
            ],
            [
             0.9,
             "#4d9221"
            ],
            [
             1,
             "#276419"
            ]
           ],
           "sequential": [
            [
             0,
             "#0d0887"
            ],
            [
             0.1111111111111111,
             "#46039f"
            ],
            [
             0.2222222222222222,
             "#7201a8"
            ],
            [
             0.3333333333333333,
             "#9c179e"
            ],
            [
             0.4444444444444444,
             "#bd3786"
            ],
            [
             0.5555555555555556,
             "#d8576b"
            ],
            [
             0.6666666666666666,
             "#ed7953"
            ],
            [
             0.7777777777777778,
             "#fb9f3a"
            ],
            [
             0.8888888888888888,
             "#fdca26"
            ],
            [
             1,
             "#f0f921"
            ]
           ],
           "sequentialminus": [
            [
             0,
             "#0d0887"
            ],
            [
             0.1111111111111111,
             "#46039f"
            ],
            [
             0.2222222222222222,
             "#7201a8"
            ],
            [
             0.3333333333333333,
             "#9c179e"
            ],
            [
             0.4444444444444444,
             "#bd3786"
            ],
            [
             0.5555555555555556,
             "#d8576b"
            ],
            [
             0.6666666666666666,
             "#ed7953"
            ],
            [
             0.7777777777777778,
             "#fb9f3a"
            ],
            [
             0.8888888888888888,
             "#fdca26"
            ],
            [
             1,
             "#f0f921"
            ]
           ]
          },
          "colorway": [
           "#636efa",
           "#EF553B",
           "#00cc96",
           "#ab63fa",
           "#FFA15A",
           "#19d3f3",
           "#FF6692",
           "#B6E880",
           "#FF97FF",
           "#FECB52"
          ],
          "font": {
           "color": "#2a3f5f"
          },
          "geo": {
           "bgcolor": "white",
           "lakecolor": "white",
           "landcolor": "#E5ECF6",
           "showlakes": true,
           "showland": true,
           "subunitcolor": "white"
          },
          "hoverlabel": {
           "align": "left"
          },
          "hovermode": "closest",
          "mapbox": {
           "style": "light"
          },
          "paper_bgcolor": "white",
          "plot_bgcolor": "#E5ECF6",
          "polar": {
           "angularaxis": {
            "gridcolor": "white",
            "linecolor": "white",
            "ticks": ""
           },
           "bgcolor": "#E5ECF6",
           "radialaxis": {
            "gridcolor": "white",
            "linecolor": "white",
            "ticks": ""
           }
          },
          "scene": {
           "xaxis": {
            "backgroundcolor": "#E5ECF6",
            "gridcolor": "white",
            "gridwidth": 2,
            "linecolor": "white",
            "showbackground": true,
            "ticks": "",
            "zerolinecolor": "white"
           },
           "yaxis": {
            "backgroundcolor": "#E5ECF6",
            "gridcolor": "white",
            "gridwidth": 2,
            "linecolor": "white",
            "showbackground": true,
            "ticks": "",
            "zerolinecolor": "white"
           },
           "zaxis": {
            "backgroundcolor": "#E5ECF6",
            "gridcolor": "white",
            "gridwidth": 2,
            "linecolor": "white",
            "showbackground": true,
            "ticks": "",
            "zerolinecolor": "white"
           }
          },
          "shapedefaults": {
           "line": {
            "color": "#2a3f5f"
           }
          },
          "ternary": {
           "aaxis": {
            "gridcolor": "white",
            "linecolor": "white",
            "ticks": ""
           },
           "baxis": {
            "gridcolor": "white",
            "linecolor": "white",
            "ticks": ""
           },
           "bgcolor": "#E5ECF6",
           "caxis": {
            "gridcolor": "white",
            "linecolor": "white",
            "ticks": ""
           }
          },
          "title": {
           "x": 0.05
          },
          "xaxis": {
           "automargin": true,
           "gridcolor": "white",
           "linecolor": "white",
           "ticks": "",
           "title": {
            "standoff": 15
           },
           "zerolinecolor": "white",
           "zerolinewidth": 2
          },
          "yaxis": {
           "automargin": true,
           "gridcolor": "white",
           "linecolor": "white",
           "ticks": "",
           "title": {
            "standoff": 15
           },
           "zerolinecolor": "white",
           "zerolinewidth": 2
          }
         }
        },
        "title": {
         "text": "highly_rated_for"
        },
        "xaxis": {
         "anchor": "y",
         "domain": [
          0,
          1
         ],
         "title": {
          "text": "value"
         }
        },
        "xaxis2": {
         "anchor": "y2",
         "domain": [
          0,
          1
         ],
         "matches": "x",
         "showgrid": true,
         "showticklabels": false
        },
        "yaxis": {
         "anchor": "x",
         "domain": [
          0,
          0.7326
         ],
         "title": {
          "text": "count"
         }
        },
        "yaxis2": {
         "anchor": "x2",
         "domain": [
          0.7426,
          1
         ],
         "matches": "y2",
         "showgrid": false,
         "showline": false,
         "showticklabels": false,
         "ticks": ""
        }
       }
      }
     },
     "metadata": {},
     "output_type": "display_data"
    },
    {
     "data": {
      "application/vnd.plotly.v1+json": {
       "config": {
        "plotlyServerURL": "https://plot.ly"
       },
       "data": [
        {
         "alignmentgroup": "True",
         "bingroup": "x",
         "hovertemplate": "variable=poorly_rated_for<br>value=%{x}<br>count=%{y}<extra></extra>",
         "legendgroup": "poorly_rated_for",
         "marker": {
          "color": "#3F72AF",
          "pattern": {
           "shape": ""
          }
         },
         "name": "poorly_rated_for",
         "nbinsx": 11,
         "offsetgroup": "poorly_rated_for",
         "orientation": "v",
         "showlegend": true,
         "type": "histogram",
         "x": [
          "Promotions / Appraisal, Salary & Benefits",
          null,
          "Promotions / Appraisal",
          "Promotions / Appraisal, Salary & Benefits",
          "Promotions / Appraisal",
          null,
          "Salary & Benefits, Promotions / Appraisal",
          "Promotions / Appraisal, Salary & Benefits",
          "Promotions / Appraisal, Salary & Benefits, Work Satisfaction",
          null,
          "Salary & Benefits, Promotions / Appraisal",
          null,
          "Promotions / Appraisal, Salary & Benefits",
          null,
          null,
          "Promotions / Appraisal",
          "Promotions / Appraisal",
          null,
          "Promotions / Appraisal",
          "Promotions / Appraisal",
          null,
          null,
          null,
          "Promotions / Appraisal",
          "Promotions / Appraisal",
          null,
          null,
          null,
          null,
          "Promotions / Appraisal, Salary & Benefits, Work Satisfaction",
          null,
          "Work Life Balance, Work Satisfaction, Promotions / Appraisal",
          null,
          null,
          "Salary & Benefits, Promotions / Appraisal",
          "Promotions / Appraisal, Salary & Benefits",
          null,
          null,
          null,
          null,
          null,
          null,
          "Work Life Balance, Work Satisfaction, Promotions / Appraisal",
          null,
          null,
          "Promotions / Appraisal, Salary & Benefits",
          null,
          null,
          null,
          null,
          null,
          null,
          null,
          null,
          null,
          "Promotions / Appraisal, Salary & Benefits",
          "Promotions / Appraisal, Work Satisfaction",
          null,
          null,
          null,
          null,
          null,
          null,
          null,
          "Promotions / Appraisal, Salary & Benefits",
          "Job Security",
          "Promotions / Appraisal, Salary & Benefits",
          "Promotions / Appraisal",
          null,
          "Promotions / Appraisal",
          null,
          null,
          null,
          null,
          "Promotions / Appraisal",
          null,
          null,
          "Promotions / Appraisal",
          null,
          null,
          null,
          null,
          null,
          null,
          null,
          null,
          "Work Life Balance, Work Satisfaction, Promotions / Appraisal",
          null,
          "Promotions / Appraisal, Salary & Benefits",
          "Promotions / Appraisal",
          null,
          null,
          "Promotions / Appraisal, Salary & Benefits",
          null,
          null,
          null,
          null,
          null,
          "Promotions / Appraisal",
          null,
          "Promotions / Appraisal",
          null,
          null,
          null,
          null,
          null,
          null,
          "Promotions / Appraisal, Salary & Benefits",
          "Promotions / Appraisal",
          "Promotions / Appraisal",
          "Promotions / Appraisal",
          null,
          null,
          null,
          null,
          null,
          null,
          "Promotions / Appraisal, Salary & Benefits, Skill Development / Learning",
          "Promotions / Appraisal, Salary & Benefits",
          null,
          null,
          "Promotions / Appraisal",
          "Promotions / Appraisal",
          null,
          "Promotions / Appraisal",
          null,
          null,
          null,
          null,
          null,
          "Promotions / Appraisal",
          null,
          null,
          null,
          null,
          null,
          "Work Life Balance, Company Culture, Work Satisfaction",
          null,
          "Job Security, Promotions / Appraisal",
          null,
          null,
          null,
          "Promotions / Appraisal",
          null,
          "Promotions / Appraisal",
          null,
          "Promotions / Appraisal",
          null,
          "Promotions / Appraisal, Salary & Benefits",
          null,
          null,
          null,
          null,
          null,
          null,
          null,
          null,
          null,
          null,
          "Promotions / Appraisal",
          "Promotions / Appraisal",
          null,
          null,
          "Promotions / Appraisal",
          "Promotions / Appraisal, Salary & Benefits",
          null,
          null,
          "Promotions / Appraisal, Company Culture",
          null,
          null,
          "Promotions / Appraisal",
          null,
          "Salary & Benefits, Promotions / Appraisal",
          null,
          null,
          "Promotions / Appraisal",
          null,
          null,
          null,
          null,
          null,
          "Promotions / Appraisal",
          "Promotions / Appraisal",
          "Promotions / Appraisal",
          null,
          null,
          null,
          null,
          null,
          null,
          null,
          null,
          "Promotions / Appraisal, Salary & Benefits",
          null,
          null,
          null,
          null
         ],
         "xaxis": "x",
         "yaxis": "y"
        },
        {
         "alignmentgroup": "True",
         "hovertemplate": "variable=poorly_rated_for<br>value=%{x}<extra></extra>",
         "legendgroup": "poorly_rated_for",
         "marker": {
          "color": "#3F72AF"
         },
         "name": "poorly_rated_for",
         "notched": true,
         "offsetgroup": "poorly_rated_for",
         "showlegend": false,
         "type": "box",
         "x": [
          "Promotions / Appraisal, Salary & Benefits",
          null,
          "Promotions / Appraisal",
          "Promotions / Appraisal, Salary & Benefits",
          "Promotions / Appraisal",
          null,
          "Salary & Benefits, Promotions / Appraisal",
          "Promotions / Appraisal, Salary & Benefits",
          "Promotions / Appraisal, Salary & Benefits, Work Satisfaction",
          null,
          "Salary & Benefits, Promotions / Appraisal",
          null,
          "Promotions / Appraisal, Salary & Benefits",
          null,
          null,
          "Promotions / Appraisal",
          "Promotions / Appraisal",
          null,
          "Promotions / Appraisal",
          "Promotions / Appraisal",
          null,
          null,
          null,
          "Promotions / Appraisal",
          "Promotions / Appraisal",
          null,
          null,
          null,
          null,
          "Promotions / Appraisal, Salary & Benefits, Work Satisfaction",
          null,
          "Work Life Balance, Work Satisfaction, Promotions / Appraisal",
          null,
          null,
          "Salary & Benefits, Promotions / Appraisal",
          "Promotions / Appraisal, Salary & Benefits",
          null,
          null,
          null,
          null,
          null,
          null,
          "Work Life Balance, Work Satisfaction, Promotions / Appraisal",
          null,
          null,
          "Promotions / Appraisal, Salary & Benefits",
          null,
          null,
          null,
          null,
          null,
          null,
          null,
          null,
          null,
          "Promotions / Appraisal, Salary & Benefits",
          "Promotions / Appraisal, Work Satisfaction",
          null,
          null,
          null,
          null,
          null,
          null,
          null,
          "Promotions / Appraisal, Salary & Benefits",
          "Job Security",
          "Promotions / Appraisal, Salary & Benefits",
          "Promotions / Appraisal",
          null,
          "Promotions / Appraisal",
          null,
          null,
          null,
          null,
          "Promotions / Appraisal",
          null,
          null,
          "Promotions / Appraisal",
          null,
          null,
          null,
          null,
          null,
          null,
          null,
          null,
          "Work Life Balance, Work Satisfaction, Promotions / Appraisal",
          null,
          "Promotions / Appraisal, Salary & Benefits",
          "Promotions / Appraisal",
          null,
          null,
          "Promotions / Appraisal, Salary & Benefits",
          null,
          null,
          null,
          null,
          null,
          "Promotions / Appraisal",
          null,
          "Promotions / Appraisal",
          null,
          null,
          null,
          null,
          null,
          null,
          "Promotions / Appraisal, Salary & Benefits",
          "Promotions / Appraisal",
          "Promotions / Appraisal",
          "Promotions / Appraisal",
          null,
          null,
          null,
          null,
          null,
          null,
          "Promotions / Appraisal, Salary & Benefits, Skill Development / Learning",
          "Promotions / Appraisal, Salary & Benefits",
          null,
          null,
          "Promotions / Appraisal",
          "Promotions / Appraisal",
          null,
          "Promotions / Appraisal",
          null,
          null,
          null,
          null,
          null,
          "Promotions / Appraisal",
          null,
          null,
          null,
          null,
          null,
          "Work Life Balance, Company Culture, Work Satisfaction",
          null,
          "Job Security, Promotions / Appraisal",
          null,
          null,
          null,
          "Promotions / Appraisal",
          null,
          "Promotions / Appraisal",
          null,
          "Promotions / Appraisal",
          null,
          "Promotions / Appraisal, Salary & Benefits",
          null,
          null,
          null,
          null,
          null,
          null,
          null,
          null,
          null,
          null,
          "Promotions / Appraisal",
          "Promotions / Appraisal",
          null,
          null,
          "Promotions / Appraisal",
          "Promotions / Appraisal, Salary & Benefits",
          null,
          null,
          "Promotions / Appraisal, Company Culture",
          null,
          null,
          "Promotions / Appraisal",
          null,
          "Salary & Benefits, Promotions / Appraisal",
          null,
          null,
          "Promotions / Appraisal",
          null,
          null,
          null,
          null,
          null,
          "Promotions / Appraisal",
          "Promotions / Appraisal",
          "Promotions / Appraisal",
          null,
          null,
          null,
          null,
          null,
          null,
          null,
          null,
          "Promotions / Appraisal, Salary & Benefits",
          null,
          null,
          null,
          null
         ],
         "xaxis": "x2",
         "yaxis": "y2"
        }
       ],
       "layout": {
        "bargap": 0.1,
        "barmode": "relative",
        "legend": {
         "title": {
          "text": "variable"
         },
         "tracegroupgap": 0
        },
        "margin": {
         "t": 60
        },
        "template": {
         "data": {
          "bar": [
           {
            "error_x": {
             "color": "#2a3f5f"
            },
            "error_y": {
             "color": "#2a3f5f"
            },
            "marker": {
             "line": {
              "color": "#E5ECF6",
              "width": 0.5
             },
             "pattern": {
              "fillmode": "overlay",
              "size": 10,
              "solidity": 0.2
             }
            },
            "type": "bar"
           }
          ],
          "barpolar": [
           {
            "marker": {
             "line": {
              "color": "#E5ECF6",
              "width": 0.5
             },
             "pattern": {
              "fillmode": "overlay",
              "size": 10,
              "solidity": 0.2
             }
            },
            "type": "barpolar"
           }
          ],
          "carpet": [
           {
            "aaxis": {
             "endlinecolor": "#2a3f5f",
             "gridcolor": "white",
             "linecolor": "white",
             "minorgridcolor": "white",
             "startlinecolor": "#2a3f5f"
            },
            "baxis": {
             "endlinecolor": "#2a3f5f",
             "gridcolor": "white",
             "linecolor": "white",
             "minorgridcolor": "white",
             "startlinecolor": "#2a3f5f"
            },
            "type": "carpet"
           }
          ],
          "choropleth": [
           {
            "colorbar": {
             "outlinewidth": 0,
             "ticks": ""
            },
            "type": "choropleth"
           }
          ],
          "contour": [
           {
            "colorbar": {
             "outlinewidth": 0,
             "ticks": ""
            },
            "colorscale": [
             [
              0,
              "#0d0887"
             ],
             [
              0.1111111111111111,
              "#46039f"
             ],
             [
              0.2222222222222222,
              "#7201a8"
             ],
             [
              0.3333333333333333,
              "#9c179e"
             ],
             [
              0.4444444444444444,
              "#bd3786"
             ],
             [
              0.5555555555555556,
              "#d8576b"
             ],
             [
              0.6666666666666666,
              "#ed7953"
             ],
             [
              0.7777777777777778,
              "#fb9f3a"
             ],
             [
              0.8888888888888888,
              "#fdca26"
             ],
             [
              1,
              "#f0f921"
             ]
            ],
            "type": "contour"
           }
          ],
          "contourcarpet": [
           {
            "colorbar": {
             "outlinewidth": 0,
             "ticks": ""
            },
            "type": "contourcarpet"
           }
          ],
          "heatmap": [
           {
            "colorbar": {
             "outlinewidth": 0,
             "ticks": ""
            },
            "colorscale": [
             [
              0,
              "#0d0887"
             ],
             [
              0.1111111111111111,
              "#46039f"
             ],
             [
              0.2222222222222222,
              "#7201a8"
             ],
             [
              0.3333333333333333,
              "#9c179e"
             ],
             [
              0.4444444444444444,
              "#bd3786"
             ],
             [
              0.5555555555555556,
              "#d8576b"
             ],
             [
              0.6666666666666666,
              "#ed7953"
             ],
             [
              0.7777777777777778,
              "#fb9f3a"
             ],
             [
              0.8888888888888888,
              "#fdca26"
             ],
             [
              1,
              "#f0f921"
             ]
            ],
            "type": "heatmap"
           }
          ],
          "heatmapgl": [
           {
            "colorbar": {
             "outlinewidth": 0,
             "ticks": ""
            },
            "colorscale": [
             [
              0,
              "#0d0887"
             ],
             [
              0.1111111111111111,
              "#46039f"
             ],
             [
              0.2222222222222222,
              "#7201a8"
             ],
             [
              0.3333333333333333,
              "#9c179e"
             ],
             [
              0.4444444444444444,
              "#bd3786"
             ],
             [
              0.5555555555555556,
              "#d8576b"
             ],
             [
              0.6666666666666666,
              "#ed7953"
             ],
             [
              0.7777777777777778,
              "#fb9f3a"
             ],
             [
              0.8888888888888888,
              "#fdca26"
             ],
             [
              1,
              "#f0f921"
             ]
            ],
            "type": "heatmapgl"
           }
          ],
          "histogram": [
           {
            "marker": {
             "pattern": {
              "fillmode": "overlay",
              "size": 10,
              "solidity": 0.2
             }
            },
            "type": "histogram"
           }
          ],
          "histogram2d": [
           {
            "colorbar": {
             "outlinewidth": 0,
             "ticks": ""
            },
            "colorscale": [
             [
              0,
              "#0d0887"
             ],
             [
              0.1111111111111111,
              "#46039f"
             ],
             [
              0.2222222222222222,
              "#7201a8"
             ],
             [
              0.3333333333333333,
              "#9c179e"
             ],
             [
              0.4444444444444444,
              "#bd3786"
             ],
             [
              0.5555555555555556,
              "#d8576b"
             ],
             [
              0.6666666666666666,
              "#ed7953"
             ],
             [
              0.7777777777777778,
              "#fb9f3a"
             ],
             [
              0.8888888888888888,
              "#fdca26"
             ],
             [
              1,
              "#f0f921"
             ]
            ],
            "type": "histogram2d"
           }
          ],
          "histogram2dcontour": [
           {
            "colorbar": {
             "outlinewidth": 0,
             "ticks": ""
            },
            "colorscale": [
             [
              0,
              "#0d0887"
             ],
             [
              0.1111111111111111,
              "#46039f"
             ],
             [
              0.2222222222222222,
              "#7201a8"
             ],
             [
              0.3333333333333333,
              "#9c179e"
             ],
             [
              0.4444444444444444,
              "#bd3786"
             ],
             [
              0.5555555555555556,
              "#d8576b"
             ],
             [
              0.6666666666666666,
              "#ed7953"
             ],
             [
              0.7777777777777778,
              "#fb9f3a"
             ],
             [
              0.8888888888888888,
              "#fdca26"
             ],
             [
              1,
              "#f0f921"
             ]
            ],
            "type": "histogram2dcontour"
           }
          ],
          "mesh3d": [
           {
            "colorbar": {
             "outlinewidth": 0,
             "ticks": ""
            },
            "type": "mesh3d"
           }
          ],
          "parcoords": [
           {
            "line": {
             "colorbar": {
              "outlinewidth": 0,
              "ticks": ""
             }
            },
            "type": "parcoords"
           }
          ],
          "pie": [
           {
            "automargin": true,
            "type": "pie"
           }
          ],
          "scatter": [
           {
            "fillpattern": {
             "fillmode": "overlay",
             "size": 10,
             "solidity": 0.2
            },
            "type": "scatter"
           }
          ],
          "scatter3d": [
           {
            "line": {
             "colorbar": {
              "outlinewidth": 0,
              "ticks": ""
             }
            },
            "marker": {
             "colorbar": {
              "outlinewidth": 0,
              "ticks": ""
             }
            },
            "type": "scatter3d"
           }
          ],
          "scattercarpet": [
           {
            "marker": {
             "colorbar": {
              "outlinewidth": 0,
              "ticks": ""
             }
            },
            "type": "scattercarpet"
           }
          ],
          "scattergeo": [
           {
            "marker": {
             "colorbar": {
              "outlinewidth": 0,
              "ticks": ""
             }
            },
            "type": "scattergeo"
           }
          ],
          "scattergl": [
           {
            "marker": {
             "colorbar": {
              "outlinewidth": 0,
              "ticks": ""
             }
            },
            "type": "scattergl"
           }
          ],
          "scattermapbox": [
           {
            "marker": {
             "colorbar": {
              "outlinewidth": 0,
              "ticks": ""
             }
            },
            "type": "scattermapbox"
           }
          ],
          "scatterpolar": [
           {
            "marker": {
             "colorbar": {
              "outlinewidth": 0,
              "ticks": ""
             }
            },
            "type": "scatterpolar"
           }
          ],
          "scatterpolargl": [
           {
            "marker": {
             "colorbar": {
              "outlinewidth": 0,
              "ticks": ""
             }
            },
            "type": "scatterpolargl"
           }
          ],
          "scatterternary": [
           {
            "marker": {
             "colorbar": {
              "outlinewidth": 0,
              "ticks": ""
             }
            },
            "type": "scatterternary"
           }
          ],
          "surface": [
           {
            "colorbar": {
             "outlinewidth": 0,
             "ticks": ""
            },
            "colorscale": [
             [
              0,
              "#0d0887"
             ],
             [
              0.1111111111111111,
              "#46039f"
             ],
             [
              0.2222222222222222,
              "#7201a8"
             ],
             [
              0.3333333333333333,
              "#9c179e"
             ],
             [
              0.4444444444444444,
              "#bd3786"
             ],
             [
              0.5555555555555556,
              "#d8576b"
             ],
             [
              0.6666666666666666,
              "#ed7953"
             ],
             [
              0.7777777777777778,
              "#fb9f3a"
             ],
             [
              0.8888888888888888,
              "#fdca26"
             ],
             [
              1,
              "#f0f921"
             ]
            ],
            "type": "surface"
           }
          ],
          "table": [
           {
            "cells": {
             "fill": {
              "color": "#EBF0F8"
             },
             "line": {
              "color": "white"
             }
            },
            "header": {
             "fill": {
              "color": "#C8D4E3"
             },
             "line": {
              "color": "white"
             }
            },
            "type": "table"
           }
          ]
         },
         "layout": {
          "annotationdefaults": {
           "arrowcolor": "#2a3f5f",
           "arrowhead": 0,
           "arrowwidth": 1
          },
          "autotypenumbers": "strict",
          "coloraxis": {
           "colorbar": {
            "outlinewidth": 0,
            "ticks": ""
           }
          },
          "colorscale": {
           "diverging": [
            [
             0,
             "#8e0152"
            ],
            [
             0.1,
             "#c51b7d"
            ],
            [
             0.2,
             "#de77ae"
            ],
            [
             0.3,
             "#f1b6da"
            ],
            [
             0.4,
             "#fde0ef"
            ],
            [
             0.5,
             "#f7f7f7"
            ],
            [
             0.6,
             "#e6f5d0"
            ],
            [
             0.7,
             "#b8e186"
            ],
            [
             0.8,
             "#7fbc41"
            ],
            [
             0.9,
             "#4d9221"
            ],
            [
             1,
             "#276419"
            ]
           ],
           "sequential": [
            [
             0,
             "#0d0887"
            ],
            [
             0.1111111111111111,
             "#46039f"
            ],
            [
             0.2222222222222222,
             "#7201a8"
            ],
            [
             0.3333333333333333,
             "#9c179e"
            ],
            [
             0.4444444444444444,
             "#bd3786"
            ],
            [
             0.5555555555555556,
             "#d8576b"
            ],
            [
             0.6666666666666666,
             "#ed7953"
            ],
            [
             0.7777777777777778,
             "#fb9f3a"
            ],
            [
             0.8888888888888888,
             "#fdca26"
            ],
            [
             1,
             "#f0f921"
            ]
           ],
           "sequentialminus": [
            [
             0,
             "#0d0887"
            ],
            [
             0.1111111111111111,
             "#46039f"
            ],
            [
             0.2222222222222222,
             "#7201a8"
            ],
            [
             0.3333333333333333,
             "#9c179e"
            ],
            [
             0.4444444444444444,
             "#bd3786"
            ],
            [
             0.5555555555555556,
             "#d8576b"
            ],
            [
             0.6666666666666666,
             "#ed7953"
            ],
            [
             0.7777777777777778,
             "#fb9f3a"
            ],
            [
             0.8888888888888888,
             "#fdca26"
            ],
            [
             1,
             "#f0f921"
            ]
           ]
          },
          "colorway": [
           "#636efa",
           "#EF553B",
           "#00cc96",
           "#ab63fa",
           "#FFA15A",
           "#19d3f3",
           "#FF6692",
           "#B6E880",
           "#FF97FF",
           "#FECB52"
          ],
          "font": {
           "color": "#2a3f5f"
          },
          "geo": {
           "bgcolor": "white",
           "lakecolor": "white",
           "landcolor": "#E5ECF6",
           "showlakes": true,
           "showland": true,
           "subunitcolor": "white"
          },
          "hoverlabel": {
           "align": "left"
          },
          "hovermode": "closest",
          "mapbox": {
           "style": "light"
          },
          "paper_bgcolor": "white",
          "plot_bgcolor": "#E5ECF6",
          "polar": {
           "angularaxis": {
            "gridcolor": "white",
            "linecolor": "white",
            "ticks": ""
           },
           "bgcolor": "#E5ECF6",
           "radialaxis": {
            "gridcolor": "white",
            "linecolor": "white",
            "ticks": ""
           }
          },
          "scene": {
           "xaxis": {
            "backgroundcolor": "#E5ECF6",
            "gridcolor": "white",
            "gridwidth": 2,
            "linecolor": "white",
            "showbackground": true,
            "ticks": "",
            "zerolinecolor": "white"
           },
           "yaxis": {
            "backgroundcolor": "#E5ECF6",
            "gridcolor": "white",
            "gridwidth": 2,
            "linecolor": "white",
            "showbackground": true,
            "ticks": "",
            "zerolinecolor": "white"
           },
           "zaxis": {
            "backgroundcolor": "#E5ECF6",
            "gridcolor": "white",
            "gridwidth": 2,
            "linecolor": "white",
            "showbackground": true,
            "ticks": "",
            "zerolinecolor": "white"
           }
          },
          "shapedefaults": {
           "line": {
            "color": "#2a3f5f"
           }
          },
          "ternary": {
           "aaxis": {
            "gridcolor": "white",
            "linecolor": "white",
            "ticks": ""
           },
           "baxis": {
            "gridcolor": "white",
            "linecolor": "white",
            "ticks": ""
           },
           "bgcolor": "#E5ECF6",
           "caxis": {
            "gridcolor": "white",
            "linecolor": "white",
            "ticks": ""
           }
          },
          "title": {
           "x": 0.05
          },
          "xaxis": {
           "automargin": true,
           "gridcolor": "white",
           "linecolor": "white",
           "ticks": "",
           "title": {
            "standoff": 15
           },
           "zerolinecolor": "white",
           "zerolinewidth": 2
          },
          "yaxis": {
           "automargin": true,
           "gridcolor": "white",
           "linecolor": "white",
           "ticks": "",
           "title": {
            "standoff": 15
           },
           "zerolinecolor": "white",
           "zerolinewidth": 2
          }
         }
        },
        "title": {
         "text": "poorly_rated_for"
        },
        "xaxis": {
         "anchor": "y",
         "domain": [
          0,
          1
         ],
         "title": {
          "text": "value"
         }
        },
        "xaxis2": {
         "anchor": "y2",
         "domain": [
          0,
          1
         ],
         "matches": "x",
         "showgrid": true,
         "showticklabels": false
        },
        "yaxis": {
         "anchor": "x",
         "domain": [
          0,
          0.7326
         ],
         "title": {
          "text": "count"
         }
        },
        "yaxis2": {
         "anchor": "x2",
         "domain": [
          0.7426,
          1
         ],
         "matches": "y2",
         "showgrid": false,
         "showline": false,
         "showticklabels": false,
         "ticks": ""
        }
       }
      }
     },
     "metadata": {},
     "output_type": "display_data"
    }
   ],
   "source": [
    "for col in df_cat.columns:    \n",
    "    fig = px.histogram(data_frame = df_cat[col],\n",
    "                       marginal = 'box',\n",
    "                       color_discrete_sequence = [\"#3F72AF\"],\n",
    "                       nbins = df_cat[col].nunique())\n",
    "    fig.update_layout(title = col, bargap = 0.1)\n",
    "    fig.show()"
   ]
  },
  {
   "cell_type": "code",
   "execution_count": 35,
   "metadata": {},
   "outputs": [
    {
     "data": {
      "text/plain": [
       "<Axes: >"
      ]
     },
     "execution_count": 35,
     "metadata": {},
     "output_type": "execute_result"
    },
    {
     "data": {
      "image/png": "[encoded data removed]",
      "text/plain": [
       "<Figure size 640x480 with 2 Axes>"
      ]
     },
     "metadata": {},
     "output_type": "display_data"
    }
   ],
   "source": [
    "sns.heatmap(df_num.corr(), cmap = \"coolwarm\", annot = True)"
   ]
  },
  {
   "cell_type": "markdown",
   "metadata": {},
   "source": [
    "# model"
   ]
  },
  {
   "cell_type": "markdown",
   "metadata": {},
   "source": [
    "## mkTarget"
   ]
  },
  {
   "cell_type": "code",
   "execution_count": 36,
   "metadata": {},
   "outputs": [
    {
     "data": {
      "text/plain": [
       "count    197.000000\n",
       "mean       3.974619\n",
       "std        0.257669\n",
       "min        3.100000\n",
       "25%        3.800000\n",
       "50%        4.000000\n",
       "75%        4.100000\n",
       "max        4.800000\n",
       "Name: company_rating, dtype: float64"
      ]
     },
     "execution_count": 36,
     "metadata": {},
     "output_type": "execute_result"
    }
   ],
   "source": [
    "df.company_rating.describe()"
   ]
  },
  {
   "cell_type": "code",
   "execution_count": 37,
   "metadata": {},
   "outputs": [
    {
     "data": {
      "application/vnd.plotly.v1+json": {
       "config": {
        "plotlyServerURL": "https://plot.ly"
       },
       "data": [
        {
         "alignmentgroup": "True",
         "bingroup": "x",
         "hovertemplate": "variable=company_rating<br>value=%{x}<br>count=%{y}<extra></extra>",
         "legendgroup": "company_rating",
         "marker": {
          "color": "#636efa",
          "pattern": {
           "shape": ""
          }
         },
         "name": "company_rating",
         "nbinsx": 17,
         "offsetgroup": "company_rating",
         "orientation": "v",
         "showlegend": true,
         "type": "histogram",
         "x": [
          3.8,
          4,
          3.9,
          3.8,
          3.9,
          4,
          3.8,
          3.8,
          3.6,
          3.7,
          3.9,
          3.8,
          3.9,
          3.5,
          4.1,
          4,
          4.1,
          4,
          3.9,
          4,
          4.1,
          3.1,
          3.9,
          3.8,
          4,
          4,
          4.6,
          4.2,
          4.1,
          3.5,
          3.7,
          3.6,
          4.5,
          4.2,
          3.9,
          3.8,
          4,
          3.7,
          4.1,
          3.7,
          4,
          3.5,
          3.6,
          4.1,
          4.1,
          3.9,
          3.2,
          4.3,
          4.2,
          4,
          3.9,
          4.1,
          4.1,
          3.7,
          4.2,
          3.8,
          3.8,
          3.4,
          4.1,
          4.1,
          3.8,
          4,
          4.1,
          4.7,
          3.7,
          4,
          3.8,
          3.9,
          4.1,
          3.9,
          4.1,
          4,
          4.2,
          4.2,
          3.9,
          4.2,
          3.9,
          3.9,
          3.7,
          4.1,
          4.1,
          4.2,
          3.5,
          4,
          4.1,
          4.2,
          3.6,
          4.2,
          3.9,
          3.9,
          3.4,
          4,
          4,
          4.1,
          4.1,
          4.1,
          4.2,
          4.2,
          4.1,
          3.8,
          4,
          3.8,
          3.6,
          4.3,
          4.3,
          4.2,
          4.1,
          3.8,
          3.9,
          3.8,
          4,
          3.6,
          3.8,
          4.3,
          4.4,
          4,
          3.9,
          3.7,
          3.8,
          4.2,
          3.5,
          3.9,
          4.1,
          4.4,
          4.1,
          4.3,
          4.1,
          4.1,
          4.1,
          4.1,
          4.1,
          3.4,
          4,
          4.1,
          3.4,
          4.2,
          3.7,
          4,
          3.9,
          4.1,
          4.2,
          4.3,
          3.8,
          3.8,
          4,
          4.1,
          4.1,
          4.2,
          4,
          4.2,
          4.2,
          4.2,
          4.8,
          3.8,
          4,
          4.1,
          4,
          4.1,
          4.3,
          3.9,
          4,
          3.9,
          4.2,
          3.8,
          3.8,
          4.1,
          4.1,
          3.7,
          3.5,
          3.6,
          4.1,
          4.1,
          3.9,
          4.4,
          3.9,
          4,
          4.4,
          4.1,
          4.3,
          4.1,
          4.2,
          4.1,
          3.9,
          4.1,
          3.9,
          4,
          3.9,
          4.3,
          3.9,
          4.2,
          3.6,
          4.1,
          3.8,
          3.6,
          3.9,
          4.7,
          3.6
         ],
         "xaxis": "x",
         "yaxis": "y"
        },
        {
         "alignmentgroup": "True",
         "hovertemplate": "variable=company_rating<br>value=%{x}<extra></extra>",
         "legendgroup": "company_rating",
         "marker": {
          "color": "#636efa"
         },
         "name": "company_rating",
         "notched": true,
         "offsetgroup": "company_rating",
         "showlegend": false,
         "type": "box",
         "x": [
          3.8,
          4,
          3.9,
          3.8,
          3.9,
          4,
          3.8,
          3.8,
          3.6,
          3.7,
          3.9,
          3.8,
          3.9,
          3.5,
          4.1,
          4,
          4.1,
          4,
          3.9,
          4,
          4.1,
          3.1,
          3.9,
          3.8,
          4,
          4,
          4.6,
          4.2,
          4.1,
          3.5,
          3.7,
          3.6,
          4.5,
          4.2,
          3.9,
          3.8,
          4,
          3.7,
          4.1,
          3.7,
          4,
          3.5,
          3.6,
          4.1,
          4.1,
          3.9,
          3.2,
          4.3,
          4.2,
          4,
          3.9,
          4.1,
          4.1,
          3.7,
          4.2,
          3.8,
          3.8,
          3.4,
          4.1,
          4.1,
          3.8,
          4,
          4.1,
          4.7,
          3.7,
          4,
          3.8,
          3.9,
          4.1,
          3.9,
          4.1,
          4,
          4.2,
          4.2,
          3.9,
          4.2,
          3.9,
          3.9,
          3.7,
          4.1,
          4.1,
          4.2,
          3.5,
          4,
          4.1,
          4.2,
          3.6,
          4.2,
          3.9,
          3.9,
          3.4,
          4,
          4,
          4.1,
          4.1,
          4.1,
          4.2,
          4.2,
          4.1,
          3.8,
          4,
          3.8,
          3.6,
          4.3,
          4.3,
          4.2,
          4.1,
          3.8,
          3.9,
          3.8,
          4,
          3.6,
          3.8,
          4.3,
          4.4,
          4,
          3.9,
          3.7,
          3.8,
          4.2,
          3.5,
          3.9,
          4.1,
          4.4,
          4.1,
          4.3,
          4.1,
          4.1,
          4.1,
          4.1,
          4.1,
          3.4,
          4,
          4.1,
          3.4,
          4.2,
          3.7,
          4,
          3.9,
          4.1,
          4.2,
          4.3,
          3.8,
          3.8,
          4,
          4.1,
          4.1,
          4.2,
          4,
          4.2,
          4.2,
          4.2,
          4.8,
          3.8,
          4,
          4.1,
          4,
          4.1,
          4.3,
          3.9,
          4,
          3.9,
          4.2,
          3.8,
          3.8,
          4.1,
          4.1,
          3.7,
          3.5,
          3.6,
          4.1,
          4.1,
          3.9,
          4.4,
          3.9,
          4,
          4.4,
          4.1,
          4.3,
          4.1,
          4.2,
          4.1,
          3.9,
          4.1,
          3.9,
          4,
          3.9,
          4.3,
          3.9,
          4.2,
          3.6,
          4.1,
          3.8,
          3.6,
          3.9,
          4.7,
          3.6
         ],
         "xaxis": "x2",
         "yaxis": "y2"
        }
       ],
       "layout": {
        "bargap": 0.1,
        "barmode": "relative",
        "legend": {
         "title": {
          "text": "variable"
         },
         "tracegroupgap": 0
        },
        "margin": {
         "t": 60
        },
        "template": {
         "data": {
          "bar": [
           {
            "error_x": {
             "color": "#2a3f5f"
            },
            "error_y": {
             "color": "#2a3f5f"
            },
            "marker": {
             "line": {
              "color": "#E5ECF6",
              "width": 0.5
             },
             "pattern": {
              "fillmode": "overlay",
              "size": 10,
              "solidity": 0.2
             }
            },
            "type": "bar"
           }
          ],
          "barpolar": [
           {
            "marker": {
             "line": {
              "color": "#E5ECF6",
              "width": 0.5
             },
             "pattern": {
              "fillmode": "overlay",
              "size": 10,
              "solidity": 0.2
             }
            },
            "type": "barpolar"
           }
          ],
          "carpet": [
           {
            "aaxis": {
             "endlinecolor": "#2a3f5f",
             "gridcolor": "white",
             "linecolor": "white",
             "minorgridcolor": "white",
             "startlinecolor": "#2a3f5f"
            },
            "baxis": {
             "endlinecolor": "#2a3f5f",
             "gridcolor": "white",
             "linecolor": "white",
             "minorgridcolor": "white",
             "startlinecolor": "#2a3f5f"
            },
            "type": "carpet"
           }
          ],
          "choropleth": [
           {
            "colorbar": {
             "outlinewidth": 0,
             "ticks": ""
            },
            "type": "choropleth"
           }
          ],
          "contour": [
           {
            "colorbar": {
             "outlinewidth": 0,
             "ticks": ""
            },
            "colorscale": [
             [
              0,
              "#0d0887"
             ],
             [
              0.1111111111111111,
              "#46039f"
             ],
             [
              0.2222222222222222,
              "#7201a8"
             ],
             [
              0.3333333333333333,
              "#9c179e"
             ],
             [
              0.4444444444444444,
              "#bd3786"
             ],
             [
              0.5555555555555556,
              "#d8576b"
             ],
             [
              0.6666666666666666,
              "#ed7953"
             ],
             [
              0.7777777777777778,
              "#fb9f3a"
             ],
             [
              0.8888888888888888,
              "#fdca26"
             ],
             [
              1,
              "#f0f921"
             ]
            ],
            "type": "contour"
           }
          ],
          "contourcarpet": [
           {
            "colorbar": {
             "outlinewidth": 0,
             "ticks": ""
            },
            "type": "contourcarpet"
           }
          ],
          "heatmap": [
           {
            "colorbar": {
             "outlinewidth": 0,
             "ticks": ""
            },
            "colorscale": [
             [
              0,
              "#0d0887"
             ],
             [
              0.1111111111111111,
              "#46039f"
             ],
             [
              0.2222222222222222,
              "#7201a8"
             ],
             [
              0.3333333333333333,
              "#9c179e"
             ],
             [
              0.4444444444444444,
              "#bd3786"
             ],
             [
              0.5555555555555556,
              "#d8576b"
             ],
             [
              0.6666666666666666,
              "#ed7953"
             ],
             [
              0.7777777777777778,
              "#fb9f3a"
             ],
             [
              0.8888888888888888,
              "#fdca26"
             ],
             [
              1,
              "#f0f921"
             ]
            ],
            "type": "heatmap"
           }
          ],
          "heatmapgl": [
           {
            "colorbar": {
             "outlinewidth": 0,
             "ticks": ""
            },
            "colorscale": [
             [
              0,
              "#0d0887"
             ],
             [
              0.1111111111111111,
              "#46039f"
             ],
             [
              0.2222222222222222,
              "#7201a8"
             ],
             [
              0.3333333333333333,
              "#9c179e"
             ],
             [
              0.4444444444444444,
              "#bd3786"
             ],
             [
              0.5555555555555556,
              "#d8576b"
             ],
             [
              0.6666666666666666,
              "#ed7953"
             ],
             [
              0.7777777777777778,
              "#fb9f3a"
             ],
             [
              0.8888888888888888,
              "#fdca26"
             ],
             [
              1,
              "#f0f921"
             ]
            ],
            "type": "heatmapgl"
           }
          ],
          "histogram": [
           {
            "marker": {
             "pattern": {
              "fillmode": "overlay",
              "size": 10,
              "solidity": 0.2
             }
            },
            "type": "histogram"
           }
          ],
          "histogram2d": [
           {
            "colorbar": {
             "outlinewidth": 0,
             "ticks": ""
            },
            "colorscale": [
             [
              0,
              "#0d0887"
             ],
             [
              0.1111111111111111,
              "#46039f"
             ],
             [
              0.2222222222222222,
              "#7201a8"
             ],
             [
              0.3333333333333333,
              "#9c179e"
             ],
             [
              0.4444444444444444,
              "#bd3786"
             ],
             [
              0.5555555555555556,
              "#d8576b"
             ],
             [
              0.6666666666666666,
              "#ed7953"
             ],
             [
              0.7777777777777778,
              "#fb9f3a"
             ],
             [
              0.8888888888888888,
              "#fdca26"
             ],
             [
              1,
              "#f0f921"
             ]
            ],
            "type": "histogram2d"
           }
          ],
          "histogram2dcontour": [
           {
            "colorbar": {
             "outlinewidth": 0,
             "ticks": ""
            },
            "colorscale": [
             [
              0,
              "#0d0887"
             ],
             [
              0.1111111111111111,
              "#46039f"
             ],
             [
              0.2222222222222222,
              "#7201a8"
             ],
             [
              0.3333333333333333,
              "#9c179e"
             ],
             [
              0.4444444444444444,
              "#bd3786"
             ],
             [
              0.5555555555555556,
              "#d8576b"
             ],
             [
              0.6666666666666666,
              "#ed7953"
             ],
             [
              0.7777777777777778,
              "#fb9f3a"
             ],
             [
              0.8888888888888888,
              "#fdca26"
             ],
             [
              1,
              "#f0f921"
             ]
            ],
            "type": "histogram2dcontour"
           }
          ],
          "mesh3d": [
           {
            "colorbar": {
             "outlinewidth": 0,
             "ticks": ""
            },
            "type": "mesh3d"
           }
          ],
          "parcoords": [
           {
            "line": {
             "colorbar": {
              "outlinewidth": 0,
              "ticks": ""
             }
            },
            "type": "parcoords"
           }
          ],
          "pie": [
           {
            "automargin": true,
            "type": "pie"
           }
          ],
          "scatter": [
           {
            "fillpattern": {
             "fillmode": "overlay",
             "size": 10,
             "solidity": 0.2
            },
            "type": "scatter"
           }
          ],
          "scatter3d": [
           {
            "line": {
             "colorbar": {
              "outlinewidth": 0,
              "ticks": ""
             }
            },
            "marker": {
             "colorbar": {
              "outlinewidth": 0,
              "ticks": ""
             }
            },
            "type": "scatter3d"
           }
          ],
          "scattercarpet": [
           {
            "marker": {
             "colorbar": {
              "outlinewidth": 0,
              "ticks": ""
             }
            },
            "type": "scattercarpet"
           }
          ],
          "scattergeo": [
           {
            "marker": {
             "colorbar": {
              "outlinewidth": 0,
              "ticks": ""
             }
            },
            "type": "scattergeo"
           }
          ],
          "scattergl": [
           {
            "marker": {
             "colorbar": {
              "outlinewidth": 0,
              "ticks": ""
             }
            },
            "type": "scattergl"
           }
          ],
          "scattermapbox": [
           {
            "marker": {
             "colorbar": {
              "outlinewidth": 0,
              "ticks": ""
             }
            },
            "type": "scattermapbox"
           }
          ],
          "scatterpolar": [
           {
            "marker": {
             "colorbar": {
              "outlinewidth": 0,
              "ticks": ""
             }
            },
            "type": "scatterpolar"
           }
          ],
          "scatterpolargl": [
           {
            "marker": {
             "colorbar": {
              "outlinewidth": 0,
              "ticks": ""
             }
            },
            "type": "scatterpolargl"
           }
          ],
          "scatterternary": [
           {
            "marker": {
             "colorbar": {
              "outlinewidth": 0,
              "ticks": ""
             }
            },
            "type": "scatterternary"
           }
          ],
          "surface": [
           {
            "colorbar": {
             "outlinewidth": 0,
             "ticks": ""
            },
            "colorscale": [
             [
              0,
              "#0d0887"
             ],
             [
              0.1111111111111111,
              "#46039f"
             ],
             [
              0.2222222222222222,
              "#7201a8"
             ],
             [
              0.3333333333333333,
              "#9c179e"
             ],
             [
              0.4444444444444444,
              "#bd3786"
             ],
             [
              0.5555555555555556,
              "#d8576b"
             ],
             [
              0.6666666666666666,
              "#ed7953"
             ],
             [
              0.7777777777777778,
              "#fb9f3a"
             ],
             [
              0.8888888888888888,
              "#fdca26"
             ],
             [
              1,
              "#f0f921"
             ]
            ],
            "type": "surface"
           }
          ],
          "table": [
           {
            "cells": {
             "fill": {
              "color": "#EBF0F8"
             },
             "line": {
              "color": "white"
             }
            },
            "header": {
             "fill": {
              "color": "#C8D4E3"
             },
             "line": {
              "color": "white"
             }
            },
            "type": "table"
           }
          ]
         },
         "layout": {
          "annotationdefaults": {
           "arrowcolor": "#2a3f5f",
           "arrowhead": 0,
           "arrowwidth": 1
          },
          "autotypenumbers": "strict",
          "coloraxis": {
           "colorbar": {
            "outlinewidth": 0,
            "ticks": ""
           }
          },
          "colorscale": {
           "diverging": [
            [
             0,
             "#8e0152"
            ],
            [
             0.1,
             "#c51b7d"
            ],
            [
             0.2,
             "#de77ae"
            ],
            [
             0.3,
             "#f1b6da"
            ],
            [
             0.4,
             "#fde0ef"
            ],
            [
             0.5,
             "#f7f7f7"
            ],
            [
             0.6,
             "#e6f5d0"
            ],
            [
             0.7,
             "#b8e186"
            ],
            [
             0.8,
             "#7fbc41"
            ],
            [
             0.9,
             "#4d9221"
            ],
            [
             1,
             "#276419"
            ]
           ],
           "sequential": [
            [
             0,
             "#0d0887"
            ],
            [
             0.1111111111111111,
             "#46039f"
            ],
            [
             0.2222222222222222,
             "#7201a8"
            ],
            [
             0.3333333333333333,
             "#9c179e"
            ],
            [
             0.4444444444444444,
             "#bd3786"
            ],
            [
             0.5555555555555556,
             "#d8576b"
            ],
            [
             0.6666666666666666,
             "#ed7953"
            ],
            [
             0.7777777777777778,
             "#fb9f3a"
            ],
            [
             0.8888888888888888,
             "#fdca26"
            ],
            [
             1,
             "#f0f921"
            ]
           ],
           "sequentialminus": [
            [
             0,
             "#0d0887"
            ],
            [
             0.1111111111111111,
             "#46039f"
            ],
            [
             0.2222222222222222,
             "#7201a8"
            ],
            [
             0.3333333333333333,
             "#9c179e"
            ],
            [
             0.4444444444444444,
             "#bd3786"
            ],
            [
             0.5555555555555556,
             "#d8576b"
            ],
            [
             0.6666666666666666,
             "#ed7953"
            ],
            [
             0.7777777777777778,
             "#fb9f3a"
            ],
            [
             0.8888888888888888,
             "#fdca26"
            ],
            [
             1,
             "#f0f921"
            ]
           ]
          },
          "colorway": [
           "#636efa",
           "#EF553B",
           "#00cc96",
           "#ab63fa",
           "#FFA15A",
           "#19d3f3",
           "#FF6692",
           "#B6E880",
           "#FF97FF",
           "#FECB52"
          ],
          "font": {
           "color": "#2a3f5f"
          },
          "geo": {
           "bgcolor": "white",
           "lakecolor": "white",
           "landcolor": "#E5ECF6",
           "showlakes": true,
           "showland": true,
           "subunitcolor": "white"
          },
          "hoverlabel": {
           "align": "left"
          },
          "hovermode": "closest",
          "mapbox": {
           "style": "light"
          },
          "paper_bgcolor": "white",
          "plot_bgcolor": "#E5ECF6",
          "polar": {
           "angularaxis": {
            "gridcolor": "white",
            "linecolor": "white",
            "ticks": ""
           },
           "bgcolor": "#E5ECF6",
           "radialaxis": {
            "gridcolor": "white",
            "linecolor": "white",
            "ticks": ""
           }
          },
          "scene": {
           "xaxis": {
            "backgroundcolor": "#E5ECF6",
            "gridcolor": "white",
            "gridwidth": 2,
            "linecolor": "white",
            "showbackground": true,
            "ticks": "",
            "zerolinecolor": "white"
           },
           "yaxis": {
            "backgroundcolor": "#E5ECF6",
            "gridcolor": "white",
            "gridwidth": 2,
            "linecolor": "white",
            "showbackground": true,
            "ticks": "",
            "zerolinecolor": "white"
           },
           "zaxis": {
            "backgroundcolor": "#E5ECF6",
            "gridcolor": "white",
            "gridwidth": 2,
            "linecolor": "white",
            "showbackground": true,
            "ticks": "",
            "zerolinecolor": "white"
           }
          },
          "shapedefaults": {
           "line": {
            "color": "#2a3f5f"
           }
          },
          "ternary": {
           "aaxis": {
            "gridcolor": "white",
            "linecolor": "white",
            "ticks": ""
           },
           "baxis": {
            "gridcolor": "white",
            "linecolor": "white",
            "ticks": ""
           },
           "bgcolor": "#E5ECF6",
           "caxis": {
            "gridcolor": "white",
            "linecolor": "white",
            "ticks": ""
           }
          },
          "title": {
           "x": 0.05
          },
          "xaxis": {
           "automargin": true,
           "gridcolor": "white",
           "linecolor": "white",
           "ticks": "",
           "title": {
            "standoff": 15
           },
           "zerolinecolor": "white",
           "zerolinewidth": 2
          },
          "yaxis": {
           "automargin": true,
           "gridcolor": "white",
           "linecolor": "white",
           "ticks": "",
           "title": {
            "standoff": 15
           },
           "zerolinecolor": "white",
           "zerolinewidth": 2
          }
         }
        },
        "title": {
         "text": "rating"
        },
        "xaxis": {
         "anchor": "y",
         "domain": [
          0,
          1
         ],
         "title": {
          "text": "value"
         }
        },
        "xaxis2": {
         "anchor": "y2",
         "domain": [
          0,
          1
         ],
         "matches": "x",
         "showgrid": true,
         "showticklabels": false
        },
        "yaxis": {
         "anchor": "x",
         "domain": [
          0,
          0.7326
         ],
         "title": {
          "text": "count"
         }
        },
        "yaxis2": {
         "anchor": "x2",
         "domain": [
          0.7426,
          1
         ],
         "matches": "y2",
         "showgrid": false,
         "showline": false,
         "showticklabels": false,
         "ticks": ""
        }
       }
      }
     },
     "metadata": {},
     "output_type": "display_data"
    }
   ],
   "source": [
    "fig = px.histogram(df.company_rating,\n",
    "                   marginal = 'box',\n",
    "                   nbins = df.company_rating.nunique())\n",
    "\n",
    "fig.update_layout(title = 'rating', bargap = 0.1)\n",
    "fig.show()"
   ]
  },
  {
   "cell_type": "code",
   "execution_count": 38,
   "metadata": {},
   "outputs": [],
   "source": [
    "def mktarget(values):\n",
    "    if values >= df.company_rating.median():\n",
    "        return 1\n",
    "    return 0"
   ]
  },
  {
   "cell_type": "code",
   "execution_count": 39,
   "metadata": {},
   "outputs": [],
   "source": [
    "df.company_rating = df.company_rating.apply(mktarget)"
   ]
  },
  {
   "cell_type": "code",
   "execution_count": 40,
   "metadata": {},
   "outputs": [],
   "source": [
    "means = df.company_age.mean()\n",
    "df.company_age.fillna(means, inplace = True)"
   ]
  },
  {
   "cell_type": "code",
   "execution_count": 41,
   "metadata": {},
   "outputs": [
    {
     "name": "stdout",
     "output_type": "stream",
     "text": [
      "전체\n",
      "\n",
      "Index: 197개\n",
      "Columns: 10개\n"
     ]
    },
    {
     "data": {
      "text/html": [
       "<div>\n",
       "<style scoped>\n",
       "    .dataframe tbody tr th:only-of-type {\n",
       "        vertical-align: middle;\n",
       "    }\n",
       "\n",
       "    .dataframe tbody tr th {\n",
       "        vertical-align: top;\n",
       "    }\n",
       "\n",
       "    .dataframe thead th {\n",
       "        text-align: right;\n",
       "    }\n",
       "</style>\n",
       "<table border=\"1\" class=\"dataframe\">\n",
       "  <thead>\n",
       "    <tr style=\"text-align: right;\">\n",
       "      <th></th>\n",
       "      <th>col</th>\n",
       "      <th>null_count</th>\n",
       "      <th>null_ratio</th>\n",
       "      <th>unique_count</th>\n",
       "      <th>dtypes</th>\n",
       "    </tr>\n",
       "  </thead>\n",
       "  <tbody>\n",
       "    <tr>\n",
       "      <th>0</th>\n",
       "      <td>company_name</td>\n",
       "      <td>0</td>\n",
       "      <td>0.00</td>\n",
       "      <td>197</td>\n",
       "      <td>object</td>\n",
       "    </tr>\n",
       "    <tr>\n",
       "      <th>1</th>\n",
       "      <td>company_rating</td>\n",
       "      <td>0</td>\n",
       "      <td>0.00</td>\n",
       "      <td>2</td>\n",
       "      <td>int64</td>\n",
       "    </tr>\n",
       "    <tr>\n",
       "      <th>2</th>\n",
       "      <td>review_count</td>\n",
       "      <td>0</td>\n",
       "      <td>0.00</td>\n",
       "      <td>78</td>\n",
       "      <td>int64</td>\n",
       "    </tr>\n",
       "    <tr>\n",
       "      <th>3</th>\n",
       "      <td>company_sector</td>\n",
       "      <td>0</td>\n",
       "      <td>0.00</td>\n",
       "      <td>41</td>\n",
       "      <td>object</td>\n",
       "    </tr>\n",
       "    <tr>\n",
       "      <th>4</th>\n",
       "      <td>company_type</td>\n",
       "      <td>43</td>\n",
       "      <td>21.83</td>\n",
       "      <td>2</td>\n",
       "      <td>object</td>\n",
       "    </tr>\n",
       "    <tr>\n",
       "      <th>5</th>\n",
       "      <td>no._of_employees</td>\n",
       "      <td>0</td>\n",
       "      <td>0.00</td>\n",
       "      <td>6</td>\n",
       "      <td>int64</td>\n",
       "    </tr>\n",
       "    <tr>\n",
       "      <th>6</th>\n",
       "      <td>company_age</td>\n",
       "      <td>0</td>\n",
       "      <td>0.00</td>\n",
       "      <td>86</td>\n",
       "      <td>float64</td>\n",
       "    </tr>\n",
       "    <tr>\n",
       "      <th>7</th>\n",
       "      <td>company_headquarters</td>\n",
       "      <td>0</td>\n",
       "      <td>0.00</td>\n",
       "      <td>167</td>\n",
       "      <td>int64</td>\n",
       "    </tr>\n",
       "    <tr>\n",
       "      <th>8</th>\n",
       "      <td>highly_rated_for</td>\n",
       "      <td>0</td>\n",
       "      <td>0.00</td>\n",
       "      <td>64</td>\n",
       "      <td>object</td>\n",
       "    </tr>\n",
       "    <tr>\n",
       "      <th>9</th>\n",
       "      <td>poorly_rated_for</td>\n",
       "      <td>133</td>\n",
       "      <td>67.51</td>\n",
       "      <td>11</td>\n",
       "      <td>object</td>\n",
       "    </tr>\n",
       "  </tbody>\n",
       "</table>\n",
       "</div>"
      ],
      "text/plain": [
       "                    col  null_count  null_ratio  unique_count   dtypes\n",
       "0          company_name           0        0.00           197   object\n",
       "1        company_rating           0        0.00             2    int64\n",
       "2          review_count           0        0.00            78    int64\n",
       "3        company_sector           0        0.00            41   object\n",
       "4          company_type          43       21.83             2   object\n",
       "5      no._of_employees           0        0.00             6    int64\n",
       "6           company_age           0        0.00            86  float64\n",
       "7  company_headquarters           0        0.00           167    int64\n",
       "8      highly_rated_for           0        0.00            64   object\n",
       "9      poorly_rated_for         133       67.51            11   object"
      ]
     },
     "execution_count": 41,
     "metadata": {},
     "output_type": "execute_result"
    }
   ],
   "source": [
    "na_count = df.isna().sum().reset_index()\n",
    "dtypes_df = df.dtypes.reset_index()\n",
    "unique_count = df.nunique().reset_index()\n",
    "\n",
    "df_info = pd.merge(na_count, unique_count, on = \"index\", how = \"left\")\n",
    "df_info = pd.merge(df_info, dtypes_df, on = \"index\", how = \"left\")\n",
    "\n",
    "df_info = df_info.rename(columns = {\"index\":\"col\", \"0_x\":\"null_count\", \"0_y\":\"unique_count\", 0:\"dtypes\"})\n",
    "df_info['null_ratio'] = round(df_info['null_count'] / len(df) * 100, 2)\n",
    "df_info = df_info[['col', 'null_count', 'null_ratio', 'unique_count', 'dtypes']]\n",
    "\n",
    "print(f\"전체\\n\\nIndex: {df.shape[0]}개\\nColumns: {df.shape[1]}개\")\n",
    "df_info"
   ]
  },
  {
   "cell_type": "markdown",
   "metadata": {},
   "source": [
    "## train, test"
   ]
  },
  {
   "cell_type": "code",
   "execution_count": 42,
   "metadata": {},
   "outputs": [],
   "source": [
    "X = df.drop(columns={'company_name', 'company_rating', 'company_type', 'company_sector', 'poorly_rated_for'})\n",
    "y = df['company_rating']"
   ]
  },
  {
   "cell_type": "code",
   "execution_count": 43,
   "metadata": {},
   "outputs": [],
   "source": [
    "encoder = OneHotEncoder(sparse=False)\n",
    "encoded_x = encoder.fit_transform(X.select_dtypes(include = 'object'))\n",
    "\n",
    "for col in X.columns:\n",
    "    if df[col].dtypes == 'O':\n",
    "        encoded_col = encoder.fit_transform(X[[col]])\n",
    "        for i in range(encoded_col.shape[1]):\n",
    "            X[f'{col}_encoded_{i}'] = encoded_col[:, i]\n",
    "        X = X.drop(columns = col)\n",
    "    else:\n",
    "        pass"
   ]
  },
  {
   "cell_type": "code",
   "execution_count": 44,
   "metadata": {},
   "outputs": [],
   "source": [
    "X_train, X_test, y_train, y_test = train_test_split(X, y, test_size = 0.2 , random_state = 777)"
   ]
  },
  {
   "cell_type": "markdown",
   "metadata": {},
   "source": [
    "## model"
   ]
  },
  {
   "cell_type": "markdown",
   "metadata": {},
   "source": [
    "### decision tree"
   ]
  },
  {
   "cell_type": "code",
   "execution_count": 45,
   "metadata": {},
   "outputs": [
    {
     "name": "stdout",
     "output_type": "stream",
     "text": [
      "              precision    recall  f1-score   support\n",
      "\n",
      "           0       0.80      0.53      0.64        15\n",
      "           1       0.77      0.92      0.84        25\n",
      "\n",
      "    accuracy                           0.78        40\n",
      "   macro avg       0.78      0.73      0.74        40\n",
      "weighted avg       0.78      0.78      0.76        40\n",
      "\n"
     ]
    }
   ],
   "source": [
    "dt = DecisionTreeClassifier(max_depth = 10, random_state = 777)\n",
    "dt.fit(X_train, y_train)\n",
    "\n",
    "# predict the test data\n",
    "y_pred_dt = dt.predict(X_test)\n",
    "\n",
    "print(classification_report(y_test, y_pred_dt))"
   ]
  },
  {
   "cell_type": "markdown",
   "metadata": {},
   "source": [
    "### random forest"
   ]
  },
  {
   "cell_type": "code",
   "execution_count": 46,
   "metadata": {},
   "outputs": [
    {
     "name": "stdout",
     "output_type": "stream",
     "text": [
      "              precision    recall  f1-score   support\n",
      "\n",
      "           0       0.80      0.53      0.64        15\n",
      "           1       0.77      0.92      0.84        25\n",
      "\n",
      "    accuracy                           0.78        40\n",
      "   macro avg       0.78      0.73      0.74        40\n",
      "weighted avg       0.78      0.78      0.76        40\n",
      "\n"
     ]
    }
   ],
   "source": [
    "rf = RandomForestClassifier(n_estimators=3000, random_state = 777)\n",
    "rf.fit(X_train, y_train)\n",
    "\n",
    "# predict the test data\n",
    "y_pred_rf = rf.predict(X_test)\n",
    "\n",
    "print(classification_report(y_test, y_pred_rf))"
   ]
  },
  {
   "cell_type": "markdown",
   "metadata": {},
   "source": [
    "### support vector machine"
   ]
  },
  {
   "cell_type": "code",
   "execution_count": 47,
   "metadata": {},
   "outputs": [
    {
     "name": "stdout",
     "output_type": "stream",
     "text": [
      "              precision    recall  f1-score   support\n",
      "\n",
      "           0       1.00      0.07      0.12        15\n",
      "           1       0.64      1.00      0.78        25\n",
      "\n",
      "    accuracy                           0.65        40\n",
      "   macro avg       0.82      0.53      0.45        40\n",
      "weighted avg       0.78      0.65      0.54        40\n",
      "\n"
     ]
    }
   ],
   "source": [
    "svm = SVC(random_state=777)\n",
    "svm.fit(X_train, y_train)\n",
    "\n",
    "y_pred_svm = svm.predict(X_test)\n",
    "\n",
    "print(classification_report(y_test, y_pred_svm))"
   ]
  },
  {
   "cell_type": "markdown",
   "metadata": {},
   "source": [
    "### xgboost"
   ]
  },
  {
   "cell_type": "code",
   "execution_count": 48,
   "metadata": {},
   "outputs": [
    {
     "name": "stdout",
     "output_type": "stream",
     "text": [
      "              precision    recall  f1-score   support\n",
      "\n",
      "           0       0.69      0.60      0.64        15\n",
      "           1       0.78      0.84      0.81        25\n",
      "\n",
      "    accuracy                           0.75        40\n",
      "   macro avg       0.74      0.72      0.73        40\n",
      "weighted avg       0.75      0.75      0.75        40\n",
      "\n"
     ]
    }
   ],
   "source": [
    "xgb = XGBClassifier(n_estimators = 100, random_state = 777)\n",
    "xgb.fit(X_train, y_train)\n",
    "\n",
    "y_pred_xg = xgb.predict(X_test)\n",
    "\n",
    "print(classification_report(y_test, y_pred_xg))"
   ]
  },
  {
   "cell_type": "markdown",
   "metadata": {},
   "source": [
    "# Model 평가"
   ]
  },
  {
   "cell_type": "code",
   "execution_count": 49,
   "metadata": {},
   "outputs": [],
   "source": [
    "tmodel = TSNE(n_components=2)\n",
    "x_embed = tmodel.fit_transform(X_test)"
   ]
  },
  {
   "cell_type": "markdown",
   "metadata": {},
   "source": [
    "## decision tree"
   ]
  },
  {
   "cell_type": "code",
   "execution_count": 50,
   "metadata": {},
   "outputs": [
    {
     "name": "stdout",
     "output_type": "stream",
     "text": [
      "              precision    recall  f1-score   support\n",
      "\n",
      "           0       0.80      0.53      0.64        15\n",
      "           1       0.77      0.92      0.84        25\n",
      "\n",
      "    accuracy                           0.78        40\n",
      "   macro avg       0.78      0.73      0.74        40\n",
      "weighted avg       0.78      0.78      0.76        40\n",
      "\n"
     ]
    },
    {
     "data": {
      "application/vnd.plotly.v1+json": {
       "config": {
        "plotlyServerURL": "https://plot.ly"
       },
       "data": [
        {
         "hovertemplate": "symbol=0<br>x=%{x}<br>index=%{y}<br>color=%{marker.color}<extra></extra>",
         "legendgroup": "0",
         "marker": {
          "color": [
           0,
           0,
           0,
           0,
           0,
           0,
           0,
           0,
           0,
           0,
           0,
           0,
           0,
           0,
           0
          ],
          "coloraxis": "coloraxis",
          "symbol": "circle"
         },
         "mode": "markers",
         "name": "0",
         "orientation": "h",
         "showlegend": true,
         "type": "scatter",
         "x": [
          -0.9277801513671875,
          -1.4066619873046875,
          -1.5043389797210693,
          -1.415095329284668,
          -1.2008211612701416,
          -1.1821672916412354,
          -1.6092679500579834,
          -0.8574517965316772,
          -1.46831476688385,
          -0.9932147860527039,
          -1.4884575605392456,
          -0.8935891389846802,
          -1.4837995767593384,
          -1.1410138607025146,
          -1.4165780544281006
         ],
         "xaxis": "x",
         "y": [
          0,
          2,
          6,
          7,
          8,
          10,
          11,
          12,
          13,
          16,
          18,
          22,
          23,
          33,
          37
         ],
         "yaxis": "y"
        },
        {
         "alignmentgroup": "True",
         "bingroup": "x",
         "hovertemplate": "symbol=0<br>x=%{x}<br>count=%{y}<extra></extra>",
         "legendgroup": "0",
         "marker": {
          "color": "#0d0887"
         },
         "name": "0",
         "offsetgroup": "0",
         "opacity": 0.5,
         "showlegend": false,
         "type": "histogram",
         "x": [
          -0.9277801513671875,
          -1.4066619873046875,
          -1.5043389797210693,
          -1.415095329284668,
          -1.2008211612701416,
          -1.1821672916412354,
          -1.6092679500579834,
          -0.8574517965316772,
          -1.46831476688385,
          -0.9932147860527039,
          -1.4884575605392456,
          -0.8935891389846802,
          -1.4837995767593384,
          -1.1410138607025146,
          -1.4165780544281006
         ],
         "xaxis": "x3",
         "yaxis": "y3"
        },
        {
         "alignmentgroup": "True",
         "boxpoints": "all",
         "fillcolor": "rgba(255,255,255,0)",
         "hoveron": "points",
         "hovertemplate": "symbol=0<br>index=%{y}<extra></extra>",
         "jitter": 0,
         "legendgroup": "0",
         "line": {
          "color": "rgba(255,255,255,0)"
         },
         "marker": {
          "color": "#0d0887",
          "symbol": "line-ew-open"
         },
         "name": "0",
         "offsetgroup": "0",
         "showlegend": false,
         "type": "box",
         "xaxis": "x2",
         "y": [
          0,
          2,
          6,
          7,
          8,
          10,
          11,
          12,
          13,
          16,
          18,
          22,
          23,
          33,
          37
         ],
         "yaxis": "y2"
        },
        {
         "hovertemplate": "<b>OLS trendline</b><br>index = -0.91558 * x + 13.3743<br>R<sup>2</sup>=0.000480<br><br>symbol=0<br>x=%{x}<br>index=%{y} <b>(trend)</b><extra></extra>",
         "legendgroup": "0",
         "marker": {
          "symbol": "circle"
         },
         "mode": "lines",
         "name": "0",
         "showlegend": false,
         "type": "scatter",
         "x": [
          -1.6092679500579834,
          -1.5043389797210693,
          -1.4884575605392456,
          -1.4837995767593384,
          -1.46831476688385,
          -1.4165780544281006,
          -1.415095329284668,
          -1.4066619873046875,
          -1.2008211612701416,
          -1.1821672916412354,
          -1.1410138607025146,
          -0.9932147860527039,
          -0.9277801513671875,
          -0.8935891389846802,
          -0.8574517965316772
         ],
         "xaxis": "x",
         "y": [
          14.84771111552683,
          14.75164020229726,
          14.737099485474436,
          14.732834726617972,
          14.718657137519862,
          14.67128801536837,
          14.6699304612235,
          14.662209058230669,
          14.473745223375797,
          14.456666105142194,
          14.418986828579028,
          14.283664886216485,
          14.223754214350592,
          14.192449592059113,
          14.159362948017888
         ],
         "yaxis": "y"
        },
        {
         "hovertemplate": "symbol=1<br>x=%{x}<br>index=%{y}<br>color=%{marker.color}<extra></extra>",
         "legendgroup": "1",
         "marker": {
          "color": [
           1,
           1,
           1,
           1,
           1,
           1,
           1,
           1,
           1,
           1,
           1,
           1,
           1,
           1,
           1,
           1,
           1,
           1,
           1,
           1,
           1,
           1,
           1,
           1,
           1
          ],
          "coloraxis": "coloraxis",
          "symbol": "diamond"
         },
         "mode": "markers",
         "name": "1",
         "orientation": "h",
         "showlegend": true,
         "type": "scatter",
         "x": [
          -0.9646732211112976,
          -1.2526553869247437,
          -1.4268689155578613,
          -1.0172860622406006,
          -0.9668350219726562,
          -0.9834164977073669,
          -1.4834659099578857,
          -1.0579637289047241,
          -1.4805312156677246,
          -0.9403129816055298,
          -0.864034116268158,
          -1.3976185321807861,
          -0.9583420157432556,
          -0.9051687121391296,
          -1.1721992492675781,
          -1.3972774744033813,
          -0.958192765712738,
          -0.8593555688858032,
          -1.3194851875305176,
          -1.317639708518982,
          -1.06128990650177,
          -1.0367653369903564,
          -0.9550873041152954,
          -0.9633894562721252,
          -1.011703372001648
         ],
         "xaxis": "x",
         "y": [
          1,
          3,
          4,
          5,
          9,
          14,
          15,
          17,
          19,
          20,
          21,
          24,
          25,
          26,
          27,
          28,
          29,
          30,
          31,
          32,
          34,
          35,
          36,
          38,
          39
         ],
         "yaxis": "y"
        },
        {
         "alignmentgroup": "True",
         "bingroup": "x",
         "hovertemplate": "symbol=1<br>x=%{x}<br>count=%{y}<extra></extra>",
         "legendgroup": "1",
         "marker": {
          "color": "#0d0887"
         },
         "name": "1",
         "offsetgroup": "1",
         "opacity": 0.5,
         "showlegend": false,
         "type": "histogram",
         "x": [
          -0.9646732211112976,
          -1.2526553869247437,
          -1.4268689155578613,
          -1.0172860622406006,
          -0.9668350219726562,
          -0.9834164977073669,
          -1.4834659099578857,
          -1.0579637289047241,
          -1.4805312156677246,
          -0.9403129816055298,
          -0.864034116268158,
          -1.3976185321807861,
          -0.9583420157432556,
          -0.9051687121391296,
          -1.1721992492675781,
          -1.3972774744033813,
          -0.958192765712738,
          -0.8593555688858032,
          -1.3194851875305176,
          -1.317639708518982,
          -1.06128990650177,
          -1.0367653369903564,
          -0.9550873041152954,
          -0.9633894562721252,
          -1.011703372001648
         ],
         "xaxis": "x3",
         "yaxis": "y3"
        },
        {
         "alignmentgroup": "True",
         "boxpoints": "all",
         "fillcolor": "rgba(255,255,255,0)",
         "hoveron": "points",
         "hovertemplate": "symbol=1<br>index=%{y}<extra></extra>",
         "jitter": 0,
         "legendgroup": "1",
         "line": {
          "color": "rgba(255,255,255,0)"
         },
         "marker": {
          "color": "#0d0887",
          "symbol": "line-ew-open"
         },
         "name": "1",
         "offsetgroup": "1",
         "showlegend": false,
         "type": "box",
         "xaxis": "x2",
         "y": [
          1,
          3,
          4,
          5,
          9,
          14,
          15,
          17,
          19,
          20,
          21,
          24,
          25,
          26,
          27,
          28,
          29,
          30,
          31,
          32,
          34,
          35,
          36,
          38,
          39
         ],
         "yaxis": "y2"
        },
        {
         "hovertemplate": "<b>OLS trendline</b><br>index = 9.0542 * x + 32.5307<br>R<sup>2</sup>=0.026537<br><br>symbol=1<br>x=%{x}<br>index=%{y} <b>(trend)</b><extra></extra>",
         "legendgroup": "1",
         "marker": {
          "symbol": "diamond"
         },
         "mode": "lines",
         "name": "1",
         "showlegend": false,
         "type": "scatter",
         "x": [
          -1.4834659099578857,
          -1.4805312156677246,
          -1.4268689155578613,
          -1.3976185321807861,
          -1.3972774744033813,
          -1.3194851875305176,
          -1.317639708518982,
          -1.2526553869247437,
          -1.1721992492675781,
          -1.06128990650177,
          -1.0579637289047241,
          -1.0367653369903564,
          -1.0172860622406006,
          -1.011703372001648,
          -0.9834164977073669,
          -0.9668350219726562,
          -0.9646732211112976,
          -0.9633894562721252,
          -0.9583420157432556,
          -0.958192765712738,
          -0.9550873041152954,
          -0.9403129816055298,
          -0.9051687121391296,
          -0.864034116268158,
          -0.8593555688858032
         ],
         "xaxis": "x",
         "y": [
          19.099127701886253,
          19.12569902182516,
          19.61156841873551,
          19.87640734851899,
          19.879495355113562,
          20.583842567771484,
          20.60055191069025,
          21.18893319656468,
          21.91739945688508,
          22.921595239977158,
          22.951711129526895,
          23.143645688310556,
          23.320015010079068,
          23.3705618247699,
          23.626676947038302,
          23.776809006204857,
          23.79638239159084,
          23.808005859964474,
          23.853706414742817,
          23.855057754923315,
          23.883175236849894,
          24.01694496257694,
          24.335148337675207,
          24.707589348348666,
          24.749949869430083
         ],
         "yaxis": "y"
        }
       ],
       "layout": {
        "barmode": "overlay",
        "coloraxis": {
         "colorbar": {
          "title": {
           "text": "color"
          }
         },
         "colorscale": [
          [
           0,
           "#0d0887"
          ],
          [
           0.1111111111111111,
           "#46039f"
          ],
          [
           0.2222222222222222,
           "#7201a8"
          ],
          [
           0.3333333333333333,
           "#9c179e"
          ],
          [
           0.4444444444444444,
           "#bd3786"
          ],
          [
           0.5555555555555556,
           "#d8576b"
          ],
          [
           0.6666666666666666,
           "#ed7953"
          ],
          [
           0.7777777777777778,
           "#fb9f3a"
          ],
          [
           0.8888888888888888,
           "#fdca26"
          ],
          [
           1,
           "#f0f921"
          ]
         ]
        },
        "legend": {
         "title": {
          "text": "symbol"
         },
         "tracegroupgap": 0
        },
        "margin": {
         "t": 60
        },
        "template": {
         "data": {
          "bar": [
           {
            "error_x": {
             "color": "#2a3f5f"
            },
            "error_y": {
             "color": "#2a3f5f"
            },
            "marker": {
             "line": {
              "color": "#E5ECF6",
              "width": 0.5
             },
             "pattern": {
              "fillmode": "overlay",
              "size": 10,
              "solidity": 0.2
             }
            },
            "type": "bar"
           }
          ],
          "barpolar": [
           {
            "marker": {
             "line": {
              "color": "#E5ECF6",
              "width": 0.5
             },
             "pattern": {
              "fillmode": "overlay",
              "size": 10,
              "solidity": 0.2
             }
            },
            "type": "barpolar"
           }
          ],
          "carpet": [
           {
            "aaxis": {
             "endlinecolor": "#2a3f5f",
             "gridcolor": "white",
             "linecolor": "white",
             "minorgridcolor": "white",
             "startlinecolor": "#2a3f5f"
            },
            "baxis": {
             "endlinecolor": "#2a3f5f",
             "gridcolor": "white",
             "linecolor": "white",
             "minorgridcolor": "white",
             "startlinecolor": "#2a3f5f"
            },
            "type": "carpet"
           }
          ],
          "choropleth": [
           {
            "colorbar": {
             "outlinewidth": 0,
             "ticks": ""
            },
            "type": "choropleth"
           }
          ],
          "contour": [
           {
            "colorbar": {
             "outlinewidth": 0,
             "ticks": ""
            },
            "colorscale": [
             [
              0,
              "#0d0887"
             ],
             [
              0.1111111111111111,
              "#46039f"
             ],
             [
              0.2222222222222222,
              "#7201a8"
             ],
             [
              0.3333333333333333,
              "#9c179e"
             ],
             [
              0.4444444444444444,
              "#bd3786"
             ],
             [
              0.5555555555555556,
              "#d8576b"
             ],
             [
              0.6666666666666666,
              "#ed7953"
             ],
             [
              0.7777777777777778,
              "#fb9f3a"
             ],
             [
              0.8888888888888888,
              "#fdca26"
             ],
             [
              1,
              "#f0f921"
             ]
            ],
            "type": "contour"
           }
          ],
          "contourcarpet": [
           {
            "colorbar": {
             "outlinewidth": 0,
             "ticks": ""
            },
            "type": "contourcarpet"
           }
          ],
          "heatmap": [
           {
            "colorbar": {
             "outlinewidth": 0,
             "ticks": ""
            },
            "colorscale": [
             [
              0,
              "#0d0887"
             ],
             [
              0.1111111111111111,
              "#46039f"
             ],
             [
              0.2222222222222222,
              "#7201a8"
             ],
             [
              0.3333333333333333,
              "#9c179e"
             ],
             [
              0.4444444444444444,
              "#bd3786"
             ],
             [
              0.5555555555555556,
              "#d8576b"
             ],
             [
              0.6666666666666666,
              "#ed7953"
             ],
             [
              0.7777777777777778,
              "#fb9f3a"
             ],
             [
              0.8888888888888888,
              "#fdca26"
             ],
             [
              1,
              "#f0f921"
             ]
            ],
            "type": "heatmap"
           }
          ],
          "heatmapgl": [
           {
            "colorbar": {
             "outlinewidth": 0,
             "ticks": ""
            },
            "colorscale": [
             [
              0,
              "#0d0887"
             ],
             [
              0.1111111111111111,
              "#46039f"
             ],
             [
              0.2222222222222222,
              "#7201a8"
             ],
             [
              0.3333333333333333,
              "#9c179e"
             ],
             [
              0.4444444444444444,
              "#bd3786"
             ],
             [
              0.5555555555555556,
              "#d8576b"
             ],
             [
              0.6666666666666666,
              "#ed7953"
             ],
             [
              0.7777777777777778,
              "#fb9f3a"
             ],
             [
              0.8888888888888888,
              "#fdca26"
             ],
             [
              1,
              "#f0f921"
             ]
            ],
            "type": "heatmapgl"
           }
          ],
          "histogram": [
           {
            "marker": {
             "pattern": {
              "fillmode": "overlay",
              "size": 10,
              "solidity": 0.2
             }
            },
            "type": "histogram"
           }
          ],
          "histogram2d": [
           {
            "colorbar": {
             "outlinewidth": 0,
             "ticks": ""
            },
            "colorscale": [
             [
              0,
              "#0d0887"
             ],
             [
              0.1111111111111111,
              "#46039f"
             ],
             [
              0.2222222222222222,
              "#7201a8"
             ],
             [
              0.3333333333333333,
              "#9c179e"
             ],
             [
              0.4444444444444444,
              "#bd3786"
             ],
             [
              0.5555555555555556,
              "#d8576b"
             ],
             [
              0.6666666666666666,
              "#ed7953"
             ],
             [
              0.7777777777777778,
              "#fb9f3a"
             ],
             [
              0.8888888888888888,
              "#fdca26"
             ],
             [
              1,
              "#f0f921"
             ]
            ],
            "type": "histogram2d"
           }
          ],
          "histogram2dcontour": [
           {
            "colorbar": {
             "outlinewidth": 0,
             "ticks": ""
            },
            "colorscale": [
             [
              0,
              "#0d0887"
             ],
             [
              0.1111111111111111,
              "#46039f"
             ],
             [
              0.2222222222222222,
              "#7201a8"
             ],
             [
              0.3333333333333333,
              "#9c179e"
             ],
             [
              0.4444444444444444,
              "#bd3786"
             ],
             [
              0.5555555555555556,
              "#d8576b"
             ],
             [
              0.6666666666666666,
              "#ed7953"
             ],
             [
              0.7777777777777778,
              "#fb9f3a"
             ],
             [
              0.8888888888888888,
              "#fdca26"
             ],
             [
              1,
              "#f0f921"
             ]
            ],
            "type": "histogram2dcontour"
           }
          ],
          "mesh3d": [
           {
            "colorbar": {
             "outlinewidth": 0,
             "ticks": ""
            },
            "type": "mesh3d"
           }
          ],
          "parcoords": [
           {
            "line": {
             "colorbar": {
              "outlinewidth": 0,
              "ticks": ""
             }
            },
            "type": "parcoords"
           }
          ],
          "pie": [
           {
            "automargin": true,
            "type": "pie"
           }
          ],
          "scatter": [
           {
            "fillpattern": {
             "fillmode": "overlay",
             "size": 10,
             "solidity": 0.2
            },
            "type": "scatter"
           }
          ],
          "scatter3d": [
           {
            "line": {
             "colorbar": {
              "outlinewidth": 0,
              "ticks": ""
             }
            },
            "marker": {
             "colorbar": {
              "outlinewidth": 0,
              "ticks": ""
             }
            },
            "type": "scatter3d"
           }
          ],
          "scattercarpet": [
           {
            "marker": {
             "colorbar": {
              "outlinewidth": 0,
              "ticks": ""
             }
            },
            "type": "scattercarpet"
           }
          ],
          "scattergeo": [
           {
            "marker": {
             "colorbar": {
              "outlinewidth": 0,
              "ticks": ""
             }
            },
            "type": "scattergeo"
           }
          ],
          "scattergl": [
           {
            "marker": {
             "colorbar": {
              "outlinewidth": 0,
              "ticks": ""
             }
            },
            "type": "scattergl"
           }
          ],
          "scattermapbox": [
           {
            "marker": {
             "colorbar": {
              "outlinewidth": 0,
              "ticks": ""
             }
            },
            "type": "scattermapbox"
           }
          ],
          "scatterpolar": [
           {
            "marker": {
             "colorbar": {
              "outlinewidth": 0,
              "ticks": ""
             }
            },
            "type": "scatterpolar"
           }
          ],
          "scatterpolargl": [
           {
            "marker": {
             "colorbar": {
              "outlinewidth": 0,
              "ticks": ""
             }
            },
            "type": "scatterpolargl"
           }
          ],
          "scatterternary": [
           {
            "marker": {
             "colorbar": {
              "outlinewidth": 0,
              "ticks": ""
             }
            },
            "type": "scatterternary"
           }
          ],
          "surface": [
           {
            "colorbar": {
             "outlinewidth": 0,
             "ticks": ""
            },
            "colorscale": [
             [
              0,
              "#0d0887"
             ],
             [
              0.1111111111111111,
              "#46039f"
             ],
             [
              0.2222222222222222,
              "#7201a8"
             ],
             [
              0.3333333333333333,
              "#9c179e"
             ],
             [
              0.4444444444444444,
              "#bd3786"
             ],
             [
              0.5555555555555556,
              "#d8576b"
             ],
             [
              0.6666666666666666,
              "#ed7953"
             ],
             [
              0.7777777777777778,
              "#fb9f3a"
             ],
             [
              0.8888888888888888,
              "#fdca26"
             ],
             [
              1,
              "#f0f921"
             ]
            ],
            "type": "surface"
           }
          ],
          "table": [
           {
            "cells": {
             "fill": {
              "color": "#EBF0F8"
             },
             "line": {
              "color": "white"
             }
            },
            "header": {
             "fill": {
              "color": "#C8D4E3"
             },
             "line": {
              "color": "white"
             }
            },
            "type": "table"
           }
          ]
         },
         "layout": {
          "annotationdefaults": {
           "arrowcolor": "#2a3f5f",
           "arrowhead": 0,
           "arrowwidth": 1
          },
          "autotypenumbers": "strict",
          "coloraxis": {
           "colorbar": {
            "outlinewidth": 0,
            "ticks": ""
           }
          },
          "colorscale": {
           "diverging": [
            [
             0,
             "#8e0152"
            ],
            [
             0.1,
             "#c51b7d"
            ],
            [
             0.2,
             "#de77ae"
            ],
            [
             0.3,
             "#f1b6da"
            ],
            [
             0.4,
             "#fde0ef"
            ],
            [
             0.5,
             "#f7f7f7"
            ],
            [
             0.6,
             "#e6f5d0"
            ],
            [
             0.7,
             "#b8e186"
            ],
            [
             0.8,
             "#7fbc41"
            ],
            [
             0.9,
             "#4d9221"
            ],
            [
             1,
             "#276419"
            ]
           ],
           "sequential": [
            [
             0,
             "#0d0887"
            ],
            [
             0.1111111111111111,
             "#46039f"
            ],
            [
             0.2222222222222222,
             "#7201a8"
            ],
            [
             0.3333333333333333,
             "#9c179e"
            ],
            [
             0.4444444444444444,
             "#bd3786"
            ],
            [
             0.5555555555555556,
             "#d8576b"
            ],
            [
             0.6666666666666666,
             "#ed7953"
            ],
            [
             0.7777777777777778,
             "#fb9f3a"
            ],
            [
             0.8888888888888888,
             "#fdca26"
            ],
            [
             1,
             "#f0f921"
            ]
           ],
           "sequentialminus": [
            [
             0,
             "#0d0887"
            ],
            [
             0.1111111111111111,
             "#46039f"
            ],
            [
             0.2222222222222222,
             "#7201a8"
            ],
            [
             0.3333333333333333,
             "#9c179e"
            ],
            [
             0.4444444444444444,
             "#bd3786"
            ],
            [
             0.5555555555555556,
             "#d8576b"
            ],
            [
             0.6666666666666666,
             "#ed7953"
            ],
            [
             0.7777777777777778,
             "#fb9f3a"
            ],
            [
             0.8888888888888888,
             "#fdca26"
            ],
            [
             1,
             "#f0f921"
            ]
           ]
          },
          "colorway": [
           "#636efa",
           "#EF553B",
           "#00cc96",
           "#ab63fa",
           "#FFA15A",
           "#19d3f3",
           "#FF6692",
           "#B6E880",
           "#FF97FF",
           "#FECB52"
          ],
          "font": {
           "color": "#2a3f5f"
          },
          "geo": {
           "bgcolor": "white",
           "lakecolor": "white",
           "landcolor": "#E5ECF6",
           "showlakes": true,
           "showland": true,
           "subunitcolor": "white"
          },
          "hoverlabel": {
           "align": "left"
          },
          "hovermode": "closest",
          "mapbox": {
           "style": "light"
          },
          "paper_bgcolor": "white",
          "plot_bgcolor": "#E5ECF6",
          "polar": {
           "angularaxis": {
            "gridcolor": "white",
            "linecolor": "white",
            "ticks": ""
           },
           "bgcolor": "#E5ECF6",
           "radialaxis": {
            "gridcolor": "white",
            "linecolor": "white",
            "ticks": ""
           }
          },
          "scene": {
           "xaxis": {
            "backgroundcolor": "#E5ECF6",
            "gridcolor": "white",
            "gridwidth": 2,
            "linecolor": "white",
            "showbackground": true,
            "ticks": "",
            "zerolinecolor": "white"
           },
           "yaxis": {
            "backgroundcolor": "#E5ECF6",
            "gridcolor": "white",
            "gridwidth": 2,
            "linecolor": "white",
            "showbackground": true,
            "ticks": "",
            "zerolinecolor": "white"
           },
           "zaxis": {
            "backgroundcolor": "#E5ECF6",
            "gridcolor": "white",
            "gridwidth": 2,
            "linecolor": "white",
            "showbackground": true,
            "ticks": "",
            "zerolinecolor": "white"
           }
          },
          "shapedefaults": {
           "line": {
            "color": "#2a3f5f"
           }
          },
          "ternary": {
           "aaxis": {
            "gridcolor": "white",
            "linecolor": "white",
            "ticks": ""
           },
           "baxis": {
            "gridcolor": "white",
            "linecolor": "white",
            "ticks": ""
           },
           "bgcolor": "#E5ECF6",
           "caxis": {
            "gridcolor": "white",
            "linecolor": "white",
            "ticks": ""
           }
          },
          "title": {
           "x": 0.05
          },
          "xaxis": {
           "automargin": true,
           "gridcolor": "white",
           "linecolor": "white",
           "ticks": "",
           "title": {
            "standoff": 15
           },
           "zerolinecolor": "white",
           "zerolinewidth": 2
          },
          "yaxis": {
           "automargin": true,
           "gridcolor": "white",
           "linecolor": "white",
           "ticks": "",
           "title": {
            "standoff": 15
           },
           "zerolinecolor": "white",
           "zerolinewidth": 2
          }
         }
        },
        "xaxis": {
         "anchor": "y",
         "domain": [
          0,
          0.7363
         ],
         "title": {
          "text": "x"
         }
        },
        "xaxis2": {
         "anchor": "y2",
         "domain": [
          0.7413,
          1
         ],
         "matches": "x2",
         "showgrid": false,
         "showline": false,
         "showticklabels": false,
         "ticks": ""
        },
        "xaxis3": {
         "anchor": "y3",
         "domain": [
          0,
          0.7363
         ],
         "matches": "x",
         "showgrid": true,
         "showticklabels": false
        },
        "xaxis4": {
         "anchor": "y4",
         "domain": [
          0.7413,
          1
         ],
         "matches": "x2",
         "showgrid": false,
         "showline": false,
         "showticklabels": false,
         "ticks": ""
        },
        "yaxis": {
         "anchor": "x",
         "domain": [
          0,
          0.7326
         ],
         "title": {
          "text": "index"
         }
        },
        "yaxis2": {
         "anchor": "x2",
         "domain": [
          0,
          0.7326
         ],
         "matches": "y",
         "showgrid": true,
         "showticklabels": false
        },
        "yaxis3": {
         "anchor": "x3",
         "domain": [
          0.7426,
          1
         ],
         "matches": "y3",
         "showgrid": true,
         "showline": false,
         "showticklabels": false,
         "ticks": ""
        },
        "yaxis4": {
         "anchor": "x4",
         "domain": [
          0.7426,
          1
         ],
         "matches": "y3",
         "showgrid": true,
         "showline": false,
         "showticklabels": false,
         "ticks": ""
        }
       }
      }
     },
     "metadata": {},
     "output_type": "display_data"
    },
    {
     "data": {
      "application/vnd.plotly.v1+json": {
       "config": {
        "plotlyServerURL": "https://plot.ly"
       },
       "data": [
        {
         "hovertemplate": "symbol=0<br>x=%{x}<br>index=%{y}<br>color=%{marker.color}<extra></extra>",
         "legendgroup": "0",
         "marker": {
          "color": [
           0,
           0,
           0,
           0,
           0,
           0,
           0,
           0,
           0,
           0
          ],
          "coloraxis": "coloraxis",
          "symbol": "circle"
         },
         "mode": "markers",
         "name": "0",
         "orientation": "h",
         "showlegend": true,
         "type": "scatter",
         "x": [
          -0.9277801513671875,
          -1.4066619873046875,
          -1.415095329284668,
          -1.1821672916412354,
          -1.6092679500579834,
          -0.9834164977073669,
          -0.9932147860527039,
          -1.4884575605392456,
          -1.4837995767593384,
          -1.3972774744033813
         ],
         "xaxis": "x",
         "y": [
          0,
          2,
          7,
          10,
          11,
          14,
          16,
          18,
          23,
          28
         ],
         "yaxis": "y"
        },
        {
         "alignmentgroup": "True",
         "bingroup": "x",
         "hovertemplate": "symbol=0<br>x=%{x}<br>count=%{y}<extra></extra>",
         "legendgroup": "0",
         "marker": {
          "color": "#0d0887"
         },
         "name": "0",
         "offsetgroup": "0",
         "opacity": 0.5,
         "showlegend": false,
         "type": "histogram",
         "x": [
          -0.9277801513671875,
          -1.4066619873046875,
          -1.415095329284668,
          -1.1821672916412354,
          -1.6092679500579834,
          -0.9834164977073669,
          -0.9932147860527039,
          -1.4884575605392456,
          -1.4837995767593384,
          -1.3972774744033813
         ],
         "xaxis": "x3",
         "yaxis": "y3"
        },
        {
         "alignmentgroup": "True",
         "boxpoints": "all",
         "fillcolor": "rgba(255,255,255,0)",
         "hoveron": "points",
         "hovertemplate": "symbol=0<br>index=%{y}<extra></extra>",
         "jitter": 0,
         "legendgroup": "0",
         "line": {
          "color": "rgba(255,255,255,0)"
         },
         "marker": {
          "color": "#0d0887",
          "symbol": "line-ew-open"
         },
         "name": "0",
         "offsetgroup": "0",
         "showlegend": false,
         "type": "box",
         "xaxis": "x2",
         "y": [
          0,
          2,
          7,
          10,
          11,
          14,
          16,
          18,
          23,
          28
         ],
         "yaxis": "y2"
        },
        {
         "hovertemplate": "<b>OLS trendline</b><br>index = -10.4699 * x + -0.592672<br>R<sup>2</sup>=0.085407<br><br>symbol=0<br>x=%{x}<br>index=%{y} <b>(trend)</b><extra></extra>",
         "legendgroup": "0",
         "marker": {
          "symbol": "circle"
         },
         "mode": "lines",
         "name": "0",
         "showlegend": false,
         "type": "scatter",
         "x": [
          -1.6092679500579834,
          -1.4884575605392456,
          -1.4837995767593384,
          -1.415095329284668,
          -1.4066619873046875,
          -1.3972774744033813,
          -1.1821672916412354,
          -0.9932147860527039,
          -0.9834164977073669,
          -0.9277801513671875
         ],
         "xaxis": "x",
         "y": [
          16.256161036000073,
          14.99129143904446,
          14.942522934201563,
          14.2231980966722,
          14.134902065894547,
          14.036647395096892,
          11.784470812807143,
          9.806161823492527,
          9.703574975791827,
          9.121069420998705
         ],
         "yaxis": "y"
        },
        {
         "hovertemplate": "symbol=1<br>x=%{x}<br>index=%{y}<br>color=%{marker.color}<extra></extra>",
         "legendgroup": "1",
         "marker": {
          "color": [
           1,
           1,
           1,
           1,
           1,
           1,
           1,
           1,
           1,
           1,
           1,
           1,
           1,
           1,
           1,
           1,
           1,
           1,
           1,
           1,
           1,
           1,
           1,
           1,
           1,
           1,
           1,
           1,
           1,
           1
          ],
          "coloraxis": "coloraxis",
          "symbol": "diamond"
         },
         "mode": "markers",
         "name": "1",
         "orientation": "h",
         "showlegend": true,
         "type": "scatter",
         "x": [
          -0.9646732211112976,
          -1.2526553869247437,
          -1.4268689155578613,
          -1.0172860622406006,
          -1.5043389797210693,
          -1.2008211612701416,
          -0.9668350219726562,
          -0.8574517965316772,
          -1.46831476688385,
          -1.4834659099578857,
          -1.0579637289047241,
          -1.4805312156677246,
          -0.9403129816055298,
          -0.864034116268158,
          -0.8935891389846802,
          -1.3976185321807861,
          -0.9583420157432556,
          -0.9051687121391296,
          -1.1721992492675781,
          -0.958192765712738,
          -0.8593555688858032,
          -1.3194851875305176,
          -1.317639708518982,
          -1.1410138607025146,
          -1.06128990650177,
          -1.0367653369903564,
          -0.9550873041152954,
          -1.4165780544281006,
          -0.9633894562721252,
          -1.011703372001648
         ],
         "xaxis": "x",
         "y": [
          1,
          3,
          4,
          5,
          6,
          8,
          9,
          12,
          13,
          15,
          17,
          19,
          20,
          21,
          22,
          24,
          25,
          26,
          27,
          29,
          30,
          31,
          32,
          33,
          34,
          35,
          36,
          37,
          38,
          39
         ],
         "yaxis": "y"
        },
        {
         "alignmentgroup": "True",
         "bingroup": "x",
         "hovertemplate": "symbol=1<br>x=%{x}<br>count=%{y}<extra></extra>",
         "legendgroup": "1",
         "marker": {
          "color": "#0d0887"
         },
         "name": "1",
         "offsetgroup": "1",
         "opacity": 0.5,
         "showlegend": false,
         "type": "histogram",
         "x": [
          -0.9646732211112976,
          -1.2526553869247437,
          -1.4268689155578613,
          -1.0172860622406006,
          -1.5043389797210693,
          -1.2008211612701416,
          -0.9668350219726562,
          -0.8574517965316772,
          -1.46831476688385,
          -1.4834659099578857,
          -1.0579637289047241,
          -1.4805312156677246,
          -0.9403129816055298,
          -0.864034116268158,
          -0.8935891389846802,
          -1.3976185321807861,
          -0.9583420157432556,
          -0.9051687121391296,
          -1.1721992492675781,
          -0.958192765712738,
          -0.8593555688858032,
          -1.3194851875305176,
          -1.317639708518982,
          -1.1410138607025146,
          -1.06128990650177,
          -1.0367653369903564,
          -0.9550873041152954,
          -1.4165780544281006,
          -0.9633894562721252,
          -1.011703372001648
         ],
         "xaxis": "x3",
         "yaxis": "y3"
        },
        {
         "alignmentgroup": "True",
         "boxpoints": "all",
         "fillcolor": "rgba(255,255,255,0)",
         "hoveron": "points",
         "hovertemplate": "symbol=1<br>index=%{y}<extra></extra>",
         "jitter": 0,
         "legendgroup": "1",
         "line": {
          "color": "rgba(255,255,255,0)"
         },
         "marker": {
          "color": "#0d0887",
          "symbol": "line-ew-open"
         },
         "name": "1",
         "offsetgroup": "1",
         "showlegend": false,
         "type": "box",
         "xaxis": "x2",
         "y": [
          1,
          3,
          4,
          5,
          6,
          8,
          9,
          12,
          13,
          15,
          17,
          19,
          20,
          21,
          22,
          24,
          25,
          26,
          27,
          29,
          30,
          31,
          32,
          33,
          34,
          35,
          36,
          37,
          38,
          39
         ],
         "yaxis": "y2"
        },
        {
         "hovertemplate": "<b>OLS trendline</b><br>index = 10.7426 * x + 33.8223<br>R<sup>2</sup>=0.040305<br><br>symbol=1<br>x=%{x}<br>index=%{y} <b>(trend)</b><extra></extra>",
         "legendgroup": "1",
         "marker": {
          "symbol": "diamond"
         },
         "mode": "lines",
         "name": "1",
         "showlegend": false,
         "type": "scatter",
         "x": [
          -1.5043389797210693,
          -1.4834659099578857,
          -1.4805312156677246,
          -1.46831476688385,
          -1.4268689155578613,
          -1.4165780544281006,
          -1.3976185321807861,
          -1.3194851875305176,
          -1.317639708518982,
          -1.2526553869247437,
          -1.2008211612701416,
          -1.1721992492675781,
          -1.1410138607025146,
          -1.06128990650177,
          -1.0579637289047241,
          -1.0367653369903564,
          -1.0172860622406006,
          -1.011703372001648,
          -0.9668350219726562,
          -0.9646732211112976,
          -0.9633894562721252,
          -0.9583420157432556,
          -0.958192765712738,
          -0.9550873041152954,
          -0.9403129816055298,
          -0.9051687121391296,
          -0.8935891389846802,
          -0.864034116268158,
          -0.8593555688858032,
          -0.8574517965316772
         ],
         "xaxis": "x",
         "y": [
          17.661772294470726,
          17.886004082202682,
          17.917530434320295,
          18.04876729509943,
          18.494004983773827,
          18.604555957569627,
          18.808231201139105,
          19.647589271187286,
          19.667414580194222,
          20.365517483645736,
          20.922353694902682,
          21.229828473143577,
          21.564841746629295,
          22.42128715587259,
          22.457019070601064,
          22.68474567574016,
          22.894004431180335,
          22.953977239532755,
          23.435981585502493,
          23.45920502495642,
          23.47299604315264,
          23.527218858775836,
          23.52882219750568,
          23.56218304062209,
          23.72089820741258,
          24.098440296831757,
          24.222835434636306,
          24.540334281493685,
          24.59059421237287,
          24.611045745532277
         ],
         "yaxis": "y"
        }
       ],
       "layout": {
        "barmode": "overlay",
        "coloraxis": {
         "colorbar": {
          "title": {
           "text": "color"
          }
         },
         "colorscale": [
          [
           0,
           "#0d0887"
          ],
          [
           0.1111111111111111,
           "#46039f"
          ],
          [
           0.2222222222222222,
           "#7201a8"
          ],
          [
           0.3333333333333333,
           "#9c179e"
          ],
          [
           0.4444444444444444,
           "#bd3786"
          ],
          [
           0.5555555555555556,
           "#d8576b"
          ],
          [
           0.6666666666666666,
           "#ed7953"
          ],
          [
           0.7777777777777778,
           "#fb9f3a"
          ],
          [
           0.8888888888888888,
           "#fdca26"
          ],
          [
           1,
           "#f0f921"
          ]
         ]
        },
        "legend": {
         "title": {
          "text": "symbol"
         },
         "tracegroupgap": 0
        },
        "margin": {
         "t": 60
        },
        "template": {
         "data": {
          "bar": [
           {
            "error_x": {
             "color": "#2a3f5f"
            },
            "error_y": {
             "color": "#2a3f5f"
            },
            "marker": {
             "line": {
              "color": "#E5ECF6",
              "width": 0.5
             },
             "pattern": {
              "fillmode": "overlay",
              "size": 10,
              "solidity": 0.2
             }
            },
            "type": "bar"
           }
          ],
          "barpolar": [
           {
            "marker": {
             "line": {
              "color": "#E5ECF6",
              "width": 0.5
             },
             "pattern": {
              "fillmode": "overlay",
              "size": 10,
              "solidity": 0.2
             }
            },
            "type": "barpolar"
           }
          ],
          "carpet": [
           {
            "aaxis": {
             "endlinecolor": "#2a3f5f",
             "gridcolor": "white",
             "linecolor": "white",
             "minorgridcolor": "white",
             "startlinecolor": "#2a3f5f"
            },
            "baxis": {
             "endlinecolor": "#2a3f5f",
             "gridcolor": "white",
             "linecolor": "white",
             "minorgridcolor": "white",
             "startlinecolor": "#2a3f5f"
            },
            "type": "carpet"
           }
          ],
          "choropleth": [
           {
            "colorbar": {
             "outlinewidth": 0,
             "ticks": ""
            },
            "type": "choropleth"
           }
          ],
          "contour": [
           {
            "colorbar": {
             "outlinewidth": 0,
             "ticks": ""
            },
            "colorscale": [
             [
              0,
              "#0d0887"
             ],
             [
              0.1111111111111111,
              "#46039f"
             ],
             [
              0.2222222222222222,
              "#7201a8"
             ],
             [
              0.3333333333333333,
              "#9c179e"
             ],
             [
              0.4444444444444444,
              "#bd3786"
             ],
             [
              0.5555555555555556,
              "#d8576b"
             ],
             [
              0.6666666666666666,
              "#ed7953"
             ],
             [
              0.7777777777777778,
              "#fb9f3a"
             ],
             [
              0.8888888888888888,
              "#fdca26"
             ],
             [
              1,
              "#f0f921"
             ]
            ],
            "type": "contour"
           }
          ],
          "contourcarpet": [
           {
            "colorbar": {
             "outlinewidth": 0,
             "ticks": ""
            },
            "type": "contourcarpet"
           }
          ],
          "heatmap": [
           {
            "colorbar": {
             "outlinewidth": 0,
             "ticks": ""
            },
            "colorscale": [
             [
              0,
              "#0d0887"
             ],
             [
              0.1111111111111111,
              "#46039f"
             ],
             [
              0.2222222222222222,
              "#7201a8"
             ],
             [
              0.3333333333333333,
              "#9c179e"
             ],
             [
              0.4444444444444444,
              "#bd3786"
             ],
             [
              0.5555555555555556,
              "#d8576b"
             ],
             [
              0.6666666666666666,
              "#ed7953"
             ],
             [
              0.7777777777777778,
              "#fb9f3a"
             ],
             [
              0.8888888888888888,
              "#fdca26"
             ],
             [
              1,
              "#f0f921"
             ]
            ],
            "type": "heatmap"
           }
          ],
          "heatmapgl": [
           {
            "colorbar": {
             "outlinewidth": 0,
             "ticks": ""
            },
            "colorscale": [
             [
              0,
              "#0d0887"
             ],
             [
              0.1111111111111111,
              "#46039f"
             ],
             [
              0.2222222222222222,
              "#7201a8"
             ],
             [
              0.3333333333333333,
              "#9c179e"
             ],
             [
              0.4444444444444444,
              "#bd3786"
             ],
             [
              0.5555555555555556,
              "#d8576b"
             ],
             [
              0.6666666666666666,
              "#ed7953"
             ],
             [
              0.7777777777777778,
              "#fb9f3a"
             ],
             [
              0.8888888888888888,
              "#fdca26"
             ],
             [
              1,
              "#f0f921"
             ]
            ],
            "type": "heatmapgl"
           }
          ],
          "histogram": [
           {
            "marker": {
             "pattern": {
              "fillmode": "overlay",
              "size": 10,
              "solidity": 0.2
             }
            },
            "type": "histogram"
           }
          ],
          "histogram2d": [
           {
            "colorbar": {
             "outlinewidth": 0,
             "ticks": ""
            },
            "colorscale": [
             [
              0,
              "#0d0887"
             ],
             [
              0.1111111111111111,
              "#46039f"
             ],
             [
              0.2222222222222222,
              "#7201a8"
             ],
             [
              0.3333333333333333,
              "#9c179e"
             ],
             [
              0.4444444444444444,
              "#bd3786"
             ],
             [
              0.5555555555555556,
              "#d8576b"
             ],
             [
              0.6666666666666666,
              "#ed7953"
             ],
             [
              0.7777777777777778,
              "#fb9f3a"
             ],
             [
              0.8888888888888888,
              "#fdca26"
             ],
             [
              1,
              "#f0f921"
             ]
            ],
            "type": "histogram2d"
           }
          ],
          "histogram2dcontour": [
           {
            "colorbar": {
             "outlinewidth": 0,
             "ticks": ""
            },
            "colorscale": [
             [
              0,
              "#0d0887"
             ],
             [
              0.1111111111111111,
              "#46039f"
             ],
             [
              0.2222222222222222,
              "#7201a8"
             ],
             [
              0.3333333333333333,
              "#9c179e"
             ],
             [
              0.4444444444444444,
              "#bd3786"
             ],
             [
              0.5555555555555556,
              "#d8576b"
             ],
             [
              0.6666666666666666,
              "#ed7953"
             ],
             [
              0.7777777777777778,
              "#fb9f3a"
             ],
             [
              0.8888888888888888,
              "#fdca26"
             ],
             [
              1,
              "#f0f921"
             ]
            ],
            "type": "histogram2dcontour"
           }
          ],
          "mesh3d": [
           {
            "colorbar": {
             "outlinewidth": 0,
             "ticks": ""
            },
            "type": "mesh3d"
           }
          ],
          "parcoords": [
           {
            "line": {
             "colorbar": {
              "outlinewidth": 0,
              "ticks": ""
             }
            },
            "type": "parcoords"
           }
          ],
          "pie": [
           {
            "automargin": true,
            "type": "pie"
           }
          ],
          "scatter": [
           {
            "fillpattern": {
             "fillmode": "overlay",
             "size": 10,
             "solidity": 0.2
            },
            "type": "scatter"
           }
          ],
          "scatter3d": [
           {
            "line": {
             "colorbar": {
              "outlinewidth": 0,
              "ticks": ""
             }
            },
            "marker": {
             "colorbar": {
              "outlinewidth": 0,
              "ticks": ""
             }
            },
            "type": "scatter3d"
           }
          ],
          "scattercarpet": [
           {
            "marker": {
             "colorbar": {
              "outlinewidth": 0,
              "ticks": ""
             }
            },
            "type": "scattercarpet"
           }
          ],
          "scattergeo": [
           {
            "marker": {
             "colorbar": {
              "outlinewidth": 0,
              "ticks": ""
             }
            },
            "type": "scattergeo"
           }
          ],
          "scattergl": [
           {
            "marker": {
             "colorbar": {
              "outlinewidth": 0,
              "ticks": ""
             }
            },
            "type": "scattergl"
           }
          ],
          "scattermapbox": [
           {
            "marker": {
             "colorbar": {
              "outlinewidth": 0,
              "ticks": ""
             }
            },
            "type": "scattermapbox"
           }
          ],
          "scatterpolar": [
           {
            "marker": {
             "colorbar": {
              "outlinewidth": 0,
              "ticks": ""
             }
            },
            "type": "scatterpolar"
           }
          ],
          "scatterpolargl": [
           {
            "marker": {
             "colorbar": {
              "outlinewidth": 0,
              "ticks": ""
             }
            },
            "type": "scatterpolargl"
           }
          ],
          "scatterternary": [
           {
            "marker": {
             "colorbar": {
              "outlinewidth": 0,
              "ticks": ""
             }
            },
            "type": "scatterternary"
           }
          ],
          "surface": [
           {
            "colorbar": {
             "outlinewidth": 0,
             "ticks": ""
            },
            "colorscale": [
             [
              0,
              "#0d0887"
             ],
             [
              0.1111111111111111,
              "#46039f"
             ],
             [
              0.2222222222222222,
              "#7201a8"
             ],
             [
              0.3333333333333333,
              "#9c179e"
             ],
             [
              0.4444444444444444,
              "#bd3786"
             ],
             [
              0.5555555555555556,
              "#d8576b"
             ],
             [
              0.6666666666666666,
              "#ed7953"
             ],
             [
              0.7777777777777778,
              "#fb9f3a"
             ],
             [
              0.8888888888888888,
              "#fdca26"
             ],
             [
              1,
              "#f0f921"
             ]
            ],
            "type": "surface"
           }
          ],
          "table": [
           {
            "cells": {
             "fill": {
              "color": "#EBF0F8"
             },
             "line": {
              "color": "white"
             }
            },
            "header": {
             "fill": {
              "color": "#C8D4E3"
             },
             "line": {
              "color": "white"
             }
            },
            "type": "table"
           }
          ]
         },
         "layout": {
          "annotationdefaults": {
           "arrowcolor": "#2a3f5f",
           "arrowhead": 0,
           "arrowwidth": 1
          },
          "autotypenumbers": "strict",
          "coloraxis": {
           "colorbar": {
            "outlinewidth": 0,
            "ticks": ""
           }
          },
          "colorscale": {
           "diverging": [
            [
             0,
             "#8e0152"
            ],
            [
             0.1,
             "#c51b7d"
            ],
            [
             0.2,
             "#de77ae"
            ],
            [
             0.3,
             "#f1b6da"
            ],
            [
             0.4,
             "#fde0ef"
            ],
            [
             0.5,
             "#f7f7f7"
            ],
            [
             0.6,
             "#e6f5d0"
            ],
            [
             0.7,
             "#b8e186"
            ],
            [
             0.8,
             "#7fbc41"
            ],
            [
             0.9,
             "#4d9221"
            ],
            [
             1,
             "#276419"
            ]
           ],
           "sequential": [
            [
             0,
             "#0d0887"
            ],
            [
             0.1111111111111111,
             "#46039f"
            ],
            [
             0.2222222222222222,
             "#7201a8"
            ],
            [
             0.3333333333333333,
             "#9c179e"
            ],
            [
             0.4444444444444444,
             "#bd3786"
            ],
            [
             0.5555555555555556,
             "#d8576b"
            ],
            [
             0.6666666666666666,
             "#ed7953"
            ],
            [
             0.7777777777777778,
             "#fb9f3a"
            ],
            [
             0.8888888888888888,
             "#fdca26"
            ],
            [
             1,
             "#f0f921"
            ]
           ],
           "sequentialminus": [
            [
             0,
             "#0d0887"
            ],
            [
             0.1111111111111111,
             "#46039f"
            ],
            [
             0.2222222222222222,
             "#7201a8"
            ],
            [
             0.3333333333333333,
             "#9c179e"
            ],
            [
             0.4444444444444444,
             "#bd3786"
            ],
            [
             0.5555555555555556,
             "#d8576b"
            ],
            [
             0.6666666666666666,
             "#ed7953"
            ],
            [
             0.7777777777777778,
             "#fb9f3a"
            ],
            [
             0.8888888888888888,
             "#fdca26"
            ],
            [
             1,
             "#f0f921"
            ]
           ]
          },
          "colorway": [
           "#636efa",
           "#EF553B",
           "#00cc96",
           "#ab63fa",
           "#FFA15A",
           "#19d3f3",
           "#FF6692",
           "#B6E880",
           "#FF97FF",
           "#FECB52"
          ],
          "font": {
           "color": "#2a3f5f"
          },
          "geo": {
           "bgcolor": "white",
           "lakecolor": "white",
           "landcolor": "#E5ECF6",
           "showlakes": true,
           "showland": true,
           "subunitcolor": "white"
          },
          "hoverlabel": {
           "align": "left"
          },
          "hovermode": "closest",
          "mapbox": {
           "style": "light"
          },
          "paper_bgcolor": "white",
          "plot_bgcolor": "#E5ECF6",
          "polar": {
           "angularaxis": {
            "gridcolor": "white",
            "linecolor": "white",
            "ticks": ""
           },
           "bgcolor": "#E5ECF6",
           "radialaxis": {
            "gridcolor": "white",
            "linecolor": "white",
            "ticks": ""
           }
          },
          "scene": {
           "xaxis": {
            "backgroundcolor": "#E5ECF6",
            "gridcolor": "white",
            "gridwidth": 2,
            "linecolor": "white",
            "showbackground": true,
            "ticks": "",
            "zerolinecolor": "white"
           },
           "yaxis": {
            "backgroundcolor": "#E5ECF6",
            "gridcolor": "white",
            "gridwidth": 2,
            "linecolor": "white",
            "showbackground": true,
            "ticks": "",
            "zerolinecolor": "white"
           },
           "zaxis": {
            "backgroundcolor": "#E5ECF6",
            "gridcolor": "white",
            "gridwidth": 2,
            "linecolor": "white",
            "showbackground": true,
            "ticks": "",
            "zerolinecolor": "white"
           }
          },
          "shapedefaults": {
           "line": {
            "color": "#2a3f5f"
           }
          },
          "ternary": {
           "aaxis": {
            "gridcolor": "white",
            "linecolor": "white",
            "ticks": ""
           },
           "baxis": {
            "gridcolor": "white",
            "linecolor": "white",
            "ticks": ""
           },
           "bgcolor": "#E5ECF6",
           "caxis": {
            "gridcolor": "white",
            "linecolor": "white",
            "ticks": ""
           }
          },
          "title": {
           "x": 0.05
          },
          "xaxis": {
           "automargin": true,
           "gridcolor": "white",
           "linecolor": "white",
           "ticks": "",
           "title": {
            "standoff": 15
           },
           "zerolinecolor": "white",
           "zerolinewidth": 2
          },
          "yaxis": {
           "automargin": true,
           "gridcolor": "white",
           "linecolor": "white",
           "ticks": "",
           "title": {
            "standoff": 15
           },
           "zerolinecolor": "white",
           "zerolinewidth": 2
          }
         }
        },
        "xaxis": {
         "anchor": "y",
         "domain": [
          0,
          0.7363
         ],
         "title": {
          "text": "x"
         }
        },
        "xaxis2": {
         "anchor": "y2",
         "domain": [
          0.7413,
          1
         ],
         "matches": "x2",
         "showgrid": false,
         "showline": false,
         "showticklabels": false,
         "ticks": ""
        },
        "xaxis3": {
         "anchor": "y3",
         "domain": [
          0,
          0.7363
         ],
         "matches": "x",
         "showgrid": true,
         "showticklabels": false
        },
        "xaxis4": {
         "anchor": "y4",
         "domain": [
          0.7413,
          1
         ],
         "matches": "x2",
         "showgrid": false,
         "showline": false,
         "showticklabels": false,
         "ticks": ""
        },
        "yaxis": {
         "anchor": "x",
         "domain": [
          0,
          0.7326
         ],
         "title": {
          "text": "index"
         }
        },
        "yaxis2": {
         "anchor": "x2",
         "domain": [
          0,
          0.7326
         ],
         "matches": "y",
         "showgrid": true,
         "showticklabels": false
        },
        "yaxis3": {
         "anchor": "x3",
         "domain": [
          0.7426,
          1
         ],
         "matches": "y3",
         "showgrid": true,
         "showline": false,
         "showticklabels": false,
         "ticks": ""
        },
        "yaxis4": {
         "anchor": "x4",
         "domain": [
          0.7426,
          1
         ],
         "matches": "y3",
         "showgrid": true,
         "showline": false,
         "showticklabels": false,
         "ticks": ""
        }
       }
      }
     },
     "metadata": {},
     "output_type": "display_data"
    }
   ],
   "source": [
    "print(classification_report(y_test, y_pred_dt))\n",
    "fig = px.scatter(x_embed[:,0],x_embed[:,1],color=y_test, symbol=y_test, marginal_x = 'histogram', marginal_y = 'rug', trendline = 'ols')\n",
    "fig.show()\n",
    "\n",
    "px.scatter(x_embed[:,0],x_embed[:,1],color=y_pred_dt, symbol=y_pred_dt, marginal_x = 'histogram', marginal_y = 'rug', trendline = 'ols')"
   ]
  },
  {
   "cell_type": "markdown",
   "metadata": {},
   "source": [
    "## random forest"
   ]
  },
  {
   "cell_type": "code",
   "execution_count": 51,
   "metadata": {},
   "outputs": [
    {
     "name": "stdout",
     "output_type": "stream",
     "text": [
      "              precision    recall  f1-score   support\n",
      "\n",
      "           0       0.80      0.53      0.64        15\n",
      "           1       0.77      0.92      0.84        25\n",
      "\n",
      "    accuracy                           0.78        40\n",
      "   macro avg       0.78      0.73      0.74        40\n",
      "weighted avg       0.78      0.78      0.76        40\n",
      "\n"
     ]
    },
    {
     "data": {
      "application/vnd.plotly.v1+json": {
       "config": {
        "plotlyServerURL": "https://plot.ly"
       },
       "data": [
        {
         "hovertemplate": "symbol=0<br>x=%{x}<br>index=%{y}<br>color=%{marker.color}<extra></extra>",
         "legendgroup": "0",
         "marker": {
          "color": [
           0,
           0,
           0,
           0,
           0,
           0,
           0,
           0,
           0,
           0,
           0,
           0,
           0,
           0,
           0
          ],
          "coloraxis": "coloraxis",
          "symbol": "circle"
         },
         "mode": "markers",
         "name": "0",
         "orientation": "h",
         "showlegend": true,
         "type": "scatter",
         "x": [
          -0.9277801513671875,
          -1.4066619873046875,
          -1.5043389797210693,
          -1.415095329284668,
          -1.2008211612701416,
          -1.1821672916412354,
          -1.6092679500579834,
          -0.8574517965316772,
          -1.46831476688385,
          -0.9932147860527039,
          -1.4884575605392456,
          -0.8935891389846802,
          -1.4837995767593384,
          -1.1410138607025146,
          -1.4165780544281006
         ],
         "xaxis": "x",
         "y": [
          0,
          2,
          6,
          7,
          8,
          10,
          11,
          12,
          13,
          16,
          18,
          22,
          23,
          33,
          37
         ],
         "yaxis": "y"
        },
        {
         "alignmentgroup": "True",
         "bingroup": "x",
         "hovertemplate": "symbol=0<br>x=%{x}<br>count=%{y}<extra></extra>",
         "legendgroup": "0",
         "marker": {
          "color": "#0d0887"
         },
         "name": "0",
         "offsetgroup": "0",
         "opacity": 0.5,
         "showlegend": false,
         "type": "histogram",
         "x": [
          -0.9277801513671875,
          -1.4066619873046875,
          -1.5043389797210693,
          -1.415095329284668,
          -1.2008211612701416,
          -1.1821672916412354,
          -1.6092679500579834,
          -0.8574517965316772,
          -1.46831476688385,
          -0.9932147860527039,
          -1.4884575605392456,
          -0.8935891389846802,
          -1.4837995767593384,
          -1.1410138607025146,
          -1.4165780544281006
         ],
         "xaxis": "x3",
         "yaxis": "y3"
        },
        {
         "alignmentgroup": "True",
         "boxpoints": "all",
         "fillcolor": "rgba(255,255,255,0)",
         "hoveron": "points",
         "hovertemplate": "symbol=0<br>index=%{y}<extra></extra>",
         "jitter": 0,
         "legendgroup": "0",
         "line": {
          "color": "rgba(255,255,255,0)"
         },
         "marker": {
          "color": "#0d0887",
          "symbol": "line-ew-open"
         },
         "name": "0",
         "offsetgroup": "0",
         "showlegend": false,
         "type": "box",
         "xaxis": "x2",
         "y": [
          0,
          2,
          6,
          7,
          8,
          10,
          11,
          12,
          13,
          16,
          18,
          22,
          23,
          33,
          37
         ],
         "yaxis": "y2"
        },
        {
         "hovertemplate": "<b>OLS trendline</b><br>index = -0.91558 * x + 13.3743<br>R<sup>2</sup>=0.000480<br><br>symbol=0<br>x=%{x}<br>index=%{y} <b>(trend)</b><extra></extra>",
         "legendgroup": "0",
         "marker": {
          "symbol": "circle"
         },
         "mode": "lines",
         "name": "0",
         "showlegend": false,
         "type": "scatter",
         "x": [
          -1.6092679500579834,
          -1.5043389797210693,
          -1.4884575605392456,
          -1.4837995767593384,
          -1.46831476688385,
          -1.4165780544281006,
          -1.415095329284668,
          -1.4066619873046875,
          -1.2008211612701416,
          -1.1821672916412354,
          -1.1410138607025146,
          -0.9932147860527039,
          -0.9277801513671875,
          -0.8935891389846802,
          -0.8574517965316772
         ],
         "xaxis": "x",
         "y": [
          14.84771111552683,
          14.75164020229726,
          14.737099485474436,
          14.732834726617972,
          14.718657137519862,
          14.67128801536837,
          14.6699304612235,
          14.662209058230669,
          14.473745223375797,
          14.456666105142194,
          14.418986828579028,
          14.283664886216485,
          14.223754214350592,
          14.192449592059113,
          14.159362948017888
         ],
         "yaxis": "y"
        },
        {
         "hovertemplate": "symbol=1<br>x=%{x}<br>index=%{y}<br>color=%{marker.color}<extra></extra>",
         "legendgroup": "1",
         "marker": {
          "color": [
           1,
           1,
           1,
           1,
           1,
           1,
           1,
           1,
           1,
           1,
           1,
           1,
           1,
           1,
           1,
           1,
           1,
           1,
           1,
           1,
           1,
           1,
           1,
           1,
           1
          ],
          "coloraxis": "coloraxis",
          "symbol": "diamond"
         },
         "mode": "markers",
         "name": "1",
         "orientation": "h",
         "showlegend": true,
         "type": "scatter",
         "x": [
          -0.9646732211112976,
          -1.2526553869247437,
          -1.4268689155578613,
          -1.0172860622406006,
          -0.9668350219726562,
          -0.9834164977073669,
          -1.4834659099578857,
          -1.0579637289047241,
          -1.4805312156677246,
          -0.9403129816055298,
          -0.864034116268158,
          -1.3976185321807861,
          -0.9583420157432556,
          -0.9051687121391296,
          -1.1721992492675781,
          -1.3972774744033813,
          -0.958192765712738,
          -0.8593555688858032,
          -1.3194851875305176,
          -1.317639708518982,
          -1.06128990650177,
          -1.0367653369903564,
          -0.9550873041152954,
          -0.9633894562721252,
          -1.011703372001648
         ],
         "xaxis": "x",
         "y": [
          1,
          3,
          4,
          5,
          9,
          14,
          15,
          17,
          19,
          20,
          21,
          24,
          25,
          26,
          27,
          28,
          29,
          30,
          31,
          32,
          34,
          35,
          36,
          38,
          39
         ],
         "yaxis": "y"
        },
        {
         "alignmentgroup": "True",
         "bingroup": "x",
         "hovertemplate": "symbol=1<br>x=%{x}<br>count=%{y}<extra></extra>",
         "legendgroup": "1",
         "marker": {
          "color": "#0d0887"
         },
         "name": "1",
         "offsetgroup": "1",
         "opacity": 0.5,
         "showlegend": false,
         "type": "histogram",
         "x": [
          -0.9646732211112976,
          -1.2526553869247437,
          -1.4268689155578613,
          -1.0172860622406006,
          -0.9668350219726562,
          -0.9834164977073669,
          -1.4834659099578857,
          -1.0579637289047241,
          -1.4805312156677246,
          -0.9403129816055298,
          -0.864034116268158,
          -1.3976185321807861,
          -0.9583420157432556,
          -0.9051687121391296,
          -1.1721992492675781,
          -1.3972774744033813,
          -0.958192765712738,
          -0.8593555688858032,
          -1.3194851875305176,
          -1.317639708518982,
          -1.06128990650177,
          -1.0367653369903564,
          -0.9550873041152954,
          -0.9633894562721252,
          -1.011703372001648
         ],
         "xaxis": "x3",
         "yaxis": "y3"
        },
        {
         "alignmentgroup": "True",
         "boxpoints": "all",
         "fillcolor": "rgba(255,255,255,0)",
         "hoveron": "points",
         "hovertemplate": "symbol=1<br>index=%{y}<extra></extra>",
         "jitter": 0,
         "legendgroup": "1",
         "line": {
          "color": "rgba(255,255,255,0)"
         },
         "marker": {
          "color": "#0d0887",
          "symbol": "line-ew-open"
         },
         "name": "1",
         "offsetgroup": "1",
         "showlegend": false,
         "type": "box",
         "xaxis": "x2",
         "y": [
          1,
          3,
          4,
          5,
          9,
          14,
          15,
          17,
          19,
          20,
          21,
          24,
          25,
          26,
          27,
          28,
          29,
          30,
          31,
          32,
          34,
          35,
          36,
          38,
          39
         ],
         "yaxis": "y2"
        },
        {
         "hovertemplate": "<b>OLS trendline</b><br>index = 9.0542 * x + 32.5307<br>R<sup>2</sup>=0.026537<br><br>symbol=1<br>x=%{x}<br>index=%{y} <b>(trend)</b><extra></extra>",
         "legendgroup": "1",
         "marker": {
          "symbol": "diamond"
         },
         "mode": "lines",
         "name": "1",
         "showlegend": false,
         "type": "scatter",
         "x": [
          -1.4834659099578857,
          -1.4805312156677246,
          -1.4268689155578613,
          -1.3976185321807861,
          -1.3972774744033813,
          -1.3194851875305176,
          -1.317639708518982,
          -1.2526553869247437,
          -1.1721992492675781,
          -1.06128990650177,
          -1.0579637289047241,
          -1.0367653369903564,
          -1.0172860622406006,
          -1.011703372001648,
          -0.9834164977073669,
          -0.9668350219726562,
          -0.9646732211112976,
          -0.9633894562721252,
          -0.9583420157432556,
          -0.958192765712738,
          -0.9550873041152954,
          -0.9403129816055298,
          -0.9051687121391296,
          -0.864034116268158,
          -0.8593555688858032
         ],
         "xaxis": "x",
         "y": [
          19.099127701886253,
          19.12569902182516,
          19.61156841873551,
          19.87640734851899,
          19.879495355113562,
          20.583842567771484,
          20.60055191069025,
          21.18893319656468,
          21.91739945688508,
          22.921595239977158,
          22.951711129526895,
          23.143645688310556,
          23.320015010079068,
          23.3705618247699,
          23.626676947038302,
          23.776809006204857,
          23.79638239159084,
          23.808005859964474,
          23.853706414742817,
          23.855057754923315,
          23.883175236849894,
          24.01694496257694,
          24.335148337675207,
          24.707589348348666,
          24.749949869430083
         ],
         "yaxis": "y"
        }
       ],
       "layout": {
        "barmode": "overlay",
        "coloraxis": {
         "colorbar": {
          "title": {
           "text": "color"
          }
         },
         "colorscale": [
          [
           0,
           "#0d0887"
          ],
          [
           0.1111111111111111,
           "#46039f"
          ],
          [
           0.2222222222222222,
           "#7201a8"
          ],
          [
           0.3333333333333333,
           "#9c179e"
          ],
          [
           0.4444444444444444,
           "#bd3786"
          ],
          [
           0.5555555555555556,
           "#d8576b"
          ],
          [
           0.6666666666666666,
           "#ed7953"
          ],
          [
           0.7777777777777778,
           "#fb9f3a"
          ],
          [
           0.8888888888888888,
           "#fdca26"
          ],
          [
           1,
           "#f0f921"
          ]
         ]
        },
        "legend": {
         "title": {
          "text": "symbol"
         },
         "tracegroupgap": 0
        },
        "margin": {
         "t": 60
        },
        "template": {
         "data": {
          "bar": [
           {
            "error_x": {
             "color": "#2a3f5f"
            },
            "error_y": {
             "color": "#2a3f5f"
            },
            "marker": {
             "line": {
              "color": "#E5ECF6",
              "width": 0.5
             },
             "pattern": {
              "fillmode": "overlay",
              "size": 10,
              "solidity": 0.2
             }
            },
            "type": "bar"
           }
          ],
          "barpolar": [
           {
            "marker": {
             "line": {
              "color": "#E5ECF6",
              "width": 0.5
             },
             "pattern": {
              "fillmode": "overlay",
              "size": 10,
              "solidity": 0.2
             }
            },
            "type": "barpolar"
           }
          ],
          "carpet": [
           {
            "aaxis": {
             "endlinecolor": "#2a3f5f",
             "gridcolor": "white",
             "linecolor": "white",
             "minorgridcolor": "white",
             "startlinecolor": "#2a3f5f"
            },
            "baxis": {
             "endlinecolor": "#2a3f5f",
             "gridcolor": "white",
             "linecolor": "white",
             "minorgridcolor": "white",
             "startlinecolor": "#2a3f5f"
            },
            "type": "carpet"
           }
          ],
          "choropleth": [
           {
            "colorbar": {
             "outlinewidth": 0,
             "ticks": ""
            },
            "type": "choropleth"
           }
          ],
          "contour": [
           {
            "colorbar": {
             "outlinewidth": 0,
             "ticks": ""
            },
            "colorscale": [
             [
              0,
              "#0d0887"
             ],
             [
              0.1111111111111111,
              "#46039f"
             ],
             [
              0.2222222222222222,
              "#7201a8"
             ],
             [
              0.3333333333333333,
              "#9c179e"
             ],
             [
              0.4444444444444444,
              "#bd3786"
             ],
             [
              0.5555555555555556,
              "#d8576b"
             ],
             [
              0.6666666666666666,
              "#ed7953"
             ],
             [
              0.7777777777777778,
              "#fb9f3a"
             ],
             [
              0.8888888888888888,
              "#fdca26"
             ],
             [
              1,
              "#f0f921"
             ]
            ],
            "type": "contour"
           }
          ],
          "contourcarpet": [
           {
            "colorbar": {
             "outlinewidth": 0,
             "ticks": ""
            },
            "type": "contourcarpet"
           }
          ],
          "heatmap": [
           {
            "colorbar": {
             "outlinewidth": 0,
             "ticks": ""
            },
            "colorscale": [
             [
              0,
              "#0d0887"
             ],
             [
              0.1111111111111111,
              "#46039f"
             ],
             [
              0.2222222222222222,
              "#7201a8"
             ],
             [
              0.3333333333333333,
              "#9c179e"
             ],
             [
              0.4444444444444444,
              "#bd3786"
             ],
             [
              0.5555555555555556,
              "#d8576b"
             ],
             [
              0.6666666666666666,
              "#ed7953"
             ],
             [
              0.7777777777777778,
              "#fb9f3a"
             ],
             [
              0.8888888888888888,
              "#fdca26"
             ],
             [
              1,
              "#f0f921"
             ]
            ],
            "type": "heatmap"
           }
          ],
          "heatmapgl": [
           {
            "colorbar": {
             "outlinewidth": 0,
             "ticks": ""
            },
            "colorscale": [
             [
              0,
              "#0d0887"
             ],
             [
              0.1111111111111111,
              "#46039f"
             ],
             [
              0.2222222222222222,
              "#7201a8"
             ],
             [
              0.3333333333333333,
              "#9c179e"
             ],
             [
              0.4444444444444444,
              "#bd3786"
             ],
             [
              0.5555555555555556,
              "#d8576b"
             ],
             [
              0.6666666666666666,
              "#ed7953"
             ],
             [
              0.7777777777777778,
              "#fb9f3a"
             ],
             [
              0.8888888888888888,
              "#fdca26"
             ],
             [
              1,
              "#f0f921"
             ]
            ],
            "type": "heatmapgl"
           }
          ],
          "histogram": [
           {
            "marker": {
             "pattern": {
              "fillmode": "overlay",
              "size": 10,
              "solidity": 0.2
             }
            },
            "type": "histogram"
           }
          ],
          "histogram2d": [
           {
            "colorbar": {
             "outlinewidth": 0,
             "ticks": ""
            },
            "colorscale": [
             [
              0,
              "#0d0887"
             ],
             [
              0.1111111111111111,
              "#46039f"
             ],
             [
              0.2222222222222222,
              "#7201a8"
             ],
             [
              0.3333333333333333,
              "#9c179e"
             ],
             [
              0.4444444444444444,
              "#bd3786"
             ],
             [
              0.5555555555555556,
              "#d8576b"
             ],
             [
              0.6666666666666666,
              "#ed7953"
             ],
             [
              0.7777777777777778,
              "#fb9f3a"
             ],
             [
              0.8888888888888888,
              "#fdca26"
             ],
             [
              1,
              "#f0f921"
             ]
            ],
            "type": "histogram2d"
           }
          ],
          "histogram2dcontour": [
           {
            "colorbar": {
             "outlinewidth": 0,
             "ticks": ""
            },
            "colorscale": [
             [
              0,
              "#0d0887"
             ],
             [
              0.1111111111111111,
              "#46039f"
             ],
             [
              0.2222222222222222,
              "#7201a8"
             ],
             [
              0.3333333333333333,
              "#9c179e"
             ],
             [
              0.4444444444444444,
              "#bd3786"
             ],
             [
              0.5555555555555556,
              "#d8576b"
             ],
             [
              0.6666666666666666,
              "#ed7953"
             ],
             [
              0.7777777777777778,
              "#fb9f3a"
             ],
             [
              0.8888888888888888,
              "#fdca26"
             ],
             [
              1,
              "#f0f921"
             ]
            ],
            "type": "histogram2dcontour"
           }
          ],
          "mesh3d": [
           {
            "colorbar": {
             "outlinewidth": 0,
             "ticks": ""
            },
            "type": "mesh3d"
           }
          ],
          "parcoords": [
           {
            "line": {
             "colorbar": {
              "outlinewidth": 0,
              "ticks": ""
             }
            },
            "type": "parcoords"
           }
          ],
          "pie": [
           {
            "automargin": true,
            "type": "pie"
           }
          ],
          "scatter": [
           {
            "fillpattern": {
             "fillmode": "overlay",
             "size": 10,
             "solidity": 0.2
            },
            "type": "scatter"
           }
          ],
          "scatter3d": [
           {
            "line": {
             "colorbar": {
              "outlinewidth": 0,
              "ticks": ""
             }
            },
            "marker": {
             "colorbar": {
              "outlinewidth": 0,
              "ticks": ""
             }
            },
            "type": "scatter3d"
           }
          ],
          "scattercarpet": [
           {
            "marker": {
             "colorbar": {
              "outlinewidth": 0,
              "ticks": ""
             }
            },
            "type": "scattercarpet"
           }
          ],
          "scattergeo": [
           {
            "marker": {
             "colorbar": {
              "outlinewidth": 0,
              "ticks": ""
             }
            },
            "type": "scattergeo"
           }
          ],
          "scattergl": [
           {
            "marker": {
             "colorbar": {
              "outlinewidth": 0,
              "ticks": ""
             }
            },
            "type": "scattergl"
           }
          ],
          "scattermapbox": [
           {
            "marker": {
             "colorbar": {
              "outlinewidth": 0,
              "ticks": ""
             }
            },
            "type": "scattermapbox"
           }
          ],
          "scatterpolar": [
           {
            "marker": {
             "colorbar": {
              "outlinewidth": 0,
              "ticks": ""
             }
            },
            "type": "scatterpolar"
           }
          ],
          "scatterpolargl": [
           {
            "marker": {
             "colorbar": {
              "outlinewidth": 0,
              "ticks": ""
             }
            },
            "type": "scatterpolargl"
           }
          ],
          "scatterternary": [
           {
            "marker": {
             "colorbar": {
              "outlinewidth": 0,
              "ticks": ""
             }
            },
            "type": "scatterternary"
           }
          ],
          "surface": [
           {
            "colorbar": {
             "outlinewidth": 0,
             "ticks": ""
            },
            "colorscale": [
             [
              0,
              "#0d0887"
             ],
             [
              0.1111111111111111,
              "#46039f"
             ],
             [
              0.2222222222222222,
              "#7201a8"
             ],
             [
              0.3333333333333333,
              "#9c179e"
             ],
             [
              0.4444444444444444,
              "#bd3786"
             ],
             [
              0.5555555555555556,
              "#d8576b"
             ],
             [
              0.6666666666666666,
              "#ed7953"
             ],
             [
              0.7777777777777778,
              "#fb9f3a"
             ],
             [
              0.8888888888888888,
              "#fdca26"
             ],
             [
              1,
              "#f0f921"
             ]
            ],
            "type": "surface"
           }
          ],
          "table": [
           {
            "cells": {
             "fill": {
              "color": "#EBF0F8"
             },
             "line": {
              "color": "white"
             }
            },
            "header": {
             "fill": {
              "color": "#C8D4E3"
             },
             "line": {
              "color": "white"
             }
            },
            "type": "table"
           }
          ]
         },
         "layout": {
          "annotationdefaults": {
           "arrowcolor": "#2a3f5f",
           "arrowhead": 0,
           "arrowwidth": 1
          },
          "autotypenumbers": "strict",
          "coloraxis": {
           "colorbar": {
            "outlinewidth": 0,
            "ticks": ""
           }
          },
          "colorscale": {
           "diverging": [
            [
             0,
             "#8e0152"
            ],
            [
             0.1,
             "#c51b7d"
            ],
            [
             0.2,
             "#de77ae"
            ],
            [
             0.3,
             "#f1b6da"
            ],
            [
             0.4,
             "#fde0ef"
            ],
            [
             0.5,
             "#f7f7f7"
            ],
            [
             0.6,
             "#e6f5d0"
            ],
            [
             0.7,
             "#b8e186"
            ],
            [
             0.8,
             "#7fbc41"
            ],
            [
             0.9,
             "#4d9221"
            ],
            [
             1,
             "#276419"
            ]
           ],
           "sequential": [
            [
             0,
             "#0d0887"
            ],
            [
             0.1111111111111111,
             "#46039f"
            ],
            [
             0.2222222222222222,
             "#7201a8"
            ],
            [
             0.3333333333333333,
             "#9c179e"
            ],
            [
             0.4444444444444444,
             "#bd3786"
            ],
            [
             0.5555555555555556,
             "#d8576b"
            ],
            [
             0.6666666666666666,
             "#ed7953"
            ],
            [
             0.7777777777777778,
             "#fb9f3a"
            ],
            [
             0.8888888888888888,
             "#fdca26"
            ],
            [
             1,
             "#f0f921"
            ]
           ],
           "sequentialminus": [
            [
             0,
             "#0d0887"
            ],
            [
             0.1111111111111111,
             "#46039f"
            ],
            [
             0.2222222222222222,
             "#7201a8"
            ],
            [
             0.3333333333333333,
             "#9c179e"
            ],
            [
             0.4444444444444444,
             "#bd3786"
            ],
            [
             0.5555555555555556,
             "#d8576b"
            ],
            [
             0.6666666666666666,
             "#ed7953"
            ],
            [
             0.7777777777777778,
             "#fb9f3a"
            ],
            [
             0.8888888888888888,
             "#fdca26"
            ],
            [
             1,
             "#f0f921"
            ]
           ]
          },
          "colorway": [
           "#636efa",
           "#EF553B",
           "#00cc96",
           "#ab63fa",
           "#FFA15A",
           "#19d3f3",
           "#FF6692",
           "#B6E880",
           "#FF97FF",
           "#FECB52"
          ],
          "font": {
           "color": "#2a3f5f"
          },
          "geo": {
           "bgcolor": "white",
           "lakecolor": "white",
           "landcolor": "#E5ECF6",
           "showlakes": true,
           "showland": true,
           "subunitcolor": "white"
          },
          "hoverlabel": {
           "align": "left"
          },
          "hovermode": "closest",
          "mapbox": {
           "style": "light"
          },
          "paper_bgcolor": "white",
          "plot_bgcolor": "#E5ECF6",
          "polar": {
           "angularaxis": {
            "gridcolor": "white",
            "linecolor": "white",
            "ticks": ""
           },
           "bgcolor": "#E5ECF6",
           "radialaxis": {
            "gridcolor": "white",
            "linecolor": "white",
            "ticks": ""
           }
          },
          "scene": {
           "xaxis": {
            "backgroundcolor": "#E5ECF6",
            "gridcolor": "white",
            "gridwidth": 2,
            "linecolor": "white",
            "showbackground": true,
            "ticks": "",
            "zerolinecolor": "white"
           },
           "yaxis": {
            "backgroundcolor": "#E5ECF6",
            "gridcolor": "white",
            "gridwidth": 2,
            "linecolor": "white",
            "showbackground": true,
            "ticks": "",
            "zerolinecolor": "white"
           },
           "zaxis": {
            "backgroundcolor": "#E5ECF6",
            "gridcolor": "white",
            "gridwidth": 2,
            "linecolor": "white",
            "showbackground": true,
            "ticks": "",
            "zerolinecolor": "white"
           }
          },
          "shapedefaults": {
           "line": {
            "color": "#2a3f5f"
           }
          },
          "ternary": {
           "aaxis": {
            "gridcolor": "white",
            "linecolor": "white",
            "ticks": ""
           },
           "baxis": {
            "gridcolor": "white",
            "linecolor": "white",
            "ticks": ""
           },
           "bgcolor": "#E5ECF6",
           "caxis": {
            "gridcolor": "white",
            "linecolor": "white",
            "ticks": ""
           }
          },
          "title": {
           "x": 0.05
          },
          "xaxis": {
           "automargin": true,
           "gridcolor": "white",
           "linecolor": "white",
           "ticks": "",
           "title": {
            "standoff": 15
           },
           "zerolinecolor": "white",
           "zerolinewidth": 2
          },
          "yaxis": {
           "automargin": true,
           "gridcolor": "white",
           "linecolor": "white",
           "ticks": "",
           "title": {
            "standoff": 15
           },
           "zerolinecolor": "white",
           "zerolinewidth": 2
          }
         }
        },
        "xaxis": {
         "anchor": "y",
         "domain": [
          0,
          0.7363
         ],
         "title": {
          "text": "x"
         }
        },
        "xaxis2": {
         "anchor": "y2",
         "domain": [
          0.7413,
          1
         ],
         "matches": "x2",
         "showgrid": false,
         "showline": false,
         "showticklabels": false,
         "ticks": ""
        },
        "xaxis3": {
         "anchor": "y3",
         "domain": [
          0,
          0.7363
         ],
         "matches": "x",
         "showgrid": true,
         "showticklabels": false
        },
        "xaxis4": {
         "anchor": "y4",
         "domain": [
          0.7413,
          1
         ],
         "matches": "x2",
         "showgrid": false,
         "showline": false,
         "showticklabels": false,
         "ticks": ""
        },
        "yaxis": {
         "anchor": "x",
         "domain": [
          0,
          0.7326
         ],
         "title": {
          "text": "index"
         }
        },
        "yaxis2": {
         "anchor": "x2",
         "domain": [
          0,
          0.7326
         ],
         "matches": "y",
         "showgrid": true,
         "showticklabels": false
        },
        "yaxis3": {
         "anchor": "x3",
         "domain": [
          0.7426,
          1
         ],
         "matches": "y3",
         "showgrid": true,
         "showline": false,
         "showticklabels": false,
         "ticks": ""
        },
        "yaxis4": {
         "anchor": "x4",
         "domain": [
          0.7426,
          1
         ],
         "matches": "y3",
         "showgrid": true,
         "showline": false,
         "showticklabels": false,
         "ticks": ""
        }
       }
      }
     },
     "metadata": {},
     "output_type": "display_data"
    },
    {
     "data": {
      "application/vnd.plotly.v1+json": {
       "config": {
        "plotlyServerURL": "https://plot.ly"
       },
       "data": [
        {
         "hovertemplate": "symbol=0<br>x=%{x}<br>index=%{y}<br>color=%{marker.color}<extra></extra>",
         "legendgroup": "0",
         "marker": {
          "color": [
           0,
           0,
           0,
           0,
           0,
           0,
           0,
           0,
           0,
           0
          ],
          "coloraxis": "coloraxis",
          "symbol": "circle"
         },
         "mode": "markers",
         "name": "0",
         "orientation": "h",
         "showlegend": true,
         "type": "scatter",
         "x": [
          -0.9277801513671875,
          -1.5043389797210693,
          -1.415095329284668,
          -1.1821672916412354,
          -1.6092679500579834,
          -0.9834164977073669,
          -0.9932147860527039,
          -1.4884575605392456,
          -1.4837995767593384,
          -1.3972774744033813
         ],
         "xaxis": "x",
         "y": [
          0,
          6,
          7,
          10,
          11,
          14,
          16,
          18,
          23,
          28
         ],
         "yaxis": "y"
        },
        {
         "alignmentgroup": "True",
         "bingroup": "x",
         "hovertemplate": "symbol=0<br>x=%{x}<br>count=%{y}<extra></extra>",
         "legendgroup": "0",
         "marker": {
          "color": "#0d0887"
         },
         "name": "0",
         "offsetgroup": "0",
         "opacity": 0.5,
         "showlegend": false,
         "type": "histogram",
         "x": [
          -0.9277801513671875,
          -1.5043389797210693,
          -1.415095329284668,
          -1.1821672916412354,
          -1.6092679500579834,
          -0.9834164977073669,
          -0.9932147860527039,
          -1.4884575605392456,
          -1.4837995767593384,
          -1.3972774744033813
         ],
         "xaxis": "x3",
         "yaxis": "y3"
        },
        {
         "alignmentgroup": "True",
         "boxpoints": "all",
         "fillcolor": "rgba(255,255,255,0)",
         "hoveron": "points",
         "hovertemplate": "symbol=0<br>index=%{y}<extra></extra>",
         "jitter": 0,
         "legendgroup": "0",
         "line": {
          "color": "rgba(255,255,255,0)"
         },
         "marker": {
          "color": "#0d0887",
          "symbol": "line-ew-open"
         },
         "name": "0",
         "offsetgroup": "0",
         "showlegend": false,
         "type": "box",
         "xaxis": "x2",
         "y": [
          0,
          6,
          7,
          10,
          11,
          14,
          16,
          18,
          23,
          28
         ],
         "yaxis": "y2"
        },
        {
         "hovertemplate": "<b>OLS trendline</b><br>index = -9.47641 * x + 0.995054<br>R<sup>2</sup>=0.082640<br><br>symbol=0<br>x=%{x}<br>index=%{y} <b>(trend)</b><extra></extra>",
         "legendgroup": "0",
         "marker": {
          "symbol": "circle"
         },
         "mode": "lines",
         "name": "0",
         "showlegend": false,
         "type": "scatter",
         "x": [
          -1.6092679500579834,
          -1.5043389797210693,
          -1.4884575605392456,
          -1.4837995767593384,
          -1.415095329284668,
          -1.3972774744033813,
          -1.1821672916412354,
          -0.9932147860527039,
          -0.9834164977073669,
          -0.9277801513671875
         ],
         "xaxis": "x",
         "y": [
          16.245139715006182,
          15.250789616563624,
          15.100290753607581,
          15.056149782670547,
          14.405080063597673,
          14.23623073916082,
          12.1977581350864,
          10.407166443109922,
          10.314313831009843,
          9.787080920187314
         ],
         "yaxis": "y"
        },
        {
         "hovertemplate": "symbol=1<br>x=%{x}<br>index=%{y}<br>color=%{marker.color}<extra></extra>",
         "legendgroup": "1",
         "marker": {
          "color": [
           1,
           1,
           1,
           1,
           1,
           1,
           1,
           1,
           1,
           1,
           1,
           1,
           1,
           1,
           1,
           1,
           1,
           1,
           1,
           1,
           1,
           1,
           1,
           1,
           1,
           1,
           1,
           1,
           1,
           1
          ],
          "coloraxis": "coloraxis",
          "symbol": "diamond"
         },
         "mode": "markers",
         "name": "1",
         "orientation": "h",
         "showlegend": true,
         "type": "scatter",
         "x": [
          -0.9646732211112976,
          -1.4066619873046875,
          -1.2526553869247437,
          -1.4268689155578613,
          -1.0172860622406006,
          -1.2008211612701416,
          -0.9668350219726562,
          -0.8574517965316772,
          -1.46831476688385,
          -1.4834659099578857,
          -1.0579637289047241,
          -1.4805312156677246,
          -0.9403129816055298,
          -0.864034116268158,
          -0.8935891389846802,
          -1.3976185321807861,
          -0.9583420157432556,
          -0.9051687121391296,
          -1.1721992492675781,
          -0.958192765712738,
          -0.8593555688858032,
          -1.3194851875305176,
          -1.317639708518982,
          -1.1410138607025146,
          -1.06128990650177,
          -1.0367653369903564,
          -0.9550873041152954,
          -1.4165780544281006,
          -0.9633894562721252,
          -1.011703372001648
         ],
         "xaxis": "x",
         "y": [
          1,
          2,
          3,
          4,
          5,
          8,
          9,
          12,
          13,
          15,
          17,
          19,
          20,
          21,
          22,
          24,
          25,
          26,
          27,
          29,
          30,
          31,
          32,
          33,
          34,
          35,
          36,
          37,
          38,
          39
         ],
         "yaxis": "y"
        },
        {
         "alignmentgroup": "True",
         "bingroup": "x",
         "hovertemplate": "symbol=1<br>x=%{x}<br>count=%{y}<extra></extra>",
         "legendgroup": "1",
         "marker": {
          "color": "#0d0887"
         },
         "name": "1",
         "offsetgroup": "1",
         "opacity": 0.5,
         "showlegend": false,
         "type": "histogram",
         "x": [
          -0.9646732211112976,
          -1.4066619873046875,
          -1.2526553869247437,
          -1.4268689155578613,
          -1.0172860622406006,
          -1.2008211612701416,
          -0.9668350219726562,
          -0.8574517965316772,
          -1.46831476688385,
          -1.4834659099578857,
          -1.0579637289047241,
          -1.4805312156677246,
          -0.9403129816055298,
          -0.864034116268158,
          -0.8935891389846802,
          -1.3976185321807861,
          -0.9583420157432556,
          -0.9051687121391296,
          -1.1721992492675781,
          -0.958192765712738,
          -0.8593555688858032,
          -1.3194851875305176,
          -1.317639708518982,
          -1.1410138607025146,
          -1.06128990650177,
          -1.0367653369903564,
          -0.9550873041152954,
          -1.4165780544281006,
          -0.9633894562721252,
          -1.011703372001648
         ],
         "xaxis": "x3",
         "yaxis": "y3"
        },
        {
         "alignmentgroup": "True",
         "boxpoints": "all",
         "fillcolor": "rgba(255,255,255,0)",
         "hoveron": "points",
         "hovertemplate": "symbol=1<br>index=%{y}<extra></extra>",
         "jitter": 0,
         "legendgroup": "1",
         "line": {
          "color": "rgba(255,255,255,0)"
         },
         "marker": {
          "color": "#0d0887",
          "symbol": "line-ew-open"
         },
         "name": "1",
         "offsetgroup": "1",
         "showlegend": false,
         "type": "box",
         "xaxis": "x2",
         "y": [
          1,
          2,
          3,
          4,
          5,
          8,
          9,
          12,
          13,
          15,
          17,
          19,
          20,
          21,
          22,
          24,
          25,
          26,
          27,
          29,
          30,
          31,
          32,
          33,
          34,
          35,
          36,
          37,
          38,
          39
         ],
         "yaxis": "y2"
        },
        {
         "hovertemplate": "<b>OLS trendline</b><br>index = 10.9516 * x + 33.8892<br>R<sup>2</sup>=0.038641<br><br>symbol=1<br>x=%{x}<br>index=%{y} <b>(trend)</b><extra></extra>",
         "legendgroup": "1",
         "marker": {
          "symbol": "diamond"
         },
         "mode": "lines",
         "name": "1",
         "showlegend": false,
         "type": "scatter",
         "x": [
          -1.4834659099578857,
          -1.4805312156677246,
          -1.46831476688385,
          -1.4268689155578613,
          -1.4165780544281006,
          -1.4066619873046875,
          -1.3976185321807861,
          -1.3194851875305176,
          -1.317639708518982,
          -1.2526553869247437,
          -1.2008211612701416,
          -1.1721992492675781,
          -1.1410138607025146,
          -1.06128990650177,
          -1.0579637289047241,
          -1.0367653369903564,
          -1.0172860622406006,
          -1.011703372001648,
          -0.9668350219726562,
          -0.9646732211112976,
          -0.9633894562721252,
          -0.9583420157432556,
          -0.958192765712738,
          -0.9550873041152954,
          -0.9403129816055298,
          -0.9051687121391296,
          -0.8935891389846802,
          -0.864034116268158,
          -0.8593555688858032,
          -0.8574517965316772
         ],
         "xaxis": "x",
         "y": [
          17.642811984235433,
          17.674951681961073,
          17.808741757646576,
          18.262641551592715,
          18.37534329608307,
          18.483940433795887,
          18.582981044278558,
          19.4386688369634,
          19.45887984762595,
          20.170564352532203,
          20.7382338198313,
          21.05169052405303,
          21.393221485318062,
          22.26632905161381,
          22.302756131227945,
          22.534913160558588,
          22.748243047923943,
          22.809382628076243,
          23.300764375134055,
          23.32443962691753,
          23.3384989495598,
          23.393776670796345,
          23.39541120250292,
          23.429421081274626,
          23.591224053787613,
          23.97611122967689,
          24.10292647657455,
          24.426602267803645,
          24.477840006319745,
          24.498689424334138
         ],
         "yaxis": "y"
        }
       ],
       "layout": {
        "barmode": "overlay",
        "coloraxis": {
         "colorbar": {
          "title": {
           "text": "color"
          }
         },
         "colorscale": [
          [
           0,
           "#0d0887"
          ],
          [
           0.1111111111111111,
           "#46039f"
          ],
          [
           0.2222222222222222,
           "#7201a8"
          ],
          [
           0.3333333333333333,
           "#9c179e"
          ],
          [
           0.4444444444444444,
           "#bd3786"
          ],
          [
           0.5555555555555556,
           "#d8576b"
          ],
          [
           0.6666666666666666,
           "#ed7953"
          ],
          [
           0.7777777777777778,
           "#fb9f3a"
          ],
          [
           0.8888888888888888,
           "#fdca26"
          ],
          [
           1,
           "#f0f921"
          ]
         ]
        },
        "legend": {
         "title": {
          "text": "symbol"
         },
         "tracegroupgap": 0
        },
        "margin": {
         "t": 60
        },
        "template": {
         "data": {
          "bar": [
           {
            "error_x": {
             "color": "#2a3f5f"
            },
            "error_y": {
             "color": "#2a3f5f"
            },
            "marker": {
             "line": {
              "color": "#E5ECF6",
              "width": 0.5
             },
             "pattern": {
              "fillmode": "overlay",
              "size": 10,
              "solidity": 0.2
             }
            },
            "type": "bar"
           }
          ],
          "barpolar": [
           {
            "marker": {
             "line": {
              "color": "#E5ECF6",
              "width": 0.5
             },
             "pattern": {
              "fillmode": "overlay",
              "size": 10,
              "solidity": 0.2
             }
            },
            "type": "barpolar"
           }
          ],
          "carpet": [
           {
            "aaxis": {
             "endlinecolor": "#2a3f5f",
             "gridcolor": "white",
             "linecolor": "white",
             "minorgridcolor": "white",
             "startlinecolor": "#2a3f5f"
            },
            "baxis": {
             "endlinecolor": "#2a3f5f",
             "gridcolor": "white",
             "linecolor": "white",
             "minorgridcolor": "white",
             "startlinecolor": "#2a3f5f"
            },
            "type": "carpet"
           }
          ],
          "choropleth": [
           {
            "colorbar": {
             "outlinewidth": 0,
             "ticks": ""
            },
            "type": "choropleth"
           }
          ],
          "contour": [
           {
            "colorbar": {
             "outlinewidth": 0,
             "ticks": ""
            },
            "colorscale": [
             [
              0,
              "#0d0887"
             ],
             [
              0.1111111111111111,
              "#46039f"
             ],
             [
              0.2222222222222222,
              "#7201a8"
             ],
             [
              0.3333333333333333,
              "#9c179e"
             ],
             [
              0.4444444444444444,
              "#bd3786"
             ],
             [
              0.5555555555555556,
              "#d8576b"
             ],
             [
              0.6666666666666666,
              "#ed7953"
             ],
             [
              0.7777777777777778,
              "#fb9f3a"
             ],
             [
              0.8888888888888888,
              "#fdca26"
             ],
             [
              1,
              "#f0f921"
             ]
            ],
            "type": "contour"
           }
          ],
          "contourcarpet": [
           {
            "colorbar": {
             "outlinewidth": 0,
             "ticks": ""
            },
            "type": "contourcarpet"
           }
          ],
          "heatmap": [
           {
            "colorbar": {
             "outlinewidth": 0,
             "ticks": ""
            },
            "colorscale": [
             [
              0,
              "#0d0887"
             ],
             [
              0.1111111111111111,
              "#46039f"
             ],
             [
              0.2222222222222222,
              "#7201a8"
             ],
             [
              0.3333333333333333,
              "#9c179e"
             ],
             [
              0.4444444444444444,
              "#bd3786"
             ],
             [
              0.5555555555555556,
              "#d8576b"
             ],
             [
              0.6666666666666666,
              "#ed7953"
             ],
             [
              0.7777777777777778,
              "#fb9f3a"
             ],
             [
              0.8888888888888888,
              "#fdca26"
             ],
             [
              1,
              "#f0f921"
             ]
            ],
            "type": "heatmap"
           }
          ],
          "heatmapgl": [
           {
            "colorbar": {
             "outlinewidth": 0,
             "ticks": ""
            },
            "colorscale": [
             [
              0,
              "#0d0887"
             ],
             [
              0.1111111111111111,
              "#46039f"
             ],
             [
              0.2222222222222222,
              "#7201a8"
             ],
             [
              0.3333333333333333,
              "#9c179e"
             ],
             [
              0.4444444444444444,
              "#bd3786"
             ],
             [
              0.5555555555555556,
              "#d8576b"
             ],
             [
              0.6666666666666666,
              "#ed7953"
             ],
             [
              0.7777777777777778,
              "#fb9f3a"
             ],
             [
              0.8888888888888888,
              "#fdca26"
             ],
             [
              1,
              "#f0f921"
             ]
            ],
            "type": "heatmapgl"
           }
          ],
          "histogram": [
           {
            "marker": {
             "pattern": {
              "fillmode": "overlay",
              "size": 10,
              "solidity": 0.2
             }
            },
            "type": "histogram"
           }
          ],
          "histogram2d": [
           {
            "colorbar": {
             "outlinewidth": 0,
             "ticks": ""
            },
            "colorscale": [
             [
              0,
              "#0d0887"
             ],
             [
              0.1111111111111111,
              "#46039f"
             ],
             [
              0.2222222222222222,
              "#7201a8"
             ],
             [
              0.3333333333333333,
              "#9c179e"
             ],
             [
              0.4444444444444444,
              "#bd3786"
             ],
             [
              0.5555555555555556,
              "#d8576b"
             ],
             [
              0.6666666666666666,
              "#ed7953"
             ],
             [
              0.7777777777777778,
              "#fb9f3a"
             ],
             [
              0.8888888888888888,
              "#fdca26"
             ],
             [
              1,
              "#f0f921"
             ]
            ],
            "type": "histogram2d"
           }
          ],
          "histogram2dcontour": [
           {
            "colorbar": {
             "outlinewidth": 0,
             "ticks": ""
            },
            "colorscale": [
             [
              0,
              "#0d0887"
             ],
             [
              0.1111111111111111,
              "#46039f"
             ],
             [
              0.2222222222222222,
              "#7201a8"
             ],
             [
              0.3333333333333333,
              "#9c179e"
             ],
             [
              0.4444444444444444,
              "#bd3786"
             ],
             [
              0.5555555555555556,
              "#d8576b"
             ],
             [
              0.6666666666666666,
              "#ed7953"
             ],
             [
              0.7777777777777778,
              "#fb9f3a"
             ],
             [
              0.8888888888888888,
              "#fdca26"
             ],
             [
              1,
              "#f0f921"
             ]
            ],
            "type": "histogram2dcontour"
           }
          ],
          "mesh3d": [
           {
            "colorbar": {
             "outlinewidth": 0,
             "ticks": ""
            },
            "type": "mesh3d"
           }
          ],
          "parcoords": [
           {
            "line": {
             "colorbar": {
              "outlinewidth": 0,
              "ticks": ""
             }
            },
            "type": "parcoords"
           }
          ],
          "pie": [
           {
            "automargin": true,
            "type": "pie"
           }
          ],
          "scatter": [
           {
            "fillpattern": {
             "fillmode": "overlay",
             "size": 10,
             "solidity": 0.2
            },
            "type": "scatter"
           }
          ],
          "scatter3d": [
           {
            "line": {
             "colorbar": {
              "outlinewidth": 0,
              "ticks": ""
             }
            },
            "marker": {
             "colorbar": {
              "outlinewidth": 0,
              "ticks": ""
             }
            },
            "type": "scatter3d"
           }
          ],
          "scattercarpet": [
           {
            "marker": {
             "colorbar": {
              "outlinewidth": 0,
              "ticks": ""
             }
            },
            "type": "scattercarpet"
           }
          ],
          "scattergeo": [
           {
            "marker": {
             "colorbar": {
              "outlinewidth": 0,
              "ticks": ""
             }
            },
            "type": "scattergeo"
           }
          ],
          "scattergl": [
           {
            "marker": {
             "colorbar": {
              "outlinewidth": 0,
              "ticks": ""
             }
            },
            "type": "scattergl"
           }
          ],
          "scattermapbox": [
           {
            "marker": {
             "colorbar": {
              "outlinewidth": 0,
              "ticks": ""
             }
            },
            "type": "scattermapbox"
           }
          ],
          "scatterpolar": [
           {
            "marker": {
             "colorbar": {
              "outlinewidth": 0,
              "ticks": ""
             }
            },
            "type": "scatterpolar"
           }
          ],
          "scatterpolargl": [
           {
            "marker": {
             "colorbar": {
              "outlinewidth": 0,
              "ticks": ""
             }
            },
            "type": "scatterpolargl"
           }
          ],
          "scatterternary": [
           {
            "marker": {
             "colorbar": {
              "outlinewidth": 0,
              "ticks": ""
             }
            },
            "type": "scatterternary"
           }
          ],
          "surface": [
           {
            "colorbar": {
             "outlinewidth": 0,
             "ticks": ""
            },
            "colorscale": [
             [
              0,
              "#0d0887"
             ],
             [
              0.1111111111111111,
              "#46039f"
             ],
             [
              0.2222222222222222,
              "#7201a8"
             ],
             [
              0.3333333333333333,
              "#9c179e"
             ],
             [
              0.4444444444444444,
              "#bd3786"
             ],
             [
              0.5555555555555556,
              "#d8576b"
             ],
             [
              0.6666666666666666,
              "#ed7953"
             ],
             [
              0.7777777777777778,
              "#fb9f3a"
             ],
             [
              0.8888888888888888,
              "#fdca26"
             ],
             [
              1,
              "#f0f921"
             ]
            ],
            "type": "surface"
           }
          ],
          "table": [
           {
            "cells": {
             "fill": {
              "color": "#EBF0F8"
             },
             "line": {
              "color": "white"
             }
            },
            "header": {
             "fill": {
              "color": "#C8D4E3"
             },
             "line": {
              "color": "white"
             }
            },
            "type": "table"
           }
          ]
         },
         "layout": {
          "annotationdefaults": {
           "arrowcolor": "#2a3f5f",
           "arrowhead": 0,
           "arrowwidth": 1
          },
          "autotypenumbers": "strict",
          "coloraxis": {
           "colorbar": {
            "outlinewidth": 0,
            "ticks": ""
           }
          },
          "colorscale": {
           "diverging": [
            [
             0,
             "#8e0152"
            ],
            [
             0.1,
             "#c51b7d"
            ],
            [
             0.2,
             "#de77ae"
            ],
            [
             0.3,
             "#f1b6da"
            ],
            [
             0.4,
             "#fde0ef"
            ],
            [
             0.5,
             "#f7f7f7"
            ],
            [
             0.6,
             "#e6f5d0"
            ],
            [
             0.7,
             "#b8e186"
            ],
            [
             0.8,
             "#7fbc41"
            ],
            [
             0.9,
             "#4d9221"
            ],
            [
             1,
             "#276419"
            ]
           ],
           "sequential": [
            [
             0,
             "#0d0887"
            ],
            [
             0.1111111111111111,
             "#46039f"
            ],
            [
             0.2222222222222222,
             "#7201a8"
            ],
            [
             0.3333333333333333,
             "#9c179e"
            ],
            [
             0.4444444444444444,
             "#bd3786"
            ],
            [
             0.5555555555555556,
             "#d8576b"
            ],
            [
             0.6666666666666666,
             "#ed7953"
            ],
            [
             0.7777777777777778,
             "#fb9f3a"
            ],
            [
             0.8888888888888888,
             "#fdca26"
            ],
            [
             1,
             "#f0f921"
            ]
           ],
           "sequentialminus": [
            [
             0,
             "#0d0887"
            ],
            [
             0.1111111111111111,
             "#46039f"
            ],
            [
             0.2222222222222222,
             "#7201a8"
            ],
            [
             0.3333333333333333,
             "#9c179e"
            ],
            [
             0.4444444444444444,
             "#bd3786"
            ],
            [
             0.5555555555555556,
             "#d8576b"
            ],
            [
             0.6666666666666666,
             "#ed7953"
            ],
            [
             0.7777777777777778,
             "#fb9f3a"
            ],
            [
             0.8888888888888888,
             "#fdca26"
            ],
            [
             1,
             "#f0f921"
            ]
           ]
          },
          "colorway": [
           "#636efa",
           "#EF553B",
           "#00cc96",
           "#ab63fa",
           "#FFA15A",
           "#19d3f3",
           "#FF6692",
           "#B6E880",
           "#FF97FF",
           "#FECB52"
          ],
          "font": {
           "color": "#2a3f5f"
          },
          "geo": {
           "bgcolor": "white",
           "lakecolor": "white",
           "landcolor": "#E5ECF6",
           "showlakes": true,
           "showland": true,
           "subunitcolor": "white"
          },
          "hoverlabel": {
           "align": "left"
          },
          "hovermode": "closest",
          "mapbox": {
           "style": "light"
          },
          "paper_bgcolor": "white",
          "plot_bgcolor": "#E5ECF6",
          "polar": {
           "angularaxis": {
            "gridcolor": "white",
            "linecolor": "white",
            "ticks": ""
           },
           "bgcolor": "#E5ECF6",
           "radialaxis": {
            "gridcolor": "white",
            "linecolor": "white",
            "ticks": ""
           }
          },
          "scene": {
           "xaxis": {
            "backgroundcolor": "#E5ECF6",
            "gridcolor": "white",
            "gridwidth": 2,
            "linecolor": "white",
            "showbackground": true,
            "ticks": "",
            "zerolinecolor": "white"
           },
           "yaxis": {
            "backgroundcolor": "#E5ECF6",
            "gridcolor": "white",
            "gridwidth": 2,
            "linecolor": "white",
            "showbackground": true,
            "ticks": "",
            "zerolinecolor": "white"
           },
           "zaxis": {
            "backgroundcolor": "#E5ECF6",
            "gridcolor": "white",
            "gridwidth": 2,
            "linecolor": "white",
            "showbackground": true,
            "ticks": "",
            "zerolinecolor": "white"
           }
          },
          "shapedefaults": {
           "line": {
            "color": "#2a3f5f"
           }
          },
          "ternary": {
           "aaxis": {
            "gridcolor": "white",
            "linecolor": "white",
            "ticks": ""
           },
           "baxis": {
            "gridcolor": "white",
            "linecolor": "white",
            "ticks": ""
           },
           "bgcolor": "#E5ECF6",
           "caxis": {
            "gridcolor": "white",
            "linecolor": "white",
            "ticks": ""
           }
          },
          "title": {
           "x": 0.05
          },
          "xaxis": {
           "automargin": true,
           "gridcolor": "white",
           "linecolor": "white",
           "ticks": "",
           "title": {
            "standoff": 15
           },
           "zerolinecolor": "white",
           "zerolinewidth": 2
          },
          "yaxis": {
           "automargin": true,
           "gridcolor": "white",
           "linecolor": "white",
           "ticks": "",
           "title": {
            "standoff": 15
           },
           "zerolinecolor": "white",
           "zerolinewidth": 2
          }
         }
        },
        "xaxis": {
         "anchor": "y",
         "domain": [
          0,
          0.7363
         ],
         "title": {
          "text": "x"
         }
        },
        "xaxis2": {
         "anchor": "y2",
         "domain": [
          0.7413,
          1
         ],
         "matches": "x2",
         "showgrid": false,
         "showline": false,
         "showticklabels": false,
         "ticks": ""
        },
        "xaxis3": {
         "anchor": "y3",
         "domain": [
          0,
          0.7363
         ],
         "matches": "x",
         "showgrid": true,
         "showticklabels": false
        },
        "xaxis4": {
         "anchor": "y4",
         "domain": [
          0.7413,
          1
         ],
         "matches": "x2",
         "showgrid": false,
         "showline": false,
         "showticklabels": false,
         "ticks": ""
        },
        "yaxis": {
         "anchor": "x",
         "domain": [
          0,
          0.7326
         ],
         "title": {
          "text": "index"
         }
        },
        "yaxis2": {
         "anchor": "x2",
         "domain": [
          0,
          0.7326
         ],
         "matches": "y",
         "showgrid": true,
         "showticklabels": false
        },
        "yaxis3": {
         "anchor": "x3",
         "domain": [
          0.7426,
          1
         ],
         "matches": "y3",
         "showgrid": true,
         "showline": false,
         "showticklabels": false,
         "ticks": ""
        },
        "yaxis4": {
         "anchor": "x4",
         "domain": [
          0.7426,
          1
         ],
         "matches": "y3",
         "showgrid": true,
         "showline": false,
         "showticklabels": false,
         "ticks": ""
        }
       }
      }
     },
     "metadata": {},
     "output_type": "display_data"
    }
   ],
   "source": [
    "print(classification_report(y_test, y_pred_rf))\n",
    "fig = px.scatter(x_embed[:,0],x_embed[:,1],color=y_test, symbol=y_test, marginal_x = 'histogram', marginal_y = 'rug', trendline = 'ols')\n",
    "fig.show()\n",
    "\n",
    "px.scatter(x_embed[:,0],x_embed[:,1],color=y_pred_rf, symbol=y_pred_rf, marginal_x = 'histogram', marginal_y = 'rug', trendline = 'ols')"
   ]
  },
  {
   "cell_type": "markdown",
   "metadata": {},
   "source": [
    "## SVM"
   ]
  },
  {
   "cell_type": "code",
   "execution_count": 52,
   "metadata": {},
   "outputs": [
    {
     "name": "stdout",
     "output_type": "stream",
     "text": [
      "              precision    recall  f1-score   support\n",
      "\n",
      "           0       1.00      0.07      0.12        15\n",
      "           1       0.64      1.00      0.78        25\n",
      "\n",
      "    accuracy                           0.65        40\n",
      "   macro avg       0.82      0.53      0.45        40\n",
      "weighted avg       0.78      0.65      0.54        40\n",
      "\n"
     ]
    },
    {
     "data": {
      "application/vnd.plotly.v1+json": {
       "config": {
        "plotlyServerURL": "https://plot.ly"
       },
       "data": [
        {
         "hovertemplate": "symbol=0<br>x=%{x}<br>index=%{y}<br>color=%{marker.color}<extra></extra>",
         "legendgroup": "0",
         "marker": {
          "color": [
           0,
           0,
           0,
           0,
           0,
           0,
           0,
           0,
           0,
           0,
           0,
           0,
           0,
           0,
           0
          ],
          "coloraxis": "coloraxis",
          "symbol": "circle"
         },
         "mode": "markers",
         "name": "0",
         "orientation": "h",
         "showlegend": true,
         "type": "scatter",
         "x": [
          -0.9277801513671875,
          -1.4066619873046875,
          -1.5043389797210693,
          -1.415095329284668,
          -1.2008211612701416,
          -1.1821672916412354,
          -1.6092679500579834,
          -0.8574517965316772,
          -1.46831476688385,
          -0.9932147860527039,
          -1.4884575605392456,
          -0.8935891389846802,
          -1.4837995767593384,
          -1.1410138607025146,
          -1.4165780544281006
         ],
         "xaxis": "x",
         "y": [
          0,
          2,
          6,
          7,
          8,
          10,
          11,
          12,
          13,
          16,
          18,
          22,
          23,
          33,
          37
         ],
         "yaxis": "y"
        },
        {
         "alignmentgroup": "True",
         "bingroup": "x",
         "hovertemplate": "symbol=0<br>x=%{x}<br>count=%{y}<extra></extra>",
         "legendgroup": "0",
         "marker": {
          "color": "#0d0887"
         },
         "name": "0",
         "offsetgroup": "0",
         "opacity": 0.5,
         "showlegend": false,
         "type": "histogram",
         "x": [
          -0.9277801513671875,
          -1.4066619873046875,
          -1.5043389797210693,
          -1.415095329284668,
          -1.2008211612701416,
          -1.1821672916412354,
          -1.6092679500579834,
          -0.8574517965316772,
          -1.46831476688385,
          -0.9932147860527039,
          -1.4884575605392456,
          -0.8935891389846802,
          -1.4837995767593384,
          -1.1410138607025146,
          -1.4165780544281006
         ],
         "xaxis": "x3",
         "yaxis": "y3"
        },
        {
         "alignmentgroup": "True",
         "boxpoints": "all",
         "fillcolor": "rgba(255,255,255,0)",
         "hoveron": "points",
         "hovertemplate": "symbol=0<br>index=%{y}<extra></extra>",
         "jitter": 0,
         "legendgroup": "0",
         "line": {
          "color": "rgba(255,255,255,0)"
         },
         "marker": {
          "color": "#0d0887",
          "symbol": "line-ew-open"
         },
         "name": "0",
         "offsetgroup": "0",
         "showlegend": false,
         "type": "box",
         "xaxis": "x2",
         "y": [
          0,
          2,
          6,
          7,
          8,
          10,
          11,
          12,
          13,
          16,
          18,
          22,
          23,
          33,
          37
         ],
         "yaxis": "y2"
        },
        {
         "hovertemplate": "<b>OLS trendline</b><br>index = -0.91558 * x + 13.3743<br>R<sup>2</sup>=0.000480<br><br>symbol=0<br>x=%{x}<br>index=%{y} <b>(trend)</b><extra></extra>",
         "legendgroup": "0",
         "marker": {
          "symbol": "circle"
         },
         "mode": "lines",
         "name": "0",
         "showlegend": false,
         "type": "scatter",
         "x": [
          -1.6092679500579834,
          -1.5043389797210693,
          -1.4884575605392456,
          -1.4837995767593384,
          -1.46831476688385,
          -1.4165780544281006,
          -1.415095329284668,
          -1.4066619873046875,
          -1.2008211612701416,
          -1.1821672916412354,
          -1.1410138607025146,
          -0.9932147860527039,
          -0.9277801513671875,
          -0.8935891389846802,
          -0.8574517965316772
         ],
         "xaxis": "x",
         "y": [
          14.84771111552683,
          14.75164020229726,
          14.737099485474436,
          14.732834726617972,
          14.718657137519862,
          14.67128801536837,
          14.6699304612235,
          14.662209058230669,
          14.473745223375797,
          14.456666105142194,
          14.418986828579028,
          14.283664886216485,
          14.223754214350592,
          14.192449592059113,
          14.159362948017888
         ],
         "yaxis": "y"
        },
        {
         "hovertemplate": "symbol=1<br>x=%{x}<br>index=%{y}<br>color=%{marker.color}<extra></extra>",
         "legendgroup": "1",
         "marker": {
          "color": [
           1,
           1,
           1,
           1,
           1,
           1,
           1,
           1,
           1,
           1,
           1,
           1,
           1,
           1,
           1,
           1,
           1,
           1,
           1,
           1,
           1,
           1,
           1,
           1,
           1
          ],
          "coloraxis": "coloraxis",
          "symbol": "diamond"
         },
         "mode": "markers",
         "name": "1",
         "orientation": "h",
         "showlegend": true,
         "type": "scatter",
         "x": [
          -0.9646732211112976,
          -1.2526553869247437,
          -1.4268689155578613,
          -1.0172860622406006,
          -0.9668350219726562,
          -0.9834164977073669,
          -1.4834659099578857,
          -1.0579637289047241,
          -1.4805312156677246,
          -0.9403129816055298,
          -0.864034116268158,
          -1.3976185321807861,
          -0.9583420157432556,
          -0.9051687121391296,
          -1.1721992492675781,
          -1.3972774744033813,
          -0.958192765712738,
          -0.8593555688858032,
          -1.3194851875305176,
          -1.317639708518982,
          -1.06128990650177,
          -1.0367653369903564,
          -0.9550873041152954,
          -0.9633894562721252,
          -1.011703372001648
         ],
         "xaxis": "x",
         "y": [
          1,
          3,
          4,
          5,
          9,
          14,
          15,
          17,
          19,
          20,
          21,
          24,
          25,
          26,
          27,
          28,
          29,
          30,
          31,
          32,
          34,
          35,
          36,
          38,
          39
         ],
         "yaxis": "y"
        },
        {
         "alignmentgroup": "True",
         "bingroup": "x",
         "hovertemplate": "symbol=1<br>x=%{x}<br>count=%{y}<extra></extra>",
         "legendgroup": "1",
         "marker": {
          "color": "#0d0887"
         },
         "name": "1",
         "offsetgroup": "1",
         "opacity": 0.5,
         "showlegend": false,
         "type": "histogram",
         "x": [
          -0.9646732211112976,
          -1.2526553869247437,
          -1.4268689155578613,
          -1.0172860622406006,
          -0.9668350219726562,
          -0.9834164977073669,
          -1.4834659099578857,
          -1.0579637289047241,
          -1.4805312156677246,
          -0.9403129816055298,
          -0.864034116268158,
          -1.3976185321807861,
          -0.9583420157432556,
          -0.9051687121391296,
          -1.1721992492675781,
          -1.3972774744033813,
          -0.958192765712738,
          -0.8593555688858032,
          -1.3194851875305176,
          -1.317639708518982,
          -1.06128990650177,
          -1.0367653369903564,
          -0.9550873041152954,
          -0.9633894562721252,
          -1.011703372001648
         ],
         "xaxis": "x3",
         "yaxis": "y3"
        },
        {
         "alignmentgroup": "True",
         "boxpoints": "all",
         "fillcolor": "rgba(255,255,255,0)",
         "hoveron": "points",
         "hovertemplate": "symbol=1<br>index=%{y}<extra></extra>",
         "jitter": 0,
         "legendgroup": "1",
         "line": {
          "color": "rgba(255,255,255,0)"
         },
         "marker": {
          "color": "#0d0887",
          "symbol": "line-ew-open"
         },
         "name": "1",
         "offsetgroup": "1",
         "showlegend": false,
         "type": "box",
         "xaxis": "x2",
         "y": [
          1,
          3,
          4,
          5,
          9,
          14,
          15,
          17,
          19,
          20,
          21,
          24,
          25,
          26,
          27,
          28,
          29,
          30,
          31,
          32,
          34,
          35,
          36,
          38,
          39
         ],
         "yaxis": "y2"
        },
        {
         "hovertemplate": "<b>OLS trendline</b><br>index = 9.0542 * x + 32.5307<br>R<sup>2</sup>=0.026537<br><br>symbol=1<br>x=%{x}<br>index=%{y} <b>(trend)</b><extra></extra>",
         "legendgroup": "1",
         "marker": {
          "symbol": "diamond"
         },
         "mode": "lines",
         "name": "1",
         "showlegend": false,
         "type": "scatter",
         "x": [
          -1.4834659099578857,
          -1.4805312156677246,
          -1.4268689155578613,
          -1.3976185321807861,
          -1.3972774744033813,
          -1.3194851875305176,
          -1.317639708518982,
          -1.2526553869247437,
          -1.1721992492675781,
          -1.06128990650177,
          -1.0579637289047241,
          -1.0367653369903564,
          -1.0172860622406006,
          -1.011703372001648,
          -0.9834164977073669,
          -0.9668350219726562,
          -0.9646732211112976,
          -0.9633894562721252,
          -0.9583420157432556,
          -0.958192765712738,
          -0.9550873041152954,
          -0.9403129816055298,
          -0.9051687121391296,
          -0.864034116268158,
          -0.8593555688858032
         ],
         "xaxis": "x",
         "y": [
          19.099127701886253,
          19.12569902182516,
          19.61156841873551,
          19.87640734851899,
          19.879495355113562,
          20.583842567771484,
          20.60055191069025,
          21.18893319656468,
          21.91739945688508,
          22.921595239977158,
          22.951711129526895,
          23.143645688310556,
          23.320015010079068,
          23.3705618247699,
          23.626676947038302,
          23.776809006204857,
          23.79638239159084,
          23.808005859964474,
          23.853706414742817,
          23.855057754923315,
          23.883175236849894,
          24.01694496257694,
          24.335148337675207,
          24.707589348348666,
          24.749949869430083
         ],
         "yaxis": "y"
        }
       ],
       "layout": {
        "barmode": "overlay",
        "coloraxis": {
         "colorbar": {
          "title": {
           "text": "color"
          }
         },
         "colorscale": [
          [
           0,
           "#0d0887"
          ],
          [
           0.1111111111111111,
           "#46039f"
          ],
          [
           0.2222222222222222,
           "#7201a8"
          ],
          [
           0.3333333333333333,
           "#9c179e"
          ],
          [
           0.4444444444444444,
           "#bd3786"
          ],
          [
           0.5555555555555556,
           "#d8576b"
          ],
          [
           0.6666666666666666,
           "#ed7953"
          ],
          [
           0.7777777777777778,
           "#fb9f3a"
          ],
          [
           0.8888888888888888,
           "#fdca26"
          ],
          [
           1,
           "#f0f921"
          ]
         ]
        },
        "legend": {
         "title": {
          "text": "symbol"
         },
         "tracegroupgap": 0
        },
        "margin": {
         "t": 60
        },
        "template": {
         "data": {
          "bar": [
           {
            "error_x": {
             "color": "#2a3f5f"
            },
            "error_y": {
             "color": "#2a3f5f"
            },
            "marker": {
             "line": {
              "color": "#E5ECF6",
              "width": 0.5
             },
             "pattern": {
              "fillmode": "overlay",
              "size": 10,
              "solidity": 0.2
             }
            },
            "type": "bar"
           }
          ],
          "barpolar": [
           {
            "marker": {
             "line": {
              "color": "#E5ECF6",
              "width": 0.5
             },
             "pattern": {
              "fillmode": "overlay",
              "size": 10,
              "solidity": 0.2
             }
            },
            "type": "barpolar"
           }
          ],
          "carpet": [
           {
            "aaxis": {
             "endlinecolor": "#2a3f5f",
             "gridcolor": "white",
             "linecolor": "white",
             "minorgridcolor": "white",
             "startlinecolor": "#2a3f5f"
            },
            "baxis": {
             "endlinecolor": "#2a3f5f",
             "gridcolor": "white",
             "linecolor": "white",
             "minorgridcolor": "white",
             "startlinecolor": "#2a3f5f"
            },
            "type": "carpet"
           }
          ],
          "choropleth": [
           {
            "colorbar": {
             "outlinewidth": 0,
             "ticks": ""
            },
            "type": "choropleth"
           }
          ],
          "contour": [
           {
            "colorbar": {
             "outlinewidth": 0,
             "ticks": ""
            },
            "colorscale": [
             [
              0,
              "#0d0887"
             ],
             [
              0.1111111111111111,
              "#46039f"
             ],
             [
              0.2222222222222222,
              "#7201a8"
             ],
             [
              0.3333333333333333,
              "#9c179e"
             ],
             [
              0.4444444444444444,
              "#bd3786"
             ],
             [
              0.5555555555555556,
              "#d8576b"
             ],
             [
              0.6666666666666666,
              "#ed7953"
             ],
             [
              0.7777777777777778,
              "#fb9f3a"
             ],
             [
              0.8888888888888888,
              "#fdca26"
             ],
             [
              1,
              "#f0f921"
             ]
            ],
            "type": "contour"
           }
          ],
          "contourcarpet": [
           {
            "colorbar": {
             "outlinewidth": 0,
             "ticks": ""
            },
            "type": "contourcarpet"
           }
          ],
          "heatmap": [
           {
            "colorbar": {
             "outlinewidth": 0,
             "ticks": ""
            },
            "colorscale": [
             [
              0,
              "#0d0887"
             ],
             [
              0.1111111111111111,
              "#46039f"
             ],
             [
              0.2222222222222222,
              "#7201a8"
             ],
             [
              0.3333333333333333,
              "#9c179e"
             ],
             [
              0.4444444444444444,
              "#bd3786"
             ],
             [
              0.5555555555555556,
              "#d8576b"
             ],
             [
              0.6666666666666666,
              "#ed7953"
             ],
             [
              0.7777777777777778,
              "#fb9f3a"
             ],
             [
              0.8888888888888888,
              "#fdca26"
             ],
             [
              1,
              "#f0f921"
             ]
            ],
            "type": "heatmap"
           }
          ],
          "heatmapgl": [
           {
            "colorbar": {
             "outlinewidth": 0,
             "ticks": ""
            },
            "colorscale": [
             [
              0,
              "#0d0887"
             ],
             [
              0.1111111111111111,
              "#46039f"
             ],
             [
              0.2222222222222222,
              "#7201a8"
             ],
             [
              0.3333333333333333,
              "#9c179e"
             ],
             [
              0.4444444444444444,
              "#bd3786"
             ],
             [
              0.5555555555555556,
              "#d8576b"
             ],
             [
              0.6666666666666666,
              "#ed7953"
             ],
             [
              0.7777777777777778,
              "#fb9f3a"
             ],
             [
              0.8888888888888888,
              "#fdca26"
             ],
             [
              1,
              "#f0f921"
             ]
            ],
            "type": "heatmapgl"
           }
          ],
          "histogram": [
           {
            "marker": {
             "pattern": {
              "fillmode": "overlay",
              "size": 10,
              "solidity": 0.2
             }
            },
            "type": "histogram"
           }
          ],
          "histogram2d": [
           {
            "colorbar": {
             "outlinewidth": 0,
             "ticks": ""
            },
            "colorscale": [
             [
              0,
              "#0d0887"
             ],
             [
              0.1111111111111111,
              "#46039f"
             ],
             [
              0.2222222222222222,
              "#7201a8"
             ],
             [
              0.3333333333333333,
              "#9c179e"
             ],
             [
              0.4444444444444444,
              "#bd3786"
             ],
             [
              0.5555555555555556,
              "#d8576b"
             ],
             [
              0.6666666666666666,
              "#ed7953"
             ],
             [
              0.7777777777777778,
              "#fb9f3a"
             ],
             [
              0.8888888888888888,
              "#fdca26"
             ],
             [
              1,
              "#f0f921"
             ]
            ],
            "type": "histogram2d"
           }
          ],
          "histogram2dcontour": [
           {
            "colorbar": {
             "outlinewidth": 0,
             "ticks": ""
            },
            "colorscale": [
             [
              0,
              "#0d0887"
             ],
             [
              0.1111111111111111,
              "#46039f"
             ],
             [
              0.2222222222222222,
              "#7201a8"
             ],
             [
              0.3333333333333333,
              "#9c179e"
             ],
             [
              0.4444444444444444,
              "#bd3786"
             ],
             [
              0.5555555555555556,
              "#d8576b"
             ],
             [
              0.6666666666666666,
              "#ed7953"
             ],
             [
              0.7777777777777778,
              "#fb9f3a"
             ],
             [
              0.8888888888888888,
              "#fdca26"
             ],
             [
              1,
              "#f0f921"
             ]
            ],
            "type": "histogram2dcontour"
           }
          ],
          "mesh3d": [
           {
            "colorbar": {
             "outlinewidth": 0,
             "ticks": ""
            },
            "type": "mesh3d"
           }
          ],
          "parcoords": [
           {
            "line": {
             "colorbar": {
              "outlinewidth": 0,
              "ticks": ""
             }
            },
            "type": "parcoords"
           }
          ],
          "pie": [
           {
            "automargin": true,
            "type": "pie"
           }
          ],
          "scatter": [
           {
            "fillpattern": {
             "fillmode": "overlay",
             "size": 10,
             "solidity": 0.2
            },
            "type": "scatter"
           }
          ],
          "scatter3d": [
           {
            "line": {
             "colorbar": {
              "outlinewidth": 0,
              "ticks": ""
             }
            },
            "marker": {
             "colorbar": {
              "outlinewidth": 0,
              "ticks": ""
             }
            },
            "type": "scatter3d"
           }
          ],
          "scattercarpet": [
           {
            "marker": {
             "colorbar": {
              "outlinewidth": 0,
              "ticks": ""
             }
            },
            "type": "scattercarpet"
           }
          ],
          "scattergeo": [
           {
            "marker": {
             "colorbar": {
              "outlinewidth": 0,
              "ticks": ""
             }
            },
            "type": "scattergeo"
           }
          ],
          "scattergl": [
           {
            "marker": {
             "colorbar": {
              "outlinewidth": 0,
              "ticks": ""
             }
            },
            "type": "scattergl"
           }
          ],
          "scattermapbox": [
           {
            "marker": {
             "colorbar": {
              "outlinewidth": 0,
              "ticks": ""
             }
            },
            "type": "scattermapbox"
           }
          ],
          "scatterpolar": [
           {
            "marker": {
             "colorbar": {
              "outlinewidth": 0,
              "ticks": ""
             }
            },
            "type": "scatterpolar"
           }
          ],
          "scatterpolargl": [
           {
            "marker": {
             "colorbar": {
              "outlinewidth": 0,
              "ticks": ""
             }
            },
            "type": "scatterpolargl"
           }
          ],
          "scatterternary": [
           {
            "marker": {
             "colorbar": {
              "outlinewidth": 0,
              "ticks": ""
             }
            },
            "type": "scatterternary"
           }
          ],
          "surface": [
           {
            "colorbar": {
             "outlinewidth": 0,
             "ticks": ""
            },
            "colorscale": [
             [
              0,
              "#0d0887"
             ],
             [
              0.1111111111111111,
              "#46039f"
             ],
             [
              0.2222222222222222,
              "#7201a8"
             ],
             [
              0.3333333333333333,
              "#9c179e"
             ],
             [
              0.4444444444444444,
              "#bd3786"
             ],
             [
              0.5555555555555556,
              "#d8576b"
             ],
             [
              0.6666666666666666,
              "#ed7953"
             ],
             [
              0.7777777777777778,
              "#fb9f3a"
             ],
             [
              0.8888888888888888,
              "#fdca26"
             ],
             [
              1,
              "#f0f921"
             ]
            ],
            "type": "surface"
           }
          ],
          "table": [
           {
            "cells": {
             "fill": {
              "color": "#EBF0F8"
             },
             "line": {
              "color": "white"
             }
            },
            "header": {
             "fill": {
              "color": "#C8D4E3"
             },
             "line": {
              "color": "white"
             }
            },
            "type": "table"
           }
          ]
         },
         "layout": {
          "annotationdefaults": {
           "arrowcolor": "#2a3f5f",
           "arrowhead": 0,
           "arrowwidth": 1
          },
          "autotypenumbers": "strict",
          "coloraxis": {
           "colorbar": {
            "outlinewidth": 0,
            "ticks": ""
           }
          },
          "colorscale": {
           "diverging": [
            [
             0,
             "#8e0152"
            ],
            [
             0.1,
             "#c51b7d"
            ],
            [
             0.2,
             "#de77ae"
            ],
            [
             0.3,
             "#f1b6da"
            ],
            [
             0.4,
             "#fde0ef"
            ],
            [
             0.5,
             "#f7f7f7"
            ],
            [
             0.6,
             "#e6f5d0"
            ],
            [
             0.7,
             "#b8e186"
            ],
            [
             0.8,
             "#7fbc41"
            ],
            [
             0.9,
             "#4d9221"
            ],
            [
             1,
             "#276419"
            ]
           ],
           "sequential": [
            [
             0,
             "#0d0887"
            ],
            [
             0.1111111111111111,
             "#46039f"
            ],
            [
             0.2222222222222222,
             "#7201a8"
            ],
            [
             0.3333333333333333,
             "#9c179e"
            ],
            [
             0.4444444444444444,
             "#bd3786"
            ],
            [
             0.5555555555555556,
             "#d8576b"
            ],
            [
             0.6666666666666666,
             "#ed7953"
            ],
            [
             0.7777777777777778,
             "#fb9f3a"
            ],
            [
             0.8888888888888888,
             "#fdca26"
            ],
            [
             1,
             "#f0f921"
            ]
           ],
           "sequentialminus": [
            [
             0,
             "#0d0887"
            ],
            [
             0.1111111111111111,
             "#46039f"
            ],
            [
             0.2222222222222222,
             "#7201a8"
            ],
            [
             0.3333333333333333,
             "#9c179e"
            ],
            [
             0.4444444444444444,
             "#bd3786"
            ],
            [
             0.5555555555555556,
             "#d8576b"
            ],
            [
             0.6666666666666666,
             "#ed7953"
            ],
            [
             0.7777777777777778,
             "#fb9f3a"
            ],
            [
             0.8888888888888888,
             "#fdca26"
            ],
            [
             1,
             "#f0f921"
            ]
           ]
          },
          "colorway": [
           "#636efa",
           "#EF553B",
           "#00cc96",
           "#ab63fa",
           "#FFA15A",
           "#19d3f3",
           "#FF6692",
           "#B6E880",
           "#FF97FF",
           "#FECB52"
          ],
          "font": {
           "color": "#2a3f5f"
          },
          "geo": {
           "bgcolor": "white",
           "lakecolor": "white",
           "landcolor": "#E5ECF6",
           "showlakes": true,
           "showland": true,
           "subunitcolor": "white"
          },
          "hoverlabel": {
           "align": "left"
          },
          "hovermode": "closest",
          "mapbox": {
           "style": "light"
          },
          "paper_bgcolor": "white",
          "plot_bgcolor": "#E5ECF6",
          "polar": {
           "angularaxis": {
            "gridcolor": "white",
            "linecolor": "white",
            "ticks": ""
           },
           "bgcolor": "#E5ECF6",
           "radialaxis": {
            "gridcolor": "white",
            "linecolor": "white",
            "ticks": ""
           }
          },
          "scene": {
           "xaxis": {
            "backgroundcolor": "#E5ECF6",
            "gridcolor": "white",
            "gridwidth": 2,
            "linecolor": "white",
            "showbackground": true,
            "ticks": "",
            "zerolinecolor": "white"
           },
           "yaxis": {
            "backgroundcolor": "#E5ECF6",
            "gridcolor": "white",
            "gridwidth": 2,
            "linecolor": "white",
            "showbackground": true,
            "ticks": "",
            "zerolinecolor": "white"
           },
           "zaxis": {
            "backgroundcolor": "#E5ECF6",
            "gridcolor": "white",
            "gridwidth": 2,
            "linecolor": "white",
            "showbackground": true,
            "ticks": "",
            "zerolinecolor": "white"
           }
          },
          "shapedefaults": {
           "line": {
            "color": "#2a3f5f"
           }
          },
          "ternary": {
           "aaxis": {
            "gridcolor": "white",
            "linecolor": "white",
            "ticks": ""
           },
           "baxis": {
            "gridcolor": "white",
            "linecolor": "white",
            "ticks": ""
           },
           "bgcolor": "#E5ECF6",
           "caxis": {
            "gridcolor": "white",
            "linecolor": "white",
            "ticks": ""
           }
          },
          "title": {
           "x": 0.05
          },
          "xaxis": {
           "automargin": true,
           "gridcolor": "white",
           "linecolor": "white",
           "ticks": "",
           "title": {
            "standoff": 15
           },
           "zerolinecolor": "white",
           "zerolinewidth": 2
          },
          "yaxis": {
           "automargin": true,
           "gridcolor": "white",
           "linecolor": "white",
           "ticks": "",
           "title": {
            "standoff": 15
           },
           "zerolinecolor": "white",
           "zerolinewidth": 2
          }
         }
        },
        "xaxis": {
         "anchor": "y",
         "domain": [
          0,
          0.7363
         ],
         "title": {
          "text": "x"
         }
        },
        "xaxis2": {
         "anchor": "y2",
         "domain": [
          0.7413,
          1
         ],
         "matches": "x2",
         "showgrid": false,
         "showline": false,
         "showticklabels": false,
         "ticks": ""
        },
        "xaxis3": {
         "anchor": "y3",
         "domain": [
          0,
          0.7363
         ],
         "matches": "x",
         "showgrid": true,
         "showticklabels": false
        },
        "xaxis4": {
         "anchor": "y4",
         "domain": [
          0.7413,
          1
         ],
         "matches": "x2",
         "showgrid": false,
         "showline": false,
         "showticklabels": false,
         "ticks": ""
        },
        "yaxis": {
         "anchor": "x",
         "domain": [
          0,
          0.7326
         ],
         "title": {
          "text": "index"
         }
        },
        "yaxis2": {
         "anchor": "x2",
         "domain": [
          0,
          0.7326
         ],
         "matches": "y",
         "showgrid": true,
         "showticklabels": false
        },
        "yaxis3": {
         "anchor": "x3",
         "domain": [
          0.7426,
          1
         ],
         "matches": "y3",
         "showgrid": true,
         "showline": false,
         "showticklabels": false,
         "ticks": ""
        },
        "yaxis4": {
         "anchor": "x4",
         "domain": [
          0.7426,
          1
         ],
         "matches": "y3",
         "showgrid": true,
         "showline": false,
         "showticklabels": false,
         "ticks": ""
        }
       }
      }
     },
     "metadata": {},
     "output_type": "display_data"
    },
    {
     "data": {
      "application/vnd.plotly.v1+json": {
       "config": {
        "plotlyServerURL": "https://plot.ly"
       },
       "data": [
        {
         "hovertemplate": "symbol=1<br>x=%{x}<br>index=%{y}<br>color=%{marker.color}<extra></extra>",
         "legendgroup": "1",
         "marker": {
          "color": [
           1,
           1,
           1,
           1,
           1,
           1,
           1,
           1,
           1,
           1,
           1,
           1,
           1,
           1,
           1,
           1,
           1,
           1,
           1,
           1,
           1,
           1,
           1,
           1,
           1,
           1,
           1,
           1,
           1,
           1,
           1,
           1,
           1,
           1,
           1,
           1,
           1,
           1,
           1
          ],
          "coloraxis": "coloraxis",
          "symbol": "circle"
         },
         "mode": "markers",
         "name": "1",
         "orientation": "h",
         "showlegend": true,
         "type": "scatter",
         "x": [
          -0.9277801513671875,
          -0.9646732211112976,
          -1.4066619873046875,
          -1.2526553869247437,
          -1.4268689155578613,
          -1.0172860622406006,
          -1.5043389797210693,
          -1.415095329284668,
          -1.2008211612701416,
          -0.9668350219726562,
          -1.1821672916412354,
          -0.8574517965316772,
          -1.46831476688385,
          -0.9834164977073669,
          -1.4834659099578857,
          -0.9932147860527039,
          -1.0579637289047241,
          -1.4884575605392456,
          -1.4805312156677246,
          -0.9403129816055298,
          -0.864034116268158,
          -0.8935891389846802,
          -1.4837995767593384,
          -1.3976185321807861,
          -0.9583420157432556,
          -0.9051687121391296,
          -1.1721992492675781,
          -1.3972774744033813,
          -0.958192765712738,
          -0.8593555688858032,
          -1.3194851875305176,
          -1.317639708518982,
          -1.1410138607025146,
          -1.06128990650177,
          -1.0367653369903564,
          -0.9550873041152954,
          -1.4165780544281006,
          -0.9633894562721252,
          -1.011703372001648
         ],
         "xaxis": "x",
         "y": [
          0,
          1,
          2,
          3,
          4,
          5,
          6,
          7,
          8,
          9,
          10,
          12,
          13,
          14,
          15,
          16,
          17,
          18,
          19,
          20,
          21,
          22,
          23,
          24,
          25,
          26,
          27,
          28,
          29,
          30,
          31,
          32,
          33,
          34,
          35,
          36,
          37,
          38,
          39
         ],
         "yaxis": "y"
        },
        {
         "alignmentgroup": "True",
         "bingroup": "x",
         "hovertemplate": "symbol=1<br>x=%{x}<br>count=%{y}<extra></extra>",
         "legendgroup": "1",
         "marker": {
          "color": "#0d0887"
         },
         "name": "1",
         "offsetgroup": "1",
         "opacity": 0.5,
         "showlegend": false,
         "type": "histogram",
         "x": [
          -0.9277801513671875,
          -0.9646732211112976,
          -1.4066619873046875,
          -1.2526553869247437,
          -1.4268689155578613,
          -1.0172860622406006,
          -1.5043389797210693,
          -1.415095329284668,
          -1.2008211612701416,
          -0.9668350219726562,
          -1.1821672916412354,
          -0.8574517965316772,
          -1.46831476688385,
          -0.9834164977073669,
          -1.4834659099578857,
          -0.9932147860527039,
          -1.0579637289047241,
          -1.4884575605392456,
          -1.4805312156677246,
          -0.9403129816055298,
          -0.864034116268158,
          -0.8935891389846802,
          -1.4837995767593384,
          -1.3976185321807861,
          -0.9583420157432556,
          -0.9051687121391296,
          -1.1721992492675781,
          -1.3972774744033813,
          -0.958192765712738,
          -0.8593555688858032,
          -1.3194851875305176,
          -1.317639708518982,
          -1.1410138607025146,
          -1.06128990650177,
          -1.0367653369903564,
          -0.9550873041152954,
          -1.4165780544281006,
          -0.9633894562721252,
          -1.011703372001648
         ],
         "xaxis": "x3",
         "yaxis": "y3"
        },
        {
         "alignmentgroup": "True",
         "boxpoints": "all",
         "fillcolor": "rgba(255,255,255,0)",
         "hoveron": "points",
         "hovertemplate": "symbol=1<br>index=%{y}<extra></extra>",
         "jitter": 0,
         "legendgroup": "1",
         "line": {
          "color": "rgba(255,255,255,0)"
         },
         "marker": {
          "color": "#0d0887",
          "symbol": "line-ew-open"
         },
         "name": "1",
         "offsetgroup": "1",
         "showlegend": false,
         "type": "box",
         "xaxis": "x2",
         "y": [
          0,
          1,
          2,
          3,
          4,
          5,
          6,
          7,
          8,
          9,
          10,
          12,
          13,
          14,
          15,
          16,
          17,
          18,
          19,
          20,
          21,
          22,
          23,
          24,
          25,
          26,
          27,
          28,
          29,
          30,
          31,
          32,
          33,
          34,
          35,
          36,
          37,
          38,
          39
         ],
         "yaxis": "y2"
        },
        {
         "hovertemplate": "<b>OLS trendline</b><br>index = 8.31284 * x + 29.3376<br>R<sup>2</sup>=0.025671<br><br>symbol=1<br>x=%{x}<br>index=%{y} <b>(trend)</b><extra></extra>",
         "legendgroup": "1",
         "marker": {
          "symbol": "circle"
         },
         "mode": "lines",
         "name": "1",
         "showlegend": false,
         "type": "scatter",
         "x": [
          -1.5043389797210693,
          -1.4884575605392456,
          -1.4837995767593384,
          -1.4834659099578857,
          -1.4805312156677246,
          -1.46831476688385,
          -1.4268689155578613,
          -1.4165780544281006,
          -1.415095329284668,
          -1.4066619873046875,
          -1.3976185321807861,
          -1.3972774744033813,
          -1.3194851875305176,
          -1.317639708518982,
          -1.2526553869247437,
          -1.2008211612701416,
          -1.1821672916412354,
          -1.1721992492675781,
          -1.1410138607025146,
          -1.06128990650177,
          -1.0579637289047241,
          -1.0367653369903564,
          -1.0172860622406006,
          -1.011703372001648,
          -0.9932147860527039,
          -0.9834164977073669,
          -0.9668350219726562,
          -0.9646732211112976,
          -0.9633894562721252,
          -0.9583420157432556,
          -0.958192765712738,
          -0.9550873041152954,
          -0.9403129816055298,
          -0.9277801513671875,
          -0.9051687121391296,
          -0.8935891389846802,
          -0.864034116268158,
          -0.8593555688858032,
          -0.8574517965316772
         ],
         "xaxis": "x",
         "y": [
          16.832247640612426,
          16.964267303048345,
          17.002988366903846,
          17.00576208491919,
          17.030157722683295,
          17.13171108048766,
          17.476243721984126,
          17.561789981859995,
          17.574115635548758,
          17.64422063993514,
          17.71939741595515,
          17.72223257395511,
          18.36890724046274,
          18.38424840823535,
          18.924452536234035,
          19.355342049016357,
          19.510408642457225,
          19.593271362359694,
          19.852510440691226,
          20.515242744469536,
          20.54289271948351,
          20.71911151408105,
          20.881039566449477,
          20.927447565154928,
          21.081140182165548,
          21.162591764356744,
          21.30043088340042,
          21.318401583418016,
          21.329073312359508,
          21.371031867017482,
          21.372272558319807,
          21.398087757018885,
          21.52090430433923,
          21.625087689872323,
          21.813052917658453,
          21.909312031626815,
          22.154998143028422,
          22.193890148776617,
          22.20971589965373
         ],
         "yaxis": "y"
        },
        {
         "hovertemplate": "symbol=0<br>x=%{x}<br>index=%{y}<br>color=%{marker.color}<extra></extra>",
         "legendgroup": "0",
         "marker": {
          "color": [
           0
          ],
          "coloraxis": "coloraxis",
          "symbol": "diamond"
         },
         "mode": "markers",
         "name": "0",
         "orientation": "h",
         "showlegend": true,
         "type": "scatter",
         "x": [
          -1.6092679500579834
         ],
         "xaxis": "x",
         "y": [
          11
         ],
         "yaxis": "y"
        },
        {
         "alignmentgroup": "True",
         "bingroup": "x",
         "hovertemplate": "symbol=0<br>x=%{x}<br>count=%{y}<extra></extra>",
         "legendgroup": "0",
         "marker": {
          "color": "#0d0887"
         },
         "name": "0",
         "offsetgroup": "0",
         "opacity": 0.5,
         "showlegend": false,
         "type": "histogram",
         "x": [
          -1.6092679500579834
         ],
         "xaxis": "x3",
         "yaxis": "y3"
        },
        {
         "alignmentgroup": "True",
         "boxpoints": "all",
         "fillcolor": "rgba(255,255,255,0)",
         "hoveron": "points",
         "hovertemplate": "symbol=0<br>index=%{y}<extra></extra>",
         "jitter": 0,
         "legendgroup": "0",
         "line": {
          "color": "rgba(255,255,255,0)"
         },
         "marker": {
          "color": "#0d0887",
          "symbol": "line-ew-open"
         },
         "name": "0",
         "offsetgroup": "0",
         "showlegend": false,
         "type": "box",
         "xaxis": "x2",
         "y": [
          11
         ],
         "yaxis": "y2"
        },
        {
         "hovertemplate": "symbol=0<extra></extra>",
         "legendgroup": "0",
         "marker": {
          "symbol": "diamond"
         },
         "mode": "lines",
         "name": "0",
         "showlegend": false,
         "type": "scatter",
         "xaxis": "x",
         "yaxis": "y"
        }
       ],
       "layout": {
        "barmode": "overlay",
        "coloraxis": {
         "colorbar": {
          "title": {
           "text": "color"
          }
         },
         "colorscale": [
          [
           0,
           "#0d0887"
          ],
          [
           0.1111111111111111,
           "#46039f"
          ],
          [
           0.2222222222222222,
           "#7201a8"
          ],
          [
           0.3333333333333333,
           "#9c179e"
          ],
          [
           0.4444444444444444,
           "#bd3786"
          ],
          [
           0.5555555555555556,
           "#d8576b"
          ],
          [
           0.6666666666666666,
           "#ed7953"
          ],
          [
           0.7777777777777778,
           "#fb9f3a"
          ],
          [
           0.8888888888888888,
           "#fdca26"
          ],
          [
           1,
           "#f0f921"
          ]
         ]
        },
        "legend": {
         "title": {
          "text": "symbol"
         },
         "tracegroupgap": 0
        },
        "margin": {
         "t": 60
        },
        "template": {
         "data": {
          "bar": [
           {
            "error_x": {
             "color": "#2a3f5f"
            },
            "error_y": {
             "color": "#2a3f5f"
            },
            "marker": {
             "line": {
              "color": "#E5ECF6",
              "width": 0.5
             },
             "pattern": {
              "fillmode": "overlay",
              "size": 10,
              "solidity": 0.2
             }
            },
            "type": "bar"
           }
          ],
          "barpolar": [
           {
            "marker": {
             "line": {
              "color": "#E5ECF6",
              "width": 0.5
             },
             "pattern": {
              "fillmode": "overlay",
              "size": 10,
              "solidity": 0.2
             }
            },
            "type": "barpolar"
           }
          ],
          "carpet": [
           {
            "aaxis": {
             "endlinecolor": "#2a3f5f",
             "gridcolor": "white",
             "linecolor": "white",
             "minorgridcolor": "white",
             "startlinecolor": "#2a3f5f"
            },
            "baxis": {
             "endlinecolor": "#2a3f5f",
             "gridcolor": "white",
             "linecolor": "white",
             "minorgridcolor": "white",
             "startlinecolor": "#2a3f5f"
            },
            "type": "carpet"
           }
          ],
          "choropleth": [
           {
            "colorbar": {
             "outlinewidth": 0,
             "ticks": ""
            },
            "type": "choropleth"
           }
          ],
          "contour": [
           {
            "colorbar": {
             "outlinewidth": 0,
             "ticks": ""
            },
            "colorscale": [
             [
              0,
              "#0d0887"
             ],
             [
              0.1111111111111111,
              "#46039f"
             ],
             [
              0.2222222222222222,
              "#7201a8"
             ],
             [
              0.3333333333333333,
              "#9c179e"
             ],
             [
              0.4444444444444444,
              "#bd3786"
             ],
             [
              0.5555555555555556,
              "#d8576b"
             ],
             [
              0.6666666666666666,
              "#ed7953"
             ],
             [
              0.7777777777777778,
              "#fb9f3a"
             ],
             [
              0.8888888888888888,
              "#fdca26"
             ],
             [
              1,
              "#f0f921"
             ]
            ],
            "type": "contour"
           }
          ],
          "contourcarpet": [
           {
            "colorbar": {
             "outlinewidth": 0,
             "ticks": ""
            },
            "type": "contourcarpet"
           }
          ],
          "heatmap": [
           {
            "colorbar": {
             "outlinewidth": 0,
             "ticks": ""
            },
            "colorscale": [
             [
              0,
              "#0d0887"
             ],
             [
              0.1111111111111111,
              "#46039f"
             ],
             [
              0.2222222222222222,
              "#7201a8"
             ],
             [
              0.3333333333333333,
              "#9c179e"
             ],
             [
              0.4444444444444444,
              "#bd3786"
             ],
             [
              0.5555555555555556,
              "#d8576b"
             ],
             [
              0.6666666666666666,
              "#ed7953"
             ],
             [
              0.7777777777777778,
              "#fb9f3a"
             ],
             [
              0.8888888888888888,
              "#fdca26"
             ],
             [
              1,
              "#f0f921"
             ]
            ],
            "type": "heatmap"
           }
          ],
          "heatmapgl": [
           {
            "colorbar": {
             "outlinewidth": 0,
             "ticks": ""
            },
            "colorscale": [
             [
              0,
              "#0d0887"
             ],
             [
              0.1111111111111111,
              "#46039f"
             ],
             [
              0.2222222222222222,
              "#7201a8"
             ],
             [
              0.3333333333333333,
              "#9c179e"
             ],
             [
              0.4444444444444444,
              "#bd3786"
             ],
             [
              0.5555555555555556,
              "#d8576b"
             ],
             [
              0.6666666666666666,
              "#ed7953"
             ],
             [
              0.7777777777777778,
              "#fb9f3a"
             ],
             [
              0.8888888888888888,
              "#fdca26"
             ],
             [
              1,
              "#f0f921"
             ]
            ],
            "type": "heatmapgl"
           }
          ],
          "histogram": [
           {
            "marker": {
             "pattern": {
              "fillmode": "overlay",
              "size": 10,
              "solidity": 0.2
             }
            },
            "type": "histogram"
           }
          ],
          "histogram2d": [
           {
            "colorbar": {
             "outlinewidth": 0,
             "ticks": ""
            },
            "colorscale": [
             [
              0,
              "#0d0887"
             ],
             [
              0.1111111111111111,
              "#46039f"
             ],
             [
              0.2222222222222222,
              "#7201a8"
             ],
             [
              0.3333333333333333,
              "#9c179e"
             ],
             [
              0.4444444444444444,
              "#bd3786"
             ],
             [
              0.5555555555555556,
              "#d8576b"
             ],
             [
              0.6666666666666666,
              "#ed7953"
             ],
             [
              0.7777777777777778,
              "#fb9f3a"
             ],
             [
              0.8888888888888888,
              "#fdca26"
             ],
             [
              1,
              "#f0f921"
             ]
            ],
            "type": "histogram2d"
           }
          ],
          "histogram2dcontour": [
           {
            "colorbar": {
             "outlinewidth": 0,
             "ticks": ""
            },
            "colorscale": [
             [
              0,
              "#0d0887"
             ],
             [
              0.1111111111111111,
              "#46039f"
             ],
             [
              0.2222222222222222,
              "#7201a8"
             ],
             [
              0.3333333333333333,
              "#9c179e"
             ],
             [
              0.4444444444444444,
              "#bd3786"
             ],
             [
              0.5555555555555556,
              "#d8576b"
             ],
             [
              0.6666666666666666,
              "#ed7953"
             ],
             [
              0.7777777777777778,
              "#fb9f3a"
             ],
             [
              0.8888888888888888,
              "#fdca26"
             ],
             [
              1,
              "#f0f921"
             ]
            ],
            "type": "histogram2dcontour"
           }
          ],
          "mesh3d": [
           {
            "colorbar": {
             "outlinewidth": 0,
             "ticks": ""
            },
            "type": "mesh3d"
           }
          ],
          "parcoords": [
           {
            "line": {
             "colorbar": {
              "outlinewidth": 0,
              "ticks": ""
             }
            },
            "type": "parcoords"
           }
          ],
          "pie": [
           {
            "automargin": true,
            "type": "pie"
           }
          ],
          "scatter": [
           {
            "fillpattern": {
             "fillmode": "overlay",
             "size": 10,
             "solidity": 0.2
            },
            "type": "scatter"
           }
          ],
          "scatter3d": [
           {
            "line": {
             "colorbar": {
              "outlinewidth": 0,
              "ticks": ""
             }
            },
            "marker": {
             "colorbar": {
              "outlinewidth": 0,
              "ticks": ""
             }
            },
            "type": "scatter3d"
           }
          ],
          "scattercarpet": [
           {
            "marker": {
             "colorbar": {
              "outlinewidth": 0,
              "ticks": ""
             }
            },
            "type": "scattercarpet"
           }
          ],
          "scattergeo": [
           {
            "marker": {
             "colorbar": {
              "outlinewidth": 0,
              "ticks": ""
             }
            },
            "type": "scattergeo"
           }
          ],
          "scattergl": [
           {
            "marker": {
             "colorbar": {
              "outlinewidth": 0,
              "ticks": ""
             }
            },
            "type": "scattergl"
           }
          ],
          "scattermapbox": [
           {
            "marker": {
             "colorbar": {
              "outlinewidth": 0,
              "ticks": ""
             }
            },
            "type": "scattermapbox"
           }
          ],
          "scatterpolar": [
           {
            "marker": {
             "colorbar": {
              "outlinewidth": 0,
              "ticks": ""
             }
            },
            "type": "scatterpolar"
           }
          ],
          "scatterpolargl": [
           {
            "marker": {
             "colorbar": {
              "outlinewidth": 0,
              "ticks": ""
             }
            },
            "type": "scatterpolargl"
           }
          ],
          "scatterternary": [
           {
            "marker": {
             "colorbar": {
              "outlinewidth": 0,
              "ticks": ""
             }
            },
            "type": "scatterternary"
           }
          ],
          "surface": [
           {
            "colorbar": {
             "outlinewidth": 0,
             "ticks": ""
            },
            "colorscale": [
             [
              0,
              "#0d0887"
             ],
             [
              0.1111111111111111,
              "#46039f"
             ],
             [
              0.2222222222222222,
              "#7201a8"
             ],
             [
              0.3333333333333333,
              "#9c179e"
             ],
             [
              0.4444444444444444,
              "#bd3786"
             ],
             [
              0.5555555555555556,
              "#d8576b"
             ],
             [
              0.6666666666666666,
              "#ed7953"
             ],
             [
              0.7777777777777778,
              "#fb9f3a"
             ],
             [
              0.8888888888888888,
              "#fdca26"
             ],
             [
              1,
              "#f0f921"
             ]
            ],
            "type": "surface"
           }
          ],
          "table": [
           {
            "cells": {
             "fill": {
              "color": "#EBF0F8"
             },
             "line": {
              "color": "white"
             }
            },
            "header": {
             "fill": {
              "color": "#C8D4E3"
             },
             "line": {
              "color": "white"
             }
            },
            "type": "table"
           }
          ]
         },
         "layout": {
          "annotationdefaults": {
           "arrowcolor": "#2a3f5f",
           "arrowhead": 0,
           "arrowwidth": 1
          },
          "autotypenumbers": "strict",
          "coloraxis": {
           "colorbar": {
            "outlinewidth": 0,
            "ticks": ""
           }
          },
          "colorscale": {
           "diverging": [
            [
             0,
             "#8e0152"
            ],
            [
             0.1,
             "#c51b7d"
            ],
            [
             0.2,
             "#de77ae"
            ],
            [
             0.3,
             "#f1b6da"
            ],
            [
             0.4,
             "#fde0ef"
            ],
            [
             0.5,
             "#f7f7f7"
            ],
            [
             0.6,
             "#e6f5d0"
            ],
            [
             0.7,
             "#b8e186"
            ],
            [
             0.8,
             "#7fbc41"
            ],
            [
             0.9,
             "#4d9221"
            ],
            [
             1,
             "#276419"
            ]
           ],
           "sequential": [
            [
             0,
             "#0d0887"
            ],
            [
             0.1111111111111111,
             "#46039f"
            ],
            [
             0.2222222222222222,
             "#7201a8"
            ],
            [
             0.3333333333333333,
             "#9c179e"
            ],
            [
             0.4444444444444444,
             "#bd3786"
            ],
            [
             0.5555555555555556,
             "#d8576b"
            ],
            [
             0.6666666666666666,
             "#ed7953"
            ],
            [
             0.7777777777777778,
             "#fb9f3a"
            ],
            [
             0.8888888888888888,
             "#fdca26"
            ],
            [
             1,
             "#f0f921"
            ]
           ],
           "sequentialminus": [
            [
             0,
             "#0d0887"
            ],
            [
             0.1111111111111111,
             "#46039f"
            ],
            [
             0.2222222222222222,
             "#7201a8"
            ],
            [
             0.3333333333333333,
             "#9c179e"
            ],
            [
             0.4444444444444444,
             "#bd3786"
            ],
            [
             0.5555555555555556,
             "#d8576b"
            ],
            [
             0.6666666666666666,
             "#ed7953"
            ],
            [
             0.7777777777777778,
             "#fb9f3a"
            ],
            [
             0.8888888888888888,
             "#fdca26"
            ],
            [
             1,
             "#f0f921"
            ]
           ]
          },
          "colorway": [
           "#636efa",
           "#EF553B",
           "#00cc96",
           "#ab63fa",
           "#FFA15A",
           "#19d3f3",
           "#FF6692",
           "#B6E880",
           "#FF97FF",
           "#FECB52"
          ],
          "font": {
           "color": "#2a3f5f"
          },
          "geo": {
           "bgcolor": "white",
           "lakecolor": "white",
           "landcolor": "#E5ECF6",
           "showlakes": true,
           "showland": true,
           "subunitcolor": "white"
          },
          "hoverlabel": {
           "align": "left"
          },
          "hovermode": "closest",
          "mapbox": {
           "style": "light"
          },
          "paper_bgcolor": "white",
          "plot_bgcolor": "#E5ECF6",
          "polar": {
           "angularaxis": {
            "gridcolor": "white",
            "linecolor": "white",
            "ticks": ""
           },
           "bgcolor": "#E5ECF6",
           "radialaxis": {
            "gridcolor": "white",
            "linecolor": "white",
            "ticks": ""
           }
          },
          "scene": {
           "xaxis": {
            "backgroundcolor": "#E5ECF6",
            "gridcolor": "white",
            "gridwidth": 2,
            "linecolor": "white",
            "showbackground": true,
            "ticks": "",
            "zerolinecolor": "white"
           },
           "yaxis": {
            "backgroundcolor": "#E5ECF6",
            "gridcolor": "white",
            "gridwidth": 2,
            "linecolor": "white",
            "showbackground": true,
            "ticks": "",
            "zerolinecolor": "white"
           },
           "zaxis": {
            "backgroundcolor": "#E5ECF6",
            "gridcolor": "white",
            "gridwidth": 2,
            "linecolor": "white",
            "showbackground": true,
            "ticks": "",
            "zerolinecolor": "white"
           }
          },
          "shapedefaults": {
           "line": {
            "color": "#2a3f5f"
           }
          },
          "ternary": {
           "aaxis": {
            "gridcolor": "white",
            "linecolor": "white",
            "ticks": ""
           },
           "baxis": {
            "gridcolor": "white",
            "linecolor": "white",
            "ticks": ""
           },
           "bgcolor": "#E5ECF6",
           "caxis": {
            "gridcolor": "white",
            "linecolor": "white",
            "ticks": ""
           }
          },
          "title": {
           "x": 0.05
          },
          "xaxis": {
           "automargin": true,
           "gridcolor": "white",
           "linecolor": "white",
           "ticks": "",
           "title": {
            "standoff": 15
           },
           "zerolinecolor": "white",
           "zerolinewidth": 2
          },
          "yaxis": {
           "automargin": true,
           "gridcolor": "white",
           "linecolor": "white",
           "ticks": "",
           "title": {
            "standoff": 15
           },
           "zerolinecolor": "white",
           "zerolinewidth": 2
          }
         }
        },
        "xaxis": {
         "anchor": "y",
         "domain": [
          0,
          0.7363
         ],
         "title": {
          "text": "x"
         }
        },
        "xaxis2": {
         "anchor": "y2",
         "domain": [
          0.7413,
          1
         ],
         "matches": "x2",
         "showgrid": false,
         "showline": false,
         "showticklabels": false,
         "ticks": ""
        },
        "xaxis3": {
         "anchor": "y3",
         "domain": [
          0,
          0.7363
         ],
         "matches": "x",
         "showgrid": true,
         "showticklabels": false
        },
        "xaxis4": {
         "anchor": "y4",
         "domain": [
          0.7413,
          1
         ],
         "matches": "x2",
         "showgrid": false,
         "showline": false,
         "showticklabels": false,
         "ticks": ""
        },
        "yaxis": {
         "anchor": "x",
         "domain": [
          0,
          0.7326
         ],
         "title": {
          "text": "index"
         }
        },
        "yaxis2": {
         "anchor": "x2",
         "domain": [
          0,
          0.7326
         ],
         "matches": "y",
         "showgrid": true,
         "showticklabels": false
        },
        "yaxis3": {
         "anchor": "x3",
         "domain": [
          0.7426,
          1
         ],
         "matches": "y3",
         "showgrid": true,
         "showline": false,
         "showticklabels": false,
         "ticks": ""
        },
        "yaxis4": {
         "anchor": "x4",
         "domain": [
          0.7426,
          1
         ],
         "matches": "y3",
         "showgrid": true,
         "showline": false,
         "showticklabels": false,
         "ticks": ""
        }
       }
      }
     },
     "metadata": {},
     "output_type": "display_data"
    }
   ],
   "source": [
    "print(classification_report(y_test, y_pred_svm))\n",
    "fig = px.scatter(x_embed[:,0],x_embed[:,1],color=y_test, symbol=y_test, marginal_x = 'histogram', marginal_y = 'rug', trendline = 'ols')\n",
    "fig.show()\n",
    "\n",
    "px.scatter(x_embed[:,0],x_embed[:,1],color=y_pred_svm, symbol=y_pred_svm, marginal_x = 'histogram', marginal_y = 'rug', trendline = 'ols')"
   ]
  },
  {
   "cell_type": "markdown",
   "metadata": {},
   "source": [
    "## xgboost"
   ]
  },
  {
   "cell_type": "code",
   "execution_count": 53,
   "metadata": {},
   "outputs": [
    {
     "name": "stdout",
     "output_type": "stream",
     "text": [
      "              precision    recall  f1-score   support\n",
      "\n",
      "           0       0.69      0.60      0.64        15\n",
      "           1       0.78      0.84      0.81        25\n",
      "\n",
      "    accuracy                           0.75        40\n",
      "   macro avg       0.74      0.72      0.73        40\n",
      "weighted avg       0.75      0.75      0.75        40\n",
      "\n"
     ]
    },
    {
     "data": {
      "application/vnd.plotly.v1+json": {
       "config": {
        "plotlyServerURL": "https://plot.ly"
       },
       "data": [
        {
         "hovertemplate": "symbol=0<br>x=%{x}<br>index=%{y}<br>color=%{marker.color}<extra></extra>",
         "legendgroup": "0",
         "marker": {
          "color": [
           0,
           0,
           0,
           0,
           0,
           0,
           0,
           0,
           0,
           0,
           0,
           0,
           0,
           0,
           0
          ],
          "coloraxis": "coloraxis",
          "symbol": "circle"
         },
         "mode": "markers",
         "name": "0",
         "orientation": "h",
         "showlegend": true,
         "type": "scatter",
         "x": [
          -0.9277801513671875,
          -1.4066619873046875,
          -1.5043389797210693,
          -1.415095329284668,
          -1.2008211612701416,
          -1.1821672916412354,
          -1.6092679500579834,
          -0.8574517965316772,
          -1.46831476688385,
          -0.9932147860527039,
          -1.4884575605392456,
          -0.8935891389846802,
          -1.4837995767593384,
          -1.1410138607025146,
          -1.4165780544281006
         ],
         "xaxis": "x",
         "y": [
          0,
          2,
          6,
          7,
          8,
          10,
          11,
          12,
          13,
          16,
          18,
          22,
          23,
          33,
          37
         ],
         "yaxis": "y"
        },
        {
         "alignmentgroup": "True",
         "bingroup": "x",
         "hovertemplate": "symbol=0<br>x=%{x}<br>count=%{y}<extra></extra>",
         "legendgroup": "0",
         "marker": {
          "color": "#0d0887"
         },
         "name": "0",
         "offsetgroup": "0",
         "opacity": 0.5,
         "showlegend": false,
         "type": "histogram",
         "x": [
          -0.9277801513671875,
          -1.4066619873046875,
          -1.5043389797210693,
          -1.415095329284668,
          -1.2008211612701416,
          -1.1821672916412354,
          -1.6092679500579834,
          -0.8574517965316772,
          -1.46831476688385,
          -0.9932147860527039,
          -1.4884575605392456,
          -0.8935891389846802,
          -1.4837995767593384,
          -1.1410138607025146,
          -1.4165780544281006
         ],
         "xaxis": "x3",
         "yaxis": "y3"
        },
        {
         "alignmentgroup": "True",
         "boxpoints": "all",
         "fillcolor": "rgba(255,255,255,0)",
         "hoveron": "points",
         "hovertemplate": "symbol=0<br>index=%{y}<extra></extra>",
         "jitter": 0,
         "legendgroup": "0",
         "line": {
          "color": "rgba(255,255,255,0)"
         },
         "marker": {
          "color": "#0d0887",
          "symbol": "line-ew-open"
         },
         "name": "0",
         "offsetgroup": "0",
         "showlegend": false,
         "type": "box",
         "xaxis": "x2",
         "y": [
          0,
          2,
          6,
          7,
          8,
          10,
          11,
          12,
          13,
          16,
          18,
          22,
          23,
          33,
          37
         ],
         "yaxis": "y2"
        },
        {
         "hovertemplate": "<b>OLS trendline</b><br>index = -0.91558 * x + 13.3743<br>R<sup>2</sup>=0.000480<br><br>symbol=0<br>x=%{x}<br>index=%{y} <b>(trend)</b><extra></extra>",
         "legendgroup": "0",
         "marker": {
          "symbol": "circle"
         },
         "mode": "lines",
         "name": "0",
         "showlegend": false,
         "type": "scatter",
         "x": [
          -1.6092679500579834,
          -1.5043389797210693,
          -1.4884575605392456,
          -1.4837995767593384,
          -1.46831476688385,
          -1.4165780544281006,
          -1.415095329284668,
          -1.4066619873046875,
          -1.2008211612701416,
          -1.1821672916412354,
          -1.1410138607025146,
          -0.9932147860527039,
          -0.9277801513671875,
          -0.8935891389846802,
          -0.8574517965316772
         ],
         "xaxis": "x",
         "y": [
          14.84771111552683,
          14.75164020229726,
          14.737099485474436,
          14.732834726617972,
          14.718657137519862,
          14.67128801536837,
          14.6699304612235,
          14.662209058230669,
          14.473745223375797,
          14.456666105142194,
          14.418986828579028,
          14.283664886216485,
          14.223754214350592,
          14.192449592059113,
          14.159362948017888
         ],
         "yaxis": "y"
        },
        {
         "hovertemplate": "symbol=1<br>x=%{x}<br>index=%{y}<br>color=%{marker.color}<extra></extra>",
         "legendgroup": "1",
         "marker": {
          "color": [
           1,
           1,
           1,
           1,
           1,
           1,
           1,
           1,
           1,
           1,
           1,
           1,
           1,
           1,
           1,
           1,
           1,
           1,
           1,
           1,
           1,
           1,
           1,
           1,
           1
          ],
          "coloraxis": "coloraxis",
          "symbol": "diamond"
         },
         "mode": "markers",
         "name": "1",
         "orientation": "h",
         "showlegend": true,
         "type": "scatter",
         "x": [
          -0.9646732211112976,
          -1.2526553869247437,
          -1.4268689155578613,
          -1.0172860622406006,
          -0.9668350219726562,
          -0.9834164977073669,
          -1.4834659099578857,
          -1.0579637289047241,
          -1.4805312156677246,
          -0.9403129816055298,
          -0.864034116268158,
          -1.3976185321807861,
          -0.9583420157432556,
          -0.9051687121391296,
          -1.1721992492675781,
          -1.3972774744033813,
          -0.958192765712738,
          -0.8593555688858032,
          -1.3194851875305176,
          -1.317639708518982,
          -1.06128990650177,
          -1.0367653369903564,
          -0.9550873041152954,
          -0.9633894562721252,
          -1.011703372001648
         ],
         "xaxis": "x",
         "y": [
          1,
          3,
          4,
          5,
          9,
          14,
          15,
          17,
          19,
          20,
          21,
          24,
          25,
          26,
          27,
          28,
          29,
          30,
          31,
          32,
          34,
          35,
          36,
          38,
          39
         ],
         "yaxis": "y"
        },
        {
         "alignmentgroup": "True",
         "bingroup": "x",
         "hovertemplate": "symbol=1<br>x=%{x}<br>count=%{y}<extra></extra>",
         "legendgroup": "1",
         "marker": {
          "color": "#0d0887"
         },
         "name": "1",
         "offsetgroup": "1",
         "opacity": 0.5,
         "showlegend": false,
         "type": "histogram",
         "x": [
          -0.9646732211112976,
          -1.2526553869247437,
          -1.4268689155578613,
          -1.0172860622406006,
          -0.9668350219726562,
          -0.9834164977073669,
          -1.4834659099578857,
          -1.0579637289047241,
          -1.4805312156677246,
          -0.9403129816055298,
          -0.864034116268158,
          -1.3976185321807861,
          -0.9583420157432556,
          -0.9051687121391296,
          -1.1721992492675781,
          -1.3972774744033813,
          -0.958192765712738,
          -0.8593555688858032,
          -1.3194851875305176,
          -1.317639708518982,
          -1.06128990650177,
          -1.0367653369903564,
          -0.9550873041152954,
          -0.9633894562721252,
          -1.011703372001648
         ],
         "xaxis": "x3",
         "yaxis": "y3"
        },
        {
         "alignmentgroup": "True",
         "boxpoints": "all",
         "fillcolor": "rgba(255,255,255,0)",
         "hoveron": "points",
         "hovertemplate": "symbol=1<br>index=%{y}<extra></extra>",
         "jitter": 0,
         "legendgroup": "1",
         "line": {
          "color": "rgba(255,255,255,0)"
         },
         "marker": {
          "color": "#0d0887",
          "symbol": "line-ew-open"
         },
         "name": "1",
         "offsetgroup": "1",
         "showlegend": false,
         "type": "box",
         "xaxis": "x2",
         "y": [
          1,
          3,
          4,
          5,
          9,
          14,
          15,
          17,
          19,
          20,
          21,
          24,
          25,
          26,
          27,
          28,
          29,
          30,
          31,
          32,
          34,
          35,
          36,
          38,
          39
         ],
         "yaxis": "y2"
        },
        {
         "hovertemplate": "<b>OLS trendline</b><br>index = 9.0542 * x + 32.5307<br>R<sup>2</sup>=0.026537<br><br>symbol=1<br>x=%{x}<br>index=%{y} <b>(trend)</b><extra></extra>",
         "legendgroup": "1",
         "marker": {
          "symbol": "diamond"
         },
         "mode": "lines",
         "name": "1",
         "showlegend": false,
         "type": "scatter",
         "x": [
          -1.4834659099578857,
          -1.4805312156677246,
          -1.4268689155578613,
          -1.3976185321807861,
          -1.3972774744033813,
          -1.3194851875305176,
          -1.317639708518982,
          -1.2526553869247437,
          -1.1721992492675781,
          -1.06128990650177,
          -1.0579637289047241,
          -1.0367653369903564,
          -1.0172860622406006,
          -1.011703372001648,
          -0.9834164977073669,
          -0.9668350219726562,
          -0.9646732211112976,
          -0.9633894562721252,
          -0.9583420157432556,
          -0.958192765712738,
          -0.9550873041152954,
          -0.9403129816055298,
          -0.9051687121391296,
          -0.864034116268158,
          -0.8593555688858032
         ],
         "xaxis": "x",
         "y": [
          19.099127701886253,
          19.12569902182516,
          19.61156841873551,
          19.87640734851899,
          19.879495355113562,
          20.583842567771484,
          20.60055191069025,
          21.18893319656468,
          21.91739945688508,
          22.921595239977158,
          22.951711129526895,
          23.143645688310556,
          23.320015010079068,
          23.3705618247699,
          23.626676947038302,
          23.776809006204857,
          23.79638239159084,
          23.808005859964474,
          23.853706414742817,
          23.855057754923315,
          23.883175236849894,
          24.01694496257694,
          24.335148337675207,
          24.707589348348666,
          24.749949869430083
         ],
         "yaxis": "y"
        }
       ],
       "layout": {
        "barmode": "overlay",
        "coloraxis": {
         "colorbar": {
          "title": {
           "text": "color"
          }
         },
         "colorscale": [
          [
           0,
           "#0d0887"
          ],
          [
           0.1111111111111111,
           "#46039f"
          ],
          [
           0.2222222222222222,
           "#7201a8"
          ],
          [
           0.3333333333333333,
           "#9c179e"
          ],
          [
           0.4444444444444444,
           "#bd3786"
          ],
          [
           0.5555555555555556,
           "#d8576b"
          ],
          [
           0.6666666666666666,
           "#ed7953"
          ],
          [
           0.7777777777777778,
           "#fb9f3a"
          ],
          [
           0.8888888888888888,
           "#fdca26"
          ],
          [
           1,
           "#f0f921"
          ]
         ]
        },
        "legend": {
         "title": {
          "text": "symbol"
         },
         "tracegroupgap": 0
        },
        "margin": {
         "t": 60
        },
        "template": {
         "data": {
          "bar": [
           {
            "error_x": {
             "color": "#2a3f5f"
            },
            "error_y": {
             "color": "#2a3f5f"
            },
            "marker": {
             "line": {
              "color": "#E5ECF6",
              "width": 0.5
             },
             "pattern": {
              "fillmode": "overlay",
              "size": 10,
              "solidity": 0.2
             }
            },
            "type": "bar"
           }
          ],
          "barpolar": [
           {
            "marker": {
             "line": {
              "color": "#E5ECF6",
              "width": 0.5
             },
             "pattern": {
              "fillmode": "overlay",
              "size": 10,
              "solidity": 0.2
             }
            },
            "type": "barpolar"
           }
          ],
          "carpet": [
           {
            "aaxis": {
             "endlinecolor": "#2a3f5f",
             "gridcolor": "white",
             "linecolor": "white",
             "minorgridcolor": "white",
             "startlinecolor": "#2a3f5f"
            },
            "baxis": {
             "endlinecolor": "#2a3f5f",
             "gridcolor": "white",
             "linecolor": "white",
             "minorgridcolor": "white",
             "startlinecolor": "#2a3f5f"
            },
            "type": "carpet"
           }
          ],
          "choropleth": [
           {
            "colorbar": {
             "outlinewidth": 0,
             "ticks": ""
            },
            "type": "choropleth"
           }
          ],
          "contour": [
           {
            "colorbar": {
             "outlinewidth": 0,
             "ticks": ""
            },
            "colorscale": [
             [
              0,
              "#0d0887"
             ],
             [
              0.1111111111111111,
              "#46039f"
             ],
             [
              0.2222222222222222,
              "#7201a8"
             ],
             [
              0.3333333333333333,
              "#9c179e"
             ],
             [
              0.4444444444444444,
              "#bd3786"
             ],
             [
              0.5555555555555556,
              "#d8576b"
             ],
             [
              0.6666666666666666,
              "#ed7953"
             ],
             [
              0.7777777777777778,
              "#fb9f3a"
             ],
             [
              0.8888888888888888,
              "#fdca26"
             ],
             [
              1,
              "#f0f921"
             ]
            ],
            "type": "contour"
           }
          ],
          "contourcarpet": [
           {
            "colorbar": {
             "outlinewidth": 0,
             "ticks": ""
            },
            "type": "contourcarpet"
           }
          ],
          "heatmap": [
           {
            "colorbar": {
             "outlinewidth": 0,
             "ticks": ""
            },
            "colorscale": [
             [
              0,
              "#0d0887"
             ],
             [
              0.1111111111111111,
              "#46039f"
             ],
             [
              0.2222222222222222,
              "#7201a8"
             ],
             [
              0.3333333333333333,
              "#9c179e"
             ],
             [
              0.4444444444444444,
              "#bd3786"
             ],
             [
              0.5555555555555556,
              "#d8576b"
             ],
             [
              0.6666666666666666,
              "#ed7953"
             ],
             [
              0.7777777777777778,
              "#fb9f3a"
             ],
             [
              0.8888888888888888,
              "#fdca26"
             ],
             [
              1,
              "#f0f921"
             ]
            ],
            "type": "heatmap"
           }
          ],
          "heatmapgl": [
           {
            "colorbar": {
             "outlinewidth": 0,
             "ticks": ""
            },
            "colorscale": [
             [
              0,
              "#0d0887"
             ],
             [
              0.1111111111111111,
              "#46039f"
             ],
             [
              0.2222222222222222,
              "#7201a8"
             ],
             [
              0.3333333333333333,
              "#9c179e"
             ],
             [
              0.4444444444444444,
              "#bd3786"
             ],
             [
              0.5555555555555556,
              "#d8576b"
             ],
             [
              0.6666666666666666,
              "#ed7953"
             ],
             [
              0.7777777777777778,
              "#fb9f3a"
             ],
             [
              0.8888888888888888,
              "#fdca26"
             ],
             [
              1,
              "#f0f921"
             ]
            ],
            "type": "heatmapgl"
           }
          ],
          "histogram": [
           {
            "marker": {
             "pattern": {
              "fillmode": "overlay",
              "size": 10,
              "solidity": 0.2
             }
            },
            "type": "histogram"
           }
          ],
          "histogram2d": [
           {
            "colorbar": {
             "outlinewidth": 0,
             "ticks": ""
            },
            "colorscale": [
             [
              0,
              "#0d0887"
             ],
             [
              0.1111111111111111,
              "#46039f"
             ],
             [
              0.2222222222222222,
              "#7201a8"
             ],
             [
              0.3333333333333333,
              "#9c179e"
             ],
             [
              0.4444444444444444,
              "#bd3786"
             ],
             [
              0.5555555555555556,
              "#d8576b"
             ],
             [
              0.6666666666666666,
              "#ed7953"
             ],
             [
              0.7777777777777778,
              "#fb9f3a"
             ],
             [
              0.8888888888888888,
              "#fdca26"
             ],
             [
              1,
              "#f0f921"
             ]
            ],
            "type": "histogram2d"
           }
          ],
          "histogram2dcontour": [
           {
            "colorbar": {
             "outlinewidth": 0,
             "ticks": ""
            },
            "colorscale": [
             [
              0,
              "#0d0887"
             ],
             [
              0.1111111111111111,
              "#46039f"
             ],
             [
              0.2222222222222222,
              "#7201a8"
             ],
             [
              0.3333333333333333,
              "#9c179e"
             ],
             [
              0.4444444444444444,
              "#bd3786"
             ],
             [
              0.5555555555555556,
              "#d8576b"
             ],
             [
              0.6666666666666666,
              "#ed7953"
             ],
             [
              0.7777777777777778,
              "#fb9f3a"
             ],
             [
              0.8888888888888888,
              "#fdca26"
             ],
             [
              1,
              "#f0f921"
             ]
            ],
            "type": "histogram2dcontour"
           }
          ],
          "mesh3d": [
           {
            "colorbar": {
             "outlinewidth": 0,
             "ticks": ""
            },
            "type": "mesh3d"
           }
          ],
          "parcoords": [
           {
            "line": {
             "colorbar": {
              "outlinewidth": 0,
              "ticks": ""
             }
            },
            "type": "parcoords"
           }
          ],
          "pie": [
           {
            "automargin": true,
            "type": "pie"
           }
          ],
          "scatter": [
           {
            "fillpattern": {
             "fillmode": "overlay",
             "size": 10,
             "solidity": 0.2
            },
            "type": "scatter"
           }
          ],
          "scatter3d": [
           {
            "line": {
             "colorbar": {
              "outlinewidth": 0,
              "ticks": ""
             }
            },
            "marker": {
             "colorbar": {
              "outlinewidth": 0,
              "ticks": ""
             }
            },
            "type": "scatter3d"
           }
          ],
          "scattercarpet": [
           {
            "marker": {
             "colorbar": {
              "outlinewidth": 0,
              "ticks": ""
             }
            },
            "type": "scattercarpet"
           }
          ],
          "scattergeo": [
           {
            "marker": {
             "colorbar": {
              "outlinewidth": 0,
              "ticks": ""
             }
            },
            "type": "scattergeo"
           }
          ],
          "scattergl": [
           {
            "marker": {
             "colorbar": {
              "outlinewidth": 0,
              "ticks": ""
             }
            },
            "type": "scattergl"
           }
          ],
          "scattermapbox": [
           {
            "marker": {
             "colorbar": {
              "outlinewidth": 0,
              "ticks": ""
             }
            },
            "type": "scattermapbox"
           }
          ],
          "scatterpolar": [
           {
            "marker": {
             "colorbar": {
              "outlinewidth": 0,
              "ticks": ""
             }
            },
            "type": "scatterpolar"
           }
          ],
          "scatterpolargl": [
           {
            "marker": {
             "colorbar": {
              "outlinewidth": 0,
              "ticks": ""
             }
            },
            "type": "scatterpolargl"
           }
          ],
          "scatterternary": [
           {
            "marker": {
             "colorbar": {
              "outlinewidth": 0,
              "ticks": ""
             }
            },
            "type": "scatterternary"
           }
          ],
          "surface": [
           {
            "colorbar": {
             "outlinewidth": 0,
             "ticks": ""
            },
            "colorscale": [
             [
              0,
              "#0d0887"
             ],
             [
              0.1111111111111111,
              "#46039f"
             ],
             [
              0.2222222222222222,
              "#7201a8"
             ],
             [
              0.3333333333333333,
              "#9c179e"
             ],
             [
              0.4444444444444444,
              "#bd3786"
             ],
             [
              0.5555555555555556,
              "#d8576b"
             ],
             [
              0.6666666666666666,
              "#ed7953"
             ],
             [
              0.7777777777777778,
              "#fb9f3a"
             ],
             [
              0.8888888888888888,
              "#fdca26"
             ],
             [
              1,
              "#f0f921"
             ]
            ],
            "type": "surface"
           }
          ],
          "table": [
           {
            "cells": {
             "fill": {
              "color": "#EBF0F8"
             },
             "line": {
              "color": "white"
             }
            },
            "header": {
             "fill": {
              "color": "#C8D4E3"
             },
             "line": {
              "color": "white"
             }
            },
            "type": "table"
           }
          ]
         },
         "layout": {
          "annotationdefaults": {
           "arrowcolor": "#2a3f5f",
           "arrowhead": 0,
           "arrowwidth": 1
          },
          "autotypenumbers": "strict",
          "coloraxis": {
           "colorbar": {
            "outlinewidth": 0,
            "ticks": ""
           }
          },
          "colorscale": {
           "diverging": [
            [
             0,
             "#8e0152"
            ],
            [
             0.1,
             "#c51b7d"
            ],
            [
             0.2,
             "#de77ae"
            ],
            [
             0.3,
             "#f1b6da"
            ],
            [
             0.4,
             "#fde0ef"
            ],
            [
             0.5,
             "#f7f7f7"
            ],
            [
             0.6,
             "#e6f5d0"
            ],
            [
             0.7,
             "#b8e186"
            ],
            [
             0.8,
             "#7fbc41"
            ],
            [
             0.9,
             "#4d9221"
            ],
            [
             1,
             "#276419"
            ]
           ],
           "sequential": [
            [
             0,
             "#0d0887"
            ],
            [
             0.1111111111111111,
             "#46039f"
            ],
            [
             0.2222222222222222,
             "#7201a8"
            ],
            [
             0.3333333333333333,
             "#9c179e"
            ],
            [
             0.4444444444444444,
             "#bd3786"
            ],
            [
             0.5555555555555556,
             "#d8576b"
            ],
            [
             0.6666666666666666,
             "#ed7953"
            ],
            [
             0.7777777777777778,
             "#fb9f3a"
            ],
            [
             0.8888888888888888,
             "#fdca26"
            ],
            [
             1,
             "#f0f921"
            ]
           ],
           "sequentialminus": [
            [
             0,
             "#0d0887"
            ],
            [
             0.1111111111111111,
             "#46039f"
            ],
            [
             0.2222222222222222,
             "#7201a8"
            ],
            [
             0.3333333333333333,
             "#9c179e"
            ],
            [
             0.4444444444444444,
             "#bd3786"
            ],
            [
             0.5555555555555556,
             "#d8576b"
            ],
            [
             0.6666666666666666,
             "#ed7953"
            ],
            [
             0.7777777777777778,
             "#fb9f3a"
            ],
            [
             0.8888888888888888,
             "#fdca26"
            ],
            [
             1,
             "#f0f921"
            ]
           ]
          },
          "colorway": [
           "#636efa",
           "#EF553B",
           "#00cc96",
           "#ab63fa",
           "#FFA15A",
           "#19d3f3",
           "#FF6692",
           "#B6E880",
           "#FF97FF",
           "#FECB52"
          ],
          "font": {
           "color": "#2a3f5f"
          },
          "geo": {
           "bgcolor": "white",
           "lakecolor": "white",
           "landcolor": "#E5ECF6",
           "showlakes": true,
           "showland": true,
           "subunitcolor": "white"
          },
          "hoverlabel": {
           "align": "left"
          },
          "hovermode": "closest",
          "mapbox": {
           "style": "light"
          },
          "paper_bgcolor": "white",
          "plot_bgcolor": "#E5ECF6",
          "polar": {
           "angularaxis": {
            "gridcolor": "white",
            "linecolor": "white",
            "ticks": ""
           },
           "bgcolor": "#E5ECF6",
           "radialaxis": {
            "gridcolor": "white",
            "linecolor": "white",
            "ticks": ""
           }
          },
          "scene": {
           "xaxis": {
            "backgroundcolor": "#E5ECF6",
            "gridcolor": "white",
            "gridwidth": 2,
            "linecolor": "white",
            "showbackground": true,
            "ticks": "",
            "zerolinecolor": "white"
           },
           "yaxis": {
            "backgroundcolor": "#E5ECF6",
            "gridcolor": "white",
            "gridwidth": 2,
            "linecolor": "white",
            "showbackground": true,
            "ticks": "",
            "zerolinecolor": "white"
           },
           "zaxis": {
            "backgroundcolor": "#E5ECF6",
            "gridcolor": "white",
            "gridwidth": 2,
            "linecolor": "white",
            "showbackground": true,
            "ticks": "",
            "zerolinecolor": "white"
           }
          },
          "shapedefaults": {
           "line": {
            "color": "#2a3f5f"
           }
          },
          "ternary": {
           "aaxis": {
            "gridcolor": "white",
            "linecolor": "white",
            "ticks": ""
           },
           "baxis": {
            "gridcolor": "white",
            "linecolor": "white",
            "ticks": ""
           },
           "bgcolor": "#E5ECF6",
           "caxis": {
            "gridcolor": "white",
            "linecolor": "white",
            "ticks": ""
           }
          },
          "title": {
           "x": 0.05
          },
          "xaxis": {
           "automargin": true,
           "gridcolor": "white",
           "linecolor": "white",
           "ticks": "",
           "title": {
            "standoff": 15
           },
           "zerolinecolor": "white",
           "zerolinewidth": 2
          },
          "yaxis": {
           "automargin": true,
           "gridcolor": "white",
           "linecolor": "white",
           "ticks": "",
           "title": {
            "standoff": 15
           },
           "zerolinecolor": "white",
           "zerolinewidth": 2
          }
         }
        },
        "xaxis": {
         "anchor": "y",
         "domain": [
          0,
          0.7363
         ],
         "title": {
          "text": "x"
         }
        },
        "xaxis2": {
         "anchor": "y2",
         "domain": [
          0.7413,
          1
         ],
         "matches": "x2",
         "showgrid": false,
         "showline": false,
         "showticklabels": false,
         "ticks": ""
        },
        "xaxis3": {
         "anchor": "y3",
         "domain": [
          0,
          0.7363
         ],
         "matches": "x",
         "showgrid": true,
         "showticklabels": false
        },
        "xaxis4": {
         "anchor": "y4",
         "domain": [
          0.7413,
          1
         ],
         "matches": "x2",
         "showgrid": false,
         "showline": false,
         "showticklabels": false,
         "ticks": ""
        },
        "yaxis": {
         "anchor": "x",
         "domain": [
          0,
          0.7326
         ],
         "title": {
          "text": "index"
         }
        },
        "yaxis2": {
         "anchor": "x2",
         "domain": [
          0,
          0.7326
         ],
         "matches": "y",
         "showgrid": true,
         "showticklabels": false
        },
        "yaxis3": {
         "anchor": "x3",
         "domain": [
          0.7426,
          1
         ],
         "matches": "y3",
         "showgrid": true,
         "showline": false,
         "showticklabels": false,
         "ticks": ""
        },
        "yaxis4": {
         "anchor": "x4",
         "domain": [
          0.7426,
          1
         ],
         "matches": "y3",
         "showgrid": true,
         "showline": false,
         "showticklabels": false,
         "ticks": ""
        }
       }
      }
     },
     "metadata": {},
     "output_type": "display_data"
    },
    {
     "data": {
      "application/vnd.plotly.v1+json": {
       "config": {
        "plotlyServerURL": "https://plot.ly"
       },
       "data": [
        {
         "hovertemplate": "symbol=0<br>x=%{x}<br>index=%{y}<br>color=%{marker.color}<extra></extra>",
         "legendgroup": "0",
         "marker": {
          "color": [
           0,
           0,
           0,
           0,
           0,
           0,
           0,
           0,
           0,
           0,
           0,
           0,
           0
          ],
          "coloraxis": "coloraxis",
          "symbol": "circle"
         },
         "mode": "markers",
         "name": "0",
         "orientation": "h",
         "showlegend": true,
         "type": "scatter",
         "x": [
          -0.9277801513671875,
          -1.4066619873046875,
          -1.5043389797210693,
          -1.415095329284668,
          -1.1821672916412354,
          -1.46831476688385,
          -0.9834164977073669,
          -1.4884575605392456,
          -0.8935891389846802,
          -1.3976185321807861,
          -1.3972774744033813,
          -1.1410138607025146,
          -1.06128990650177
         ],
         "xaxis": "x",
         "y": [
          0,
          2,
          6,
          7,
          10,
          13,
          14,
          18,
          22,
          24,
          28,
          33,
          34
         ],
         "yaxis": "y"
        },
        {
         "alignmentgroup": "True",
         "bingroup": "x",
         "hovertemplate": "symbol=0<br>x=%{x}<br>count=%{y}<extra></extra>",
         "legendgroup": "0",
         "marker": {
          "color": "#0d0887"
         },
         "name": "0",
         "offsetgroup": "0",
         "opacity": 0.5,
         "showlegend": false,
         "type": "histogram",
         "x": [
          -0.9277801513671875,
          -1.4066619873046875,
          -1.5043389797210693,
          -1.415095329284668,
          -1.1821672916412354,
          -1.46831476688385,
          -0.9834164977073669,
          -1.4884575605392456,
          -0.8935891389846802,
          -1.3976185321807861,
          -1.3972774744033813,
          -1.1410138607025146,
          -1.06128990650177
         ],
         "xaxis": "x3",
         "yaxis": "y3"
        },
        {
         "alignmentgroup": "True",
         "boxpoints": "all",
         "fillcolor": "rgba(255,255,255,0)",
         "hoveron": "points",
         "hovertemplate": "symbol=0<br>index=%{y}<extra></extra>",
         "jitter": 0,
         "legendgroup": "0",
         "line": {
          "color": "rgba(255,255,255,0)"
         },
         "marker": {
          "color": "#0d0887",
          "symbol": "line-ew-open"
         },
         "name": "0",
         "offsetgroup": "0",
         "showlegend": false,
         "type": "box",
         "xaxis": "x2",
         "y": [
          0,
          2,
          6,
          7,
          10,
          13,
          14,
          18,
          22,
          24,
          28,
          33,
          34
         ],
         "yaxis": "y2"
        },
        {
         "hovertemplate": "<b>OLS trendline</b><br>index = 7.6777 * x + 25.838<br>R<sup>2</sup>=0.023638<br><br>symbol=0<br>x=%{x}<br>index=%{y} <b>(trend)</b><extra></extra>",
         "legendgroup": "0",
         "marker": {
          "symbol": "circle"
         },
         "mode": "lines",
         "name": "0",
         "showlegend": false,
         "type": "scatter",
         "x": [
          -1.5043389797210693,
          -1.4884575605392456,
          -1.46831476688385,
          -1.415095329284668,
          -1.4066619873046875,
          -1.3976185321807861,
          -1.3972774744033813,
          -1.1821672916412354,
          -1.1410138607025146,
          -1.06128990650177,
          -0.9834164977073669,
          -0.9277801513671875,
          -0.8935891389846802
         ],
         "xaxis": "x",
         "y": [
          14.288082904796306,
          14.410015720462876,
          14.564666102627973,
          14.97326912483688,
          15.038017817716607,
          15.107450777956938,
          15.110069318191147,
          16.76162135912955,
          17.07758516886521,
          17.689681990973853,
          18.28757087553418,
          18.71473020462127,
          18.977238634287374
         ],
         "yaxis": "y"
        },
        {
         "hovertemplate": "symbol=1<br>x=%{x}<br>index=%{y}<br>color=%{marker.color}<extra></extra>",
         "legendgroup": "1",
         "marker": {
          "color": [
           1,
           1,
           1,
           1,
           1,
           1,
           1,
           1,
           1,
           1,
           1,
           1,
           1,
           1,
           1,
           1,
           1,
           1,
           1,
           1,
           1,
           1,
           1,
           1,
           1,
           1,
           1
          ],
          "coloraxis": "coloraxis",
          "symbol": "diamond"
         },
         "mode": "markers",
         "name": "1",
         "orientation": "h",
         "showlegend": true,
         "type": "scatter",
         "x": [
          -0.9646732211112976,
          -1.2526553869247437,
          -1.4268689155578613,
          -1.0172860622406006,
          -1.2008211612701416,
          -0.9668350219726562,
          -1.6092679500579834,
          -0.8574517965316772,
          -1.4834659099578857,
          -0.9932147860527039,
          -1.0579637289047241,
          -1.4805312156677246,
          -0.9403129816055298,
          -0.864034116268158,
          -1.4837995767593384,
          -0.9583420157432556,
          -0.9051687121391296,
          -1.1721992492675781,
          -0.958192765712738,
          -0.8593555688858032,
          -1.3194851875305176,
          -1.317639708518982,
          -1.0367653369903564,
          -0.9550873041152954,
          -1.4165780544281006,
          -0.9633894562721252,
          -1.011703372001648
         ],
         "xaxis": "x",
         "y": [
          1,
          3,
          4,
          5,
          8,
          9,
          11,
          12,
          15,
          16,
          17,
          19,
          20,
          21,
          23,
          25,
          26,
          27,
          29,
          30,
          31,
          32,
          35,
          36,
          37,
          38,
          39
         ],
         "yaxis": "y"
        },
        {
         "alignmentgroup": "True",
         "bingroup": "x",
         "hovertemplate": "symbol=1<br>x=%{x}<br>count=%{y}<extra></extra>",
         "legendgroup": "1",
         "marker": {
          "color": "#0d0887"
         },
         "name": "1",
         "offsetgroup": "1",
         "opacity": 0.5,
         "showlegend": false,
         "type": "histogram",
         "x": [
          -0.9646732211112976,
          -1.2526553869247437,
          -1.4268689155578613,
          -1.0172860622406006,
          -1.2008211612701416,
          -0.9668350219726562,
          -1.6092679500579834,
          -0.8574517965316772,
          -1.4834659099578857,
          -0.9932147860527039,
          -1.0579637289047241,
          -1.4805312156677246,
          -0.9403129816055298,
          -0.864034116268158,
          -1.4837995767593384,
          -0.9583420157432556,
          -0.9051687121391296,
          -1.1721992492675781,
          -0.958192765712738,
          -0.8593555688858032,
          -1.3194851875305176,
          -1.317639708518982,
          -1.0367653369903564,
          -0.9550873041152954,
          -1.4165780544281006,
          -0.9633894562721252,
          -1.011703372001648
         ],
         "xaxis": "x3",
         "yaxis": "y3"
        },
        {
         "alignmentgroup": "True",
         "boxpoints": "all",
         "fillcolor": "rgba(255,255,255,0)",
         "hoveron": "points",
         "hovertemplate": "symbol=1<br>index=%{y}<extra></extra>",
         "jitter": 0,
         "legendgroup": "1",
         "line": {
          "color": "rgba(255,255,255,0)"
         },
         "marker": {
          "color": "#0d0887",
          "symbol": "line-ew-open"
         },
         "name": "1",
         "offsetgroup": "1",
         "showlegend": false,
         "type": "box",
         "xaxis": "x2",
         "y": [
          1,
          3,
          4,
          5,
          8,
          9,
          11,
          12,
          15,
          16,
          17,
          19,
          20,
          21,
          23,
          25,
          26,
          27,
          29,
          30,
          31,
          32,
          35,
          36,
          37,
          38,
          39
         ],
         "yaxis": "y2"
        },
        {
         "hovertemplate": "<b>OLS trendline</b><br>index = 7.21598 * x + 29.2183<br>R<sup>2</sup>=0.020370<br><br>symbol=1<br>x=%{x}<br>index=%{y} <b>(trend)</b><extra></extra>",
         "legendgroup": "1",
         "marker": {
          "symbol": "diamond"
         },
         "mode": "lines",
         "name": "1",
         "showlegend": false,
         "type": "scatter",
         "x": [
          -1.6092679500579834,
          -1.4837995767593384,
          -1.4834659099578857,
          -1.4805312156677246,
          -1.4268689155578613,
          -1.4165780544281006,
          -1.3194851875305176,
          -1.317639708518982,
          -1.2526553869247437,
          -1.2008211612701416,
          -1.1721992492675781,
          -1.0579637289047241,
          -1.0367653369903564,
          -1.0172860622406006,
          -1.011703372001648,
          -0.9932147860527039,
          -0.9668350219726562,
          -0.9646732211112976,
          -0.9633894562721252,
          -0.9583420157432556,
          -0.958192765712738,
          -0.9550873041152954,
          -0.9403129816055298,
          -0.9051687121391296,
          -0.864034116268158,
          -0.8593555688858032,
          -0.8574517965316772
         ],
         "xaxis": "x",
         "y": [
          17.605821890736237,
          18.51119899209884,
          18.513606724610053,
          18.53478341591446,
          18.92200942712826,
          18.99626806119862,
          19.69688811455248,
          19.710205051675054,
          20.179130528049598,
          20.553165193047086,
          20.759700298612344,
          21.58402137315588,
          21.736988516352167,
          21.87755054681383,
          21.91783512031601,
          22.05124836155494,
          22.24160417560996,
          22.257203684443326,
          22.266467304097937,
          22.30288952712661,
          22.303966512158418,
          22.326375456704096,
          22.43298665231312,
          22.686586950001356,
          22.98341331505462,
          23.017173613018645,
          23.03091119365604
         ],
         "yaxis": "y"
        }
       ],
       "layout": {
        "barmode": "overlay",
        "coloraxis": {
         "colorbar": {
          "title": {
           "text": "color"
          }
         },
         "colorscale": [
          [
           0,
           "#0d0887"
          ],
          [
           0.1111111111111111,
           "#46039f"
          ],
          [
           0.2222222222222222,
           "#7201a8"
          ],
          [
           0.3333333333333333,
           "#9c179e"
          ],
          [
           0.4444444444444444,
           "#bd3786"
          ],
          [
           0.5555555555555556,
           "#d8576b"
          ],
          [
           0.6666666666666666,
           "#ed7953"
          ],
          [
           0.7777777777777778,
           "#fb9f3a"
          ],
          [
           0.8888888888888888,
           "#fdca26"
          ],
          [
           1,
           "#f0f921"
          ]
         ]
        },
        "legend": {
         "title": {
          "text": "symbol"
         },
         "tracegroupgap": 0
        },
        "margin": {
         "t": 60
        },
        "template": {
         "data": {
          "bar": [
           {
            "error_x": {
             "color": "#2a3f5f"
            },
            "error_y": {
             "color": "#2a3f5f"
            },
            "marker": {
             "line": {
              "color": "#E5ECF6",
              "width": 0.5
             },
             "pattern": {
              "fillmode": "overlay",
              "size": 10,
              "solidity": 0.2
             }
            },
            "type": "bar"
           }
          ],
          "barpolar": [
           {
            "marker": {
             "line": {
              "color": "#E5ECF6",
              "width": 0.5
             },
             "pattern": {
              "fillmode": "overlay",
              "size": 10,
              "solidity": 0.2
             }
            },
            "type": "barpolar"
           }
          ],
          "carpet": [
           {
            "aaxis": {
             "endlinecolor": "#2a3f5f",
             "gridcolor": "white",
             "linecolor": "white",
             "minorgridcolor": "white",
             "startlinecolor": "#2a3f5f"
            },
            "baxis": {
             "endlinecolor": "#2a3f5f",
             "gridcolor": "white",
             "linecolor": "white",
             "minorgridcolor": "white",
             "startlinecolor": "#2a3f5f"
            },
            "type": "carpet"
           }
          ],
          "choropleth": [
           {
            "colorbar": {
             "outlinewidth": 0,
             "ticks": ""
            },
            "type": "choropleth"
           }
          ],
          "contour": [
           {
            "colorbar": {
             "outlinewidth": 0,
             "ticks": ""
            },
            "colorscale": [
             [
              0,
              "#0d0887"
             ],
             [
              0.1111111111111111,
              "#46039f"
             ],
             [
              0.2222222222222222,
              "#7201a8"
             ],
             [
              0.3333333333333333,
              "#9c179e"
             ],
             [
              0.4444444444444444,
              "#bd3786"
             ],
             [
              0.5555555555555556,
              "#d8576b"
             ],
             [
              0.6666666666666666,
              "#ed7953"
             ],
             [
              0.7777777777777778,
              "#fb9f3a"
             ],
             [
              0.8888888888888888,
              "#fdca26"
             ],
             [
              1,
              "#f0f921"
             ]
            ],
            "type": "contour"
           }
          ],
          "contourcarpet": [
           {
            "colorbar": {
             "outlinewidth": 0,
             "ticks": ""
            },
            "type": "contourcarpet"
           }
          ],
          "heatmap": [
           {
            "colorbar": {
             "outlinewidth": 0,
             "ticks": ""
            },
            "colorscale": [
             [
              0,
              "#0d0887"
             ],
             [
              0.1111111111111111,
              "#46039f"
             ],
             [
              0.2222222222222222,
              "#7201a8"
             ],
             [
              0.3333333333333333,
              "#9c179e"
             ],
             [
              0.4444444444444444,
              "#bd3786"
             ],
             [
              0.5555555555555556,
              "#d8576b"
             ],
             [
              0.6666666666666666,
              "#ed7953"
             ],
             [
              0.7777777777777778,
              "#fb9f3a"
             ],
             [
              0.8888888888888888,
              "#fdca26"
             ],
             [
              1,
              "#f0f921"
             ]
            ],
            "type": "heatmap"
           }
          ],
          "heatmapgl": [
           {
            "colorbar": {
             "outlinewidth": 0,
             "ticks": ""
            },
            "colorscale": [
             [
              0,
              "#0d0887"
             ],
             [
              0.1111111111111111,
              "#46039f"
             ],
             [
              0.2222222222222222,
              "#7201a8"
             ],
             [
              0.3333333333333333,
              "#9c179e"
             ],
             [
              0.4444444444444444,
              "#bd3786"
             ],
             [
              0.5555555555555556,
              "#d8576b"
             ],
             [
              0.6666666666666666,
              "#ed7953"
             ],
             [
              0.7777777777777778,
              "#fb9f3a"
             ],
             [
              0.8888888888888888,
              "#fdca26"
             ],
             [
              1,
              "#f0f921"
             ]
            ],
            "type": "heatmapgl"
           }
          ],
          "histogram": [
           {
            "marker": {
             "pattern": {
              "fillmode": "overlay",
              "size": 10,
              "solidity": 0.2
             }
            },
            "type": "histogram"
           }
          ],
          "histogram2d": [
           {
            "colorbar": {
             "outlinewidth": 0,
             "ticks": ""
            },
            "colorscale": [
             [
              0,
              "#0d0887"
             ],
             [
              0.1111111111111111,
              "#46039f"
             ],
             [
              0.2222222222222222,
              "#7201a8"
             ],
             [
              0.3333333333333333,
              "#9c179e"
             ],
             [
              0.4444444444444444,
              "#bd3786"
             ],
             [
              0.5555555555555556,
              "#d8576b"
             ],
             [
              0.6666666666666666,
              "#ed7953"
             ],
             [
              0.7777777777777778,
              "#fb9f3a"
             ],
             [
              0.8888888888888888,
              "#fdca26"
             ],
             [
              1,
              "#f0f921"
             ]
            ],
            "type": "histogram2d"
           }
          ],
          "histogram2dcontour": [
           {
            "colorbar": {
             "outlinewidth": 0,
             "ticks": ""
            },
            "colorscale": [
             [
              0,
              "#0d0887"
             ],
             [
              0.1111111111111111,
              "#46039f"
             ],
             [
              0.2222222222222222,
              "#7201a8"
             ],
             [
              0.3333333333333333,
              "#9c179e"
             ],
             [
              0.4444444444444444,
              "#bd3786"
             ],
             [
              0.5555555555555556,
              "#d8576b"
             ],
             [
              0.6666666666666666,
              "#ed7953"
             ],
             [
              0.7777777777777778,
              "#fb9f3a"
             ],
             [
              0.8888888888888888,
              "#fdca26"
             ],
             [
              1,
              "#f0f921"
             ]
            ],
            "type": "histogram2dcontour"
           }
          ],
          "mesh3d": [
           {
            "colorbar": {
             "outlinewidth": 0,
             "ticks": ""
            },
            "type": "mesh3d"
           }
          ],
          "parcoords": [
           {
            "line": {
             "colorbar": {
              "outlinewidth": 0,
              "ticks": ""
             }
            },
            "type": "parcoords"
           }
          ],
          "pie": [
           {
            "automargin": true,
            "type": "pie"
           }
          ],
          "scatter": [
           {
            "fillpattern": {
             "fillmode": "overlay",
             "size": 10,
             "solidity": 0.2
            },
            "type": "scatter"
           }
          ],
          "scatter3d": [
           {
            "line": {
             "colorbar": {
              "outlinewidth": 0,
              "ticks": ""
             }
            },
            "marker": {
             "colorbar": {
              "outlinewidth": 0,
              "ticks": ""
             }
            },
            "type": "scatter3d"
           }
          ],
          "scattercarpet": [
           {
            "marker": {
             "colorbar": {
              "outlinewidth": 0,
              "ticks": ""
             }
            },
            "type": "scattercarpet"
           }
          ],
          "scattergeo": [
           {
            "marker": {
             "colorbar": {
              "outlinewidth": 0,
              "ticks": ""
             }
            },
            "type": "scattergeo"
           }
          ],
          "scattergl": [
           {
            "marker": {
             "colorbar": {
              "outlinewidth": 0,
              "ticks": ""
             }
            },
            "type": "scattergl"
           }
          ],
          "scattermapbox": [
           {
            "marker": {
             "colorbar": {
              "outlinewidth": 0,
              "ticks": ""
             }
            },
            "type": "scattermapbox"
           }
          ],
          "scatterpolar": [
           {
            "marker": {
             "colorbar": {
              "outlinewidth": 0,
              "ticks": ""
             }
            },
            "type": "scatterpolar"
           }
          ],
          "scatterpolargl": [
           {
            "marker": {
             "colorbar": {
              "outlinewidth": 0,
              "ticks": ""
             }
            },
            "type": "scatterpolargl"
           }
          ],
          "scatterternary": [
           {
            "marker": {
             "colorbar": {
              "outlinewidth": 0,
              "ticks": ""
             }
            },
            "type": "scatterternary"
           }
          ],
          "surface": [
           {
            "colorbar": {
             "outlinewidth": 0,
             "ticks": ""
            },
            "colorscale": [
             [
              0,
              "#0d0887"
             ],
             [
              0.1111111111111111,
              "#46039f"
             ],
             [
              0.2222222222222222,
              "#7201a8"
             ],
             [
              0.3333333333333333,
              "#9c179e"
             ],
             [
              0.4444444444444444,
              "#bd3786"
             ],
             [
              0.5555555555555556,
              "#d8576b"
             ],
             [
              0.6666666666666666,
              "#ed7953"
             ],
             [
              0.7777777777777778,
              "#fb9f3a"
             ],
             [
              0.8888888888888888,
              "#fdca26"
             ],
             [
              1,
              "#f0f921"
             ]
            ],
            "type": "surface"
           }
          ],
          "table": [
           {
            "cells": {
             "fill": {
              "color": "#EBF0F8"
             },
             "line": {
              "color": "white"
             }
            },
            "header": {
             "fill": {
              "color": "#C8D4E3"
             },
             "line": {
              "color": "white"
             }
            },
            "type": "table"
           }
          ]
         },
         "layout": {
          "annotationdefaults": {
           "arrowcolor": "#2a3f5f",
           "arrowhead": 0,
           "arrowwidth": 1
          },
          "autotypenumbers": "strict",
          "coloraxis": {
           "colorbar": {
            "outlinewidth": 0,
            "ticks": ""
           }
          },
          "colorscale": {
           "diverging": [
            [
             0,
             "#8e0152"
            ],
            [
             0.1,
             "#c51b7d"
            ],
            [
             0.2,
             "#de77ae"
            ],
            [
             0.3,
             "#f1b6da"
            ],
            [
             0.4,
             "#fde0ef"
            ],
            [
             0.5,
             "#f7f7f7"
            ],
            [
             0.6,
             "#e6f5d0"
            ],
            [
             0.7,
             "#b8e186"
            ],
            [
             0.8,
             "#7fbc41"
            ],
            [
             0.9,
             "#4d9221"
            ],
            [
             1,
             "#276419"
            ]
           ],
           "sequential": [
            [
             0,
             "#0d0887"
            ],
            [
             0.1111111111111111,
             "#46039f"
            ],
            [
             0.2222222222222222,
             "#7201a8"
            ],
            [
             0.3333333333333333,
             "#9c179e"
            ],
            [
             0.4444444444444444,
             "#bd3786"
            ],
            [
             0.5555555555555556,
             "#d8576b"
            ],
            [
             0.6666666666666666,
             "#ed7953"
            ],
            [
             0.7777777777777778,
             "#fb9f3a"
            ],
            [
             0.8888888888888888,
             "#fdca26"
            ],
            [
             1,
             "#f0f921"
            ]
           ],
           "sequentialminus": [
            [
             0,
             "#0d0887"
            ],
            [
             0.1111111111111111,
             "#46039f"
            ],
            [
             0.2222222222222222,
             "#7201a8"
            ],
            [
             0.3333333333333333,
             "#9c179e"
            ],
            [
             0.4444444444444444,
             "#bd3786"
            ],
            [
             0.5555555555555556,
             "#d8576b"
            ],
            [
             0.6666666666666666,
             "#ed7953"
            ],
            [
             0.7777777777777778,
             "#fb9f3a"
            ],
            [
             0.8888888888888888,
             "#fdca26"
            ],
            [
             1,
             "#f0f921"
            ]
           ]
          },
          "colorway": [
           "#636efa",
           "#EF553B",
           "#00cc96",
           "#ab63fa",
           "#FFA15A",
           "#19d3f3",
           "#FF6692",
           "#B6E880",
           "#FF97FF",
           "#FECB52"
          ],
          "font": {
           "color": "#2a3f5f"
          },
          "geo": {
           "bgcolor": "white",
           "lakecolor": "white",
           "landcolor": "#E5ECF6",
           "showlakes": true,
           "showland": true,
           "subunitcolor": "white"
          },
          "hoverlabel": {
           "align": "left"
          },
          "hovermode": "closest",
          "mapbox": {
           "style": "light"
          },
          "paper_bgcolor": "white",
          "plot_bgcolor": "#E5ECF6",
          "polar": {
           "angularaxis": {
            "gridcolor": "white",
            "linecolor": "white",
            "ticks": ""
           },
           "bgcolor": "#E5ECF6",
           "radialaxis": {
            "gridcolor": "white",
            "linecolor": "white",
            "ticks": ""
           }
          },
          "scene": {
           "xaxis": {
            "backgroundcolor": "#E5ECF6",
            "gridcolor": "white",
            "gridwidth": 2,
            "linecolor": "white",
            "showbackground": true,
            "ticks": "",
            "zerolinecolor": "white"
           },
           "yaxis": {
            "backgroundcolor": "#E5ECF6",
            "gridcolor": "white",
            "gridwidth": 2,
            "linecolor": "white",
            "showbackground": true,
            "ticks": "",
            "zerolinecolor": "white"
           },
           "zaxis": {
            "backgroundcolor": "#E5ECF6",
            "gridcolor": "white",
            "gridwidth": 2,
            "linecolor": "white",
            "showbackground": true,
            "ticks": "",
            "zerolinecolor": "white"
           }
          },
          "shapedefaults": {
           "line": {
            "color": "#2a3f5f"
           }
          },
          "ternary": {
           "aaxis": {
            "gridcolor": "white",
            "linecolor": "white",
            "ticks": ""
           },
           "baxis": {
            "gridcolor": "white",
            "linecolor": "white",
            "ticks": ""
           },
           "bgcolor": "#E5ECF6",
           "caxis": {
            "gridcolor": "white",
            "linecolor": "white",
            "ticks": ""
           }
          },
          "title": {
           "x": 0.05
          },
          "xaxis": {
           "automargin": true,
           "gridcolor": "white",
           "linecolor": "white",
           "ticks": "",
           "title": {
            "standoff": 15
           },
           "zerolinecolor": "white",
           "zerolinewidth": 2
          },
          "yaxis": {
           "automargin": true,
           "gridcolor": "white",
           "linecolor": "white",
           "ticks": "",
           "title": {
            "standoff": 15
           },
           "zerolinecolor": "white",
           "zerolinewidth": 2
          }
         }
        },
        "xaxis": {
         "anchor": "y",
         "domain": [
          0,
          0.7363
         ],
         "title": {
          "text": "x"
         }
        },
        "xaxis2": {
         "anchor": "y2",
         "domain": [
          0.7413,
          1
         ],
         "matches": "x2",
         "showgrid": false,
         "showline": false,
         "showticklabels": false,
         "ticks": ""
        },
        "xaxis3": {
         "anchor": "y3",
         "domain": [
          0,
          0.7363
         ],
         "matches": "x",
         "showgrid": true,
         "showticklabels": false
        },
        "xaxis4": {
         "anchor": "y4",
         "domain": [
          0.7413,
          1
         ],
         "matches": "x2",
         "showgrid": false,
         "showline": false,
         "showticklabels": false,
         "ticks": ""
        },
        "yaxis": {
         "anchor": "x",
         "domain": [
          0,
          0.7326
         ],
         "title": {
          "text": "index"
         }
        },
        "yaxis2": {
         "anchor": "x2",
         "domain": [
          0,
          0.7326
         ],
         "matches": "y",
         "showgrid": true,
         "showticklabels": false
        },
        "yaxis3": {
         "anchor": "x3",
         "domain": [
          0.7426,
          1
         ],
         "matches": "y3",
         "showgrid": true,
         "showline": false,
         "showticklabels": false,
         "ticks": ""
        },
        "yaxis4": {
         "anchor": "x4",
         "domain": [
          0.7426,
          1
         ],
         "matches": "y3",
         "showgrid": true,
         "showline": false,
         "showticklabels": false,
         "ticks": ""
        }
       }
      }
     },
     "metadata": {},
     "output_type": "display_data"
    }
   ],
   "source": [
    "print(classification_report(y_test, y_pred_xg))\n",
    "fig = px.scatter(x_embed[:,0],x_embed[:,1],color=y_test, symbol=y_test, marginal_x = 'histogram', marginal_y = 'rug', trendline = 'ols')\n",
    "fig.show()\n",
    "\n",
    "px.scatter(x_embed[:,0],x_embed[:,1],color=y_pred_xg, symbol=y_pred_xg, marginal_x = 'histogram', marginal_y = 'rug', trendline = 'ols')"
   ]
  }
 ],
 "metadata": {
  "kernelspec": {
   "display_name": "base",
   "language": "python",
   "name": "python3"
  },
  "language_info": {
   "codemirror_mode": {
    "name": "ipython",
    "version": 3
   },
   "file_extension": ".py",
   "mimetype": "text/x-python",
   "name": "python",
   "nbconvert_exporter": "python",
   "pygments_lexer": "ipython3",
   "version": "3.11.5"
  }
 },
 "nbformat": 4,
 "nbformat_minor": 2
}
